{
 "cells": [
  {
   "cell_type": "markdown",
   "metadata": {},
   "source": [
    "# SQL-запросы к базе данных сервиса по продаже книг"
   ]
  },
  {
   "cell_type": "markdown",
   "metadata": {},
   "source": [
    "# Описание проекта"
   ]
  },
  {
   "cell_type": "markdown",
   "metadata": {},
   "source": [
    "**Цель исследования:** проанализировать базу данных, которая содержит информацию о книгах, издательствах, авторах, а также пользовательские обзоры кни, для формулировки ценностного предложение для нового продукта по чтению книг.\n",
    "\n",
    "**Задачи исследования:**\n",
    "- выяснить, сколько книг вышло после 1 января 2000 года;\n",
    "- посчитать количество обзоров и среднюю оценку каждой книги;\n",
    "- определить издательство, которое выпустило наибольшее число книг толще 50 страниц;\n",
    "- определить автора с самой высокой средней оценкой книг — учитывая только книги с 50 и более оценками;\n",
    "- посчитать среднее количество обзоров от пользователей, которые поставили больше 48 оценок."
   ]
  },
  {
   "cell_type": "markdown",
   "metadata": {},
   "source": [
    "# Описание данных"
   ]
  },
  {
   "cell_type": "markdown",
   "metadata": {},
   "source": [
    "**Таблица books**\n",
    "\n",
    "Содержит данные о книгах:\n",
    "- book_id — идентификатор книги;\n",
    "- author_id — идентификатор автора;\n",
    "- title — название книги;\n",
    "- num_pages — количество страниц;\n",
    "- publication_date — дата публикации книги;\n",
    "- publisher_id — идентификатор издателя.\n",
    "\n",
    "**Таблица authors**\n",
    "\n",
    "Содержит данные об авторах:\n",
    "- author_id — идентификатор автора;\n",
    "- author — имя автора.\n",
    "\n",
    "**Таблица publishers**\n",
    "\n",
    "Содержит данные об издательствах:\n",
    "- publisher_id — идентификатор издательства;\n",
    "- publisher — название издательства.\n",
    "\n",
    "**Таблица ratings**\n",
    "\n",
    "Содержит данные о пользовательских оценках книг:\n",
    "- rating_id — идентификатор оценки;\n",
    "- book_id — идентификатор книги;\n",
    "- username — имя пользователя, оставившего оценку;\n",
    "- rating — оценка книги.\n",
    "\n",
    "**Таблица reviews**\n",
    "\n",
    "Содержит данные о пользовательских обзорах:\n",
    "- review_id — идентификатор обзора;\n",
    "- book_id — идентификатор книги;\n",
    "- username — имя автора обзора;\n",
    "- text — текст обзора."
   ]
  },
  {
   "cell_type": "markdown",
   "metadata": {},
   "source": [
    "# Доступ к базе данных данных"
   ]
  },
  {
   "cell_type": "code",
   "execution_count": 1,
   "metadata": {},
   "outputs": [],
   "source": [
    "# импортируем библиотеки\n",
    "import pandas as pd\n",
    "from sqlalchemy import text, create_engine\n",
    "import sqlalchemy as sa"
   ]
  },
  {
   "cell_type": "code",
   "execution_count": 2,
   "metadata": {},
   "outputs": [],
   "source": [
    "# устанавливаем параметры\n",
    "db_config = {'user': 'praktikum_student', # имя пользователя\n",
    "'pwd': 'Sdf4$2;d-d30pp', # пароль\n",
    "'host': 'rc1b-wcoijxj3yxfsf3fs.mdb.yandexcloud.net',\n",
    "'port': 6432, # порт подключения\n",
    "'db': 'data-analyst-final-project-db'} # название базы данных\n",
    "connection_string = 'postgresql://{user}:{pwd}@{host}:{port}/{db}'.format(**db_config)\n",
    "# сохраняем коннектор\n",
    "engine = create_engine(connection_string, connect_args={'sslmode':'require'})"
   ]
  },
  {
   "cell_type": "code",
   "execution_count": 3,
   "metadata": {
    "scrolled": true
   },
   "outputs": [
    {
     "data": {
      "text/html": [
       "<div>\n",
       "<style scoped>\n",
       "    .dataframe tbody tr th:only-of-type {\n",
       "        vertical-align: middle;\n",
       "    }\n",
       "\n",
       "    .dataframe tbody tr th {\n",
       "        vertical-align: top;\n",
       "    }\n",
       "\n",
       "    .dataframe thead th {\n",
       "        text-align: right;\n",
       "    }\n",
       "</style>\n",
       "<table border=\"1\" class=\"dataframe\">\n",
       "  <thead>\n",
       "    <tr style=\"text-align: right;\">\n",
       "      <th></th>\n",
       "      <th>book_id</th>\n",
       "      <th>author_id</th>\n",
       "      <th>title</th>\n",
       "      <th>num_pages</th>\n",
       "      <th>publication_date</th>\n",
       "      <th>publisher_id</th>\n",
       "    </tr>\n",
       "  </thead>\n",
       "  <tbody>\n",
       "    <tr>\n",
       "      <th>0</th>\n",
       "      <td>1</td>\n",
       "      <td>546</td>\n",
       "      <td>'Salem's Lot</td>\n",
       "      <td>594</td>\n",
       "      <td>2005-11-01</td>\n",
       "      <td>93</td>\n",
       "    </tr>\n",
       "    <tr>\n",
       "      <th>1</th>\n",
       "      <td>2</td>\n",
       "      <td>465</td>\n",
       "      <td>1 000 Places to See Before You Die</td>\n",
       "      <td>992</td>\n",
       "      <td>2003-05-22</td>\n",
       "      <td>336</td>\n",
       "    </tr>\n",
       "    <tr>\n",
       "      <th>2</th>\n",
       "      <td>3</td>\n",
       "      <td>407</td>\n",
       "      <td>13 Little Blue Envelopes (Little Blue Envelope...</td>\n",
       "      <td>322</td>\n",
       "      <td>2010-12-21</td>\n",
       "      <td>135</td>\n",
       "    </tr>\n",
       "    <tr>\n",
       "      <th>3</th>\n",
       "      <td>4</td>\n",
       "      <td>82</td>\n",
       "      <td>1491: New Revelations of the Americas Before C...</td>\n",
       "      <td>541</td>\n",
       "      <td>2006-10-10</td>\n",
       "      <td>309</td>\n",
       "    </tr>\n",
       "    <tr>\n",
       "      <th>4</th>\n",
       "      <td>5</td>\n",
       "      <td>125</td>\n",
       "      <td>1776</td>\n",
       "      <td>386</td>\n",
       "      <td>2006-07-04</td>\n",
       "      <td>268</td>\n",
       "    </tr>\n",
       "  </tbody>\n",
       "</table>\n",
       "</div>"
      ],
      "text/plain": [
       "   book_id  author_id                                              title  \\\n",
       "0        1        546                                       'Salem's Lot   \n",
       "1        2        465                 1 000 Places to See Before You Die   \n",
       "2        3        407  13 Little Blue Envelopes (Little Blue Envelope...   \n",
       "3        4         82  1491: New Revelations of the Americas Before C...   \n",
       "4        5        125                                               1776   \n",
       "\n",
       "   num_pages publication_date  publisher_id  \n",
       "0        594       2005-11-01            93  \n",
       "1        992       2003-05-22           336  \n",
       "2        322       2010-12-21           135  \n",
       "3        541       2006-10-10           309  \n",
       "4        386       2006-07-04           268  "
      ]
     },
     "execution_count": 3,
     "metadata": {},
     "output_type": "execute_result"
    }
   ],
   "source": [
    "# чтобы выполнить SQL-запрос, используем Pandas\n",
    "query = '''SELECT * FROM books LIMIT 5'''\n",
    "con=engine.connect()\n",
    "pd.io.sql.read_sql(sql=text(query), con = con)"
   ]
  },
  {
   "cell_type": "markdown",
   "metadata": {},
   "source": [
    "# Изучение информации о таблицах"
   ]
  },
  {
   "cell_type": "code",
   "execution_count": 4,
   "metadata": {},
   "outputs": [],
   "source": [
    "def data_head(query:str, engine:sa.engine.base.Engine=engine) -> pd.DataFrame:\n",
    "    '''Функция для вывода первых 5 строк таблицы'''\n",
    "    with engine.connect() as con:\n",
    "        return pd.read_sql(sql=sa.text(query), con = con)"
   ]
  },
  {
   "cell_type": "markdown",
   "metadata": {},
   "source": [
    "**Таблица books**"
   ]
  },
  {
   "cell_type": "code",
   "execution_count": 5,
   "metadata": {},
   "outputs": [
    {
     "data": {
      "text/html": [
       "<div>\n",
       "<style scoped>\n",
       "    .dataframe tbody tr th:only-of-type {\n",
       "        vertical-align: middle;\n",
       "    }\n",
       "\n",
       "    .dataframe tbody tr th {\n",
       "        vertical-align: top;\n",
       "    }\n",
       "\n",
       "    .dataframe thead th {\n",
       "        text-align: right;\n",
       "    }\n",
       "</style>\n",
       "<table border=\"1\" class=\"dataframe\">\n",
       "  <thead>\n",
       "    <tr style=\"text-align: right;\">\n",
       "      <th></th>\n",
       "      <th>book_id</th>\n",
       "      <th>author_id</th>\n",
       "      <th>title</th>\n",
       "      <th>num_pages</th>\n",
       "      <th>publication_date</th>\n",
       "      <th>publisher_id</th>\n",
       "    </tr>\n",
       "  </thead>\n",
       "  <tbody>\n",
       "    <tr>\n",
       "      <th>0</th>\n",
       "      <td>1</td>\n",
       "      <td>546</td>\n",
       "      <td>'Salem's Lot</td>\n",
       "      <td>594</td>\n",
       "      <td>2005-11-01</td>\n",
       "      <td>93</td>\n",
       "    </tr>\n",
       "    <tr>\n",
       "      <th>1</th>\n",
       "      <td>2</td>\n",
       "      <td>465</td>\n",
       "      <td>1 000 Places to See Before You Die</td>\n",
       "      <td>992</td>\n",
       "      <td>2003-05-22</td>\n",
       "      <td>336</td>\n",
       "    </tr>\n",
       "    <tr>\n",
       "      <th>2</th>\n",
       "      <td>3</td>\n",
       "      <td>407</td>\n",
       "      <td>13 Little Blue Envelopes (Little Blue Envelope...</td>\n",
       "      <td>322</td>\n",
       "      <td>2010-12-21</td>\n",
       "      <td>135</td>\n",
       "    </tr>\n",
       "    <tr>\n",
       "      <th>3</th>\n",
       "      <td>4</td>\n",
       "      <td>82</td>\n",
       "      <td>1491: New Revelations of the Americas Before C...</td>\n",
       "      <td>541</td>\n",
       "      <td>2006-10-10</td>\n",
       "      <td>309</td>\n",
       "    </tr>\n",
       "    <tr>\n",
       "      <th>4</th>\n",
       "      <td>5</td>\n",
       "      <td>125</td>\n",
       "      <td>1776</td>\n",
       "      <td>386</td>\n",
       "      <td>2006-07-04</td>\n",
       "      <td>268</td>\n",
       "    </tr>\n",
       "  </tbody>\n",
       "</table>\n",
       "</div>"
      ],
      "text/plain": [
       "   book_id  author_id                                              title  \\\n",
       "0        1        546                                       'Salem's Lot   \n",
       "1        2        465                 1 000 Places to See Before You Die   \n",
       "2        3        407  13 Little Blue Envelopes (Little Blue Envelope...   \n",
       "3        4         82  1491: New Revelations of the Americas Before C...   \n",
       "4        5        125                                               1776   \n",
       "\n",
       "   num_pages publication_date  publisher_id  \n",
       "0        594       2005-11-01            93  \n",
       "1        992       2003-05-22           336  \n",
       "2        322       2010-12-21           135  \n",
       "3        541       2006-10-10           309  \n",
       "4        386       2006-07-04           268  "
      ]
     },
     "execution_count": 5,
     "metadata": {},
     "output_type": "execute_result"
    }
   ],
   "source": [
    "data_head('''SELECT * FROM books LIMIT 5''')"
   ]
  },
  {
   "cell_type": "markdown",
   "metadata": {},
   "source": [
    "**Таблица authors**"
   ]
  },
  {
   "cell_type": "code",
   "execution_count": 6,
   "metadata": {
    "scrolled": true
   },
   "outputs": [
    {
     "data": {
      "text/html": [
       "<div>\n",
       "<style scoped>\n",
       "    .dataframe tbody tr th:only-of-type {\n",
       "        vertical-align: middle;\n",
       "    }\n",
       "\n",
       "    .dataframe tbody tr th {\n",
       "        vertical-align: top;\n",
       "    }\n",
       "\n",
       "    .dataframe thead th {\n",
       "        text-align: right;\n",
       "    }\n",
       "</style>\n",
       "<table border=\"1\" class=\"dataframe\">\n",
       "  <thead>\n",
       "    <tr style=\"text-align: right;\">\n",
       "      <th></th>\n",
       "      <th>author_id</th>\n",
       "      <th>author</th>\n",
       "    </tr>\n",
       "  </thead>\n",
       "  <tbody>\n",
       "    <tr>\n",
       "      <th>0</th>\n",
       "      <td>1</td>\n",
       "      <td>A.S. Byatt</td>\n",
       "    </tr>\n",
       "    <tr>\n",
       "      <th>1</th>\n",
       "      <td>2</td>\n",
       "      <td>Aesop/Laura Harris/Laura Gibbs</td>\n",
       "    </tr>\n",
       "    <tr>\n",
       "      <th>2</th>\n",
       "      <td>3</td>\n",
       "      <td>Agatha Christie</td>\n",
       "    </tr>\n",
       "    <tr>\n",
       "      <th>3</th>\n",
       "      <td>4</td>\n",
       "      <td>Alan Brennert</td>\n",
       "    </tr>\n",
       "    <tr>\n",
       "      <th>4</th>\n",
       "      <td>5</td>\n",
       "      <td>Alan Moore/David   Lloyd</td>\n",
       "    </tr>\n",
       "  </tbody>\n",
       "</table>\n",
       "</div>"
      ],
      "text/plain": [
       "   author_id                          author\n",
       "0          1                      A.S. Byatt\n",
       "1          2  Aesop/Laura Harris/Laura Gibbs\n",
       "2          3                 Agatha Christie\n",
       "3          4                   Alan Brennert\n",
       "4          5        Alan Moore/David   Lloyd"
      ]
     },
     "execution_count": 6,
     "metadata": {},
     "output_type": "execute_result"
    }
   ],
   "source": [
    "data_head('''SELECT * FROM authors LIMIT 5''')"
   ]
  },
  {
   "cell_type": "markdown",
   "metadata": {},
   "source": [
    "**Таблица publishers**"
   ]
  },
  {
   "cell_type": "code",
   "execution_count": 7,
   "metadata": {
    "scrolled": false
   },
   "outputs": [
    {
     "data": {
      "text/html": [
       "<div>\n",
       "<style scoped>\n",
       "    .dataframe tbody tr th:only-of-type {\n",
       "        vertical-align: middle;\n",
       "    }\n",
       "\n",
       "    .dataframe tbody tr th {\n",
       "        vertical-align: top;\n",
       "    }\n",
       "\n",
       "    .dataframe thead th {\n",
       "        text-align: right;\n",
       "    }\n",
       "</style>\n",
       "<table border=\"1\" class=\"dataframe\">\n",
       "  <thead>\n",
       "    <tr style=\"text-align: right;\">\n",
       "      <th></th>\n",
       "      <th>publisher_id</th>\n",
       "      <th>publisher</th>\n",
       "    </tr>\n",
       "  </thead>\n",
       "  <tbody>\n",
       "    <tr>\n",
       "      <th>0</th>\n",
       "      <td>1</td>\n",
       "      <td>Ace</td>\n",
       "    </tr>\n",
       "    <tr>\n",
       "      <th>1</th>\n",
       "      <td>2</td>\n",
       "      <td>Ace Book</td>\n",
       "    </tr>\n",
       "    <tr>\n",
       "      <th>2</th>\n",
       "      <td>3</td>\n",
       "      <td>Ace Books</td>\n",
       "    </tr>\n",
       "    <tr>\n",
       "      <th>3</th>\n",
       "      <td>4</td>\n",
       "      <td>Ace Hardcover</td>\n",
       "    </tr>\n",
       "    <tr>\n",
       "      <th>4</th>\n",
       "      <td>5</td>\n",
       "      <td>Addison Wesley Publishing Company</td>\n",
       "    </tr>\n",
       "  </tbody>\n",
       "</table>\n",
       "</div>"
      ],
      "text/plain": [
       "   publisher_id                          publisher\n",
       "0             1                                Ace\n",
       "1             2                           Ace Book\n",
       "2             3                          Ace Books\n",
       "3             4                      Ace Hardcover\n",
       "4             5  Addison Wesley Publishing Company"
      ]
     },
     "execution_count": 7,
     "metadata": {},
     "output_type": "execute_result"
    }
   ],
   "source": [
    "data_head('''SELECT * FROM publishers LIMIT 5''')"
   ]
  },
  {
   "cell_type": "markdown",
   "metadata": {},
   "source": [
    "**Таблица ratings**"
   ]
  },
  {
   "cell_type": "code",
   "execution_count": 8,
   "metadata": {
    "scrolled": true
   },
   "outputs": [
    {
     "data": {
      "text/html": [
       "<div>\n",
       "<style scoped>\n",
       "    .dataframe tbody tr th:only-of-type {\n",
       "        vertical-align: middle;\n",
       "    }\n",
       "\n",
       "    .dataframe tbody tr th {\n",
       "        vertical-align: top;\n",
       "    }\n",
       "\n",
       "    .dataframe thead th {\n",
       "        text-align: right;\n",
       "    }\n",
       "</style>\n",
       "<table border=\"1\" class=\"dataframe\">\n",
       "  <thead>\n",
       "    <tr style=\"text-align: right;\">\n",
       "      <th></th>\n",
       "      <th>rating_id</th>\n",
       "      <th>book_id</th>\n",
       "      <th>username</th>\n",
       "      <th>rating</th>\n",
       "    </tr>\n",
       "  </thead>\n",
       "  <tbody>\n",
       "    <tr>\n",
       "      <th>0</th>\n",
       "      <td>1</td>\n",
       "      <td>1</td>\n",
       "      <td>ryanfranco</td>\n",
       "      <td>4</td>\n",
       "    </tr>\n",
       "    <tr>\n",
       "      <th>1</th>\n",
       "      <td>2</td>\n",
       "      <td>1</td>\n",
       "      <td>grantpatricia</td>\n",
       "      <td>2</td>\n",
       "    </tr>\n",
       "    <tr>\n",
       "      <th>2</th>\n",
       "      <td>3</td>\n",
       "      <td>1</td>\n",
       "      <td>brandtandrea</td>\n",
       "      <td>5</td>\n",
       "    </tr>\n",
       "    <tr>\n",
       "      <th>3</th>\n",
       "      <td>4</td>\n",
       "      <td>2</td>\n",
       "      <td>lorichen</td>\n",
       "      <td>3</td>\n",
       "    </tr>\n",
       "    <tr>\n",
       "      <th>4</th>\n",
       "      <td>5</td>\n",
       "      <td>2</td>\n",
       "      <td>mariokeller</td>\n",
       "      <td>2</td>\n",
       "    </tr>\n",
       "  </tbody>\n",
       "</table>\n",
       "</div>"
      ],
      "text/plain": [
       "   rating_id  book_id       username  rating\n",
       "0          1        1     ryanfranco       4\n",
       "1          2        1  grantpatricia       2\n",
       "2          3        1   brandtandrea       5\n",
       "3          4        2       lorichen       3\n",
       "4          5        2    mariokeller       2"
      ]
     },
     "execution_count": 8,
     "metadata": {},
     "output_type": "execute_result"
    }
   ],
   "source": [
    "data_head('''SELECT * FROM ratings LIMIT 5''')"
   ]
  },
  {
   "cell_type": "markdown",
   "metadata": {},
   "source": [
    "**Таблица reviews**"
   ]
  },
  {
   "cell_type": "code",
   "execution_count": 9,
   "metadata": {
    "scrolled": true
   },
   "outputs": [
    {
     "data": {
      "text/html": [
       "<div>\n",
       "<style scoped>\n",
       "    .dataframe tbody tr th:only-of-type {\n",
       "        vertical-align: middle;\n",
       "    }\n",
       "\n",
       "    .dataframe tbody tr th {\n",
       "        vertical-align: top;\n",
       "    }\n",
       "\n",
       "    .dataframe thead th {\n",
       "        text-align: right;\n",
       "    }\n",
       "</style>\n",
       "<table border=\"1\" class=\"dataframe\">\n",
       "  <thead>\n",
       "    <tr style=\"text-align: right;\">\n",
       "      <th></th>\n",
       "      <th>review_id</th>\n",
       "      <th>book_id</th>\n",
       "      <th>username</th>\n",
       "      <th>text</th>\n",
       "    </tr>\n",
       "  </thead>\n",
       "  <tbody>\n",
       "    <tr>\n",
       "      <th>0</th>\n",
       "      <td>1</td>\n",
       "      <td>1</td>\n",
       "      <td>brandtandrea</td>\n",
       "      <td>Mention society tell send professor analysis. ...</td>\n",
       "    </tr>\n",
       "    <tr>\n",
       "      <th>1</th>\n",
       "      <td>2</td>\n",
       "      <td>1</td>\n",
       "      <td>ryanfranco</td>\n",
       "      <td>Foot glass pretty audience hit themselves. Amo...</td>\n",
       "    </tr>\n",
       "    <tr>\n",
       "      <th>2</th>\n",
       "      <td>3</td>\n",
       "      <td>2</td>\n",
       "      <td>lorichen</td>\n",
       "      <td>Listen treat keep worry. Miss husband tax but ...</td>\n",
       "    </tr>\n",
       "    <tr>\n",
       "      <th>3</th>\n",
       "      <td>4</td>\n",
       "      <td>3</td>\n",
       "      <td>johnsonamanda</td>\n",
       "      <td>Finally month interesting blue could nature cu...</td>\n",
       "    </tr>\n",
       "    <tr>\n",
       "      <th>4</th>\n",
       "      <td>5</td>\n",
       "      <td>3</td>\n",
       "      <td>scotttamara</td>\n",
       "      <td>Nation purpose heavy give wait song will. List...</td>\n",
       "    </tr>\n",
       "  </tbody>\n",
       "</table>\n",
       "</div>"
      ],
      "text/plain": [
       "   review_id  book_id       username  \\\n",
       "0          1        1   brandtandrea   \n",
       "1          2        1     ryanfranco   \n",
       "2          3        2       lorichen   \n",
       "3          4        3  johnsonamanda   \n",
       "4          5        3    scotttamara   \n",
       "\n",
       "                                                text  \n",
       "0  Mention society tell send professor analysis. ...  \n",
       "1  Foot glass pretty audience hit themselves. Amo...  \n",
       "2  Listen treat keep worry. Miss husband tax but ...  \n",
       "3  Finally month interesting blue could nature cu...  \n",
       "4  Nation purpose heavy give wait song will. List...  "
      ]
     },
     "execution_count": 9,
     "metadata": {},
     "output_type": "execute_result"
    }
   ],
   "source": [
    "data_head('''SELECT * FROM reviews LIMIT 5''')"
   ]
  },
  {
   "cell_type": "markdown",
   "metadata": {},
   "source": [
    "# Запросы к базе данных"
   ]
  },
  {
   "cell_type": "markdown",
   "metadata": {},
   "source": [
    "## Cколько книг вышло после 1 января 2000 года"
   ]
  },
  {
   "cell_type": "code",
   "execution_count": 10,
   "metadata": {},
   "outputs": [
    {
     "name": "stdout",
     "output_type": "stream",
     "text": [
      "После 1 января 2020 года вышло 819 книга \n"
     ]
    }
   ],
   "source": [
    "books_2000 = '''SELECT COUNT(*)\n",
    "                FROM books\n",
    "                WHERE publication_date > '2000-01-01'\n",
    "                '''\n",
    "\n",
    "data_books_2000 = pd.io.sql.read_sql(books_2000, con = engine)\n",
    "print('После 1 января 2020 года вышло {} книга '.format(data_books_2000.loc[0, 'count']))"
   ]
  },
  {
   "cell_type": "markdown",
   "metadata": {},
   "source": [
    "## Количество обзоров и средняя оценка каждой книги"
   ]
  },
  {
   "cell_type": "code",
   "execution_count": 11,
   "metadata": {},
   "outputs": [
    {
     "data": {
      "text/html": [
       "<div>\n",
       "<style scoped>\n",
       "    .dataframe tbody tr th:only-of-type {\n",
       "        vertical-align: middle;\n",
       "    }\n",
       "\n",
       "    .dataframe tbody tr th {\n",
       "        vertical-align: top;\n",
       "    }\n",
       "\n",
       "    .dataframe thead th {\n",
       "        text-align: right;\n",
       "    }\n",
       "</style>\n",
       "<table border=\"1\" class=\"dataframe\">\n",
       "  <thead>\n",
       "    <tr style=\"text-align: right;\">\n",
       "      <th></th>\n",
       "      <th>Название книги</th>\n",
       "      <th>Количество обзоров</th>\n",
       "      <th>Средняя оценка</th>\n",
       "    </tr>\n",
       "  </thead>\n",
       "  <tbody>\n",
       "    <tr>\n",
       "      <th>0</th>\n",
       "      <td>Arrows of the Queen (Heralds of Valdemar  #1)</td>\n",
       "      <td>2</td>\n",
       "      <td>5.00</td>\n",
       "    </tr>\n",
       "    <tr>\n",
       "      <th>1</th>\n",
       "      <td>The Walking Dead  Book One (The Walking Dead #...</td>\n",
       "      <td>2</td>\n",
       "      <td>5.00</td>\n",
       "    </tr>\n",
       "    <tr>\n",
       "      <th>2</th>\n",
       "      <td>Light in August</td>\n",
       "      <td>2</td>\n",
       "      <td>5.00</td>\n",
       "    </tr>\n",
       "    <tr>\n",
       "      <th>3</th>\n",
       "      <td>Wherever You Go  There You Are: Mindfulness Me...</td>\n",
       "      <td>2</td>\n",
       "      <td>5.00</td>\n",
       "    </tr>\n",
       "    <tr>\n",
       "      <th>4</th>\n",
       "      <td>Captivating: Unveiling the Mystery of a Woman'...</td>\n",
       "      <td>2</td>\n",
       "      <td>5.00</td>\n",
       "    </tr>\n",
       "    <tr>\n",
       "      <th>...</th>\n",
       "      <td>...</td>\n",
       "      <td>...</td>\n",
       "      <td>...</td>\n",
       "    </tr>\n",
       "    <tr>\n",
       "      <th>995</th>\n",
       "      <td>The World Is Flat: A Brief History of the Twen...</td>\n",
       "      <td>3</td>\n",
       "      <td>2.25</td>\n",
       "    </tr>\n",
       "    <tr>\n",
       "      <th>996</th>\n",
       "      <td>His Excellency: George Washington</td>\n",
       "      <td>2</td>\n",
       "      <td>2.00</td>\n",
       "    </tr>\n",
       "    <tr>\n",
       "      <th>997</th>\n",
       "      <td>Drowning Ruth</td>\n",
       "      <td>3</td>\n",
       "      <td>2.00</td>\n",
       "    </tr>\n",
       "    <tr>\n",
       "      <th>998</th>\n",
       "      <td>Junky</td>\n",
       "      <td>2</td>\n",
       "      <td>2.00</td>\n",
       "    </tr>\n",
       "    <tr>\n",
       "      <th>999</th>\n",
       "      <td>Harvesting the Heart</td>\n",
       "      <td>2</td>\n",
       "      <td>1.50</td>\n",
       "    </tr>\n",
       "  </tbody>\n",
       "</table>\n",
       "<p>1000 rows × 3 columns</p>\n",
       "</div>"
      ],
      "text/plain": [
       "                                        Название книги  Количество обзоров  \\\n",
       "0        Arrows of the Queen (Heralds of Valdemar  #1)                   2   \n",
       "1    The Walking Dead  Book One (The Walking Dead #...                   2   \n",
       "2                                      Light in August                   2   \n",
       "3    Wherever You Go  There You Are: Mindfulness Me...                   2   \n",
       "4    Captivating: Unveiling the Mystery of a Woman'...                   2   \n",
       "..                                                 ...                 ...   \n",
       "995  The World Is Flat: A Brief History of the Twen...                   3   \n",
       "996                  His Excellency: George Washington                   2   \n",
       "997                                      Drowning Ruth                   3   \n",
       "998                                              Junky                   2   \n",
       "999                               Harvesting the Heart                   2   \n",
       "\n",
       "     Средняя оценка  \n",
       "0              5.00  \n",
       "1              5.00  \n",
       "2              5.00  \n",
       "3              5.00  \n",
       "4              5.00  \n",
       "..              ...  \n",
       "995            2.25  \n",
       "996            2.00  \n",
       "997            2.00  \n",
       "998            2.00  \n",
       "999            1.50  \n",
       "\n",
       "[1000 rows x 3 columns]"
      ]
     },
     "execution_count": 11,
     "metadata": {},
     "output_type": "execute_result"
    }
   ],
   "source": [
    "rating = '''SELECT b.title,\n",
    "            COUNT (DISTINCT rw.review_id), ROUND (avg(r.rating), 2) as R\n",
    "            FROM REVIEWS AS rw\n",
    "            RIGHT OUTER JOIN BOOKS AS b ON rw.book_id=b.book_id\n",
    "            LEFT OUTER JOIN RATINGS AS r ON b.book_id = r.book_id\n",
    "            GROUP BY b.book_id\n",
    "            ORDER BY R DESC'''\n",
    "\n",
    "book_rating = pd.io.sql.read_sql(rating, con = engine)\n",
    "book_rating.columns = ['Название книги', 'Количество обзоров', 'Средняя оценка']\n",
    "book_rating"
   ]
  },
  {
   "cell_type": "markdown",
   "metadata": {},
   "source": [
    "## Издательство, которое выпустило наибольшее число книг толще 50 страниц"
   ]
  },
  {
   "cell_type": "code",
   "execution_count": 12,
   "metadata": {},
   "outputs": [
    {
     "data": {
      "text/html": [
       "<div>\n",
       "<style scoped>\n",
       "    .dataframe tbody tr th:only-of-type {\n",
       "        vertical-align: middle;\n",
       "    }\n",
       "\n",
       "    .dataframe tbody tr th {\n",
       "        vertical-align: top;\n",
       "    }\n",
       "\n",
       "    .dataframe thead th {\n",
       "        text-align: right;\n",
       "    }\n",
       "</style>\n",
       "<table border=\"1\" class=\"dataframe\">\n",
       "  <thead>\n",
       "    <tr style=\"text-align: right;\">\n",
       "      <th></th>\n",
       "      <th>publisher</th>\n",
       "      <th>count</th>\n",
       "    </tr>\n",
       "  </thead>\n",
       "  <tbody>\n",
       "    <tr>\n",
       "      <th>0</th>\n",
       "      <td>Penguin Books</td>\n",
       "      <td>42</td>\n",
       "    </tr>\n",
       "  </tbody>\n",
       "</table>\n",
       "</div>"
      ],
      "text/plain": [
       "       publisher  count\n",
       "0  Penguin Books     42"
      ]
     },
     "metadata": {},
     "output_type": "display_data"
    },
    {
     "name": "stdout",
     "output_type": "stream",
     "text": [
      "Издательство, которое выпустило наибольшее число книг толще 50 страниц - Penguin Books\n"
     ]
    }
   ],
   "source": [
    "books_max = '''SELECT p.publisher,\n",
    "               COUNT(b.book_id)\n",
    "               FROM publishers AS p\n",
    "               JOIN BOOKS AS b ON p.publisher_id=b.publisher_id\n",
    "               WHERE b.num_pages > 50\n",
    "               GROUP BY p.publisher_id\n",
    "               ORDER BY count(b.book_id) DESC\n",
    "               LIMIT 1'''\n",
    "\n",
    "max_books = pd.io.sql.read_sql(books_max, con = engine)\n",
    "max_books\n",
    "display(max_books)\n",
    "print('Издательство, которое выпустило наибольшее число книг толще 50 страниц -', max_books.loc[0, 'publisher']) "
   ]
  },
  {
   "cell_type": "markdown",
   "metadata": {},
   "source": [
    "## Автор с самой высокой средней оценкой книг — учитывая только книги с 50 и более оценками"
   ]
  },
  {
   "cell_type": "code",
   "execution_count": 13,
   "metadata": {},
   "outputs": [
    {
     "data": {
      "text/html": [
       "<div>\n",
       "<style scoped>\n",
       "    .dataframe tbody tr th:only-of-type {\n",
       "        vertical-align: middle;\n",
       "    }\n",
       "\n",
       "    .dataframe tbody tr th {\n",
       "        vertical-align: top;\n",
       "    }\n",
       "\n",
       "    .dataframe thead th {\n",
       "        text-align: right;\n",
       "    }\n",
       "</style>\n",
       "<table border=\"1\" class=\"dataframe\">\n",
       "  <thead>\n",
       "    <tr style=\"text-align: right;\">\n",
       "      <th></th>\n",
       "      <th>author</th>\n",
       "      <th>avg_rating</th>\n",
       "      <th>books_count</th>\n",
       "    </tr>\n",
       "  </thead>\n",
       "  <tbody>\n",
       "    <tr>\n",
       "      <th>0</th>\n",
       "      <td>J.K. Rowling/Mary GrandPré</td>\n",
       "      <td>4.283844</td>\n",
       "      <td>4</td>\n",
       "    </tr>\n",
       "    <tr>\n",
       "      <th>1</th>\n",
       "      <td>Markus Zusak/Cao Xuân Việt Khương</td>\n",
       "      <td>4.264151</td>\n",
       "      <td>1</td>\n",
       "    </tr>\n",
       "    <tr>\n",
       "      <th>2</th>\n",
       "      <td>J.R.R. Tolkien</td>\n",
       "      <td>4.258446</td>\n",
       "      <td>2</td>\n",
       "    </tr>\n",
       "    <tr>\n",
       "      <th>3</th>\n",
       "      <td>Louisa May Alcott</td>\n",
       "      <td>4.192308</td>\n",
       "      <td>1</td>\n",
       "    </tr>\n",
       "    <tr>\n",
       "      <th>4</th>\n",
       "      <td>Rick Riordan</td>\n",
       "      <td>4.080645</td>\n",
       "      <td>1</td>\n",
       "    </tr>\n",
       "    <tr>\n",
       "      <th>5</th>\n",
       "      <td>William Golding</td>\n",
       "      <td>3.901408</td>\n",
       "      <td>1</td>\n",
       "    </tr>\n",
       "    <tr>\n",
       "      <th>6</th>\n",
       "      <td>J.D. Salinger</td>\n",
       "      <td>3.825581</td>\n",
       "      <td>1</td>\n",
       "    </tr>\n",
       "    <tr>\n",
       "      <th>7</th>\n",
       "      <td>Paulo Coelho/Alan R. Clarke/Özdemir İnce</td>\n",
       "      <td>3.789474</td>\n",
       "      <td>1</td>\n",
       "    </tr>\n",
       "    <tr>\n",
       "      <th>8</th>\n",
       "      <td>William Shakespeare/Paul Werstine/Barbara A. M...</td>\n",
       "      <td>3.787879</td>\n",
       "      <td>1</td>\n",
       "    </tr>\n",
       "    <tr>\n",
       "      <th>9</th>\n",
       "      <td>Dan Brown</td>\n",
       "      <td>3.754540</td>\n",
       "      <td>2</td>\n",
       "    </tr>\n",
       "    <tr>\n",
       "      <th>10</th>\n",
       "      <td>Lois Lowry</td>\n",
       "      <td>3.750000</td>\n",
       "      <td>1</td>\n",
       "    </tr>\n",
       "    <tr>\n",
       "      <th>11</th>\n",
       "      <td>George Orwell/Boris Grabnar/Peter Škerl</td>\n",
       "      <td>3.729730</td>\n",
       "      <td>1</td>\n",
       "    </tr>\n",
       "    <tr>\n",
       "      <th>12</th>\n",
       "      <td>Stephenie Meyer</td>\n",
       "      <td>3.662500</td>\n",
       "      <td>1</td>\n",
       "    </tr>\n",
       "    <tr>\n",
       "      <th>13</th>\n",
       "      <td>John Steinbeck</td>\n",
       "      <td>3.622951</td>\n",
       "      <td>1</td>\n",
       "    </tr>\n",
       "  </tbody>\n",
       "</table>\n",
       "</div>"
      ],
      "text/plain": [
       "                                               author  avg_rating  books_count\n",
       "0                          J.K. Rowling/Mary GrandPré    4.283844            4\n",
       "1                   Markus Zusak/Cao Xuân Việt Khương    4.264151            1\n",
       "2                                      J.R.R. Tolkien    4.258446            2\n",
       "3                                   Louisa May Alcott    4.192308            1\n",
       "4                                        Rick Riordan    4.080645            1\n",
       "5                                     William Golding    3.901408            1\n",
       "6                                       J.D. Salinger    3.825581            1\n",
       "7            Paulo Coelho/Alan R. Clarke/Özdemir İnce    3.789474            1\n",
       "8   William Shakespeare/Paul Werstine/Barbara A. M...    3.787879            1\n",
       "9                                           Dan Brown    3.754540            2\n",
       "10                                         Lois Lowry    3.750000            1\n",
       "11            George Orwell/Boris Grabnar/Peter Škerl    3.729730            1\n",
       "12                                    Stephenie Meyer    3.662500            1\n",
       "13                                     John Steinbeck    3.622951            1"
      ]
     },
     "metadata": {},
     "output_type": "display_data"
    },
    {
     "name": "stdout",
     "output_type": "stream",
     "text": [
      "Автор с самой высокой средней оценкой книг - J.K. Rowling/Mary GrandPré\n"
     ]
    }
   ],
   "source": [
    "autor_max = '''\n",
    "WITH book_r AS (\n",
    "    SELECT \n",
    "        b.author_id,\n",
    "        b.book_id,\n",
    "        AVG(r.rating) avg_rating\n",
    "    FROM books AS b\n",
    "    JOIN ratings AS r ON b.book_id=r.book_id\n",
    "    GROUP BY b.book_id\n",
    "    HAVING count(r.rating_id)>=50\n",
    ")\n",
    "\n",
    "SELECT \n",
    "    a.author,\n",
    "    AVG(br.avg_rating) avg_rating,\n",
    "    COUNT(br.avg_rating) books_count -- и выведем количество книг, по которым прошел подсчет среднего\n",
    "FROM authors AS a\n",
    "JOIN book_r AS br ON a.author_id=br.author_id\n",
    "\n",
    "GROUP BY a.author\n",
    "ORDER BY avg_rating desc\n",
    "'''\n",
    "\n",
    "max_autor = pd.io.sql.read_sql(autor_max, con = engine)\n",
    "display(max_autor)\n",
    "print('Автор с самой высокой средней оценкой книг -', max_autor.loc[0, 'author']) "
   ]
  },
  {
   "cell_type": "markdown",
   "metadata": {},
   "source": [
    "## Среднее количество обзоров от пользователей, которые поставили больше 48 оценок"
   ]
  },
  {
   "cell_type": "code",
   "execution_count": 14,
   "metadata": {},
   "outputs": [
    {
     "name": "stdout",
     "output_type": "stream",
     "text": [
      "Среднее количество обзоров от пользователей, которые поставили больше 48 оценок, составляет  24.0\n"
     ]
    }
   ],
   "source": [
    "mean_users = '''WITH A AS\n",
    "                    (SELECT username,\n",
    "                     COUNT(review_id)\n",
    "                     FROM reviews\n",
    "                     WHERE username in\n",
    "                         (SELECT username\n",
    "                          FROM ratings\n",
    "                          GROUP BY username\n",
    "                          HAVING count(rating_id)>48)\n",
    "                    GROUP BY username)\n",
    "                SELECT round (SUM (COUNT) / COUNT(COUNT), 2) AS AVG\n",
    "                FROM A'''\n",
    "\n",
    "users_mean = pd.io.sql.read_sql(mean_users, con = engine)\n",
    "users_mean\n",
    "print ('Среднее количество обзоров от пользователей, которые поставили больше 48 оценок, составляет ', users_mean.loc[0, 'avg'])"
   ]
  }
 ],
 "metadata": {
  "ExecuteTimeLog": [
   {
    "duration": 8893,
    "start_time": "2023-12-07T17:44:09.468Z"
   },
   {
    "duration": 230,
    "start_time": "2023-12-07T17:45:12.637Z"
   },
   {
    "duration": 4,
    "start_time": "2023-12-07T17:45:21.092Z"
   },
   {
    "duration": 228,
    "start_time": "2023-12-07T17:45:26.334Z"
   },
   {
    "duration": 68,
    "start_time": "2023-12-07T17:50:22.845Z"
   },
   {
    "duration": 4,
    "start_time": "2023-12-07T17:51:24.842Z"
   },
   {
    "duration": 3,
    "start_time": "2023-12-07T17:51:30.376Z"
   },
   {
    "duration": 3,
    "start_time": "2023-12-07T17:51:45.844Z"
   },
   {
    "duration": 239,
    "start_time": "2023-12-07T17:55:22.699Z"
   },
   {
    "duration": 8827,
    "start_time": "2023-12-07T17:57:23.561Z"
   },
   {
    "duration": 227,
    "start_time": "2023-12-07T17:57:32.390Z"
   },
   {
    "duration": 2,
    "start_time": "2023-12-07T17:57:32.618Z"
   },
   {
    "duration": 5,
    "start_time": "2023-12-07T17:57:32.622Z"
   },
   {
    "duration": 72,
    "start_time": "2023-12-07T17:57:32.628Z"
   },
   {
    "duration": 4,
    "start_time": "2023-12-07T17:57:35.669Z"
   },
   {
    "duration": 252,
    "start_time": "2023-12-07T17:57:35.674Z"
   },
   {
    "duration": 3,
    "start_time": "2023-12-07T17:57:35.927Z"
   },
   {
    "duration": 14,
    "start_time": "2023-12-07T17:57:35.932Z"
   },
   {
    "duration": 20,
    "start_time": "2023-12-07T17:57:35.948Z"
   },
   {
    "duration": 3,
    "start_time": "2023-12-07T17:58:00.125Z"
   },
   {
    "duration": 131,
    "start_time": "2023-12-07T17:58:03.598Z"
   },
   {
    "duration": 52,
    "start_time": "2023-12-07T17:59:39.941Z"
   },
   {
    "duration": 8,
    "start_time": "2023-12-07T18:04:55.806Z"
   },
   {
    "duration": 53,
    "start_time": "2023-12-07T18:12:04.134Z"
   },
   {
    "duration": 52,
    "start_time": "2023-12-07T18:12:12.703Z"
   },
   {
    "duration": 53,
    "start_time": "2023-12-07T18:12:22.731Z"
   },
   {
    "duration": 53,
    "start_time": "2023-12-07T18:12:51.445Z"
   },
   {
    "duration": 53,
    "start_time": "2023-12-07T18:13:06.009Z"
   },
   {
    "duration": 53,
    "start_time": "2023-12-07T18:13:18.564Z"
   },
   {
    "duration": 54,
    "start_time": "2023-12-07T18:13:29.759Z"
   },
   {
    "duration": 52,
    "start_time": "2023-12-07T18:13:36.761Z"
   },
   {
    "duration": 75,
    "start_time": "2023-12-07T18:24:52.190Z"
   },
   {
    "duration": 72,
    "start_time": "2023-12-07T18:24:58.409Z"
   },
   {
    "duration": 73,
    "start_time": "2023-12-07T18:25:09.066Z"
   },
   {
    "duration": 114,
    "start_time": "2023-12-07T18:27:03.774Z"
   },
   {
    "duration": 76,
    "start_time": "2023-12-07T18:28:11.888Z"
   },
   {
    "duration": 79,
    "start_time": "2023-12-07T18:28:55.816Z"
   },
   {
    "duration": 77,
    "start_time": "2023-12-07T18:29:04.150Z"
   },
   {
    "duration": 80,
    "start_time": "2023-12-07T18:31:02.730Z"
   },
   {
    "duration": 1162,
    "start_time": "2023-12-07T18:31:43.263Z"
   },
   {
    "duration": 84,
    "start_time": "2023-12-07T18:33:02.294Z"
   },
   {
    "duration": 76,
    "start_time": "2023-12-07T18:33:28.097Z"
   },
   {
    "duration": 78,
    "start_time": "2023-12-07T18:33:57.987Z"
   },
   {
    "duration": 75,
    "start_time": "2023-12-07T18:36:14.134Z"
   },
   {
    "duration": 75,
    "start_time": "2023-12-07T18:37:29.553Z"
   },
   {
    "duration": 76,
    "start_time": "2023-12-07T18:37:43.448Z"
   },
   {
    "duration": 71,
    "start_time": "2023-12-07T18:38:01.984Z"
   },
   {
    "duration": 75,
    "start_time": "2023-12-07T18:38:16.387Z"
   },
   {
    "duration": 75,
    "start_time": "2023-12-07T18:38:22.296Z"
   },
   {
    "duration": 76,
    "start_time": "2023-12-07T18:39:10.472Z"
   },
   {
    "duration": 76,
    "start_time": "2023-12-07T18:39:19.954Z"
   },
   {
    "duration": 78,
    "start_time": "2023-12-07T18:40:56.102Z"
   },
   {
    "duration": 76,
    "start_time": "2023-12-07T18:41:19.543Z"
   },
   {
    "duration": 73,
    "start_time": "2023-12-07T18:41:46.539Z"
   },
   {
    "duration": 113,
    "start_time": "2023-12-07T18:42:28.278Z"
   },
   {
    "duration": 8,
    "start_time": "2023-12-07T18:47:21.297Z"
   },
   {
    "duration": 7,
    "start_time": "2023-12-07T18:48:21.747Z"
   },
   {
    "duration": 9519,
    "start_time": "2023-12-08T11:53:47.355Z"
   },
   {
    "duration": 251,
    "start_time": "2023-12-08T11:53:56.876Z"
   },
   {
    "duration": 4,
    "start_time": "2023-12-08T11:53:57.128Z"
   },
   {
    "duration": 142,
    "start_time": "2023-12-08T11:53:57.133Z"
   },
   {
    "duration": 56,
    "start_time": "2023-12-08T11:53:57.277Z"
   },
   {
    "duration": 60,
    "start_time": "2023-12-08T11:53:57.334Z"
   },
   {
    "duration": 51,
    "start_time": "2023-12-08T11:53:57.395Z"
   },
   {
    "duration": 67,
    "start_time": "2023-12-08T11:53:57.448Z"
   },
   {
    "duration": 76,
    "start_time": "2023-12-08T11:53:57.517Z"
   },
   {
    "duration": 118,
    "start_time": "2023-12-08T11:53:57.595Z"
   },
   {
    "duration": 73,
    "start_time": "2023-12-08T11:53:57.714Z"
   },
   {
    "duration": 69,
    "start_time": "2023-12-08T11:53:57.789Z"
   },
   {
    "duration": 0,
    "start_time": "2023-12-08T11:53:57.860Z"
   },
   {
    "duration": 9407,
    "start_time": "2023-12-08T11:53:59.852Z"
   },
   {
    "duration": 262,
    "start_time": "2023-12-08T11:54:09.261Z"
   },
   {
    "duration": 4,
    "start_time": "2023-12-08T11:54:09.525Z"
   },
   {
    "duration": 166,
    "start_time": "2023-12-08T11:54:09.532Z"
   },
   {
    "duration": 50,
    "start_time": "2023-12-08T11:54:09.700Z"
   },
   {
    "duration": 56,
    "start_time": "2023-12-08T11:54:09.751Z"
   },
   {
    "duration": 52,
    "start_time": "2023-12-08T11:54:09.808Z"
   },
   {
    "duration": 58,
    "start_time": "2023-12-08T11:54:09.861Z"
   },
   {
    "duration": 74,
    "start_time": "2023-12-08T11:54:09.921Z"
   },
   {
    "duration": 121,
    "start_time": "2023-12-08T11:54:09.998Z"
   },
   {
    "duration": 79,
    "start_time": "2023-12-08T11:54:10.121Z"
   },
   {
    "duration": 67,
    "start_time": "2023-12-08T11:54:10.202Z"
   },
   {
    "duration": 0,
    "start_time": "2023-12-08T11:54:10.283Z"
   },
   {
    "duration": 82,
    "start_time": "2023-12-08T11:54:11.226Z"
   },
   {
    "duration": 81,
    "start_time": "2023-12-08T11:54:23.063Z"
   },
   {
    "duration": 72,
    "start_time": "2023-12-08T11:54:27.285Z"
   },
   {
    "duration": 11481,
    "start_time": "2023-12-08T11:54:58.466Z"
   },
   {
    "duration": 236,
    "start_time": "2023-12-08T11:55:09.949Z"
   },
   {
    "duration": 3,
    "start_time": "2023-12-08T11:55:10.187Z"
   },
   {
    "duration": 132,
    "start_time": "2023-12-08T11:55:10.192Z"
   },
   {
    "duration": 58,
    "start_time": "2023-12-08T11:55:10.327Z"
   },
   {
    "duration": 52,
    "start_time": "2023-12-08T11:55:10.387Z"
   },
   {
    "duration": 56,
    "start_time": "2023-12-08T11:55:10.441Z"
   },
   {
    "duration": 53,
    "start_time": "2023-12-08T11:55:10.499Z"
   },
   {
    "duration": 73,
    "start_time": "2023-12-08T11:55:10.554Z"
   },
   {
    "duration": 114,
    "start_time": "2023-12-08T11:55:10.629Z"
   },
   {
    "duration": 81,
    "start_time": "2023-12-08T11:55:10.745Z"
   },
   {
    "duration": 84,
    "start_time": "2023-12-08T11:55:10.828Z"
   },
   {
    "duration": 80,
    "start_time": "2023-12-08T11:55:10.914Z"
   },
   {
    "duration": 562,
    "start_time": "2024-05-26T22:06:58.769Z"
   },
   {
    "duration": 5963,
    "start_time": "2024-05-26T22:07:01.549Z"
   },
   {
    "duration": 239,
    "start_time": "2024-05-26T22:08:33.726Z"
   },
   {
    "duration": 5,
    "start_time": "2024-05-26T22:08:33.968Z"
   },
   {
    "duration": 148,
    "start_time": "2024-05-26T22:08:33.976Z"
   },
   {
    "duration": 49,
    "start_time": "2024-05-26T22:08:34.127Z"
   },
   {
    "duration": 50,
    "start_time": "2024-05-26T22:08:34.178Z"
   },
   {
    "duration": 52,
    "start_time": "2024-05-26T22:08:34.230Z"
   },
   {
    "duration": 51,
    "start_time": "2024-05-26T22:08:34.283Z"
   },
   {
    "duration": 69,
    "start_time": "2024-05-26T22:08:34.336Z"
   },
   {
    "duration": 109,
    "start_time": "2024-05-26T22:08:34.406Z"
   },
   {
    "duration": 75,
    "start_time": "2024-05-26T22:08:34.517Z"
   },
   {
    "duration": 77,
    "start_time": "2024-05-26T22:08:34.594Z"
   },
   {
    "duration": 71,
    "start_time": "2024-05-26T22:08:34.673Z"
   }
  ],
  "kernelspec": {
   "display_name": "Python 3 (ipykernel)",
   "language": "python",
   "name": "python3"
  },
  "language_info": {
   "codemirror_mode": {
    "name": "ipython",
    "version": 3
   },
   "file_extension": ".py",
   "mimetype": "text/x-python",
   "name": "python",
   "nbconvert_exporter": "python",
   "pygments_lexer": "ipython3",
   "version": "3.9.5"
  },
  "toc": {
   "base_numbering": 1,
   "nav_menu": {},
   "number_sections": true,
   "sideBar": true,
   "skip_h1_title": true,
   "title_cell": "Table of Contents",
   "title_sidebar": "Contents",
   "toc_cell": false,
   "toc_position": {},
   "toc_section_display": true,
   "toc_window_display": false
  }
 },
 "nbformat": 4,
 "nbformat_minor": 2
}
