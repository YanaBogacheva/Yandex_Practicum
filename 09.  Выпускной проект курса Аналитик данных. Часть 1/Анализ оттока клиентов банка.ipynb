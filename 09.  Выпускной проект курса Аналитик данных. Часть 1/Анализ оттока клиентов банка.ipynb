{
 "cells": [
  {
   "cell_type": "markdown",
   "metadata": {},
   "source": [
    "# Анализ оттока клиентов банка"
   ]
  },
  {
   "cell_type": "markdown",
   "metadata": {},
   "source": [
    "# Описание проекта\n",
    "\n",
    "**Заказчик** - отдел маркетинга банка \"Метапромбанк\", в котором в последнее время повысился отток клиентов.\n",
    "\n",
    "**Задача:** \n",
    "- провести анализ клиентов банка с целью выделения сегментов клиентов, которые склонны уходить из банка, \n",
    "- предложить меры по удержанию таких клиентов."
   ]
  },
  {
   "cell_type": "markdown",
   "metadata": {},
   "source": [
    "# План выполнения проекта\n",
    "\n",
    "1. Загрузка данных и изучение общей информации.\n",
    "- Загрузка данных.\n",
    "- Изучение значений каждого столбца.\n",
    "- Проверка соответствия типов данных.\n",
    "\n",
    "\n",
    "2. Предобработка данных.\n",
    "- Приведение наименований столбцов к единому стилю.\n",
    "- Коррекция значений столбцов с категориальными переменными.\n",
    "- Анализ пропусков.\n",
    "- Анализ дубликатов.\n",
    "- Изменение типа данных.\n",
    "- Изучение аномальных значений.\n",
    "\n",
    "\n",
    "3. Исследовательский анализ данных.\n",
    "- Составление портретов клиентов банка.\n",
    "- Изучение распределения характеристик в разрезе оттока с помощью графиков.\n",
    "- Корреляционный анализ признаков и его визуализация.\n",
    "\n",
    "\n",
    "4. Формулировка и проверка статистических гипотез.\n",
    "- Гипотеза о различии дохода между клиентами, которые ушли и которые остались.\n",
    "- Гипотеза о различии кредитных рейтингов клиентов, которые ушли и которые остались.\n",
    "\n",
    "\n",
    "5. Сегментация отточных клиентов.\n",
    "\n",
    "\n",
    "6. Выводы и рекомендации."
   ]
  },
  {
   "cell_type": "markdown",
   "metadata": {},
   "source": [
    "## Загрузка данных и изучение общей информации"
   ]
  },
  {
   "cell_type": "code",
   "execution_count": 1,
   "metadata": {},
   "outputs": [],
   "source": [
    "# Импортирую библиотеки\n",
    "import pandas as pd\n",
    "import matplotlib.pyplot as plt\n",
    "import seaborn as sns\n",
    "from scipy import stats as st\n",
    "import warnings\n",
    "warnings.filterwarnings('ignore')"
   ]
  },
  {
   "cell_type": "code",
   "execution_count": 2,
   "metadata": {},
   "outputs": [],
   "source": [
    "# Загружаю данные\n",
    "try: df = pd.read_csv('bank_scrooge.csv')  \n",
    "except: df = pd.read_csv('/datasets/bank_scrooge.csv')"
   ]
  },
  {
   "cell_type": "code",
   "execution_count": 3,
   "metadata": {},
   "outputs": [
    {
     "data": {
      "text/html": [
       "<div>\n",
       "<style scoped>\n",
       "    .dataframe tbody tr th:only-of-type {\n",
       "        vertical-align: middle;\n",
       "    }\n",
       "\n",
       "    .dataframe tbody tr th {\n",
       "        vertical-align: top;\n",
       "    }\n",
       "\n",
       "    .dataframe thead th {\n",
       "        text-align: right;\n",
       "    }\n",
       "</style>\n",
       "<table border=\"1\" class=\"dataframe\">\n",
       "  <thead>\n",
       "    <tr style=\"text-align: right;\">\n",
       "      <th></th>\n",
       "      <th>USERID</th>\n",
       "      <th>score</th>\n",
       "      <th>city</th>\n",
       "      <th>gender</th>\n",
       "      <th>age</th>\n",
       "      <th>equity</th>\n",
       "      <th>balance</th>\n",
       "      <th>products</th>\n",
       "      <th>credit_card</th>\n",
       "      <th>last_activity</th>\n",
       "      <th>EST_SALARY</th>\n",
       "      <th>churn</th>\n",
       "    </tr>\n",
       "  </thead>\n",
       "  <tbody>\n",
       "    <tr>\n",
       "      <th>0</th>\n",
       "      <td>183012</td>\n",
       "      <td>850.0</td>\n",
       "      <td>Рыбинск</td>\n",
       "      <td>Ж</td>\n",
       "      <td>25.0</td>\n",
       "      <td>1</td>\n",
       "      <td>59214.82</td>\n",
       "      <td>2</td>\n",
       "      <td>0</td>\n",
       "      <td>1</td>\n",
       "      <td>75719.14</td>\n",
       "      <td>1</td>\n",
       "    </tr>\n",
       "    <tr>\n",
       "      <th>1</th>\n",
       "      <td>146556</td>\n",
       "      <td>861.0</td>\n",
       "      <td>Рыбинск</td>\n",
       "      <td>Ж</td>\n",
       "      <td>37.0</td>\n",
       "      <td>5</td>\n",
       "      <td>850594.33</td>\n",
       "      <td>3</td>\n",
       "      <td>1</td>\n",
       "      <td>0</td>\n",
       "      <td>86621.77</td>\n",
       "      <td>0</td>\n",
       "    </tr>\n",
       "    <tr>\n",
       "      <th>2</th>\n",
       "      <td>120722</td>\n",
       "      <td>892.0</td>\n",
       "      <td>Рыбинск</td>\n",
       "      <td>Ж</td>\n",
       "      <td>30.0</td>\n",
       "      <td>0</td>\n",
       "      <td>NaN</td>\n",
       "      <td>1</td>\n",
       "      <td>1</td>\n",
       "      <td>1</td>\n",
       "      <td>107683.34</td>\n",
       "      <td>0</td>\n",
       "    </tr>\n",
       "    <tr>\n",
       "      <th>3</th>\n",
       "      <td>225363</td>\n",
       "      <td>866.0</td>\n",
       "      <td>Ярославль</td>\n",
       "      <td>Ж</td>\n",
       "      <td>51.0</td>\n",
       "      <td>5</td>\n",
       "      <td>1524746.26</td>\n",
       "      <td>2</td>\n",
       "      <td>0</td>\n",
       "      <td>1</td>\n",
       "      <td>174423.53</td>\n",
       "      <td>1</td>\n",
       "    </tr>\n",
       "    <tr>\n",
       "      <th>4</th>\n",
       "      <td>157978</td>\n",
       "      <td>730.0</td>\n",
       "      <td>Ярославль</td>\n",
       "      <td>М</td>\n",
       "      <td>34.0</td>\n",
       "      <td>5</td>\n",
       "      <td>174.00</td>\n",
       "      <td>1</td>\n",
       "      <td>1</td>\n",
       "      <td>0</td>\n",
       "      <td>67353.16</td>\n",
       "      <td>1</td>\n",
       "    </tr>\n",
       "  </tbody>\n",
       "</table>\n",
       "</div>"
      ],
      "text/plain": [
       "   USERID  score       city gender   age  equity     balance  products  \\\n",
       "0  183012  850.0    Рыбинск      Ж  25.0       1    59214.82         2   \n",
       "1  146556  861.0    Рыбинск      Ж  37.0       5   850594.33         3   \n",
       "2  120722  892.0    Рыбинск      Ж  30.0       0         NaN         1   \n",
       "3  225363  866.0  Ярославль      Ж  51.0       5  1524746.26         2   \n",
       "4  157978  730.0  Ярославль      М  34.0       5      174.00         1   \n",
       "\n",
       "   credit_card  last_activity  EST_SALARY  churn  \n",
       "0            0              1    75719.14      1  \n",
       "1            1              0    86621.77      0  \n",
       "2            1              1   107683.34      0  \n",
       "3            0              1   174423.53      1  \n",
       "4            1              0    67353.16      1  "
      ]
     },
     "metadata": {},
     "output_type": "display_data"
    },
    {
     "name": "stdout",
     "output_type": "stream",
     "text": [
      "<class 'pandas.core.frame.DataFrame'>\n",
      "RangeIndex: 10000 entries, 0 to 9999\n",
      "Data columns (total 12 columns):\n",
      " #   Column         Non-Null Count  Dtype  \n",
      "---  ------         --------------  -----  \n",
      " 0   USERID         10000 non-null  int64  \n",
      " 1   score          10000 non-null  float64\n",
      " 2   city           10000 non-null  object \n",
      " 3   gender         10000 non-null  object \n",
      " 4   age            9974 non-null   float64\n",
      " 5   equity         10000 non-null  int64  \n",
      " 6   balance        7705 non-null   float64\n",
      " 7   products       10000 non-null  int64  \n",
      " 8   credit_card    10000 non-null  int64  \n",
      " 9   last_activity  10000 non-null  int64  \n",
      " 10  EST_SALARY     10000 non-null  float64\n",
      " 11  churn          10000 non-null  int64  \n",
      "dtypes: float64(4), int64(6), object(2)\n",
      "memory usage: 937.6+ KB\n"
     ]
    },
    {
     "data": {
      "text/plain": [
       "None"
      ]
     },
     "metadata": {},
     "output_type": "display_data"
    },
    {
     "data": {
      "text/plain": [
       "USERID              0\n",
       "score               0\n",
       "city                0\n",
       "gender              0\n",
       "age                26\n",
       "equity              0\n",
       "balance          2295\n",
       "products            0\n",
       "credit_card         0\n",
       "last_activity       0\n",
       "EST_SALARY          0\n",
       "churn               0\n",
       "dtype: int64"
      ]
     },
     "metadata": {},
     "output_type": "display_data"
    },
    {
     "data": {
      "text/html": [
       "<div>\n",
       "<style scoped>\n",
       "    .dataframe tbody tr th:only-of-type {\n",
       "        vertical-align: middle;\n",
       "    }\n",
       "\n",
       "    .dataframe tbody tr th {\n",
       "        vertical-align: top;\n",
       "    }\n",
       "\n",
       "    .dataframe thead th {\n",
       "        text-align: right;\n",
       "    }\n",
       "</style>\n",
       "<table border=\"1\" class=\"dataframe\">\n",
       "  <thead>\n",
       "    <tr style=\"text-align: right;\">\n",
       "      <th></th>\n",
       "      <th>USERID</th>\n",
       "      <th>score</th>\n",
       "      <th>age</th>\n",
       "      <th>equity</th>\n",
       "      <th>balance</th>\n",
       "      <th>products</th>\n",
       "      <th>credit_card</th>\n",
       "      <th>last_activity</th>\n",
       "      <th>EST_SALARY</th>\n",
       "      <th>churn</th>\n",
       "    </tr>\n",
       "  </thead>\n",
       "  <tbody>\n",
       "    <tr>\n",
       "      <th>count</th>\n",
       "      <td>10000.00000</td>\n",
       "      <td>10000.000000</td>\n",
       "      <td>9974.000000</td>\n",
       "      <td>10000.000000</td>\n",
       "      <td>7.705000e+03</td>\n",
       "      <td>10000.000000</td>\n",
       "      <td>10000.000000</td>\n",
       "      <td>10000.000000</td>\n",
       "      <td>1.000000e+04</td>\n",
       "      <td>10000.000000</td>\n",
       "    </tr>\n",
       "    <tr>\n",
       "      <th>mean</th>\n",
       "      <td>171814.71260</td>\n",
       "      <td>848.699400</td>\n",
       "      <td>42.734409</td>\n",
       "      <td>2.627600</td>\n",
       "      <td>8.277943e+05</td>\n",
       "      <td>1.870100</td>\n",
       "      <td>0.680400</td>\n",
       "      <td>0.523500</td>\n",
       "      <td>1.478669e+05</td>\n",
       "      <td>0.182000</td>\n",
       "    </tr>\n",
       "    <tr>\n",
       "      <th>std</th>\n",
       "      <td>33708.23812</td>\n",
       "      <td>65.448519</td>\n",
       "      <td>12.179971</td>\n",
       "      <td>1.980836</td>\n",
       "      <td>1.980614e+06</td>\n",
       "      <td>0.792647</td>\n",
       "      <td>0.466345</td>\n",
       "      <td>0.499472</td>\n",
       "      <td>1.393885e+05</td>\n",
       "      <td>0.385864</td>\n",
       "    </tr>\n",
       "    <tr>\n",
       "      <th>min</th>\n",
       "      <td>94561.00000</td>\n",
       "      <td>642.000000</td>\n",
       "      <td>18.000000</td>\n",
       "      <td>0.000000</td>\n",
       "      <td>0.000000e+00</td>\n",
       "      <td>0.000000</td>\n",
       "      <td>0.000000</td>\n",
       "      <td>0.000000</td>\n",
       "      <td>2.546300e+03</td>\n",
       "      <td>0.000000</td>\n",
       "    </tr>\n",
       "    <tr>\n",
       "      <th>25%</th>\n",
       "      <td>142810.25000</td>\n",
       "      <td>802.000000</td>\n",
       "      <td>33.000000</td>\n",
       "      <td>0.000000</td>\n",
       "      <td>2.955542e+05</td>\n",
       "      <td>1.000000</td>\n",
       "      <td>0.000000</td>\n",
       "      <td>0.000000</td>\n",
       "      <td>7.525190e+04</td>\n",
       "      <td>0.000000</td>\n",
       "    </tr>\n",
       "    <tr>\n",
       "      <th>50%</th>\n",
       "      <td>172728.00000</td>\n",
       "      <td>853.000000</td>\n",
       "      <td>40.000000</td>\n",
       "      <td>3.000000</td>\n",
       "      <td>5.242722e+05</td>\n",
       "      <td>2.000000</td>\n",
       "      <td>1.000000</td>\n",
       "      <td>1.000000</td>\n",
       "      <td>1.196581e+05</td>\n",
       "      <td>0.000000</td>\n",
       "    </tr>\n",
       "    <tr>\n",
       "      <th>75%</th>\n",
       "      <td>201261.75000</td>\n",
       "      <td>900.000000</td>\n",
       "      <td>51.000000</td>\n",
       "      <td>4.000000</td>\n",
       "      <td>9.807058e+05</td>\n",
       "      <td>2.000000</td>\n",
       "      <td>1.000000</td>\n",
       "      <td>1.000000</td>\n",
       "      <td>1.745005e+05</td>\n",
       "      <td>0.000000</td>\n",
       "    </tr>\n",
       "    <tr>\n",
       "      <th>max</th>\n",
       "      <td>229145.00000</td>\n",
       "      <td>1000.000000</td>\n",
       "      <td>86.000000</td>\n",
       "      <td>9.000000</td>\n",
       "      <td>1.191136e+08</td>\n",
       "      <td>5.000000</td>\n",
       "      <td>1.000000</td>\n",
       "      <td>1.000000</td>\n",
       "      <td>1.395064e+06</td>\n",
       "      <td>1.000000</td>\n",
       "    </tr>\n",
       "  </tbody>\n",
       "</table>\n",
       "</div>"
      ],
      "text/plain": [
       "             USERID         score          age        equity       balance  \\\n",
       "count   10000.00000  10000.000000  9974.000000  10000.000000  7.705000e+03   \n",
       "mean   171814.71260    848.699400    42.734409      2.627600  8.277943e+05   \n",
       "std     33708.23812     65.448519    12.179971      1.980836  1.980614e+06   \n",
       "min     94561.00000    642.000000    18.000000      0.000000  0.000000e+00   \n",
       "25%    142810.25000    802.000000    33.000000      0.000000  2.955542e+05   \n",
       "50%    172728.00000    853.000000    40.000000      3.000000  5.242722e+05   \n",
       "75%    201261.75000    900.000000    51.000000      4.000000  9.807058e+05   \n",
       "max    229145.00000   1000.000000    86.000000      9.000000  1.191136e+08   \n",
       "\n",
       "           products   credit_card  last_activity    EST_SALARY         churn  \n",
       "count  10000.000000  10000.000000   10000.000000  1.000000e+04  10000.000000  \n",
       "mean       1.870100      0.680400       0.523500  1.478669e+05      0.182000  \n",
       "std        0.792647      0.466345       0.499472  1.393885e+05      0.385864  \n",
       "min        0.000000      0.000000       0.000000  2.546300e+03      0.000000  \n",
       "25%        1.000000      0.000000       0.000000  7.525190e+04      0.000000  \n",
       "50%        2.000000      1.000000       1.000000  1.196581e+05      0.000000  \n",
       "75%        2.000000      1.000000       1.000000  1.745005e+05      0.000000  \n",
       "max        5.000000      1.000000       1.000000  1.395064e+06      1.000000  "
      ]
     },
     "metadata": {},
     "output_type": "display_data"
    },
    {
     "name": "stdout",
     "output_type": "stream",
     "text": [
      "Количество явных дубликатов: 0\n"
     ]
    }
   ],
   "source": [
    "# Изучаю общую информацию о данных\n",
    "display(df.head())\n",
    "display(df.info())\n",
    "display(df.isna().sum()) \n",
    "display(df.describe())\n",
    "print('Количество явных дубликатов:', df.duplicated().sum())"
   ]
  },
  {
   "cell_type": "code",
   "execution_count": 4,
   "metadata": {
    "scrolled": true
   },
   "outputs": [
    {
     "data": {
      "text/html": [
       "<div>\n",
       "<style scoped>\n",
       "    .dataframe tbody tr th:only-of-type {\n",
       "        vertical-align: middle;\n",
       "    }\n",
       "\n",
       "    .dataframe tbody tr th {\n",
       "        vertical-align: top;\n",
       "    }\n",
       "\n",
       "    .dataframe thead th {\n",
       "        text-align: right;\n",
       "    }\n",
       "</style>\n",
       "<table border=\"1\" class=\"dataframe\">\n",
       "  <thead>\n",
       "    <tr style=\"text-align: right;\">\n",
       "      <th></th>\n",
       "      <th>Значения</th>\n",
       "      <th>Кол-во уникальных значений</th>\n",
       "    </tr>\n",
       "  </thead>\n",
       "  <tbody>\n",
       "    <tr>\n",
       "      <th>USERID</th>\n",
       "      <td>[183012, 146556, 120722, 225363, 157978, 20230...</td>\n",
       "      <td>9927</td>\n",
       "    </tr>\n",
       "    <tr>\n",
       "      <th>score</th>\n",
       "      <td>[850.0, 861.0, 892.0, 866.0, 730.0, 856.0, 807...</td>\n",
       "      <td>348</td>\n",
       "    </tr>\n",
       "    <tr>\n",
       "      <th>city</th>\n",
       "      <td>[Рыбинск, Ярославль, Ростов]</td>\n",
       "      <td>3</td>\n",
       "    </tr>\n",
       "    <tr>\n",
       "      <th>gender</th>\n",
       "      <td>[Ж, М]</td>\n",
       "      <td>2</td>\n",
       "    </tr>\n",
       "    <tr>\n",
       "      <th>age</th>\n",
       "      <td>[25.0, 37.0, 30.0, 51.0, 34.0, 56.0, 39.0, 38....</td>\n",
       "      <td>68</td>\n",
       "    </tr>\n",
       "    <tr>\n",
       "      <th>equity</th>\n",
       "      <td>[1, 5, 0, 4, 3, 2, 6, 7, 8, 9]</td>\n",
       "      <td>10</td>\n",
       "    </tr>\n",
       "    <tr>\n",
       "      <th>balance</th>\n",
       "      <td>[59214.82, 850594.33, nan, 1524746.26, 174.0, ...</td>\n",
       "      <td>7701</td>\n",
       "    </tr>\n",
       "    <tr>\n",
       "      <th>products</th>\n",
       "      <td>[2, 3, 1, 4, 5, 0]</td>\n",
       "      <td>6</td>\n",
       "    </tr>\n",
       "    <tr>\n",
       "      <th>credit_card</th>\n",
       "      <td>[0, 1]</td>\n",
       "      <td>2</td>\n",
       "    </tr>\n",
       "    <tr>\n",
       "      <th>last_activity</th>\n",
       "      <td>[1, 0]</td>\n",
       "      <td>2</td>\n",
       "    </tr>\n",
       "    <tr>\n",
       "      <th>EST_SALARY</th>\n",
       "      <td>[75719.14, 86621.77, 107683.34, 174423.53, 673...</td>\n",
       "      <td>9996</td>\n",
       "    </tr>\n",
       "    <tr>\n",
       "      <th>churn</th>\n",
       "      <td>[1, 0]</td>\n",
       "      <td>2</td>\n",
       "    </tr>\n",
       "  </tbody>\n",
       "</table>\n",
       "</div>"
      ],
      "text/plain": [
       "                                                        Значения  \\\n",
       "USERID         [183012, 146556, 120722, 225363, 157978, 20230...   \n",
       "score          [850.0, 861.0, 892.0, 866.0, 730.0, 856.0, 807...   \n",
       "city                                [Рыбинск, Ярославль, Ростов]   \n",
       "gender                                                    [Ж, М]   \n",
       "age            [25.0, 37.0, 30.0, 51.0, 34.0, 56.0, 39.0, 38....   \n",
       "equity                            [1, 5, 0, 4, 3, 2, 6, 7, 8, 9]   \n",
       "balance        [59214.82, 850594.33, nan, 1524746.26, 174.0, ...   \n",
       "products                                      [2, 3, 1, 4, 5, 0]   \n",
       "credit_card                                               [0, 1]   \n",
       "last_activity                                             [1, 0]   \n",
       "EST_SALARY     [75719.14, 86621.77, 107683.34, 174423.53, 673...   \n",
       "churn                                                     [1, 0]   \n",
       "\n",
       "              Кол-во уникальных значений  \n",
       "USERID                              9927  \n",
       "score                                348  \n",
       "city                                   3  \n",
       "gender                                 2  \n",
       "age                                   68  \n",
       "equity                                10  \n",
       "balance                             7701  \n",
       "products                               6  \n",
       "credit_card                            2  \n",
       "last_activity                          2  \n",
       "EST_SALARY                          9996  \n",
       "churn                                  2  "
      ]
     },
     "execution_count": 4,
     "metadata": {},
     "output_type": "execute_result"
    }
   ],
   "source": [
    "# Изучаю уникальные значения в каждом столбце\n",
    "values = pd.DataFrame()\n",
    "for col in df.columns:\n",
    "        values[col] = [df[col].unique(), df[col].nunique()]\n",
    "values.transpose().rename({0: 'Значения', 1: 'Кол-во уникальных значений'}, axis=1)"
   ]
  },
  {
   "cell_type": "markdown",
   "metadata": {},
   "source": [
    "**Описание данных:**\n",
    "\n",
    "- *USERID* — идентификатор пользователя. Следует привести наименование столбца к \"хорошему\" стилю. Тип данных - int, изменение типа данных не требуется. Пропуски отсутствуют. Количество уникальных значений меньше, чем количество записей в датафрейме. Значит встречаются записи с одинаковым идентификатором пользователя. Следует проверить столбец на наличие дубликатов. \n",
    "- *score* — баллы кредитного скоринга. Тип данных - float, изменение типа данных не требуется. Пропуски отсутствуют.\n",
    "- *city* — город. Тип данных - object, изменение типа данных не требуется. Пропуски отсутствуют. Для проведения корреляционного анализа следует осуществить кодирование значений столбца.\n",
    "- *gender* — пол. Тип данных - object, изменение типа данных не требуется. Пропуски отсутствуют. Для проведения корреляционного анализа следует осуществить кодирование значений столбца.\n",
    "- *age* — возраст. Тип данных - float, следует изменить тип данных на int. Имеется 26 пропусков. \n",
    "- *equity* — количество баллов собственности. Тип данных - int, изменение типа данных не требуется. Пропуски отсутствуют.\n",
    "- *balance* — баланс на счёте. Тип данных - float, изменение типа данных не требуется. Имеется 2295 пропусков. Следует рассмотреть их подробно.\n",
    "- *products* — количество продуктов, которыми пользуется клиент. Тип данных - int, изменение типа данных не требуется. Пропуски отсутствуют. Минимальное значение столбца равно 0. Следует отдельно рассмотреть эти строки, так как если человек является клиентом банка, то он пользуется как минимум одним продуктом. \n",
    "- *credit_card* — есть ли кредитная карта. Тип данных - int, изменение типа данных не требуется. Пропуски отсутствуют. \n",
    "- *last_activity* — активный клиент. Тип данных - int, изменение типа данных не требуется. Пропуски отсутствуют.\n",
    "- *EST_SALARY* — оценочный доход клиента. Следует привести наименование столбца к \"хорошему\" стилю. Тип данных - float, изменение типа данных не требуется. Пропуски отсутствуют.\n",
    "- *сhurn* — признак оттока. Тип данных - int, изменение типа данных не требуется. Пропуски отсутствуют."
   ]
  },
  {
   "cell_type": "markdown",
   "metadata": {},
   "source": [
    "**Вывод:**\n",
    "- В датасете 10000 строк.\n",
    "- Следует заменить тип данных в столбце age. В остальных столбцах тип данных соответствует значениям.\n",
    "- Следует привести наименование столбцов USERID и  EST_SALARY к \"хорошему\" стилю.\n",
    "- Явные дубликаты отсутстуют.\n",
    "- Следует изучить дубликаты в столбце USERID.\n",
    "- Следует осуществить кодирование значений столбцов city и gender.\n",
    "- Следует провести анализ пропусков в столбцах age и balance.\n",
    "- Следует рассмотреть строки, где значение столбца products равно 0."
   ]
  },
  {
   "cell_type": "markdown",
   "metadata": {},
   "source": [
    "## Предобработка данных"
   ]
  },
  {
   "cell_type": "markdown",
   "metadata": {},
   "source": [
    "### Приведение наименований столбцов к единому стилю"
   ]
  },
  {
   "cell_type": "code",
   "execution_count": 5,
   "metadata": {
    "scrolled": false
   },
   "outputs": [
    {
     "data": {
      "text/plain": [
       "Index(['userid', 'score', 'city', 'gender', 'age', 'equity', 'balance',\n",
       "       'products', 'credit_card', 'last_activity', 'est_salary', 'churn'],\n",
       "      dtype='object')"
      ]
     },
     "execution_count": 5,
     "metadata": {},
     "output_type": "execute_result"
    }
   ],
   "source": [
    "# Приведу названия столбцов к нижнему регистру\n",
    "df.columns = df.columns.str.lower()\n",
    "df.columns"
   ]
  },
  {
   "cell_type": "markdown",
   "metadata": {},
   "source": [
    "### Коррекция значений столбцов с категориальными переменными"
   ]
  },
  {
   "cell_type": "code",
   "execution_count": 6,
   "metadata": {
    "scrolled": false
   },
   "outputs": [],
   "source": [
    "# Создаю копию столбца city\n",
    "df['city_2']=df['city']\n",
    "# Кодирую данные в столбце city_2\n",
    "df = pd.get_dummies(df, columns = ['city_2'])"
   ]
  },
  {
   "cell_type": "code",
   "execution_count": 7,
   "metadata": {
    "scrolled": true
   },
   "outputs": [],
   "source": [
    "# Создаю копию столбца gender\n",
    "df['gender_2']=df['gender']\n",
    "# Кодирую данные в столбце gender_2, оставив только 1 столбец\n",
    "df = pd.get_dummies(df, columns = ['gender_2'], drop_first=True)"
   ]
  },
  {
   "cell_type": "code",
   "execution_count": 8,
   "metadata": {
    "scrolled": true
   },
   "outputs": [
    {
     "data": {
      "text/html": [
       "<div>\n",
       "<style scoped>\n",
       "    .dataframe tbody tr th:only-of-type {\n",
       "        vertical-align: middle;\n",
       "    }\n",
       "\n",
       "    .dataframe tbody tr th {\n",
       "        vertical-align: top;\n",
       "    }\n",
       "\n",
       "    .dataframe thead th {\n",
       "        text-align: right;\n",
       "    }\n",
       "</style>\n",
       "<table border=\"1\" class=\"dataframe\">\n",
       "  <thead>\n",
       "    <tr style=\"text-align: right;\">\n",
       "      <th></th>\n",
       "      <th>userid</th>\n",
       "      <th>score</th>\n",
       "      <th>city</th>\n",
       "      <th>gender</th>\n",
       "      <th>age</th>\n",
       "      <th>equity</th>\n",
       "      <th>balance</th>\n",
       "      <th>products</th>\n",
       "      <th>credit_card</th>\n",
       "      <th>last_activity</th>\n",
       "      <th>est_salary</th>\n",
       "      <th>churn</th>\n",
       "      <th>Ростов</th>\n",
       "      <th>Рыбинск</th>\n",
       "      <th>Ярославль</th>\n",
       "      <th>male</th>\n",
       "    </tr>\n",
       "  </thead>\n",
       "  <tbody>\n",
       "    <tr>\n",
       "      <th>0</th>\n",
       "      <td>183012</td>\n",
       "      <td>850.0</td>\n",
       "      <td>Рыбинск</td>\n",
       "      <td>Ж</td>\n",
       "      <td>25.0</td>\n",
       "      <td>1</td>\n",
       "      <td>59214.82</td>\n",
       "      <td>2</td>\n",
       "      <td>0</td>\n",
       "      <td>1</td>\n",
       "      <td>75719.14</td>\n",
       "      <td>1</td>\n",
       "      <td>0</td>\n",
       "      <td>1</td>\n",
       "      <td>0</td>\n",
       "      <td>0</td>\n",
       "    </tr>\n",
       "    <tr>\n",
       "      <th>1</th>\n",
       "      <td>146556</td>\n",
       "      <td>861.0</td>\n",
       "      <td>Рыбинск</td>\n",
       "      <td>Ж</td>\n",
       "      <td>37.0</td>\n",
       "      <td>5</td>\n",
       "      <td>850594.33</td>\n",
       "      <td>3</td>\n",
       "      <td>1</td>\n",
       "      <td>0</td>\n",
       "      <td>86621.77</td>\n",
       "      <td>0</td>\n",
       "      <td>0</td>\n",
       "      <td>1</td>\n",
       "      <td>0</td>\n",
       "      <td>0</td>\n",
       "    </tr>\n",
       "    <tr>\n",
       "      <th>2</th>\n",
       "      <td>120722</td>\n",
       "      <td>892.0</td>\n",
       "      <td>Рыбинск</td>\n",
       "      <td>Ж</td>\n",
       "      <td>30.0</td>\n",
       "      <td>0</td>\n",
       "      <td>NaN</td>\n",
       "      <td>1</td>\n",
       "      <td>1</td>\n",
       "      <td>1</td>\n",
       "      <td>107683.34</td>\n",
       "      <td>0</td>\n",
       "      <td>0</td>\n",
       "      <td>1</td>\n",
       "      <td>0</td>\n",
       "      <td>0</td>\n",
       "    </tr>\n",
       "  </tbody>\n",
       "</table>\n",
       "</div>"
      ],
      "text/plain": [
       "   userid  score     city gender   age  equity    balance  products  \\\n",
       "0  183012  850.0  Рыбинск      Ж  25.0       1   59214.82         2   \n",
       "1  146556  861.0  Рыбинск      Ж  37.0       5  850594.33         3   \n",
       "2  120722  892.0  Рыбинск      Ж  30.0       0        NaN         1   \n",
       "\n",
       "   credit_card  last_activity  est_salary  churn  Ростов  Рыбинск  Ярославль  \\\n",
       "0            0              1    75719.14      1       0        1          0   \n",
       "1            1              0    86621.77      0       0        1          0   \n",
       "2            1              1   107683.34      0       0        1          0   \n",
       "\n",
       "   male  \n",
       "0     0  \n",
       "1     0  \n",
       "2     0  "
      ]
     },
     "execution_count": 8,
     "metadata": {},
     "output_type": "execute_result"
    }
   ],
   "source": [
    "# Изменю названия новых столбцов\n",
    "df = df.rename (\n",
    "    columns = ({\n",
    "        'city_2_Ростов':'Ростов', 'city_2_Рыбинск':'Рыбинск','city_2_Ярославль':'Ярославль', \n",
    "        'gender_2_М':'male'}))\n",
    "df.head(3)"
   ]
  },
  {
   "cell_type": "markdown",
   "metadata": {},
   "source": [
    "### Анализ пропусков"
   ]
  },
  {
   "cell_type": "markdown",
   "metadata": {},
   "source": [
    "Пропуски имеются в столбцах age и balance. В столбце age 26 пропусков. Это 0,26% от общего числа данных. Замена этих значений не повлияет на результаты исследования, но позволит заменить тип даннх на int. Заменю эти пропуски медианой."
   ]
  },
  {
   "cell_type": "code",
   "execution_count": 9,
   "metadata": {},
   "outputs": [],
   "source": [
    "df['age'] = df['age']. fillna(df['age'].median())"
   ]
  },
  {
   "cell_type": "markdown",
   "metadata": {},
   "source": [
    "В столбце balance 2295 пропусков. Это более 20% от общего числа данных. Удаление или заполнение этих пропусков может исказить результаты исследования, поэтому рассмотрю их более детально."
   ]
  },
  {
   "cell_type": "code",
   "execution_count": 10,
   "metadata": {
    "scrolled": false
   },
   "outputs": [
    {
     "data": {
      "text/html": [
       "<div>\n",
       "<style scoped>\n",
       "    .dataframe tbody tr th:only-of-type {\n",
       "        vertical-align: middle;\n",
       "    }\n",
       "\n",
       "    .dataframe tbody tr th {\n",
       "        vertical-align: top;\n",
       "    }\n",
       "\n",
       "    .dataframe thead th {\n",
       "        text-align: right;\n",
       "    }\n",
       "</style>\n",
       "<table border=\"1\" class=\"dataframe\">\n",
       "  <thead>\n",
       "    <tr style=\"text-align: right;\">\n",
       "      <th></th>\n",
       "      <th>Среднее без пропусков</th>\n",
       "      <th>Среднее с пропусками</th>\n",
       "      <th>Разница %</th>\n",
       "    </tr>\n",
       "  </thead>\n",
       "  <tbody>\n",
       "    <tr>\n",
       "      <th>score</th>\n",
       "      <td>843.739260</td>\n",
       "      <td>865.352070</td>\n",
       "      <td>2.561551</td>\n",
       "    </tr>\n",
       "    <tr>\n",
       "      <th>age</th>\n",
       "      <td>42.920571</td>\n",
       "      <td>42.078431</td>\n",
       "      <td>-1.962089</td>\n",
       "    </tr>\n",
       "    <tr>\n",
       "      <th>equity</th>\n",
       "      <td>3.395068</td>\n",
       "      <td>0.050980</td>\n",
       "      <td>-98.498399</td>\n",
       "    </tr>\n",
       "    <tr>\n",
       "      <th>products</th>\n",
       "      <td>2.080986</td>\n",
       "      <td>1.162092</td>\n",
       "      <td>-44.156698</td>\n",
       "    </tr>\n",
       "    <tr>\n",
       "      <th>credit_card</th>\n",
       "      <td>0.640104</td>\n",
       "      <td>0.815686</td>\n",
       "      <td>27.430307</td>\n",
       "    </tr>\n",
       "    <tr>\n",
       "      <th>last_activity</th>\n",
       "      <td>0.515769</td>\n",
       "      <td>0.549455</td>\n",
       "      <td>6.531288</td>\n",
       "    </tr>\n",
       "    <tr>\n",
       "      <th>est_salary</th>\n",
       "      <td>124501.872366</td>\n",
       "      <td>226310.208654</td>\n",
       "      <td>81.772534</td>\n",
       "    </tr>\n",
       "    <tr>\n",
       "      <th>churn</th>\n",
       "      <td>0.234523</td>\n",
       "      <td>0.005664</td>\n",
       "      <td>-97.584677</td>\n",
       "    </tr>\n",
       "    <tr>\n",
       "      <th>Ростов</th>\n",
       "      <td>0.153407</td>\n",
       "      <td>0.102397</td>\n",
       "      <td>-33.251680</td>\n",
       "    </tr>\n",
       "    <tr>\n",
       "      <th>Рыбинск</th>\n",
       "      <td>0.272810</td>\n",
       "      <td>0.258388</td>\n",
       "      <td>-5.286489</td>\n",
       "    </tr>\n",
       "    <tr>\n",
       "      <th>Ярославль</th>\n",
       "      <td>0.573783</td>\n",
       "      <td>0.639216</td>\n",
       "      <td>11.403684</td>\n",
       "    </tr>\n",
       "    <tr>\n",
       "      <th>male</th>\n",
       "      <td>0.483193</td>\n",
       "      <td>0.558606</td>\n",
       "      <td>15.607216</td>\n",
       "    </tr>\n",
       "  </tbody>\n",
       "</table>\n",
       "</div>"
      ],
      "text/plain": [
       "               Среднее без пропусков  Среднее с пропусками  Разница %\n",
       "score                     843.739260            865.352070   2.561551\n",
       "age                        42.920571             42.078431  -1.962089\n",
       "equity                      3.395068              0.050980 -98.498399\n",
       "products                    2.080986              1.162092 -44.156698\n",
       "credit_card                 0.640104              0.815686  27.430307\n",
       "last_activity               0.515769              0.549455   6.531288\n",
       "est_salary             124501.872366         226310.208654  81.772534\n",
       "churn                       0.234523              0.005664 -97.584677\n",
       "Ростов                      0.153407              0.102397 -33.251680\n",
       "Рыбинск                     0.272810              0.258388  -5.286489\n",
       "Ярославль                   0.573783              0.639216  11.403684\n",
       "male                        0.483193              0.558606  15.607216"
      ]
     },
     "execution_count": 10,
     "metadata": {},
     "output_type": "execute_result"
    }
   ],
   "source": [
    "# Сравню средние значения параметров с пропусками в столбце balance и без\n",
    "\n",
    "blalance_notna = df[df['balance'].notna()].mean(numeric_only=True).drop(['userid', 'balance'],axis = 0)\n",
    "blalance_isna = df[df['balance'].isna()].mean(numeric_only=True).drop(['userid', 'balance'],axis = 0)\n",
    "\n",
    "pd.concat({'Среднее без пропусков': blalance_notna,\n",
    "           'Среднее с пропусками': blalance_isna,\n",
    "           \"Разница %\": (blalance_isna/blalance_notna-1)*100},axis=1)"
   ]
  },
  {
   "cell_type": "markdown",
   "metadata": {},
   "source": [
    "Средние значения отличаются по столбцам:\n",
    "- equity - у клиентов с пропусками средний бал оценки собственности значительно ниже,\n",
    "- products - клиенты с пропусками в среднем используют 1 продукт, клиенты без пропусков - 2, \n",
    "- churn - уровень оттока у клиентов без пропусков значительно выше, значит наличие пропусков нельзя связать с оттоком,\n",
    "- est_salary - уровень дохода выше у клиентов с пропусками. \n",
    "\n",
    "Исходя из этих наблюдений сложно определить природу появления пропусков."
   ]
  },
  {
   "cell_type": "markdown",
   "metadata": {},
   "source": [
    "Создам новую характеристику клиента balance_na - отсутствие баланса, и посчитаю ее корреляцию с остальными характеристиками"
   ]
  },
  {
   "cell_type": "code",
   "execution_count": 11,
   "metadata": {
    "scrolled": true
   },
   "outputs": [
    {
     "data": {
      "text/plain": [
       "Рыбинск          -0.01\n",
       "last_activity     0.03\n",
       "age              -0.03\n",
       "Ярославль         0.06\n",
       "Ростов           -0.06\n",
       "male              0.06\n",
       "score             0.14\n",
       "credit_card       0.16\n",
       "churn            -0.25\n",
       "est_salary        0.31\n",
       "products         -0.49\n",
       "equity           -0.71\n",
       "balance_na        1.00\n",
       "dtype: object"
      ]
     },
     "execution_count": 11,
     "metadata": {},
     "output_type": "execute_result"
    }
   ],
   "source": [
    "df['balance_na']=df['balance']\n",
    "df['balance_na'] = df['balance_na'].apply(lambda x: 1 if pd.isna(x) else 0)\n",
    "df.corrwith(df['balance_na']).sort_values(key=abs).apply('{:.2f}'.format).drop(['userid', 'balance'],axis = 0)"
   ]
  },
  {
   "cell_type": "markdown",
   "metadata": {},
   "source": [
    "Наблюдаются множественные корреляции и сложно выделить какую-то одну зависимость пропусков от остальных данных, поэтому не представляется выделить какой-то один признак и заполнить по нему пропуски.\n",
    "\n",
    "Исходя из полученных значений корреляции можно выдвинуть несколько предположений:\n",
    "- сильная обратная корреляция с отточностью, количеством продуктов и оценкой собственности - это могут быть новые клиенты, и поэтому у них ещё нет продуктов, счёта, и оценки собственности;\n",
    "- корреляция с наличием кредитной карты - это могут быть клиенты у которых из продуктов только кредитная карта, и поэтому нет дебетового счёта.\n",
    "\n",
    "В связи с тем, что не удалось выявить зависимость пропусков от какого-то параметра и заменить их, оставлю их без изменений."
   ]
  },
  {
   "cell_type": "markdown",
   "metadata": {},
   "source": [
    "### Анализ дубликатов"
   ]
  },
  {
   "cell_type": "code",
   "execution_count": 12,
   "metadata": {},
   "outputs": [
    {
     "data": {
      "text/plain": [
       "73"
      ]
     },
     "execution_count": 12,
     "metadata": {},
     "output_type": "execute_result"
    }
   ],
   "source": [
    "# Найду количество дубликатов по столбцу 'userid'\n",
    "df.duplicated(['userid']).sum()"
   ]
  },
  {
   "cell_type": "code",
   "execution_count": 13,
   "metadata": {
    "scrolled": false
   },
   "outputs": [
    {
     "data": {
      "text/html": [
       "<div>\n",
       "<style scoped>\n",
       "    .dataframe tbody tr th:only-of-type {\n",
       "        vertical-align: middle;\n",
       "    }\n",
       "\n",
       "    .dataframe tbody tr th {\n",
       "        vertical-align: top;\n",
       "    }\n",
       "\n",
       "    .dataframe thead th {\n",
       "        text-align: right;\n",
       "    }\n",
       "</style>\n",
       "<table border=\"1\" class=\"dataframe\">\n",
       "  <thead>\n",
       "    <tr style=\"text-align: right;\">\n",
       "      <th></th>\n",
       "      <th>userid</th>\n",
       "      <th>score</th>\n",
       "      <th>city</th>\n",
       "      <th>gender</th>\n",
       "      <th>age</th>\n",
       "      <th>equity</th>\n",
       "      <th>balance</th>\n",
       "      <th>products</th>\n",
       "      <th>credit_card</th>\n",
       "      <th>last_activity</th>\n",
       "      <th>est_salary</th>\n",
       "      <th>churn</th>\n",
       "      <th>Ростов</th>\n",
       "      <th>Рыбинск</th>\n",
       "      <th>Ярославль</th>\n",
       "      <th>male</th>\n",
       "      <th>balance_na</th>\n",
       "    </tr>\n",
       "  </thead>\n",
       "  <tbody>\n",
       "    <tr>\n",
       "      <th>1893</th>\n",
       "      <td>116540</td>\n",
       "      <td>883.0</td>\n",
       "      <td>Рыбинск</td>\n",
       "      <td>Ж</td>\n",
       "      <td>55.0</td>\n",
       "      <td>1</td>\n",
       "      <td>362756.49</td>\n",
       "      <td>3</td>\n",
       "      <td>0</td>\n",
       "      <td>1</td>\n",
       "      <td>175920.48</td>\n",
       "      <td>1</td>\n",
       "      <td>0</td>\n",
       "      <td>1</td>\n",
       "      <td>0</td>\n",
       "      <td>0</td>\n",
       "      <td>0</td>\n",
       "    </tr>\n",
       "    <tr>\n",
       "      <th>7694</th>\n",
       "      <td>116540</td>\n",
       "      <td>887.0</td>\n",
       "      <td>Ярославль</td>\n",
       "      <td>Ж</td>\n",
       "      <td>38.0</td>\n",
       "      <td>0</td>\n",
       "      <td>NaN</td>\n",
       "      <td>1</td>\n",
       "      <td>0</td>\n",
       "      <td>1</td>\n",
       "      <td>119247.61</td>\n",
       "      <td>0</td>\n",
       "      <td>0</td>\n",
       "      <td>0</td>\n",
       "      <td>1</td>\n",
       "      <td>0</td>\n",
       "      <td>1</td>\n",
       "    </tr>\n",
       "    <tr>\n",
       "      <th>7542</th>\n",
       "      <td>117943</td>\n",
       "      <td>880.0</td>\n",
       "      <td>Ярославль</td>\n",
       "      <td>Ж</td>\n",
       "      <td>40.0</td>\n",
       "      <td>0</td>\n",
       "      <td>NaN</td>\n",
       "      <td>1</td>\n",
       "      <td>1</td>\n",
       "      <td>0</td>\n",
       "      <td>137718.93</td>\n",
       "      <td>0</td>\n",
       "      <td>0</td>\n",
       "      <td>0</td>\n",
       "      <td>1</td>\n",
       "      <td>0</td>\n",
       "      <td>1</td>\n",
       "    </tr>\n",
       "    <tr>\n",
       "      <th>4866</th>\n",
       "      <td>117943</td>\n",
       "      <td>855.0</td>\n",
       "      <td>Рыбинск</td>\n",
       "      <td>Ж</td>\n",
       "      <td>32.0</td>\n",
       "      <td>6</td>\n",
       "      <td>1036832.93</td>\n",
       "      <td>4</td>\n",
       "      <td>1</td>\n",
       "      <td>1</td>\n",
       "      <td>107792.71</td>\n",
       "      <td>1</td>\n",
       "      <td>0</td>\n",
       "      <td>1</td>\n",
       "      <td>0</td>\n",
       "      <td>0</td>\n",
       "      <td>0</td>\n",
       "    </tr>\n",
       "    <tr>\n",
       "      <th>5896</th>\n",
       "      <td>120258</td>\n",
       "      <td>905.0</td>\n",
       "      <td>Ярославль</td>\n",
       "      <td>М</td>\n",
       "      <td>30.0</td>\n",
       "      <td>0</td>\n",
       "      <td>NaN</td>\n",
       "      <td>1</td>\n",
       "      <td>1</td>\n",
       "      <td>1</td>\n",
       "      <td>146427.96</td>\n",
       "      <td>0</td>\n",
       "      <td>0</td>\n",
       "      <td>0</td>\n",
       "      <td>1</td>\n",
       "      <td>1</td>\n",
       "      <td>1</td>\n",
       "    </tr>\n",
       "    <tr>\n",
       "      <th>...</th>\n",
       "      <td>...</td>\n",
       "      <td>...</td>\n",
       "      <td>...</td>\n",
       "      <td>...</td>\n",
       "      <td>...</td>\n",
       "      <td>...</td>\n",
       "      <td>...</td>\n",
       "      <td>...</td>\n",
       "      <td>...</td>\n",
       "      <td>...</td>\n",
       "      <td>...</td>\n",
       "      <td>...</td>\n",
       "      <td>...</td>\n",
       "      <td>...</td>\n",
       "      <td>...</td>\n",
       "      <td>...</td>\n",
       "      <td>...</td>\n",
       "    </tr>\n",
       "    <tr>\n",
       "      <th>2597</th>\n",
       "      <td>226719</td>\n",
       "      <td>990.0</td>\n",
       "      <td>Ярославль</td>\n",
       "      <td>М</td>\n",
       "      <td>37.0</td>\n",
       "      <td>4</td>\n",
       "      <td>14648692.14</td>\n",
       "      <td>2</td>\n",
       "      <td>0</td>\n",
       "      <td>0</td>\n",
       "      <td>934412.61</td>\n",
       "      <td>1</td>\n",
       "      <td>0</td>\n",
       "      <td>0</td>\n",
       "      <td>1</td>\n",
       "      <td>1</td>\n",
       "      <td>0</td>\n",
       "    </tr>\n",
       "    <tr>\n",
       "      <th>8205</th>\n",
       "      <td>227795</td>\n",
       "      <td>840.0</td>\n",
       "      <td>Рыбинск</td>\n",
       "      <td>М</td>\n",
       "      <td>34.0</td>\n",
       "      <td>2</td>\n",
       "      <td>350768.03</td>\n",
       "      <td>1</td>\n",
       "      <td>1</td>\n",
       "      <td>0</td>\n",
       "      <td>102036.14</td>\n",
       "      <td>1</td>\n",
       "      <td>0</td>\n",
       "      <td>1</td>\n",
       "      <td>0</td>\n",
       "      <td>1</td>\n",
       "      <td>0</td>\n",
       "    </tr>\n",
       "    <tr>\n",
       "      <th>8497</th>\n",
       "      <td>227795</td>\n",
       "      <td>839.0</td>\n",
       "      <td>Ярославль</td>\n",
       "      <td>М</td>\n",
       "      <td>34.0</td>\n",
       "      <td>2</td>\n",
       "      <td>326593.14</td>\n",
       "      <td>2</td>\n",
       "      <td>1</td>\n",
       "      <td>0</td>\n",
       "      <td>103314.92</td>\n",
       "      <td>0</td>\n",
       "      <td>0</td>\n",
       "      <td>0</td>\n",
       "      <td>1</td>\n",
       "      <td>1</td>\n",
       "      <td>0</td>\n",
       "    </tr>\n",
       "    <tr>\n",
       "      <th>6457</th>\n",
       "      <td>228075</td>\n",
       "      <td>839.0</td>\n",
       "      <td>Рыбинск</td>\n",
       "      <td>М</td>\n",
       "      <td>39.0</td>\n",
       "      <td>5</td>\n",
       "      <td>507199.85</td>\n",
       "      <td>3</td>\n",
       "      <td>0</td>\n",
       "      <td>1</td>\n",
       "      <td>85195.80</td>\n",
       "      <td>0</td>\n",
       "      <td>0</td>\n",
       "      <td>1</td>\n",
       "      <td>0</td>\n",
       "      <td>1</td>\n",
       "      <td>0</td>\n",
       "    </tr>\n",
       "    <tr>\n",
       "      <th>1247</th>\n",
       "      <td>228075</td>\n",
       "      <td>932.0</td>\n",
       "      <td>Ярославль</td>\n",
       "      <td>М</td>\n",
       "      <td>40.0</td>\n",
       "      <td>5</td>\n",
       "      <td>7601719.20</td>\n",
       "      <td>2</td>\n",
       "      <td>1</td>\n",
       "      <td>1</td>\n",
       "      <td>408121.16</td>\n",
       "      <td>0</td>\n",
       "      <td>0</td>\n",
       "      <td>0</td>\n",
       "      <td>1</td>\n",
       "      <td>1</td>\n",
       "      <td>0</td>\n",
       "    </tr>\n",
       "  </tbody>\n",
       "</table>\n",
       "<p>146 rows × 17 columns</p>\n",
       "</div>"
      ],
      "text/plain": [
       "      userid  score       city gender   age  equity      balance  products  \\\n",
       "1893  116540  883.0    Рыбинск      Ж  55.0       1    362756.49         3   \n",
       "7694  116540  887.0  Ярославль      Ж  38.0       0          NaN         1   \n",
       "7542  117943  880.0  Ярославль      Ж  40.0       0          NaN         1   \n",
       "4866  117943  855.0    Рыбинск      Ж  32.0       6   1036832.93         4   \n",
       "5896  120258  905.0  Ярославль      М  30.0       0          NaN         1   \n",
       "...      ...    ...        ...    ...   ...     ...          ...       ...   \n",
       "2597  226719  990.0  Ярославль      М  37.0       4  14648692.14         2   \n",
       "8205  227795  840.0    Рыбинск      М  34.0       2    350768.03         1   \n",
       "8497  227795  839.0  Ярославль      М  34.0       2    326593.14         2   \n",
       "6457  228075  839.0    Рыбинск      М  39.0       5    507199.85         3   \n",
       "1247  228075  932.0  Ярославль      М  40.0       5   7601719.20         2   \n",
       "\n",
       "      credit_card  last_activity  est_salary  churn  Ростов  Рыбинск  \\\n",
       "1893            0              1   175920.48      1       0        1   \n",
       "7694            0              1   119247.61      0       0        0   \n",
       "7542            1              0   137718.93      0       0        0   \n",
       "4866            1              1   107792.71      1       0        1   \n",
       "5896            1              1   146427.96      0       0        0   \n",
       "...           ...            ...         ...    ...     ...      ...   \n",
       "2597            0              0   934412.61      1       0        0   \n",
       "8205            1              0   102036.14      1       0        1   \n",
       "8497            1              0   103314.92      0       0        0   \n",
       "6457            0              1    85195.80      0       0        1   \n",
       "1247            1              1   408121.16      0       0        0   \n",
       "\n",
       "      Ярославль  male  balance_na  \n",
       "1893          0     0           0  \n",
       "7694          1     0           1  \n",
       "7542          1     0           1  \n",
       "4866          0     0           0  \n",
       "5896          1     1           1  \n",
       "...         ...   ...         ...  \n",
       "2597          1     1           0  \n",
       "8205          0     1           0  \n",
       "8497          1     1           0  \n",
       "6457          0     1           0  \n",
       "1247          1     1           0  \n",
       "\n",
       "[146 rows x 17 columns]"
      ]
     },
     "execution_count": 13,
     "metadata": {},
     "output_type": "execute_result"
    }
   ],
   "source": [
    "# Выведу дублированные строки\n",
    "duplicates = df[df.duplicated(subset='userid', keep=False)].sort_values(by = 'userid') \n",
    "duplicates"
   ]
  },
  {
   "cell_type": "markdown",
   "metadata": {},
   "source": [
    "На первый взгяд кажется, что userid совпадают у клиентов из Рыбинска и Ярославля."
   ]
  },
  {
   "cell_type": "code",
   "execution_count": 14,
   "metadata": {
    "scrolled": true
   },
   "outputs": [
    {
     "data": {
      "text/plain": [
       "Рыбинск      73\n",
       "Ярославль    73\n",
       "Name: city, dtype: int64"
      ]
     },
     "execution_count": 14,
     "metadata": {},
     "output_type": "execute_result"
    }
   ],
   "source": [
    "# Посчитаю, сколько клиентов из каждого города попали в список с дублированными userid\n",
    "duplicates['city'].value_counts()"
   ]
  },
  {
   "cell_type": "markdown",
   "metadata": {},
   "source": [
    "Количество клиентов с дублированными userid в Рыбинске и Ярославле одинаковое."
   ]
  },
  {
   "cell_type": "code",
   "execution_count": 15,
   "metadata": {
    "scrolled": true
   },
   "outputs": [
    {
     "name": "stdout",
     "output_type": "stream",
     "text": [
      "0\n",
      "0\n"
     ]
    }
   ],
   "source": [
    "# Проверю есть ли совпадения userid в каждом из городов\n",
    "print(duplicates[duplicates['city'] =='Ярославль'].duplicated(['userid']).sum())\n",
    "print(duplicates[duplicates['city'] =='Рыбинск'].duplicated(['userid']).sum())"
   ]
  },
  {
   "cell_type": "markdown",
   "metadata": {},
   "source": [
    "Так как совпадений userid в каждом городе нет, и количество клиентов с дублированными userid в Рыбинске и Ярославле одинаковое, можно сделать вывод, что эти userid были присвоены клиентам из разных городов и совпали при объединении данных из этих городов. При этом другие признаки у этих клиентов не совпадают. Значит это разные клиенты и удалять эти записи не следует."
   ]
  },
  {
   "cell_type": "markdown",
   "metadata": {},
   "source": [
    "### Изменение типа данных"
   ]
  },
  {
   "cell_type": "code",
   "execution_count": 16,
   "metadata": {},
   "outputs": [],
   "source": [
    "# Изменю тип данных в столбце age на int\n",
    "df['age'] = df['age'].astype('int')"
   ]
  },
  {
   "cell_type": "markdown",
   "metadata": {},
   "source": [
    "### Изучение аномальных значений"
   ]
  },
  {
   "cell_type": "markdown",
   "metadata": {},
   "source": [
    "При ознакомлении с таблицей внимание привлекает минимальное значение в столбце products - 0. Если человек является клиентом банка, то значит он пользуется как минимум одним продуктом. Найду строки, в которых значение столбца products равно 0."
   ]
  },
  {
   "cell_type": "code",
   "execution_count": 17,
   "metadata": {
    "scrolled": true
   },
   "outputs": [
    {
     "data": {
      "text/html": [
       "<div>\n",
       "<style scoped>\n",
       "    .dataframe tbody tr th:only-of-type {\n",
       "        vertical-align: middle;\n",
       "    }\n",
       "\n",
       "    .dataframe tbody tr th {\n",
       "        vertical-align: top;\n",
       "    }\n",
       "\n",
       "    .dataframe thead th {\n",
       "        text-align: right;\n",
       "    }\n",
       "</style>\n",
       "<table border=\"1\" class=\"dataframe\">\n",
       "  <thead>\n",
       "    <tr style=\"text-align: right;\">\n",
       "      <th></th>\n",
       "      <th>userid</th>\n",
       "      <th>score</th>\n",
       "      <th>city</th>\n",
       "      <th>gender</th>\n",
       "      <th>age</th>\n",
       "      <th>equity</th>\n",
       "      <th>balance</th>\n",
       "      <th>products</th>\n",
       "      <th>credit_card</th>\n",
       "      <th>last_activity</th>\n",
       "      <th>est_salary</th>\n",
       "      <th>churn</th>\n",
       "      <th>Ростов</th>\n",
       "      <th>Рыбинск</th>\n",
       "      <th>Ярославль</th>\n",
       "      <th>male</th>\n",
       "      <th>balance_na</th>\n",
       "    </tr>\n",
       "  </thead>\n",
       "  <tbody>\n",
       "    <tr>\n",
       "      <th>8957</th>\n",
       "      <td>147837</td>\n",
       "      <td>962.0</td>\n",
       "      <td>Рыбинск</td>\n",
       "      <td>Ж</td>\n",
       "      <td>79</td>\n",
       "      <td>3</td>\n",
       "      <td>NaN</td>\n",
       "      <td>0</td>\n",
       "      <td>0</td>\n",
       "      <td>0</td>\n",
       "      <td>25063.96</td>\n",
       "      <td>1</td>\n",
       "      <td>0</td>\n",
       "      <td>1</td>\n",
       "      <td>0</td>\n",
       "      <td>0</td>\n",
       "      <td>1</td>\n",
       "    </tr>\n",
       "  </tbody>\n",
       "</table>\n",
       "</div>"
      ],
      "text/plain": [
       "      userid  score     city gender  age  equity  balance  products  \\\n",
       "8957  147837  962.0  Рыбинск      Ж   79       3      NaN         0   \n",
       "\n",
       "      credit_card  last_activity  est_salary  churn  Ростов  Рыбинск  \\\n",
       "8957            0              0    25063.96      1       0        1   \n",
       "\n",
       "      Ярославль  male  balance_na  \n",
       "8957          0     0           1  "
      ]
     },
     "execution_count": 17,
     "metadata": {},
     "output_type": "execute_result"
    }
   ],
   "source": [
    "df[df['products']==0]"
   ]
  },
  {
   "cell_type": "markdown",
   "metadata": {},
   "source": [
    "Найдена одна такая строка. При этом значение столбца churn равно 1, то есть этот клиент ушел из банка и теперь действительно больше не пользуется банковскими продуктами. Для целей анализа необходимо изучать последние актуальные данные на момент, когда отточные пользователи еще являлись клиентами банка, поэтому эту строку следует удалить."
   ]
  },
  {
   "cell_type": "code",
   "execution_count": 18,
   "metadata": {},
   "outputs": [],
   "source": [
    "df = df[df['products']!=0]"
   ]
  },
  {
   "cell_type": "code",
   "execution_count": 19,
   "metadata": {
    "scrolled": false
   },
   "outputs": [
    {
     "name": "stdout",
     "output_type": "stream",
     "text": [
      "<class 'pandas.core.frame.DataFrame'>\n",
      "Int64Index: 9999 entries, 0 to 9999\n",
      "Data columns (total 17 columns):\n",
      " #   Column         Non-Null Count  Dtype  \n",
      "---  ------         --------------  -----  \n",
      " 0   userid         9999 non-null   int64  \n",
      " 1   score          9999 non-null   float64\n",
      " 2   city           9999 non-null   object \n",
      " 3   gender         9999 non-null   object \n",
      " 4   age            9999 non-null   int64  \n",
      " 5   equity         9999 non-null   int64  \n",
      " 6   balance        7705 non-null   float64\n",
      " 7   products       9999 non-null   int64  \n",
      " 8   credit_card    9999 non-null   int64  \n",
      " 9   last_activity  9999 non-null   int64  \n",
      " 10  est_salary     9999 non-null   float64\n",
      " 11  churn          9999 non-null   int64  \n",
      " 12  Ростов         9999 non-null   uint8  \n",
      " 13  Рыбинск        9999 non-null   uint8  \n",
      " 14  Ярославль      9999 non-null   uint8  \n",
      " 15  male           9999 non-null   uint8  \n",
      " 16  balance_na     9999 non-null   int64  \n",
      "dtypes: float64(3), int64(8), object(2), uint8(4)\n",
      "memory usage: 1.1+ MB\n"
     ]
    },
    {
     "data": {
      "text/plain": [
       "None"
      ]
     },
     "metadata": {},
     "output_type": "display_data"
    },
    {
     "data": {
      "text/html": [
       "<div>\n",
       "<style scoped>\n",
       "    .dataframe tbody tr th:only-of-type {\n",
       "        vertical-align: middle;\n",
       "    }\n",
       "\n",
       "    .dataframe tbody tr th {\n",
       "        vertical-align: top;\n",
       "    }\n",
       "\n",
       "    .dataframe thead th {\n",
       "        text-align: right;\n",
       "    }\n",
       "</style>\n",
       "<table border=\"1\" class=\"dataframe\">\n",
       "  <thead>\n",
       "    <tr style=\"text-align: right;\">\n",
       "      <th></th>\n",
       "      <th>userid</th>\n",
       "      <th>score</th>\n",
       "      <th>age</th>\n",
       "      <th>equity</th>\n",
       "      <th>balance</th>\n",
       "      <th>products</th>\n",
       "      <th>credit_card</th>\n",
       "      <th>last_activity</th>\n",
       "      <th>est_salary</th>\n",
       "      <th>churn</th>\n",
       "      <th>Ростов</th>\n",
       "      <th>Рыбинск</th>\n",
       "      <th>Ярославль</th>\n",
       "      <th>male</th>\n",
       "      <th>balance_na</th>\n",
       "    </tr>\n",
       "  </thead>\n",
       "  <tbody>\n",
       "    <tr>\n",
       "      <th>count</th>\n",
       "      <td>9999.000000</td>\n",
       "      <td>9999.000000</td>\n",
       "      <td>9999.000000</td>\n",
       "      <td>9999.000000</td>\n",
       "      <td>7.705000e+03</td>\n",
       "      <td>9999.000000</td>\n",
       "      <td>9999.000000</td>\n",
       "      <td>9999.000000</td>\n",
       "      <td>9.999000e+03</td>\n",
       "      <td>9999.000000</td>\n",
       "      <td>9999.000000</td>\n",
       "      <td>9999.000000</td>\n",
       "      <td>9999.000000</td>\n",
       "      <td>9999.000000</td>\n",
       "      <td>9999.000000</td>\n",
       "    </tr>\n",
       "    <tr>\n",
       "      <th>mean</th>\n",
       "      <td>171817.110611</td>\n",
       "      <td>848.688069</td>\n",
       "      <td>42.723672</td>\n",
       "      <td>2.627563</td>\n",
       "      <td>8.277943e+05</td>\n",
       "      <td>1.870287</td>\n",
       "      <td>0.680468</td>\n",
       "      <td>0.523552</td>\n",
       "      <td>1.478792e+05</td>\n",
       "      <td>0.181918</td>\n",
       "      <td>0.141714</td>\n",
       "      <td>0.269427</td>\n",
       "      <td>0.588859</td>\n",
       "      <td>0.500550</td>\n",
       "      <td>0.229423</td>\n",
       "    </tr>\n",
       "    <tr>\n",
       "      <th>std</th>\n",
       "      <td>33709.070798</td>\n",
       "      <td>65.441981</td>\n",
       "      <td>12.160120</td>\n",
       "      <td>1.980931</td>\n",
       "      <td>1.980614e+06</td>\n",
       "      <td>0.792466</td>\n",
       "      <td>0.466319</td>\n",
       "      <td>0.499470</td>\n",
       "      <td>1.393901e+05</td>\n",
       "      <td>0.385796</td>\n",
       "      <td>0.348774</td>\n",
       "      <td>0.443684</td>\n",
       "      <td>0.492065</td>\n",
       "      <td>0.500025</td>\n",
       "      <td>0.420483</td>\n",
       "    </tr>\n",
       "    <tr>\n",
       "      <th>min</th>\n",
       "      <td>94561.000000</td>\n",
       "      <td>642.000000</td>\n",
       "      <td>18.000000</td>\n",
       "      <td>0.000000</td>\n",
       "      <td>0.000000e+00</td>\n",
       "      <td>1.000000</td>\n",
       "      <td>0.000000</td>\n",
       "      <td>0.000000</td>\n",
       "      <td>2.546300e+03</td>\n",
       "      <td>0.000000</td>\n",
       "      <td>0.000000</td>\n",
       "      <td>0.000000</td>\n",
       "      <td>0.000000</td>\n",
       "      <td>0.000000</td>\n",
       "      <td>0.000000</td>\n",
       "    </tr>\n",
       "    <tr>\n",
       "      <th>25%</th>\n",
       "      <td>142809.500000</td>\n",
       "      <td>802.000000</td>\n",
       "      <td>33.000000</td>\n",
       "      <td>0.000000</td>\n",
       "      <td>2.955542e+05</td>\n",
       "      <td>1.000000</td>\n",
       "      <td>0.000000</td>\n",
       "      <td>0.000000</td>\n",
       "      <td>7.525212e+04</td>\n",
       "      <td>0.000000</td>\n",
       "      <td>0.000000</td>\n",
       "      <td>0.000000</td>\n",
       "      <td>0.000000</td>\n",
       "      <td>0.000000</td>\n",
       "      <td>0.000000</td>\n",
       "    </tr>\n",
       "    <tr>\n",
       "      <th>50%</th>\n",
       "      <td>172740.000000</td>\n",
       "      <td>853.000000</td>\n",
       "      <td>40.000000</td>\n",
       "      <td>3.000000</td>\n",
       "      <td>5.242722e+05</td>\n",
       "      <td>2.000000</td>\n",
       "      <td>1.000000</td>\n",
       "      <td>1.000000</td>\n",
       "      <td>1.196615e+05</td>\n",
       "      <td>0.000000</td>\n",
       "      <td>0.000000</td>\n",
       "      <td>0.000000</td>\n",
       "      <td>1.000000</td>\n",
       "      <td>1.000000</td>\n",
       "      <td>0.000000</td>\n",
       "    </tr>\n",
       "    <tr>\n",
       "      <th>75%</th>\n",
       "      <td>201262.500000</td>\n",
       "      <td>900.000000</td>\n",
       "      <td>51.000000</td>\n",
       "      <td>4.000000</td>\n",
       "      <td>9.807058e+05</td>\n",
       "      <td>2.000000</td>\n",
       "      <td>1.000000</td>\n",
       "      <td>1.000000</td>\n",
       "      <td>1.745011e+05</td>\n",
       "      <td>0.000000</td>\n",
       "      <td>0.000000</td>\n",
       "      <td>1.000000</td>\n",
       "      <td>1.000000</td>\n",
       "      <td>1.000000</td>\n",
       "      <td>0.000000</td>\n",
       "    </tr>\n",
       "    <tr>\n",
       "      <th>max</th>\n",
       "      <td>229145.000000</td>\n",
       "      <td>1000.000000</td>\n",
       "      <td>86.000000</td>\n",
       "      <td>9.000000</td>\n",
       "      <td>1.191136e+08</td>\n",
       "      <td>5.000000</td>\n",
       "      <td>1.000000</td>\n",
       "      <td>1.000000</td>\n",
       "      <td>1.395064e+06</td>\n",
       "      <td>1.000000</td>\n",
       "      <td>1.000000</td>\n",
       "      <td>1.000000</td>\n",
       "      <td>1.000000</td>\n",
       "      <td>1.000000</td>\n",
       "      <td>1.000000</td>\n",
       "    </tr>\n",
       "  </tbody>\n",
       "</table>\n",
       "</div>"
      ],
      "text/plain": [
       "              userid        score          age       equity       balance  \\\n",
       "count    9999.000000  9999.000000  9999.000000  9999.000000  7.705000e+03   \n",
       "mean   171817.110611   848.688069    42.723672     2.627563  8.277943e+05   \n",
       "std     33709.070798    65.441981    12.160120     1.980931  1.980614e+06   \n",
       "min     94561.000000   642.000000    18.000000     0.000000  0.000000e+00   \n",
       "25%    142809.500000   802.000000    33.000000     0.000000  2.955542e+05   \n",
       "50%    172740.000000   853.000000    40.000000     3.000000  5.242722e+05   \n",
       "75%    201262.500000   900.000000    51.000000     4.000000  9.807058e+05   \n",
       "max    229145.000000  1000.000000    86.000000     9.000000  1.191136e+08   \n",
       "\n",
       "          products  credit_card  last_activity    est_salary        churn  \\\n",
       "count  9999.000000  9999.000000    9999.000000  9.999000e+03  9999.000000   \n",
       "mean      1.870287     0.680468       0.523552  1.478792e+05     0.181918   \n",
       "std       0.792466     0.466319       0.499470  1.393901e+05     0.385796   \n",
       "min       1.000000     0.000000       0.000000  2.546300e+03     0.000000   \n",
       "25%       1.000000     0.000000       0.000000  7.525212e+04     0.000000   \n",
       "50%       2.000000     1.000000       1.000000  1.196615e+05     0.000000   \n",
       "75%       2.000000     1.000000       1.000000  1.745011e+05     0.000000   \n",
       "max       5.000000     1.000000       1.000000  1.395064e+06     1.000000   \n",
       "\n",
       "            Ростов      Рыбинск    Ярославль         male   balance_na  \n",
       "count  9999.000000  9999.000000  9999.000000  9999.000000  9999.000000  \n",
       "mean      0.141714     0.269427     0.588859     0.500550     0.229423  \n",
       "std       0.348774     0.443684     0.492065     0.500025     0.420483  \n",
       "min       0.000000     0.000000     0.000000     0.000000     0.000000  \n",
       "25%       0.000000     0.000000     0.000000     0.000000     0.000000  \n",
       "50%       0.000000     0.000000     1.000000     1.000000     0.000000  \n",
       "75%       0.000000     1.000000     1.000000     1.000000     0.000000  \n",
       "max       1.000000     1.000000     1.000000     1.000000     1.000000  "
      ]
     },
     "metadata": {},
     "output_type": "display_data"
    }
   ],
   "source": [
    "# Изучаю общую информацию о данных после предобработки\n",
    "display(df.info())\n",
    "display(df.describe())"
   ]
  },
  {
   "cell_type": "markdown",
   "metadata": {},
   "source": [
    "**Вывод:**\n",
    "\n",
    "В результате предобработки данных:\n",
    "- в датафрейме имеется информация о 9999;\n",
    "- переименованы столбцы USERID и EST_SALARY;\n",
    "- к значениям в столбцах gender и city применена кодировка данных для удобства дальнейших расчетов;\n",
    "- пропуски в столбце age заменены медианой, пропуски в столбце balance оставлены без изменений;\n",
    "- проанализированы дубликаты в столбце user_id;\n",
    "- удалена строка со значением products = 0, противоречащая задачи исследования."
   ]
  },
  {
   "cell_type": "markdown",
   "metadata": {},
   "source": [
    "## Исследовательский анализ данных"
   ]
  },
  {
   "cell_type": "markdown",
   "metadata": {},
   "source": [
    "### Составление портретов клиентов банка"
   ]
  },
  {
   "cell_type": "markdown",
   "metadata": {},
   "source": [
    "Рассмотрю распределение клиентов по всем признакам"
   ]
  },
  {
   "cell_type": "code",
   "execution_count": 20,
   "metadata": {
    "scrolled": false
   },
   "outputs": [
    {
     "data": {
      "image/png": "[encoded data removed]",
      "text/plain": [
       "<Figure size 432x288 with 1 Axes>"
      ]
     },
     "metadata": {},
     "output_type": "display_data"
    },
    {
     "data": {
      "image/png": "[encoded data removed]",
      "text/plain": [
       "<Figure size 432x288 with 1 Axes>"
      ]
     },
     "metadata": {},
     "output_type": "display_data"
    }
   ],
   "source": [
    "for column in ['city','gender']:\n",
    "    df_1 = df.groupby(column).agg({'userid': 'count'})\n",
    "    fig1,ax1 = plt.subplots()\n",
    "    ax1.pie(df_1['userid'], labels=df_1.index, autopct='%1.1f%%')\n",
    "    ax1.set_title(f'Распределение клиентов по признаку {column}', fontsize = 16)\n",
    "    plt.show()"
   ]
  },
  {
   "cell_type": "code",
   "execution_count": 21,
   "metadata": {},
   "outputs": [
    {
     "data": {
      "image/png": "[encoded data removed]",
      "text/plain": [
       "<Figure size 432x288 with 1 Axes>"
      ]
     },
     "metadata": {},
     "output_type": "display_data"
    },
    {
     "data": {
      "image/png": "[encoded data removed]",
      "text/plain": [
       "<Figure size 432x288 with 1 Axes>"
      ]
     },
     "metadata": {},
     "output_type": "display_data"
    },
    {
     "data": {
      "image/png": "[encoded data removed]",
      "text/plain": [
       "<Figure size 432x288 with 1 Axes>"
      ]
     },
     "metadata": {},
     "output_type": "display_data"
    }
   ],
   "source": [
    "for column in ['credit_card', 'last_activity', 'churn']:\n",
    "    df_2 = df.groupby(column).agg({'userid': 'count'})\n",
    "    fig1,ax1 = plt.subplots()\n",
    "    ax1.pie(df_2['userid'], autopct='%1.1f%%')\n",
    "    ax1.set_title(f'Распределение клиентов по признаку {column}', fontsize = 16)\n",
    "    plt.legend(['Нет', 'Да'], bbox_to_anchor=(1, 0.7))\n",
    "    plt.show()"
   ]
  },
  {
   "cell_type": "code",
   "execution_count": 22,
   "metadata": {
    "scrolled": false
   },
   "outputs": [
    {
     "data": {
      "image/png": "[encoded data removed]",
      "text/plain": [
       "<Figure size 1440x504 with 1 Axes>"
      ]
     },
     "metadata": {
      "needs_background": "light"
     },
     "output_type": "display_data"
    },
    {
     "data": {
      "image/png": "[encoded data removed]",
      "text/plain": [
       "<Figure size 1440x504 with 1 Axes>"
      ]
     },
     "metadata": {
      "needs_background": "light"
     },
     "output_type": "display_data"
    },
    {
     "data": {
      "image/png": "[encoded data removed]",
      "text/plain": [
       "<Figure size 1440x504 with 1 Axes>"
      ]
     },
     "metadata": {
      "needs_background": "light"
     },
     "output_type": "display_data"
    }
   ],
   "source": [
    "for column in ['equity', 'products', 'age']:\n",
    "        plt.figure(figsize=(20,7));\n",
    "        ax = sns.countplot(data=df, x=column);\n",
    "        plt.title(f'Распределение клиентов по признаку {column} \\n', fontsize = 16)\n",
    "        plt.ylabel('Количество клиентов')\n",
    "        plt.show()"
   ]
  },
  {
   "cell_type": "code",
   "execution_count": 23,
   "metadata": {
    "scrolled": false
   },
   "outputs": [
    {
     "data": {
      "image/png": "[encoded data removed]",
      "text/plain": [
       "<Figure size 432x288 with 1 Axes>"
      ]
     },
     "metadata": {
      "needs_background": "light"
     },
     "output_type": "display_data"
    },
    {
     "data": {
      "image/png": "[encoded data removed]",
      "text/plain": [
       "<Figure size 432x288 with 1 Axes>"
      ]
     },
     "metadata": {
      "needs_background": "light"
     },
     "output_type": "display_data"
    },
    {
     "data": {
      "image/png": "[encoded data removed]",
      "text/plain": [
       "<Figure size 432x288 with 1 Axes>"
      ]
     },
     "metadata": {
      "needs_background": "light"
     },
     "output_type": "display_data"
    }
   ],
   "source": [
    "for column in ['score',  'balance', 'est_salary']:\n",
    "        sns.histplot(data=df, x=column);\n",
    "        plt.title(f'Распределение клиентов по признаку {column}', fontsize = 16, color = 'black')\n",
    "        plt.ylabel('Количество клиентов')\n",
    "        plt.show()"
   ]
  },
  {
   "cell_type": "markdown",
   "metadata": {},
   "source": [
    "Из-за наличия клиентов с очень высокими доходами и очень крупными счетами н графиках не видно медианных значений этих показателей. Посчитаю их отдельно."
   ]
  },
  {
   "cell_type": "code",
   "execution_count": 24,
   "metadata": {},
   "outputs": [
    {
     "data": {
      "text/plain": [
       "score            853.00\n",
       "balance       524272.20\n",
       "est_salary    119661.51\n",
       "dtype: float64"
      ]
     },
     "execution_count": 24,
     "metadata": {},
     "output_type": "execute_result"
    }
   ],
   "source": [
    "df[['score', 'balance', 'est_salary']].median()"
   ]
  },
  {
   "cell_type": "markdown",
   "metadata": {},
   "source": [
    "**Вывод:**\n",
    "- Самый крупный филиал находится в г. Ярославль. Там обслуживаются почти 60% клиентов. \n",
    "- По полу клиенты распределяются практически поровну.\n",
    "- Большинство клиентов (68%) имеют кредитную карту.\n",
    "- Число активных клиентов не значительно выше неактивных.\n",
    "- Уровень оттока по банку составляет 18,2%.\n",
    "- Больше всего клиентов имеют самую низкую оценку собственности.\n",
    "- Наибольшее число клиентов пользуются двумя продуктами, следом идут клиенты с 1 продуктом.\n",
    "- Наиболее распространенный возраст клиентов - 32-37 лет.\n",
    "- Большинство клиентов имеют достаточно высокий кредитный рейтинг.\n",
    "- В среднем баланс на счетах клиентов составляет 520 тыс. руб., но также есть клиенты с очень крупными счетами от 10 до 120 млн. руб.\n",
    "- Средний доход клиентов составляет 120 тыс. руб., но так же есть и клиенты с очень высокими доходами от 400 тыс. до 1,4 млн. руб. "
   ]
  },
  {
   "cell_type": "markdown",
   "metadata": {},
   "source": [
    "### Изучение распределения характеристик в разрезе оттока с помощью графиков"
   ]
  },
  {
   "cell_type": "code",
   "execution_count": 25,
   "metadata": {
    "scrolled": true
   },
   "outputs": [
    {
     "data": {
      "text/html": [
       "<div>\n",
       "<style scoped>\n",
       "    .dataframe tbody tr th:only-of-type {\n",
       "        vertical-align: middle;\n",
       "    }\n",
       "\n",
       "    .dataframe tbody tr th {\n",
       "        vertical-align: top;\n",
       "    }\n",
       "\n",
       "    .dataframe thead th {\n",
       "        text-align: right;\n",
       "    }\n",
       "</style>\n",
       "<table border=\"1\" class=\"dataframe\">\n",
       "  <thead>\n",
       "    <tr style=\"text-align: right;\">\n",
       "      <th></th>\n",
       "      <th>count</th>\n",
       "      <th>score</th>\n",
       "      <th>Ростов</th>\n",
       "      <th>Рыбинск</th>\n",
       "      <th>Ярославль</th>\n",
       "      <th>male</th>\n",
       "      <th>age</th>\n",
       "      <th>equity</th>\n",
       "      <th>balance</th>\n",
       "      <th>products</th>\n",
       "      <th>credit_card</th>\n",
       "      <th>last_activity</th>\n",
       "      <th>est_salary</th>\n",
       "    </tr>\n",
       "    <tr>\n",
       "      <th>churn</th>\n",
       "      <th></th>\n",
       "      <th></th>\n",
       "      <th></th>\n",
       "      <th></th>\n",
       "      <th></th>\n",
       "      <th></th>\n",
       "      <th></th>\n",
       "      <th></th>\n",
       "      <th></th>\n",
       "      <th></th>\n",
       "      <th></th>\n",
       "      <th></th>\n",
       "      <th></th>\n",
       "    </tr>\n",
       "  </thead>\n",
       "  <tbody>\n",
       "    <tr>\n",
       "      <th>0</th>\n",
       "      <td>8180</td>\n",
       "      <td>848.0</td>\n",
       "      <td>0.140709</td>\n",
       "      <td>0.276039</td>\n",
       "      <td>0.583252</td>\n",
       "      <td>0</td>\n",
       "      <td>40</td>\n",
       "      <td>3</td>\n",
       "      <td>475382.445</td>\n",
       "      <td>2</td>\n",
       "      <td>1</td>\n",
       "      <td>0</td>\n",
       "      <td>118257.715</td>\n",
       "    </tr>\n",
       "    <tr>\n",
       "      <th>1</th>\n",
       "      <td>1819</td>\n",
       "      <td>866.0</td>\n",
       "      <td>0.146234</td>\n",
       "      <td>0.239692</td>\n",
       "      <td>0.614074</td>\n",
       "      <td>1</td>\n",
       "      <td>39</td>\n",
       "      <td>4</td>\n",
       "      <td>782410.470</td>\n",
       "      <td>2</td>\n",
       "      <td>1</td>\n",
       "      <td>1</td>\n",
       "      <td>125395.220</td>\n",
       "    </tr>\n",
       "  </tbody>\n",
       "</table>\n",
       "</div>"
      ],
      "text/plain": [
       "       count  score    Ростов   Рыбинск  Ярославль  male  age  equity  \\\n",
       "churn                                                                   \n",
       "0       8180  848.0  0.140709  0.276039   0.583252     0   40       3   \n",
       "1       1819  866.0  0.146234  0.239692   0.614074     1   39       4   \n",
       "\n",
       "          balance  products  credit_card  last_activity  est_salary  \n",
       "churn                                                                \n",
       "0      475382.445         2            1              0  118257.715  \n",
       "1      782410.470         2            1              1  125395.220  "
      ]
     },
     "metadata": {},
     "output_type": "display_data"
    }
   ],
   "source": [
    "# Рассмотрю центральные тенденции характеристик в разрезе оттока\n",
    "df_churn = df.groupby('churn').agg({\n",
    "                         'churn': 'count',\n",
    "                         'score' : 'median',\n",
    "                         'Ростов': 'mean', \n",
    "                         'Рыбинск': 'mean', \n",
    "                         'Ярославль': 'mean',\n",
    "                         'male': 'median', \n",
    "                         'age': 'median',\n",
    "                         'equity': 'median',\n",
    "                         'balance': 'median', \n",
    "                         'products': 'median', \n",
    "                         'credit_card': 'median', \n",
    "                         'last_activity': 'median', \n",
    "                         'est_salary': 'median'}).rename(columns = {'churn':'count'})\n",
    "display(df_churn)"
   ]
  },
  {
   "cell_type": "code",
   "execution_count": 26,
   "metadata": {
    "scrolled": false
   },
   "outputs": [
    {
     "data": {
      "text/html": [
       "<div>\n",
       "<style scoped>\n",
       "    .dataframe tbody tr th:only-of-type {\n",
       "        vertical-align: middle;\n",
       "    }\n",
       "\n",
       "    .dataframe tbody tr th {\n",
       "        vertical-align: top;\n",
       "    }\n",
       "\n",
       "    .dataframe thead th {\n",
       "        text-align: right;\n",
       "    }\n",
       "</style>\n",
       "<table border=\"1\" class=\"dataframe\">\n",
       "  <thead>\n",
       "    <tr style=\"text-align: right;\">\n",
       "      <th></th>\n",
       "      <th>Не отточные</th>\n",
       "      <th>Отточные</th>\n",
       "      <th>Разница %</th>\n",
       "    </tr>\n",
       "  </thead>\n",
       "  <tbody>\n",
       "    <tr>\n",
       "      <th>count</th>\n",
       "      <td>8180.000000</td>\n",
       "      <td>1819.000000</td>\n",
       "      <td>-77.762836</td>\n",
       "    </tr>\n",
       "    <tr>\n",
       "      <th>Рыбинск</th>\n",
       "      <td>0.276039</td>\n",
       "      <td>0.239692</td>\n",
       "      <td>-13.167330</td>\n",
       "    </tr>\n",
       "    <tr>\n",
       "      <th>age</th>\n",
       "      <td>40.000000</td>\n",
       "      <td>39.000000</td>\n",
       "      <td>-2.500000</td>\n",
       "    </tr>\n",
       "    <tr>\n",
       "      <th>products</th>\n",
       "      <td>2.000000</td>\n",
       "      <td>2.000000</td>\n",
       "      <td>0.000000</td>\n",
       "    </tr>\n",
       "    <tr>\n",
       "      <th>credit_card</th>\n",
       "      <td>1.000000</td>\n",
       "      <td>1.000000</td>\n",
       "      <td>0.000000</td>\n",
       "    </tr>\n",
       "    <tr>\n",
       "      <th>score</th>\n",
       "      <td>848.000000</td>\n",
       "      <td>866.000000</td>\n",
       "      <td>2.122642</td>\n",
       "    </tr>\n",
       "    <tr>\n",
       "      <th>Ростов</th>\n",
       "      <td>0.140709</td>\n",
       "      <td>0.146234</td>\n",
       "      <td>3.926647</td>\n",
       "    </tr>\n",
       "    <tr>\n",
       "      <th>Ярославль</th>\n",
       "      <td>0.583252</td>\n",
       "      <td>0.614074</td>\n",
       "      <td>5.284481</td>\n",
       "    </tr>\n",
       "    <tr>\n",
       "      <th>est_salary</th>\n",
       "      <td>118257.715000</td>\n",
       "      <td>125395.220000</td>\n",
       "      <td>6.035551</td>\n",
       "    </tr>\n",
       "    <tr>\n",
       "      <th>equity</th>\n",
       "      <td>3.000000</td>\n",
       "      <td>4.000000</td>\n",
       "      <td>33.333333</td>\n",
       "    </tr>\n",
       "    <tr>\n",
       "      <th>balance</th>\n",
       "      <td>475382.445000</td>\n",
       "      <td>782410.470000</td>\n",
       "      <td>64.585478</td>\n",
       "    </tr>\n",
       "    <tr>\n",
       "      <th>male</th>\n",
       "      <td>0.000000</td>\n",
       "      <td>1.000000</td>\n",
       "      <td>inf</td>\n",
       "    </tr>\n",
       "    <tr>\n",
       "      <th>last_activity</th>\n",
       "      <td>0.000000</td>\n",
       "      <td>1.000000</td>\n",
       "      <td>inf</td>\n",
       "    </tr>\n",
       "  </tbody>\n",
       "</table>\n",
       "</div>"
      ],
      "text/plain": [
       "                 Не отточные       Отточные  Разница %\n",
       "count            8180.000000    1819.000000 -77.762836\n",
       "Рыбинск             0.276039       0.239692 -13.167330\n",
       "age                40.000000      39.000000  -2.500000\n",
       "products            2.000000       2.000000   0.000000\n",
       "credit_card         1.000000       1.000000   0.000000\n",
       "score             848.000000     866.000000   2.122642\n",
       "Ростов              0.140709       0.146234   3.926647\n",
       "Ярославль           0.583252       0.614074   5.284481\n",
       "est_salary     118257.715000  125395.220000   6.035551\n",
       "equity              3.000000       4.000000  33.333333\n",
       "balance        475382.445000  782410.470000  64.585478\n",
       "male                0.000000       1.000000        inf\n",
       "last_activity       0.000000       1.000000        inf"
      ]
     },
     "execution_count": 26,
     "metadata": {},
     "output_type": "execute_result"
    }
   ],
   "source": [
    "# Сравню центральные тенденции характеристик отточных и неотточных клиентов\n",
    "pd.concat({\n",
    "    'Не отточные': df_churn.iloc[0],\n",
    "    'Отточные': df_churn.iloc[1],\n",
    "    'Разница %': (df_churn.iloc[1]/df_churn.iloc[0]-1)*100},\n",
    "    axis=1).sort_values('Разница %')"
   ]
  },
  {
   "cell_type": "markdown",
   "metadata": {},
   "source": [
    "Между средними показателями отточных и неотточных клиентов значительная разница (>10%) разница наблюдается по следующим характеристикам: balance, equity, last_activity, male, products, credit_card.\n",
    "\n",
    "Характеристики по которым разница в отточности проявляется слабо:\n",
    "est_salary, Ярославль, Ростов, score, age."
   ]
  },
  {
   "cell_type": "markdown",
   "metadata": {},
   "source": [
    "На основании проведенного анализа можно составить портреты отточных и неотточных клиентов."
   ]
  },
  {
   "cell_type": "markdown",
   "metadata": {},
   "source": [
    "**Отточные клиенты:**\n",
    "- составляют 18% от общего числа клиентов банка;\n",
    "- имеют более высокий балл кредитного рейтинга (866;\n",
    "- чаще мужчины, чем женщины;\n",
    "- средний возраст - 39 лет;\n",
    "- в среднем имеют больше баллов собственности (4);\n",
    "- в среднем используют 2 продукта;\n",
    "- чаще более активны, чем не отточные;\n",
    "- имеют чуть более высокий оценочный доход (125 тыс. руб.).\n",
    "\n",
    "**Неотточные клиенты:**\n",
    "- составляют 82% от общего числа клиентов;\n",
    "- имеют более низкий балл кредитного рейтинга (848);\n",
    "- чаще женщины, чем мужчины;\n",
    "- средний возраст - 40 лет;\n",
    "- в среднем имеют меньше баллов собственности (3);\n",
    "- в среднем используют 2 продукта;\n",
    "- чаще менее активны, чем отточные;\n",
    "- имеют чуть более низкий оценочный доход (118 тыс. руб.)."
   ]
  },
  {
   "cell_type": "markdown",
   "metadata": {},
   "source": [
    "Визуализирую распределение характеристик для более детального анализа."
   ]
  },
  {
   "cell_type": "code",
   "execution_count": 27,
   "metadata": {
    "scrolled": false
   },
   "outputs": [
    {
     "data": {
      "image/png": "[encoded data removed]",
      "text/plain": [
       "<Figure size 720x216 with 1 Axes>"
      ]
     },
     "metadata": {},
     "output_type": "display_data"
    },
    {
     "data": {
      "image/png": "[encoded data removed]",
      "text/plain": [
       "<Figure size 720x216 with 1 Axes>"
      ]
     },
     "metadata": {},
     "output_type": "display_data"
    },
    {
     "data": {
      "image/png": "[encoded data removed]",
      "text/plain": [
       "<Figure size 720x216 with 1 Axes>"
      ]
     },
     "metadata": {},
     "output_type": "display_data"
    }
   ],
   "source": [
    "# Для количественных непрерывных характеристик построю графики плотности распределение\n",
    "sns.set_style(\"whitegrid\", {\"grid.color\": \".6\", \"grid.linestyle\": \":\"})\n",
    "for column in ['score', 'balance', 'est_salary']:\n",
    "    plt.figure(figsize=(10,3))\n",
    "    sns.kdeplot(df[df['churn'] == 0][column], clip=(0.0, 2000000.0), common_norm=False)\n",
    "    sns.kdeplot(df[df['churn'] == 1][column], clip=(0.0, 2000000.0), common_norm=False)\n",
    "    plt.legend(['Не отточные', 'Отточные'])\n",
    "    plt.ylabel('Плотность распределения клиентов')\n",
    "    plt.title(f'Распределение клиентов по признаку {column} \\n', fontsize = 16)\n",
    "    plt.show()"
   ]
  },
  {
   "cell_type": "markdown",
   "metadata": {},
   "source": [
    "На графиках видно, что отточных клиентов больше среди тех, у которых:\n",
    "- баллы кредитного рейтинга от 820 до 920;\n",
    "- баланс на счете от 950 тыс. руб.;\n",
    "- оценочный доход от 100 тыс. руб. до 230 тыс. руб."
   ]
  },
  {
   "cell_type": "code",
   "execution_count": 28,
   "metadata": {
    "scrolled": true
   },
   "outputs": [
    {
     "data": {
      "image/png": "[encoded data removed]",
      "text/plain": [
       "<Figure size 1152x360 with 1 Axes>"
      ]
     },
     "metadata": {},
     "output_type": "display_data"
    }
   ],
   "source": [
    "# Для распределения по возрасту построю гистограмму\n",
    "plt.figure(figsize=(16,5))\n",
    "sns.histplot(df[df['churn'] == 0]['age'], discrete=True, stat='density', common_norm=False, color='blue')\n",
    "sns.histplot(df[df['churn'] == 1]['age'], discrete=True, stat='density', common_norm=False, color='orange')\n",
    "plt.legend(['Не отточные', 'Отточные'])\n",
    "plt.title(f'Распределение клиентов по возрасту', fontsize = 16)\n",
    "plt.ylabel('Плотность распределения клиентов')\n",
    "plt.show()"
   ]
  },
  {
   "cell_type": "markdown",
   "metadata": {},
   "source": [
    "На графике видно, что отточных клиентов больше среди тех, возраст которых от 25 до 35 лет и от 50 до 60 лет."
   ]
  },
  {
   "cell_type": "code",
   "execution_count": 29,
   "metadata": {
    "scrolled": false
   },
   "outputs": [
    {
     "data": {
      "image/png": "[encoded data removed]",
      "text/plain": [
       "<Figure size 1080x1728 with 18 Axes>"
      ]
     },
     "metadata": {},
     "output_type": "display_data"
    }
   ],
   "source": [
    "# Для категориальных характеристик построю столбчатые диаграммы\n",
    "churn_mean=df['churn'].mean()\n",
    "fig, axes = plt.subplots(6,3, figsize=(15, 24))\n",
    "n=0\n",
    "for categorical in ['city', 'equity', 'products', 'gender','credit_card', 'last_activity']:\n",
    "    \n",
    "    # вывожу долю отточных клиентов в категории\n",
    "    levels=df.groupby(categorical).agg({'churn': 'mean'}).reset_index()\n",
    "    sns.barplot(data=levels, x=categorical, y='churn', ax=axes[n][0])\n",
    "    axes[n][0].axhline(y=churn_mean, color='red', alpha=0.2)\n",
    "    axes[n][0].set_ylabel(\"Доля отточных клиентов (%)\")\n",
    "    \n",
    "    # вывожу количество отточных клиентов в категории\n",
    "    sns.countplot(data=df[df['churn'] == 1], x=categorical, ax=axes[n][1])\n",
    "    axes[n][1].set_ylabel(\"Количество отточных клиентов\")\n",
    "\n",
    "    # вывожу количество всех клиентов в категории\n",
    "    sns.countplot(data=df, x=categorical, ax=axes[n][2])\n",
    "    axes[n][2].set_ylabel(\"Общее количество клиентов\")\n",
    "    \n",
    "      \n",
    "    # вывожу метки на столбцах\n",
    "    labels=levels['churn'].values.round(2)\n",
    "    rects=axes[n][0].containers[0].patches\n",
    "    for rect, label in zip(rects, labels):\n",
    "        axes[n][0].text(rect.get_x() + rect.get_width()/2, rect.get_height(), label, ha=\"center\", va=\"bottom\")\n",
    "\n",
    "    n+=1\n",
    "fig.suptitle(\"Доля и число отточных клиентов в разрезе категориальных характеристик\")\n",
    "plt.show()"
   ]
  },
  {
   "cell_type": "markdown",
   "metadata": {},
   "source": [
    "Исходя из графиков можно выделить следующие характеристики более отточных клиентов:\n",
    "- количество баллов собственности больше или равно 3;\n",
    "- продуктов больше или равно 3;\n",
    "- пол - мужчина;\n",
    "- отсутствует кредитная карта;\n",
    "- активный клиент."
   ]
  },
  {
   "cell_type": "markdown",
   "metadata": {},
   "source": [
    "**Вывод:**\n",
    "\n",
    "На основе полученных графиков можно выделить следующие характеристики клиентов с более высоким уровнем отттока:\n",
    "- Баллы кредитного рейтинга от 820 до 920;\n",
    "- Баланс на счете от 950 тыс. руб.;\n",
    "- Оценочный доход от 100 тыс. руб. до 230 тыс. руб.;\n",
    "- Возраст от 25 до 35 лет и от 50 до 60;\n",
    "- Количество баллов собственности больше или равно 3;\n",
    "- Продуктов больше или равно 3;\n",
    "- Пол - мужчина;\n",
    "- Отсутствие кредитной карты;\n",
    "- Активный клиент."
   ]
  },
  {
   "cell_type": "markdown",
   "metadata": {},
   "source": [
    "### Корреляционный анализ характеристик клиентов и его визуализация"
   ]
  },
  {
   "cell_type": "code",
   "execution_count": 30,
   "metadata": {
    "scrolled": false
   },
   "outputs": [
    {
     "data": {
      "image/png": "[encoded data removed]",
      "text/plain": [
       "<Figure size 1080x1080 with 2 Axes>"
      ]
     },
     "metadata": {},
     "output_type": "display_data"
    }
   ],
   "source": [
    "# Построю матрицу корреляции характеристик клиентов с более высоким уровнем оттока\n",
    "correlation = df[['churn',\n",
    "                  'score',\n",
    "                  'balance',\n",
    "                  'est_salary',\n",
    "                  'age',\n",
    "                  'equity',\n",
    "                  'products',\n",
    "                  'male',\n",
    "                  'credit_card',\n",
    "                  'last_activity',\n",
    "                  'Ростов',\n",
    "                  'Рыбинск',\n",
    "                  'Ярославль'\n",
    "                 ]].corr()\n",
    "plt.figure(figsize=(15,15))\n",
    "sns.heatmap(correlation, center=0, annot=True, fmt=\".1f\", cmap='coolwarm')\n",
    "plt.title('Корреляция между разными признаками клиентов')\n",
    "plt.show()"
   ]
  },
  {
   "cell_type": "code",
   "execution_count": 31,
   "metadata": {
    "scrolled": true
   },
   "outputs": [
    {
     "data": {
      "image/png": "[encoded data removed]",
      "text/plain": [
       "<Figure size 432x288 with 2 Axes>"
      ]
     },
     "metadata": {},
     "output_type": "display_data"
    }
   ],
   "source": [
    "# Выведу отдельно данные о влиянии характеристик клиентов на отток\n",
    "sns.heatmap(\n",
    "    correlation.loc[:,['churn']].drop('churn').sort_values('churn'),\n",
    "    annot=True, fmt=\".0%\", cmap=\"vlag\", center=0);"
   ]
  },
  {
   "cell_type": "markdown",
   "metadata": {},
   "source": [
    "**Вывод:**\n",
    "- Выявлена небольшая положительная корреляция между характеоистиками: количество используемых продуктов и количество баллов собственности, оценочный доход и баланс на счете; а также небольшая отрицательная корреляция между наличием кредитной карты и количеством используемх продуктов. Поэтому при сегментации клиентов следует вынести эти характеристики в разные сегменты, чтобы максимизировать покрытие.\n",
    "- Наибольшее положительное влияние на отток оказывают количество баллов собственности и количество используемых продуктов. Оценочный доход не оказывает влияния на отток, его можно не учитывать при сегментации."
   ]
  },
  {
   "cell_type": "markdown",
   "metadata": {},
   "source": [
    "**Портрет типичного клиента банка**\n",
    "- Самый крупный филиал находится в г. Ярославль. Там обслуживаются почти 60% клиентов. \n",
    "- По полу клиенты распределяются практически поровну.\n",
    "- Большинство клиентов (68%) имеют кредитную карту.\n",
    "- Число активных клиентов не значительно выше неактивных.\n",
    "- Уровень оттока по банку составляет 18,2%.\n",
    "- Больше всего клиентов имеют самую низкую оценку собственности.\n",
    "- Наибольшее число клиентов пользуются двумя продуктами, следом идут клиенты с 1 продуктом.\n",
    "- Наиболее распространенный возраст клиентов - 32-37 лет.\n",
    "- Большинство клиентов имеют достаточно высокий кредитный рейтинг.\n",
    "- В среднем баланс на счетах клиентов составляет 520 тыс. руб., но также есть клиенты с очень крупными счетами от 10 до 120 млн. руб.\n",
    "- Средний доход клиентов составляет 120 тыс. руб., но так же есть и клиенты с очень высокими доходами от 400 тыс. до 1,4 млн. руб. \n",
    "\n",
    "**Характеристики клиентов с более высоким уровнем отттока:**\n",
    "- Баллы кредитного рейтинга от 820 до 920;\n",
    "- Баланс на счете от 950 тыс. руб.;\n",
    "- Оценочный доход от 100 тыс. руб. до 230 тыс. руб.;\n",
    "- Возраст от 25 до 35 лет и от 50 до 60;\n",
    "- Количество баллов собственности больше или равно 3;\n",
    "- Продуктов больше или равно 3;\n",
    "- Пол - мужчина;\n",
    "- Отсутствие кредитной карты;\n",
    "- Активный клиент.\n",
    "\n",
    "**Результаты корреляцинного анализа**\n",
    "- Выявлена небольшая положительная корреляция между характеоистиками: количество используемых продуктов и количество баллов собственности, оценочный доход и баланс на счете; а также небольшая отрицательная корреляция между наличием кредитной карты и количеством используемх продуктов. \n",
    "- Наибольшее положительное влияние на отток оказывают количество баллов собственности и количество используемых продуктов. Оценочный доход не оказывает влияния на отток."
   ]
  },
  {
   "cell_type": "markdown",
   "metadata": {},
   "source": [
    "## Формулировка и проверка статистических гипотез"
   ]
  },
  {
   "cell_type": "markdown",
   "metadata": {},
   "source": [
    "### Гипотеза о различии дохода между клиентами, которые ушли и которые остались"
   ]
  },
  {
   "cell_type": "markdown",
   "metadata": {},
   "source": [
    "Сформулирую нулевую и альтернативную гипотезы:\n",
    "\n",
    "**H0:** средние доходы оставшихся и отточных клиентов равны.\n",
    "\n",
    "**H1:** средние доходы оставшихся и отточных клиентов не равны."
   ]
  },
  {
   "cell_type": "markdown",
   "metadata": {},
   "source": [
    "Выясню, какой тест подходит для проверки гипотезы: t-test или u-test.\n",
    "\n",
    "Приму, что критический уровень статистической значимости alpha = 0.05.\n",
    "\n",
    "Чтобы понять, можно ли применять t-тест, нужно проверить три условия:\n",
    "- генеральные совокупности не зависят друг от друга,\n",
    "- выборочные средние нормально распределены,\n",
    "- дисперсии рассматриваемых генеральных совокупностей равны.\n",
    "\n",
    "Проверю генеральные совокупности на соответствие критериям для проведения t-testa."
   ]
  },
  {
   "cell_type": "code",
   "execution_count": 32,
   "metadata": {},
   "outputs": [],
   "source": [
    "# Формирую выборки дохода отточных и неотточных клиентов\n",
    "a = df[df['churn'] == 1]['est_salary']\n",
    "b = df[df['churn'] == 0]['est_salary']"
   ]
  },
  {
   "cell_type": "code",
   "execution_count": 33,
   "metadata": {},
   "outputs": [
    {
     "data": {
      "image/png": "[encoded data removed]",
      "text/plain": [
       "<Figure size 432x288 with 1 Axes>"
      ]
     },
     "metadata": {},
     "output_type": "display_data"
    }
   ],
   "source": [
    "sns.histplot(b, color='blue')\n",
    "sns.histplot(a, color='orange')\n",
    "plt.legend(['Не отточные', 'Отточные'])\n",
    "plt.title(f'Распределение клиентов по уровню дохода', fontsize = 16)\n",
    "plt.ylabel('Количество клиентов')\n",
    "plt.xlabel('Уровень дохода')\n",
    "plt.show()"
   ]
  },
  {
   "cell_type": "markdown",
   "metadata": {},
   "source": [
    "Проверю, можно ли считать данные о доходах нормально распределёнными с помощью критерия Шапиро-Уилка."
   ]
  },
  {
   "cell_type": "code",
   "execution_count": 34,
   "metadata": {},
   "outputs": [
    {
     "name": "stdout",
     "output_type": "stream",
     "text": [
      "p-значение:  0.0\n",
      "Распределение не нормально\n"
     ]
    }
   ],
   "source": [
    "# Для отточных клиентов\n",
    "\n",
    "alpha = 0.05  # критический уровень статистической значимости\n",
    "\n",
    "shapiro_test, p_value = st.shapiro(a)\n",
    "\n",
    "print('p-значение: ', p_value)\n",
    "if p_value < alpha:\n",
    "    print('Распределение не нормально')\n",
    "else:\n",
    "    print('Нормальное распределение')"
   ]
  },
  {
   "cell_type": "code",
   "execution_count": 35,
   "metadata": {
    "scrolled": true
   },
   "outputs": [
    {
     "name": "stdout",
     "output_type": "stream",
     "text": [
      "p-значение:  0.0\n",
      "Распределение не нормально\n"
     ]
    }
   ],
   "source": [
    "# Для неотточных клиентов \n",
    "\n",
    "alpha = 0.05  # критический уровень статистической значимости\n",
    "\n",
    "shapiro_test, p_value = st.shapiro(b)\n",
    "\n",
    "print('p-значение: ', p_value)\n",
    "if p_value < alpha:\n",
    "    print('Распределение не нормально')\n",
    "else:\n",
    "    print('Нормальное распределение') "
   ]
  },
  {
   "cell_type": "code",
   "execution_count": 36,
   "metadata": {},
   "outputs": [
    {
     "name": "stdout",
     "output_type": "stream",
     "text": [
      "15107935966.895876\n",
      "20392519451.455894\n",
      "Дисперсии не равны\n"
     ]
    }
   ],
   "source": [
    "# Оценю дисперсии\n",
    "\n",
    "print(a.var()) \n",
    "print(b.var())\n",
    "\n",
    "if a.var() == b.var():\n",
    "    print('Дисперсии равны')\n",
    "else:\n",
    "    print('Дисперсии не равны')"
   ]
  },
  {
   "cell_type": "markdown",
   "metadata": {},
   "source": [
    "В результате проверки условий t-теста выявлено:\n",
    "- генеральные совокупности не зависят друг от друга;\n",
    "- распределение значений не является нормальным;\n",
    "- дисперсии не равны.\n",
    "\n",
    "Таким образом, выборки не подходят для проведения t-теста. При отсутствии нормального распределения сравниваемых выборок вместо t-теста используется U-критерий Манна-Уитни."
   ]
  },
  {
   "cell_type": "code",
   "execution_count": 37,
   "metadata": {},
   "outputs": [
    {
     "name": "stdout",
     "output_type": "stream",
     "text": [
      "p-значение:  0.00021160652203623057\n",
      "Отвергаем нулевую гипотезу\n"
     ]
    }
   ],
   "source": [
    "# Проведу u-test\n",
    "\n",
    "alpha = 0.05  \n",
    "\n",
    "results = st.mannwhitneyu(a, b)\n",
    "\n",
    "print('p-значение: ', results.pvalue)\n",
    "\n",
    "if results.pvalue < alpha:\n",
    "    print('Отвергаем нулевую гипотезу')\n",
    "else:\n",
    "    print(\n",
    "        'Не получилось отвергнуть нулевую гипотезу'\n",
    "    ) "
   ]
  },
  {
   "cell_type": "markdown",
   "metadata": {},
   "source": [
    "**Вывод:**\n",
    "- Распределение не является нормальным, поэтому для проверки гипотезы был выбран U-критерий Манна-Уитни.\n",
    "- Нулевая гипотеза отвергнута, т.е. доходы оставшихся и отточных клиентов не равны."
   ]
  },
  {
   "cell_type": "markdown",
   "metadata": {},
   "source": [
    "Проведу t-test и сравню результаты."
   ]
  },
  {
   "cell_type": "code",
   "execution_count": 38,
   "metadata": {},
   "outputs": [
    {
     "name": "stdout",
     "output_type": "stream",
     "text": [
      "0.8839364433181659\n",
      "Не получилось отвергнуть нулевую гипотезу\n"
     ]
    }
   ],
   "source": [
    "alpha = 0.05\n",
    "\n",
    "results = st.ttest_ind(a, b)\n",
    "\n",
    "print (results.pvalue) \n",
    "\n",
    "if results.pvalue < alpha:\n",
    "    print ('Отвергаем нулевую гипотезу')\n",
    "else:\n",
    "    print ('Не получилось отвергнуть нулевую гипотезу')"
   ]
  },
  {
   "cell_type": "markdown",
   "metadata": {},
   "source": [
    "В результате проведения t-теста не удалось отвергнуть нулевую гипотезу. Однако доверять этому критерию не стоит, т.к. в данных есть большие (по сравнению с нормальным распределением) выбросы. Есть клиенты с очень высоким доходом. В этом случае даже одно выбивающееся значение существенно влияет на результат. В случае наличия в данных большого числа выбрасов следует использовать непараметрических критерий Манна-Уитни."
   ]
  },
  {
   "cell_type": "markdown",
   "metadata": {},
   "source": [
    "### Гипотеза о различии кредитных рейтингов клиентов, которые ушли и которые остались"
   ]
  },
  {
   "cell_type": "markdown",
   "metadata": {},
   "source": [
    "Сформулирую нулевую и альтернативную гипотезы:\n",
    "\n",
    "**H0:** кредитные рейтинги оставшихся и отточных клиентов равны.\n",
    "\n",
    "**H1:** кредитные рейтинги оставшихся и отточных клиентов не равны."
   ]
  },
  {
   "cell_type": "markdown",
   "metadata": {},
   "source": [
    "Выясню, какой тест подходит для проверки гипотезы: t-test или u-test.\n",
    "\n",
    "Приму, что критический уровень статистической значимости alpha = 0.05.\n",
    "\n",
    "Чтобы понять, можно ли применять t-тест, нужно проверить три условия:\n",
    "- генеральные совокупности не зависят друг от друга,\n",
    "- выборочные средние нормально распределены,\n",
    "- дисперсии рассматриваемых генеральных совокупностей равны.\n",
    "\n",
    "Проверю генеральные совокупности на соответствие критериям для проведения t-testa."
   ]
  },
  {
   "cell_type": "code",
   "execution_count": 39,
   "metadata": {},
   "outputs": [],
   "source": [
    "# Формирую выборки дохода отточных и неотточных клиентов\n",
    "c = df[df['churn'] == 1]['score']\n",
    "d = df[df['churn'] == 0]['score']"
   ]
  },
  {
   "cell_type": "code",
   "execution_count": 40,
   "metadata": {
    "scrolled": true
   },
   "outputs": [
    {
     "data": {
      "image/png": "[encoded data removed]",
      "text/plain": [
       "<Figure size 432x288 with 1 Axes>"
      ]
     },
     "metadata": {},
     "output_type": "display_data"
    }
   ],
   "source": [
    "sns.histplot(d, color='blue')\n",
    "sns.histplot(c, color='orange')\n",
    "plt.legend(['Не отточные', 'Отточные'])\n",
    "plt.title(f'Распределение клиентов по баллам кредитного рейтинга', fontsize = 16)\n",
    "plt.ylabel('Количество клиентов')\n",
    "plt.xlabel('Баллы кредитного рейтинга')\n",
    "plt.show()"
   ]
  },
  {
   "cell_type": "markdown",
   "metadata": {},
   "source": [
    "Проверю, можно ли считать данные о кредитных рейтингах нормально распределёнными, с помощью критерия Шапиро-Уилка."
   ]
  },
  {
   "cell_type": "code",
   "execution_count": 41,
   "metadata": {
    "scrolled": true
   },
   "outputs": [
    {
     "name": "stdout",
     "output_type": "stream",
     "text": [
      "p-значение:  0.00010231484338873997\n",
      "Распределение не нормально\n"
     ]
    }
   ],
   "source": [
    "# Для отточных клиентов\n",
    "\n",
    "alpha = 0.05  # критический уровень статистической значимости\n",
    "\n",
    "shapiro_test, p_value = st.shapiro(c)\n",
    "\n",
    "print('p-значение: ', p_value)\n",
    "if p_value < alpha:\n",
    "    print('Распределение не нормально')\n",
    "else:\n",
    "    print('Нормальное распределение')"
   ]
  },
  {
   "cell_type": "code",
   "execution_count": 42,
   "metadata": {
    "scrolled": false
   },
   "outputs": [
    {
     "name": "stdout",
     "output_type": "stream",
     "text": [
      "p-значение:  3.817680641163025e-26\n",
      "Распределение не нормально\n"
     ]
    }
   ],
   "source": [
    "# Для неотточных клиентов\n",
    "\n",
    "alpha = 0.05  # критический уровень статистической значимости\n",
    "\n",
    "shapiro_test, p_value = st.shapiro(d)\n",
    "\n",
    "print('p-значение: ', p_value)\n",
    "if p_value < alpha:\n",
    "    print('Распределение не нормально')\n",
    "else:\n",
    "    print('Нормальное распределение')"
   ]
  },
  {
   "cell_type": "code",
   "execution_count": 43,
   "metadata": {},
   "outputs": [
    {
     "name": "stdout",
     "output_type": "stream",
     "text": [
      "2457.3047909518823\n",
      "4630.492360930297\n",
      "Дисперсии не равны\n"
     ]
    }
   ],
   "source": [
    "# Оценю дисперсии\n",
    "\n",
    "print(c.var()) \n",
    "print(d.var())\n",
    "\n",
    "if a.var() == b.var():\n",
    "    print('Дисперсии равны')\n",
    "else:\n",
    "    print('Дисперсии не равны')"
   ]
  },
  {
   "cell_type": "markdown",
   "metadata": {},
   "source": [
    "В результате проверки условий t-теста выявлено:\n",
    "- генеральные совокупности не зависят друг от друга;\n",
    "- распределение значений не является нормальным;\n",
    "- дисперсии не равны.\n",
    "\n",
    "Таким образом, выборки не подходят для проведения t-теста. При отсутствии нормального распределения сравниваемых выборок вместо t-теста используется U-критерий Манна-Уитни."
   ]
  },
  {
   "cell_type": "code",
   "execution_count": 44,
   "metadata": {
    "scrolled": true
   },
   "outputs": [
    {
     "name": "stdout",
     "output_type": "stream",
     "text": [
      "p-значение:  7.364570509844462e-22\n",
      "Отвергаем нулевую гипотезу\n"
     ]
    }
   ],
   "source": [
    "# Проведу u-test\n",
    "\n",
    "alpha = 0.05  \n",
    "\n",
    "results = st.mannwhitneyu(c, d)\n",
    "\n",
    "print('p-значение: ', results.pvalue)\n",
    "\n",
    "if results.pvalue < alpha:\n",
    "    print('Отвергаем нулевую гипотезу')\n",
    "else:\n",
    "    print(\n",
    "        'Не получилось отвергнуть нулевую гипотезу'\n",
    "    ) "
   ]
  },
  {
   "cell_type": "markdown",
   "metadata": {},
   "source": [
    "**Вывод:**\n",
    "- Распределение не является нормальным, поэтому для проверки гипотезы был выбран U-критерий Манна-Уитни.\n",
    "- Нулевая гипотеза отвергнута, т.е. кредитные рейтинги оставшихся и отточных клиентов не равны."
   ]
  },
  {
   "cell_type": "markdown",
   "metadata": {},
   "source": [
    "## Сегментация отточных клиентов"
   ]
  },
  {
   "cell_type": "markdown",
   "metadata": {},
   "source": [
    "По итогам проведенного анализа выделю несколько высокоотточных сегментов."
   ]
  },
  {
   "cell_type": "markdown",
   "metadata": {},
   "source": [
    "**Сегмент 1**\n",
    "- Пол: мужской.\n",
    "- Количество продуктов: больше или равно 3."
   ]
  },
  {
   "cell_type": "code",
   "execution_count": 46,
   "metadata": {
    "scrolled": false
   },
   "outputs": [
    {
     "name": "stdout",
     "output_type": "stream",
     "text": [
      "Размер сегмента:  752\n",
      "Уровень оттока по сегменту:  0.5\n"
     ]
    }
   ],
   "source": [
    "s1 = df.query(\"male == 1 and products >= 3\")\n",
    "print('Размер сегмента: ', s1['userid'].count())\n",
    "print('Уровень оттока по сегменту: ', s1['churn'].sum()/s1['churn'].count())"
   ]
  },
  {
   "cell_type": "markdown",
   "metadata": {},
   "source": [
    "**Сегмент 2**\n",
    "- Баланс на счете: более 950 тыс. руб.\n",
    "- Количество баллов собственности: больше или равно 3.\n",
    "- Возраст: 50 - 60 лет."
   ]
  },
  {
   "cell_type": "code",
   "execution_count": 47,
   "metadata": {
    "scrolled": true
   },
   "outputs": [
    {
     "name": "stdout",
     "output_type": "stream",
     "text": [
      "Размер сегмента:  449\n",
      "Уровень оттока по сегменту:  0.47216035634743875\n"
     ]
    }
   ],
   "source": [
    "s2 = df.query(\"balance > 950000 and equity >= 3 and 50 <= age <= 60\")\n",
    "print('Размер сегмента: ', s2['userid'].count())\n",
    "print('Уровень оттока по сегменту: ', s2['churn'].sum()/s2['churn'].count())"
   ]
  },
  {
   "cell_type": "markdown",
   "metadata": {},
   "source": [
    "**Сегмент 3**\n",
    "- Баллы кредитного скоринга: 820 - 920.\n",
    "- Активность: да.\n",
    "- Наличие кредитной карты: нет."
   ]
  },
  {
   "cell_type": "code",
   "execution_count": 48,
   "metadata": {
    "scrolled": false
   },
   "outputs": [
    {
     "name": "stdout",
     "output_type": "stream",
     "text": [
      "Размер сегмента:  1062\n",
      "Уровень оттока по сегменту:  0.4548022598870056\n"
     ]
    }
   ],
   "source": [
    "s3 = df.query(\"820 <= score <= 920 and last_activity == 1 and credit_card == 0\")\n",
    "print('Размер сегмента: ', s3['userid'].count())\n",
    "print('Уровень оттока по сегменту: ', s3['churn'].sum()/s3['churn'].count())"
   ]
  },
  {
   "cell_type": "markdown",
   "metadata": {},
   "source": [
    "## Выводы и рекомендации"
   ]
  },
  {
   "cell_type": "markdown",
   "metadata": {},
   "source": [
    "**Общие характеристики клиентов банка:**\n",
    "- Самый крупный филиал находится в г. Ярославль. Там обслуживаются почти 60% клиентов. \n",
    "- По полу клиенты распределяются практически поровну.\n",
    "- Большинство клиентов (68%) имеют кредитную карту.\n",
    "- Число активных клиентов не значительно выше неактивных.\n",
    "- Уровень оттока по банку составляет 18,2%.\n",
    "- Больше всего клиентов имеют самую низкую оценку собственности.\n",
    "- Наибольшее число клиентов пользуются двумя продуктами, следом идут клиенты с 1 продуктом.\n",
    "- Наиболее распространенный возраст клиентов - 32-37 лет.\n",
    "- Большинство клиентов имеют достаточно высокий кредитный рейтинг.\n",
    "- В среднем баланс на счетах клиентов составляет 520 тыс. руб., но также есть клиенты с очень крупными счетами от 10 до 120 млн. руб.\n",
    "- Средний доход клиентов составляет 120 тыс. руб., но так же есть и клиенты с очень высокими доходами от 400 тыс. до 1,4 млн. руб. "
   ]
  },
  {
   "cell_type": "markdown",
   "metadata": {},
   "source": [
    "**Характеристики клиентов с более высоким уровнем отттока:**\n",
    "- Баллы кредитного рейтинга от 820 до 920;\n",
    "- Баланс на счете от 950 тыс. руб.;\n",
    "- Оценочный доход от 100 тыс. руб. до 230 тыс. руб.;\n",
    "- Возраст от 25 до 35 лет и от 50 до 60;\n",
    "- Количество баллов собственности больше или равно 3;\n",
    "- Продуктов больше или равно 3;\n",
    "- Пол - мужчина;\n",
    "- Отсутствие кредитной карты;\n",
    "- Активный клиент."
   ]
  },
  {
   "cell_type": "markdown",
   "metadata": {},
   "source": [
    "**Влияние характеристик на отток:**\n",
    "- Наибольшее положительное влияние на отток оказывают количество баллов собственности и количество используемых продуктов. \n",
    "- Оценочный доход не оказывает влияния на отток."
   ]
  },
  {
   "cell_type": "markdown",
   "metadata": {},
   "source": [
    "**Рекомендации для отдела маркетинга:**"
   ]
  },
  {
   "cell_type": "markdown",
   "metadata": {},
   "source": [
    "*Сегмент 1*\n",
    "- Пол: мужской.\n",
    "- Количество продуктов: больше или равно 3."
   ]
  },
  {
   "cell_type": "markdown",
   "metadata": {},
   "source": [
    "*Рекомендации:*\n",
    "- Предложить повышенный кешбек на товары для спорта и активного отдыха.\n",
    "- Для клиентов, получающих зарплату на карту другого банка - предложить льготные условия для перевода зарплаты в наш банк.\n",
    "- Провести анализ продуктов, используемых клиентами, и выяснить причины неудовлетворенности клиентов продуктами и как следствие их уход из банка."
   ]
  },
  {
   "cell_type": "markdown",
   "metadata": {},
   "source": [
    "*Сегмент 2*\n",
    "- Баланс на счете: более 950 тыс. руб.\n",
    "- Количество баллов собственности: больше или равно 3.\n",
    "- Возраст: 50 - 60 лет."
   ]
  },
  {
   "cell_type": "markdown",
   "metadata": {},
   "source": [
    "*Рекомендации:*\n",
    "- Предложить уникальные условия по накопительным счетам.\n",
    "- Предложить продукты страхования собственности."
   ]
  },
  {
   "cell_type": "markdown",
   "metadata": {},
   "source": [
    "*Сегмент 3*\n",
    "- Баллы кредитного скоринга: 820 - 920.\n",
    "- Активность: да.\n",
    "- Наличие кредитной карты: нет."
   ]
  },
  {
   "cell_type": "markdown",
   "metadata": {},
   "source": [
    "*Рекомендации:*\n",
    "- Предложить оформить кредитную карту на льготных условиях.\n",
    "- Предложить льготные условия кредитования."
   ]
  }
 ],
 "metadata": {
  "ExecuteTimeLog": [
   {
    "duration": 2047,
    "start_time": "2023-11-23T11:20:40.292Z"
   },
   {
    "duration": 121,
    "start_time": "2023-11-23T11:21:48.078Z"
   },
   {
    "duration": 47,
    "start_time": "2023-11-23T20:52:56.807Z"
   },
   {
    "duration": 1553,
    "start_time": "2023-11-23T20:53:03.595Z"
   },
   {
    "duration": 112,
    "start_time": "2023-11-23T20:53:05.150Z"
   },
   {
    "duration": 65,
    "start_time": "2023-11-23T20:55:28.509Z"
   },
   {
    "duration": 2017,
    "start_time": "2023-11-24T08:31:47.738Z"
   },
   {
    "duration": 188,
    "start_time": "2023-11-24T08:31:49.757Z"
   },
   {
    "duration": 34,
    "start_time": "2023-11-24T08:31:49.947Z"
   },
   {
    "duration": 153,
    "start_time": "2023-11-24T11:43:54.684Z"
   },
   {
    "duration": 27,
    "start_time": "2023-11-24T11:45:19.994Z"
   },
   {
    "duration": 4,
    "start_time": "2023-11-24T11:45:33.465Z"
   },
   {
    "duration": 11,
    "start_time": "2023-11-24T11:46:29.176Z"
   },
   {
    "duration": 34,
    "start_time": "2023-11-24T11:46:54.320Z"
   },
   {
    "duration": 5,
    "start_time": "2023-11-24T11:48:11.679Z"
   },
   {
    "duration": 30,
    "start_time": "2023-11-24T11:48:16.240Z"
   },
   {
    "duration": 32,
    "start_time": "2023-11-24T11:50:17.483Z"
   },
   {
    "duration": 29,
    "start_time": "2023-11-24T11:51:12.985Z"
   },
   {
    "duration": 32,
    "start_time": "2023-11-24T11:51:24.857Z"
   },
   {
    "duration": 30,
    "start_time": "2023-11-24T11:52:01.729Z"
   },
   {
    "duration": 35,
    "start_time": "2023-11-24T11:57:18.175Z"
   },
   {
    "duration": 41,
    "start_time": "2023-11-24T11:57:32.726Z"
   },
   {
    "duration": 11,
    "start_time": "2023-11-24T12:00:07.497Z"
   },
   {
    "duration": 6,
    "start_time": "2023-11-24T12:00:40.000Z"
   },
   {
    "duration": 4,
    "start_time": "2023-11-24T12:01:31.166Z"
   },
   {
    "duration": 6,
    "start_time": "2023-11-24T12:01:35.526Z"
   },
   {
    "duration": 49,
    "start_time": "2023-11-25T15:18:17.706Z"
   },
   {
    "duration": 1760,
    "start_time": "2023-11-25T15:18:25.634Z"
   },
   {
    "duration": 375,
    "start_time": "2023-11-25T15:18:27.396Z"
   },
   {
    "duration": 41,
    "start_time": "2023-11-25T15:18:27.773Z"
   },
   {
    "duration": 31,
    "start_time": "2023-11-25T15:18:27.816Z"
   },
   {
    "duration": 1774,
    "start_time": "2023-11-25T15:18:27.849Z"
   },
   {
    "duration": 23,
    "start_time": "2023-11-25T15:18:45.379Z"
   },
   {
    "duration": 1646,
    "start_time": "2023-11-25T15:19:02.051Z"
   },
   {
    "duration": 19,
    "start_time": "2023-11-25T15:23:27.332Z"
   },
   {
    "duration": 10,
    "start_time": "2023-11-25T15:24:03.249Z"
   },
   {
    "duration": 12,
    "start_time": "2023-11-25T15:26:02.702Z"
   },
   {
    "duration": 7,
    "start_time": "2023-11-25T15:33:41.446Z"
   },
   {
    "duration": 14,
    "start_time": "2023-11-25T15:34:35.381Z"
   },
   {
    "duration": 111,
    "start_time": "2023-11-25T15:35:05.262Z"
   },
   {
    "duration": 5,
    "start_time": "2023-11-25T15:35:33.750Z"
   },
   {
    "duration": 39,
    "start_time": "2023-11-25T16:52:12.680Z"
   },
   {
    "duration": 1366,
    "start_time": "2023-11-25T16:52:19.718Z"
   },
   {
    "duration": 177,
    "start_time": "2023-11-25T16:52:21.086Z"
   },
   {
    "duration": 33,
    "start_time": "2023-11-25T16:52:21.264Z"
   },
   {
    "duration": 26,
    "start_time": "2023-11-25T16:52:21.298Z"
   },
   {
    "duration": 4,
    "start_time": "2023-11-25T16:52:21.326Z"
   },
   {
    "duration": 7,
    "start_time": "2023-11-25T16:52:21.331Z"
   },
   {
    "duration": 4,
    "start_time": "2023-11-25T16:52:31.640Z"
   },
   {
    "duration": 6,
    "start_time": "2023-11-25T16:52:48.714Z"
   },
   {
    "duration": 110,
    "start_time": "2023-11-25T16:53:31.110Z"
   },
   {
    "duration": 1563,
    "start_time": "2023-11-25T21:41:13.174Z"
   },
   {
    "duration": 180,
    "start_time": "2023-11-25T21:41:14.739Z"
   },
   {
    "duration": 42,
    "start_time": "2023-11-25T21:41:14.920Z"
   },
   {
    "duration": 31,
    "start_time": "2023-11-25T21:41:14.963Z"
   },
   {
    "duration": 5,
    "start_time": "2023-11-25T21:41:14.995Z"
   },
   {
    "duration": 19,
    "start_time": "2023-11-25T21:41:15.023Z"
   },
   {
    "duration": 34,
    "start_time": "2023-11-25T21:41:15.044Z"
   },
   {
    "duration": 107,
    "start_time": "2023-11-25T21:44:15.746Z"
   },
   {
    "duration": 8,
    "start_time": "2023-11-25T21:55:46.690Z"
   },
   {
    "duration": 8,
    "start_time": "2023-11-25T21:55:54.553Z"
   },
   {
    "duration": 8,
    "start_time": "2023-11-25T21:56:05.499Z"
   },
   {
    "duration": 31,
    "start_time": "2023-11-25T22:00:08.669Z"
   },
   {
    "duration": 8,
    "start_time": "2023-11-25T22:02:37.915Z"
   },
   {
    "duration": 6,
    "start_time": "2023-11-25T22:02:51.168Z"
   },
   {
    "duration": 11,
    "start_time": "2023-11-25T22:05:54.398Z"
   },
   {
    "duration": 45,
    "start_time": "2023-11-26T13:35:24.451Z"
   },
   {
    "duration": 1492,
    "start_time": "2023-11-26T13:35:37.715Z"
   },
   {
    "duration": 183,
    "start_time": "2023-11-26T13:35:39.209Z"
   },
   {
    "duration": 35,
    "start_time": "2023-11-26T13:35:39.394Z"
   },
   {
    "duration": 28,
    "start_time": "2023-11-26T13:35:39.431Z"
   },
   {
    "duration": 4,
    "start_time": "2023-11-26T13:35:39.461Z"
   },
   {
    "duration": 10,
    "start_time": "2023-11-26T13:35:39.466Z"
   },
   {
    "duration": 13,
    "start_time": "2023-11-26T13:35:39.477Z"
   },
   {
    "duration": 3,
    "start_time": "2023-11-26T13:35:39.492Z"
   },
   {
    "duration": 79,
    "start_time": "2023-11-26T13:35:39.496Z"
   },
   {
    "duration": 0,
    "start_time": "2023-11-26T13:35:39.576Z"
   },
   {
    "duration": 21,
    "start_time": "2023-11-26T13:36:14.411Z"
   },
   {
    "duration": 13,
    "start_time": "2023-11-26T13:37:10.421Z"
   },
   {
    "duration": 20,
    "start_time": "2023-11-26T13:39:36.212Z"
   },
   {
    "duration": 20,
    "start_time": "2023-11-26T13:41:29.533Z"
   },
   {
    "duration": 38,
    "start_time": "2023-11-26T13:48:03.078Z"
   },
   {
    "duration": 34,
    "start_time": "2023-11-26T13:48:37.392Z"
   },
   {
    "duration": 7,
    "start_time": "2023-11-26T13:50:36.478Z"
   },
   {
    "duration": 8,
    "start_time": "2023-11-26T13:51:19.485Z"
   },
   {
    "duration": 5,
    "start_time": "2023-11-26T13:51:28.706Z"
   },
   {
    "duration": 1581,
    "start_time": "2023-11-26T15:29:28.175Z"
   },
   {
    "duration": 182,
    "start_time": "2023-11-26T15:29:29.758Z"
   },
   {
    "duration": 42,
    "start_time": "2023-11-26T15:29:29.942Z"
   },
   {
    "duration": 34,
    "start_time": "2023-11-26T15:29:29.987Z"
   },
   {
    "duration": 7,
    "start_time": "2023-11-26T15:29:30.023Z"
   },
   {
    "duration": 33,
    "start_time": "2023-11-26T15:29:30.031Z"
   },
   {
    "duration": 56,
    "start_time": "2023-11-26T15:29:30.066Z"
   },
   {
    "duration": 48,
    "start_time": "2023-11-26T15:29:30.123Z"
   },
   {
    "duration": 53,
    "start_time": "2023-11-26T15:29:30.173Z"
   },
   {
    "duration": 31,
    "start_time": "2023-11-26T15:29:30.228Z"
   },
   {
    "duration": 6,
    "start_time": "2023-11-26T15:29:30.260Z"
   },
   {
    "duration": 139,
    "start_time": "2023-11-26T15:29:30.268Z"
   },
   {
    "duration": 91,
    "start_time": "2023-11-26T15:29:40.614Z"
   },
   {
    "duration": 1721,
    "start_time": "2023-11-27T06:49:20.119Z"
   },
   {
    "duration": 122,
    "start_time": "2023-11-27T06:49:21.843Z"
   },
   {
    "duration": 42,
    "start_time": "2023-11-27T06:49:21.967Z"
   },
   {
    "duration": 31,
    "start_time": "2023-11-27T06:49:22.010Z"
   },
   {
    "duration": 4,
    "start_time": "2023-11-27T06:49:22.044Z"
   },
   {
    "duration": 9,
    "start_time": "2023-11-27T06:49:22.049Z"
   },
   {
    "duration": 8,
    "start_time": "2023-11-27T06:49:22.059Z"
   },
   {
    "duration": 20,
    "start_time": "2023-11-27T06:49:22.068Z"
   },
   {
    "duration": 60,
    "start_time": "2023-11-27T06:49:22.090Z"
   },
   {
    "duration": 34,
    "start_time": "2023-11-27T06:49:22.151Z"
   },
   {
    "duration": 6,
    "start_time": "2023-11-27T06:49:22.186Z"
   },
   {
    "duration": 24,
    "start_time": "2023-11-27T06:49:22.214Z"
   },
   {
    "duration": 6,
    "start_time": "2023-11-27T06:50:26.392Z"
   },
   {
    "duration": 22,
    "start_time": "2023-11-27T06:51:28.173Z"
   },
   {
    "duration": 6,
    "start_time": "2023-11-27T06:51:47.573Z"
   },
   {
    "duration": 6,
    "start_time": "2023-11-27T06:52:16.701Z"
   },
   {
    "duration": 6,
    "start_time": "2023-11-27T06:54:15.364Z"
   },
   {
    "duration": 91,
    "start_time": "2023-11-27T06:54:15.372Z"
   },
   {
    "duration": 36,
    "start_time": "2023-11-27T06:54:15.464Z"
   },
   {
    "duration": 32,
    "start_time": "2023-11-27T06:54:15.502Z"
   },
   {
    "duration": 5,
    "start_time": "2023-11-27T06:54:15.535Z"
   },
   {
    "duration": 12,
    "start_time": "2023-11-27T06:54:15.542Z"
   },
   {
    "duration": 10,
    "start_time": "2023-11-27T06:54:15.555Z"
   },
   {
    "duration": 27,
    "start_time": "2023-11-27T06:54:15.566Z"
   },
   {
    "duration": 54,
    "start_time": "2023-11-27T06:54:15.595Z"
   },
   {
    "duration": 34,
    "start_time": "2023-11-27T06:54:15.651Z"
   },
   {
    "duration": 28,
    "start_time": "2023-11-27T06:54:15.687Z"
   },
   {
    "duration": 13,
    "start_time": "2023-11-27T06:54:15.716Z"
   },
   {
    "duration": 23,
    "start_time": "2023-11-27T06:54:15.730Z"
   },
   {
    "duration": 93,
    "start_time": "2023-11-27T06:54:59.374Z"
   },
   {
    "duration": 38,
    "start_time": "2023-11-27T06:55:02.518Z"
   },
   {
    "duration": 120,
    "start_time": "2023-11-27T07:01:42.861Z"
   },
   {
    "duration": 10,
    "start_time": "2023-11-27T07:02:17.123Z"
   },
   {
    "duration": 6,
    "start_time": "2023-11-27T07:02:27.266Z"
   },
   {
    "duration": 6,
    "start_time": "2023-11-27T07:02:28.354Z"
   },
   {
    "duration": 7,
    "start_time": "2023-11-27T07:02:29.177Z"
   },
   {
    "duration": 6,
    "start_time": "2023-11-27T07:08:56.154Z"
   },
   {
    "duration": 93,
    "start_time": "2023-11-27T07:08:56.162Z"
   },
   {
    "duration": 36,
    "start_time": "2023-11-27T07:08:56.257Z"
   },
   {
    "duration": 34,
    "start_time": "2023-11-27T07:08:56.294Z"
   },
   {
    "duration": 5,
    "start_time": "2023-11-27T07:08:56.331Z"
   },
   {
    "duration": 21,
    "start_time": "2023-11-27T07:08:56.338Z"
   },
   {
    "duration": 39,
    "start_time": "2023-11-27T07:08:56.360Z"
   },
   {
    "duration": 7,
    "start_time": "2023-11-27T07:08:56.401Z"
   },
   {
    "duration": 14,
    "start_time": "2023-11-27T07:08:56.413Z"
   },
   {
    "duration": 11,
    "start_time": "2023-11-27T07:08:56.429Z"
   },
   {
    "duration": 1505,
    "start_time": "2023-11-27T07:17:58.550Z"
   },
   {
    "duration": 78,
    "start_time": "2023-11-27T07:18:00.057Z"
   },
   {
    "duration": 45,
    "start_time": "2023-11-27T07:18:00.136Z"
   },
   {
    "duration": 54,
    "start_time": "2023-11-27T07:18:00.183Z"
   },
   {
    "duration": 6,
    "start_time": "2023-11-27T07:18:00.239Z"
   },
   {
    "duration": 47,
    "start_time": "2023-11-27T07:18:00.246Z"
   },
   {
    "duration": 66,
    "start_time": "2023-11-27T07:18:00.295Z"
   },
   {
    "duration": 29,
    "start_time": "2023-11-27T07:18:00.363Z"
   },
   {
    "duration": 64,
    "start_time": "2023-11-27T07:18:00.394Z"
   },
   {
    "duration": 32,
    "start_time": "2023-11-27T07:18:00.459Z"
   },
   {
    "duration": 8,
    "start_time": "2023-11-27T07:28:50.446Z"
   },
   {
    "duration": 120,
    "start_time": "2023-11-27T07:37:52.596Z"
   },
   {
    "duration": 124,
    "start_time": "2023-11-27T07:38:13.876Z"
   },
   {
    "duration": 5,
    "start_time": "2023-11-27T07:38:56.042Z"
   },
   {
    "duration": 16,
    "start_time": "2023-11-27T07:59:20.000Z"
   },
   {
    "duration": 24,
    "start_time": "2023-11-27T08:00:38.230Z"
   },
   {
    "duration": 17,
    "start_time": "2023-11-27T09:59:07.667Z"
   },
   {
    "duration": 6,
    "start_time": "2023-11-27T10:00:16.101Z"
   },
   {
    "duration": 115,
    "start_time": "2023-11-27T10:00:16.109Z"
   },
   {
    "duration": 34,
    "start_time": "2023-11-27T10:00:16.226Z"
   },
   {
    "duration": 31,
    "start_time": "2023-11-27T10:00:16.262Z"
   },
   {
    "duration": 5,
    "start_time": "2023-11-27T10:00:16.314Z"
   },
   {
    "duration": 21,
    "start_time": "2023-11-27T10:00:16.321Z"
   },
   {
    "duration": 23,
    "start_time": "2023-11-27T10:00:16.344Z"
   },
   {
    "duration": 7,
    "start_time": "2023-11-27T10:00:16.368Z"
   },
   {
    "duration": 50,
    "start_time": "2023-11-27T10:00:16.377Z"
   },
   {
    "duration": 6,
    "start_time": "2023-11-27T10:00:16.429Z"
   },
   {
    "duration": 15,
    "start_time": "2023-11-27T10:00:16.436Z"
   },
   {
    "duration": 1493,
    "start_time": "2023-11-27T10:03:08.560Z"
   },
   {
    "duration": 82,
    "start_time": "2023-11-27T10:03:10.055Z"
   },
   {
    "duration": 41,
    "start_time": "2023-11-27T10:03:10.139Z"
   },
   {
    "duration": 41,
    "start_time": "2023-11-27T10:03:10.181Z"
   },
   {
    "duration": 7,
    "start_time": "2023-11-27T10:03:10.224Z"
   },
   {
    "duration": 46,
    "start_time": "2023-11-27T10:03:10.233Z"
   },
   {
    "duration": 31,
    "start_time": "2023-11-27T10:03:27.962Z"
   },
   {
    "duration": 35,
    "start_time": "2023-11-27T10:05:03.257Z"
   },
   {
    "duration": 30,
    "start_time": "2023-11-27T11:19:52.496Z"
   },
   {
    "duration": 1823,
    "start_time": "2023-11-27T11:22:05.572Z"
   },
   {
    "duration": 16,
    "start_time": "2023-11-27T11:28:27.882Z"
   },
   {
    "duration": 12,
    "start_time": "2023-11-27T11:31:22.421Z"
   },
   {
    "duration": 9,
    "start_time": "2023-11-27T11:31:34.516Z"
   },
   {
    "duration": 9,
    "start_time": "2023-11-27T11:31:38.756Z"
   },
   {
    "duration": 27,
    "start_time": "2023-11-27T11:31:39.596Z"
   },
   {
    "duration": 6,
    "start_time": "2023-11-27T11:31:42.587Z"
   },
   {
    "duration": 15,
    "start_time": "2023-11-27T11:31:44.180Z"
   },
   {
    "duration": 428,
    "start_time": "2023-11-27T11:37:20.401Z"
   },
   {
    "duration": 1658,
    "start_time": "2023-11-27T11:38:30.329Z"
   },
   {
    "duration": 1712,
    "start_time": "2023-11-27T11:38:58.320Z"
   },
   {
    "duration": 1481,
    "start_time": "2023-11-27T11:39:19.910Z"
   },
   {
    "duration": 608,
    "start_time": "2023-11-27T11:42:51.585Z"
   },
   {
    "duration": 767,
    "start_time": "2023-11-27T11:43:34.359Z"
   },
   {
    "duration": 615,
    "start_time": "2023-11-27T11:47:16.322Z"
   },
   {
    "duration": 7,
    "start_time": "2023-11-27T12:22:10.205Z"
   },
   {
    "duration": 4,
    "start_time": "2023-11-27T12:22:31.092Z"
   },
   {
    "duration": 6,
    "start_time": "2023-11-27T12:23:14.211Z"
   },
   {
    "duration": 3,
    "start_time": "2023-11-27T12:23:18.395Z"
   },
   {
    "duration": 30,
    "start_time": "2023-11-27T12:28:08.628Z"
   },
   {
    "duration": 7,
    "start_time": "2023-11-27T12:28:13.309Z"
   },
   {
    "duration": 12,
    "start_time": "2023-11-27T12:28:20.906Z"
   },
   {
    "duration": 5,
    "start_time": "2023-11-27T12:32:52.460Z"
   },
   {
    "duration": 92,
    "start_time": "2023-11-27T12:36:46.059Z"
   },
   {
    "duration": 13,
    "start_time": "2023-11-27T12:41:32.092Z"
   },
   {
    "duration": 449,
    "start_time": "2023-11-27T12:43:09.315Z"
   },
   {
    "duration": 2278,
    "start_time": "2023-11-27T12:44:12.337Z"
   },
   {
    "duration": 740,
    "start_time": "2023-11-27T12:45:34.759Z"
   },
   {
    "duration": 12,
    "start_time": "2023-11-27T12:47:01.739Z"
   },
   {
    "duration": 18,
    "start_time": "2023-11-27T12:47:21.915Z"
   },
   {
    "duration": 1555,
    "start_time": "2023-11-27T12:47:32.386Z"
   },
   {
    "duration": 6,
    "start_time": "2023-11-27T12:48:36.568Z"
   },
   {
    "duration": 737,
    "start_time": "2023-11-27T12:48:43.928Z"
   },
   {
    "duration": 1392,
    "start_time": "2023-11-27T12:48:47.768Z"
   },
   {
    "duration": 1576,
    "start_time": "2023-11-27T12:49:00.744Z"
   },
   {
    "duration": 5,
    "start_time": "2023-11-27T12:57:50.801Z"
   },
   {
    "duration": 2449,
    "start_time": "2023-11-27T12:59:05.079Z"
   },
   {
    "duration": 3486,
    "start_time": "2023-11-27T13:09:07.991Z"
   },
   {
    "duration": 3374,
    "start_time": "2023-11-27T13:09:31.750Z"
   },
   {
    "duration": 2675,
    "start_time": "2023-11-27T13:10:18.244Z"
   },
   {
    "duration": 2703,
    "start_time": "2023-11-27T13:12:04.265Z"
   },
   {
    "duration": 2845,
    "start_time": "2023-11-27T13:12:25.625Z"
   },
   {
    "duration": 2876,
    "start_time": "2023-11-27T13:12:37.272Z"
   },
   {
    "duration": 3010,
    "start_time": "2023-11-27T13:13:37.654Z"
   },
   {
    "duration": 4,
    "start_time": "2023-11-27T13:24:53.160Z"
   },
   {
    "duration": 2680,
    "start_time": "2023-11-27T13:25:17.473Z"
   },
   {
    "duration": 1646,
    "start_time": "2023-11-27T13:26:53.231Z"
   },
   {
    "duration": 82,
    "start_time": "2023-11-27T13:26:54.879Z"
   },
   {
    "duration": 84,
    "start_time": "2023-11-27T13:26:54.963Z"
   },
   {
    "duration": 31,
    "start_time": "2023-11-27T13:26:55.050Z"
   },
   {
    "duration": 5,
    "start_time": "2023-11-27T13:26:55.083Z"
   },
   {
    "duration": 140,
    "start_time": "2023-11-27T13:26:55.089Z"
   },
   {
    "duration": 0,
    "start_time": "2023-11-27T13:26:55.231Z"
   },
   {
    "duration": 0,
    "start_time": "2023-11-27T13:26:55.233Z"
   },
   {
    "duration": 0,
    "start_time": "2023-11-27T13:26:55.234Z"
   },
   {
    "duration": 0,
    "start_time": "2023-11-27T13:26:55.235Z"
   },
   {
    "duration": 0,
    "start_time": "2023-11-27T13:26:55.236Z"
   },
   {
    "duration": 0,
    "start_time": "2023-11-27T13:26:55.238Z"
   },
   {
    "duration": 0,
    "start_time": "2023-11-27T13:26:55.240Z"
   },
   {
    "duration": 0,
    "start_time": "2023-11-27T13:26:55.242Z"
   },
   {
    "duration": 0,
    "start_time": "2023-11-27T13:26:55.242Z"
   },
   {
    "duration": 0,
    "start_time": "2023-11-27T13:26:55.244Z"
   },
   {
    "duration": 0,
    "start_time": "2023-11-27T13:26:55.245Z"
   },
   {
    "duration": 0,
    "start_time": "2023-11-27T13:26:55.246Z"
   },
   {
    "duration": 21,
    "start_time": "2023-11-27T13:27:37.038Z"
   },
   {
    "duration": 7,
    "start_time": "2023-11-27T13:29:25.913Z"
   },
   {
    "duration": 20,
    "start_time": "2023-11-27T13:29:25.924Z"
   },
   {
    "duration": 32,
    "start_time": "2023-11-27T13:29:25.945Z"
   },
   {
    "duration": 57,
    "start_time": "2023-11-27T13:29:25.979Z"
   },
   {
    "duration": 5,
    "start_time": "2023-11-27T13:29:26.038Z"
   },
   {
    "duration": 28,
    "start_time": "2023-11-27T13:29:26.044Z"
   },
   {
    "duration": 745,
    "start_time": "2023-11-27T13:29:26.073Z"
   },
   {
    "duration": 3,
    "start_time": "2023-11-27T13:29:26.820Z"
   },
   {
    "duration": 7,
    "start_time": "2023-11-27T13:29:26.826Z"
   },
   {
    "duration": 26,
    "start_time": "2023-11-27T13:29:26.835Z"
   },
   {
    "duration": 6,
    "start_time": "2023-11-27T13:29:26.863Z"
   },
   {
    "duration": 54,
    "start_time": "2023-11-27T13:29:26.871Z"
   },
   {
    "duration": 0,
    "start_time": "2023-11-27T13:29:26.928Z"
   },
   {
    "duration": 0,
    "start_time": "2023-11-27T13:29:26.929Z"
   },
   {
    "duration": 8,
    "start_time": "2023-11-27T13:29:40.787Z"
   },
   {
    "duration": 4,
    "start_time": "2023-11-27T13:29:44.856Z"
   },
   {
    "duration": 2924,
    "start_time": "2023-11-27T13:29:44.861Z"
   },
   {
    "duration": 6,
    "start_time": "2023-11-27T13:31:09.584Z"
   },
   {
    "duration": 4,
    "start_time": "2023-11-27T13:31:53.045Z"
   },
   {
    "duration": 4,
    "start_time": "2023-11-27T13:31:53.965Z"
   },
   {
    "duration": 2579,
    "start_time": "2023-11-27T13:32:04.878Z"
   },
   {
    "duration": 2310,
    "start_time": "2023-11-28T10:43:03.979Z"
   },
   {
    "duration": 119,
    "start_time": "2023-11-28T10:43:06.291Z"
   },
   {
    "duration": 154,
    "start_time": "2023-11-28T10:43:06.412Z"
   },
   {
    "duration": 28,
    "start_time": "2023-11-28T10:43:06.568Z"
   },
   {
    "duration": 34,
    "start_time": "2023-11-28T10:43:06.656Z"
   },
   {
    "duration": 66,
    "start_time": "2023-11-28T10:43:06.691Z"
   },
   {
    "duration": 36,
    "start_time": "2023-11-28T10:43:06.760Z"
   },
   {
    "duration": 76,
    "start_time": "2023-11-28T10:43:06.798Z"
   },
   {
    "duration": 5,
    "start_time": "2023-11-28T10:43:06.875Z"
   },
   {
    "duration": 86,
    "start_time": "2023-11-28T10:43:06.881Z"
   },
   {
    "duration": 1229,
    "start_time": "2023-11-28T10:43:06.968Z"
   },
   {
    "duration": 57,
    "start_time": "2023-11-28T10:43:08.199Z"
   },
   {
    "duration": 12,
    "start_time": "2023-11-28T10:43:08.258Z"
   },
   {
    "duration": 23,
    "start_time": "2023-11-28T10:43:08.272Z"
   },
   {
    "duration": 75,
    "start_time": "2023-11-28T10:43:08.296Z"
   },
   {
    "duration": 6,
    "start_time": "2023-11-28T10:43:08.373Z"
   },
   {
    "duration": 12,
    "start_time": "2023-11-28T10:43:08.380Z"
   },
   {
    "duration": 66,
    "start_time": "2023-11-28T10:43:08.393Z"
   },
   {
    "duration": 5300,
    "start_time": "2023-11-28T10:43:08.460Z"
   },
   {
    "duration": 139,
    "start_time": "2023-11-28T12:45:27.428Z"
   },
   {
    "duration": 26,
    "start_time": "2023-11-28T12:53:00.408Z"
   },
   {
    "duration": 1378,
    "start_time": "2023-11-30T07:44:41.860Z"
   },
   {
    "duration": 192,
    "start_time": "2023-11-30T07:44:43.239Z"
   },
   {
    "duration": 63,
    "start_time": "2023-11-30T07:44:43.432Z"
   },
   {
    "duration": 37,
    "start_time": "2023-11-30T07:44:43.497Z"
   },
   {
    "duration": 4,
    "start_time": "2023-11-30T07:44:43.536Z"
   },
   {
    "duration": 12,
    "start_time": "2023-11-30T07:44:43.542Z"
   },
   {
    "duration": 24,
    "start_time": "2023-11-30T07:44:43.555Z"
   },
   {
    "duration": 40,
    "start_time": "2023-11-30T07:44:43.581Z"
   },
   {
    "duration": 4,
    "start_time": "2023-11-30T07:44:43.622Z"
   },
   {
    "duration": 23,
    "start_time": "2023-11-30T07:44:43.627Z"
   },
   {
    "duration": 525,
    "start_time": "2023-11-30T07:44:43.652Z"
   },
   {
    "duration": 3,
    "start_time": "2023-11-30T07:44:44.178Z"
   },
   {
    "duration": 8,
    "start_time": "2023-11-30T07:44:44.182Z"
   },
   {
    "duration": 7,
    "start_time": "2023-11-30T07:44:44.191Z"
   },
   {
    "duration": 28,
    "start_time": "2023-11-30T07:44:44.199Z"
   },
   {
    "duration": 4,
    "start_time": "2023-11-30T07:44:44.229Z"
   },
   {
    "duration": 10,
    "start_time": "2023-11-30T07:44:44.233Z"
   },
   {
    "duration": 3,
    "start_time": "2023-11-30T07:44:44.244Z"
   },
   {
    "duration": 2009,
    "start_time": "2023-11-30T07:44:44.248Z"
   },
   {
    "duration": 20,
    "start_time": "2023-11-30T07:44:46.258Z"
   },
   {
    "duration": 121,
    "start_time": "2023-11-30T08:33:55.055Z"
   },
   {
    "duration": 1529,
    "start_time": "2023-11-30T08:36:44.238Z"
   },
   {
    "duration": 1467,
    "start_time": "2023-11-30T08:38:24.858Z"
   },
   {
    "duration": 1905,
    "start_time": "2023-11-30T08:40:00.175Z"
   },
   {
    "duration": 1842,
    "start_time": "2023-11-30T08:40:19.278Z"
   },
   {
    "duration": 1503,
    "start_time": "2023-11-30T08:41:40.572Z"
   },
   {
    "duration": 1883,
    "start_time": "2023-11-30T08:42:29.846Z"
   },
   {
    "duration": 2327,
    "start_time": "2023-11-30T08:43:24.328Z"
   },
   {
    "duration": 1966,
    "start_time": "2023-11-30T08:43:50.969Z"
   },
   {
    "duration": 1816,
    "start_time": "2023-11-30T08:43:59.902Z"
   },
   {
    "duration": 1822,
    "start_time": "2023-11-30T08:44:36.944Z"
   },
   {
    "duration": 1832,
    "start_time": "2023-11-30T08:47:35.411Z"
   },
   {
    "duration": 1641,
    "start_time": "2023-11-30T13:19:16.710Z"
   },
   {
    "duration": 124,
    "start_time": "2023-11-30T13:19:18.353Z"
   },
   {
    "duration": 67,
    "start_time": "2023-11-30T13:19:18.478Z"
   },
   {
    "duration": 31,
    "start_time": "2023-11-30T13:19:18.547Z"
   },
   {
    "duration": 12,
    "start_time": "2023-11-30T13:22:42.550Z"
   },
   {
    "duration": 122,
    "start_time": "2023-11-30T13:36:20.795Z"
   },
   {
    "duration": 1489,
    "start_time": "2023-11-30T13:39:43.159Z"
   },
   {
    "duration": 89,
    "start_time": "2023-11-30T13:39:44.650Z"
   },
   {
    "duration": 75,
    "start_time": "2023-11-30T13:39:44.740Z"
   },
   {
    "duration": 43,
    "start_time": "2023-11-30T13:39:44.817Z"
   },
   {
    "duration": 5,
    "start_time": "2023-11-30T13:40:39.193Z"
   },
   {
    "duration": 80,
    "start_time": "2023-11-30T13:40:39.199Z"
   },
   {
    "duration": 65,
    "start_time": "2023-11-30T13:40:39.280Z"
   },
   {
    "duration": 34,
    "start_time": "2023-11-30T13:40:39.347Z"
   },
   {
    "duration": 4,
    "start_time": "2023-11-30T13:40:39.383Z"
   },
   {
    "duration": 14,
    "start_time": "2023-11-30T13:40:39.388Z"
   },
   {
    "duration": 36,
    "start_time": "2023-11-30T13:40:39.403Z"
   },
   {
    "duration": 27,
    "start_time": "2023-11-30T13:40:39.456Z"
   },
   {
    "duration": 4,
    "start_time": "2023-11-30T13:40:39.485Z"
   },
   {
    "duration": 26,
    "start_time": "2023-11-30T13:40:44.831Z"
   },
   {
    "duration": 608,
    "start_time": "2023-11-30T13:41:34.973Z"
   },
   {
    "duration": 177,
    "start_time": "2023-11-30T13:41:41.673Z"
   },
   {
    "duration": 13,
    "start_time": "2023-11-30T13:50:29.503Z"
   },
   {
    "duration": 1592,
    "start_time": "2023-11-30T16:18:43.989Z"
   },
   {
    "duration": 171,
    "start_time": "2023-11-30T16:18:46.473Z"
   },
   {
    "duration": 67,
    "start_time": "2023-11-30T16:18:48.395Z"
   },
   {
    "duration": 28,
    "start_time": "2023-11-30T16:18:54.296Z"
   },
   {
    "duration": 5,
    "start_time": "2023-11-30T16:25:32.930Z"
   },
   {
    "duration": 13,
    "start_time": "2023-11-30T16:25:37.856Z"
   },
   {
    "duration": 19,
    "start_time": "2023-11-30T16:25:57.419Z"
   },
   {
    "duration": 15,
    "start_time": "2023-11-30T16:26:06.293Z"
   },
   {
    "duration": 5,
    "start_time": "2023-11-30T16:28:06.364Z"
   },
   {
    "duration": 48,
    "start_time": "2023-11-30T16:30:52.009Z"
   },
   {
    "duration": 584,
    "start_time": "2023-11-30T16:31:39.019Z"
   },
   {
    "duration": 7,
    "start_time": "2023-11-30T16:32:05.915Z"
   },
   {
    "duration": 7,
    "start_time": "2023-11-30T16:46:41.170Z"
   },
   {
    "duration": 7,
    "start_time": "2023-11-30T18:39:34.316Z"
   },
   {
    "duration": 5,
    "start_time": "2023-11-30T18:41:40.188Z"
   },
   {
    "duration": 7,
    "start_time": "2023-11-30T18:41:50.401Z"
   },
   {
    "duration": 23,
    "start_time": "2023-11-30T18:41:51.335Z"
   },
   {
    "duration": 5,
    "start_time": "2023-11-30T18:41:56.858Z"
   },
   {
    "duration": 8,
    "start_time": "2023-11-30T18:42:00.955Z"
   },
   {
    "duration": 4,
    "start_time": "2023-11-30T18:42:11.705Z"
   },
   {
    "duration": 58,
    "start_time": "2023-11-30T18:46:38.682Z"
   },
   {
    "duration": 4,
    "start_time": "2023-11-30T18:47:19.639Z"
   },
   {
    "duration": 57,
    "start_time": "2023-11-30T18:47:20.779Z"
   },
   {
    "duration": 1507,
    "start_time": "2023-11-30T19:12:12.126Z"
   },
   {
    "duration": 78,
    "start_time": "2023-11-30T19:12:13.635Z"
   },
   {
    "duration": 72,
    "start_time": "2023-11-30T19:12:13.714Z"
   },
   {
    "duration": 29,
    "start_time": "2023-11-30T19:12:13.788Z"
   },
   {
    "duration": 4,
    "start_time": "2023-11-30T19:12:13.819Z"
   },
   {
    "duration": 32,
    "start_time": "2023-11-30T19:12:13.824Z"
   },
   {
    "duration": 19,
    "start_time": "2023-11-30T19:12:13.858Z"
   },
   {
    "duration": 13,
    "start_time": "2023-11-30T19:12:13.879Z"
   },
   {
    "duration": 14,
    "start_time": "2023-11-30T19:12:13.894Z"
   },
   {
    "duration": 26,
    "start_time": "2023-11-30T19:12:13.910Z"
   },
   {
    "duration": 88,
    "start_time": "2023-11-30T19:12:48.657Z"
   },
   {
    "duration": 86,
    "start_time": "2023-11-30T19:15:06.098Z"
   },
   {
    "duration": 641,
    "start_time": "2023-11-30T19:37:53.251Z"
   },
   {
    "duration": 113,
    "start_time": "2023-11-30T19:45:18.074Z"
   },
   {
    "duration": 15,
    "start_time": "2023-11-30T19:46:12.590Z"
   },
   {
    "duration": 14,
    "start_time": "2023-11-30T19:47:36.772Z"
   },
   {
    "duration": 16,
    "start_time": "2023-11-30T19:48:58.505Z"
   },
   {
    "duration": 21,
    "start_time": "2023-11-30T19:53:52.477Z"
   },
   {
    "duration": 24,
    "start_time": "2023-11-30T19:59:16.461Z"
   },
   {
    "duration": 7,
    "start_time": "2023-11-30T20:52:33.669Z"
   },
   {
    "duration": 24,
    "start_time": "2023-11-30T20:52:34.870Z"
   },
   {
    "duration": 5,
    "start_time": "2023-11-30T20:52:37.916Z"
   },
   {
    "duration": 10,
    "start_time": "2023-11-30T20:52:39.933Z"
   },
   {
    "duration": 4,
    "start_time": "2023-11-30T20:52:44.231Z"
   },
   {
    "duration": 14,
    "start_time": "2023-11-30T20:52:46.670Z"
   },
   {
    "duration": 4,
    "start_time": "2023-11-30T20:53:01.713Z"
   },
   {
    "duration": 58,
    "start_time": "2023-11-30T20:53:02.930Z"
   },
   {
    "duration": 58,
    "start_time": "2023-11-30T20:53:35.329Z"
   },
   {
    "duration": 5,
    "start_time": "2023-11-30T21:01:17.392Z"
   },
   {
    "duration": 64,
    "start_time": "2023-11-30T21:09:11.729Z"
   },
   {
    "duration": 17,
    "start_time": "2023-11-30T21:09:31.836Z"
   },
   {
    "duration": 5,
    "start_time": "2023-11-30T21:13:29.098Z"
   },
   {
    "duration": 7,
    "start_time": "2023-11-30T21:13:41.535Z"
   },
   {
    "duration": 11,
    "start_time": "2023-11-30T21:15:20.133Z"
   },
   {
    "duration": 2211,
    "start_time": "2023-11-30T21:21:49.170Z"
   },
   {
    "duration": 3229,
    "start_time": "2023-11-30T21:25:29.434Z"
   },
   {
    "duration": 1521,
    "start_time": "2023-11-30T21:26:40.836Z"
   },
   {
    "duration": 18,
    "start_time": "2023-11-30T21:33:34.135Z"
   },
   {
    "duration": 154,
    "start_time": "2023-11-30T21:34:26.442Z"
   },
   {
    "duration": 141,
    "start_time": "2023-11-30T21:35:19.980Z"
   },
   {
    "duration": 138,
    "start_time": "2023-11-30T21:35:30.980Z"
   },
   {
    "duration": 157,
    "start_time": "2023-11-30T21:35:39.988Z"
   },
   {
    "duration": 163,
    "start_time": "2023-11-30T21:36:13.282Z"
   },
   {
    "duration": 163,
    "start_time": "2023-11-30T21:36:20.980Z"
   },
   {
    "duration": 159,
    "start_time": "2023-11-30T21:36:32.832Z"
   },
   {
    "duration": 150,
    "start_time": "2023-11-30T21:36:53.331Z"
   },
   {
    "duration": 236,
    "start_time": "2023-11-30T21:37:25.124Z"
   },
   {
    "duration": 162,
    "start_time": "2023-11-30T21:37:40.173Z"
   },
   {
    "duration": 6,
    "start_time": "2023-11-30T21:39:20.175Z"
   },
   {
    "duration": 14,
    "start_time": "2023-11-30T21:47:48.713Z"
   },
   {
    "duration": 10,
    "start_time": "2023-11-30T21:48:24.825Z"
   },
   {
    "duration": 28,
    "start_time": "2023-11-30T21:49:19.671Z"
   },
   {
    "duration": 11,
    "start_time": "2023-11-30T21:49:53.662Z"
   },
   {
    "duration": 12,
    "start_time": "2023-11-30T21:50:48.128Z"
   },
   {
    "duration": 9,
    "start_time": "2023-11-30T21:51:01.570Z"
   },
   {
    "duration": 743,
    "start_time": "2023-11-30T21:51:12.302Z"
   },
   {
    "duration": 10,
    "start_time": "2023-11-30T21:53:29.660Z"
   },
   {
    "duration": 88,
    "start_time": "2023-11-30T21:54:04.009Z"
   },
   {
    "duration": 90,
    "start_time": "2023-11-30T21:54:41.339Z"
   },
   {
    "duration": 89,
    "start_time": "2023-11-30T21:57:36.801Z"
   },
   {
    "duration": 13,
    "start_time": "2023-11-30T21:57:45.726Z"
   },
   {
    "duration": 121,
    "start_time": "2023-11-30T21:58:39.895Z"
   },
   {
    "duration": 11,
    "start_time": "2023-11-30T22:03:19.154Z"
   },
   {
    "duration": 87,
    "start_time": "2023-11-30T22:03:56.323Z"
   },
   {
    "duration": 78,
    "start_time": "2023-11-30T22:04:12.062Z"
   },
   {
    "duration": 12,
    "start_time": "2023-11-30T22:04:24.048Z"
   },
   {
    "duration": 5,
    "start_time": "2023-11-30T22:04:50.385Z"
   },
   {
    "duration": 1508,
    "start_time": "2023-11-30T22:06:29.244Z"
   },
   {
    "duration": 74,
    "start_time": "2023-11-30T22:06:30.754Z"
   },
   {
    "duration": 71,
    "start_time": "2023-11-30T22:06:30.829Z"
   },
   {
    "duration": 86,
    "start_time": "2023-11-30T22:06:30.901Z"
   },
   {
    "duration": 4,
    "start_time": "2023-11-30T22:06:30.989Z"
   },
   {
    "duration": 42,
    "start_time": "2023-11-30T22:06:30.994Z"
   },
   {
    "duration": 35,
    "start_time": "2023-11-30T22:06:31.037Z"
   },
   {
    "duration": 13,
    "start_time": "2023-11-30T22:06:31.074Z"
   },
   {
    "duration": 19,
    "start_time": "2023-11-30T22:06:31.089Z"
   },
   {
    "duration": 45,
    "start_time": "2023-11-30T22:06:31.110Z"
   },
   {
    "duration": 21,
    "start_time": "2023-11-30T22:06:31.157Z"
   },
   {
    "duration": 28,
    "start_time": "2023-11-30T22:06:31.181Z"
   },
   {
    "duration": 46,
    "start_time": "2023-11-30T22:06:31.211Z"
   },
   {
    "duration": 6,
    "start_time": "2023-11-30T22:06:31.259Z"
   },
   {
    "duration": 17,
    "start_time": "2023-11-30T22:06:31.266Z"
   },
   {
    "duration": 22,
    "start_time": "2023-11-30T22:06:31.284Z"
   },
   {
    "duration": 20,
    "start_time": "2023-11-30T22:06:31.308Z"
   },
   {
    "duration": 3,
    "start_time": "2023-11-30T22:06:31.330Z"
   },
   {
    "duration": 65,
    "start_time": "2023-11-30T22:06:31.335Z"
   },
   {
    "duration": 22,
    "start_time": "2023-11-30T22:06:41.136Z"
   },
   {
    "duration": 202,
    "start_time": "2023-11-30T22:07:06.192Z"
   },
   {
    "duration": 633,
    "start_time": "2023-11-30T22:07:37.739Z"
   },
   {
    "duration": 785,
    "start_time": "2023-11-30T22:08:57.912Z"
   },
   {
    "duration": 676,
    "start_time": "2023-11-30T22:09:41.329Z"
   },
   {
    "duration": 362,
    "start_time": "2023-11-30T22:10:32.766Z"
   },
   {
    "duration": 226,
    "start_time": "2023-11-30T22:10:58.878Z"
   },
   {
    "duration": 16,
    "start_time": "2023-11-30T22:12:10.205Z"
   },
   {
    "duration": 8,
    "start_time": "2023-11-30T22:13:42.917Z"
   },
   {
    "duration": 1718,
    "start_time": "2023-11-30T22:14:37.271Z"
   },
   {
    "duration": 19,
    "start_time": "2023-11-30T22:14:58.022Z"
   },
   {
    "duration": 7,
    "start_time": "2023-11-30T22:15:30.523Z"
   },
   {
    "duration": 1150,
    "start_time": "2023-11-30T22:17:17.899Z"
   },
   {
    "duration": 1446,
    "start_time": "2023-11-30T22:17:46.238Z"
   },
   {
    "duration": 1173,
    "start_time": "2023-11-30T22:18:56.955Z"
   },
   {
    "duration": 474,
    "start_time": "2023-11-30T22:19:35.365Z"
   },
   {
    "duration": 366,
    "start_time": "2023-11-30T22:21:47.502Z"
   },
   {
    "duration": 10,
    "start_time": "2023-11-30T22:22:06.484Z"
   },
   {
    "duration": 307,
    "start_time": "2023-11-30T22:22:21.377Z"
   },
   {
    "duration": 437,
    "start_time": "2023-11-30T22:22:32.608Z"
   },
   {
    "duration": 2731,
    "start_time": "2023-11-30T22:22:57.839Z"
   },
   {
    "duration": 2570,
    "start_time": "2023-11-30T22:28:41.227Z"
   },
   {
    "duration": 9,
    "start_time": "2023-11-30T22:52:30.995Z"
   },
   {
    "duration": 25,
    "start_time": "2023-11-30T23:11:08.448Z"
   },
   {
    "duration": 12,
    "start_time": "2023-11-30T23:13:03.787Z"
   },
   {
    "duration": 201,
    "start_time": "2023-11-30T23:25:56.188Z"
   },
   {
    "duration": 186,
    "start_time": "2023-11-30T23:26:37.249Z"
   },
   {
    "duration": 1724,
    "start_time": "2023-11-30T23:29:57.907Z"
   },
   {
    "duration": 442,
    "start_time": "2023-11-30T23:30:35.068Z"
   },
   {
    "duration": 424,
    "start_time": "2023-11-30T23:31:00.942Z"
   },
   {
    "duration": 624,
    "start_time": "2023-11-30T23:31:22.950Z"
   },
   {
    "duration": 638,
    "start_time": "2023-11-30T23:33:57.957Z"
   },
   {
    "duration": 375,
    "start_time": "2023-11-30T23:36:01.819Z"
   },
   {
    "duration": 482,
    "start_time": "2023-11-30T23:36:13.388Z"
   },
   {
    "duration": 385,
    "start_time": "2023-11-30T23:36:21.003Z"
   },
   {
    "duration": 673,
    "start_time": "2023-11-30T23:37:09.804Z"
   },
   {
    "duration": 386,
    "start_time": "2023-11-30T23:37:30.190Z"
   },
   {
    "duration": 185,
    "start_time": "2023-11-30T23:40:12.882Z"
   },
   {
    "duration": 101,
    "start_time": "2023-11-30T23:42:10.479Z"
   },
   {
    "duration": 176,
    "start_time": "2023-11-30T23:42:19.538Z"
   },
   {
    "duration": 282,
    "start_time": "2023-11-30T23:42:48.649Z"
   },
   {
    "duration": 173,
    "start_time": "2023-11-30T23:42:59.808Z"
   },
   {
    "duration": 164,
    "start_time": "2023-11-30T23:43:12.300Z"
   },
   {
    "duration": 172,
    "start_time": "2023-11-30T23:43:20.523Z"
   },
   {
    "duration": 1552,
    "start_time": "2023-11-30T23:45:13.415Z"
   },
   {
    "duration": 1088,
    "start_time": "2023-11-30T23:46:23.257Z"
   },
   {
    "duration": 1497,
    "start_time": "2023-11-30T23:46:38.060Z"
   },
   {
    "duration": 199,
    "start_time": "2023-11-30T23:49:13.929Z"
   },
   {
    "duration": 219,
    "start_time": "2023-11-30T23:49:49.901Z"
   },
   {
    "duration": 175,
    "start_time": "2023-11-30T23:50:22.945Z"
   },
   {
    "duration": 3,
    "start_time": "2023-11-30T23:51:01.123Z"
   },
   {
    "duration": 136,
    "start_time": "2023-11-30T23:51:50.579Z"
   },
   {
    "duration": 141,
    "start_time": "2023-11-30T23:52:41.464Z"
   },
   {
    "duration": 574,
    "start_time": "2023-12-01T00:04:30.319Z"
   },
   {
    "duration": 1607,
    "start_time": "2023-12-01T12:36:35.901Z"
   },
   {
    "duration": 180,
    "start_time": "2023-12-01T12:36:37.510Z"
   },
   {
    "duration": 70,
    "start_time": "2023-12-01T12:36:37.691Z"
   },
   {
    "duration": 27,
    "start_time": "2023-12-01T12:36:37.764Z"
   },
   {
    "duration": 20,
    "start_time": "2023-12-01T12:36:37.792Z"
   },
   {
    "duration": 16,
    "start_time": "2023-12-01T12:36:37.814Z"
   },
   {
    "duration": 23,
    "start_time": "2023-12-01T12:36:37.832Z"
   },
   {
    "duration": 14,
    "start_time": "2023-12-01T12:36:37.857Z"
   },
   {
    "duration": 5,
    "start_time": "2023-12-01T12:36:37.873Z"
   },
   {
    "duration": 46,
    "start_time": "2023-12-01T12:36:37.881Z"
   },
   {
    "duration": 22,
    "start_time": "2023-12-01T12:36:37.928Z"
   },
   {
    "duration": 6,
    "start_time": "2023-12-01T12:36:37.952Z"
   },
   {
    "duration": 52,
    "start_time": "2023-12-01T12:36:37.960Z"
   },
   {
    "duration": 5,
    "start_time": "2023-12-01T12:36:38.014Z"
   },
   {
    "duration": 14,
    "start_time": "2023-12-01T12:36:38.021Z"
   },
   {
    "duration": 7,
    "start_time": "2023-12-01T12:36:38.037Z"
   },
   {
    "duration": 12,
    "start_time": "2023-12-01T12:36:38.045Z"
   },
   {
    "duration": 4,
    "start_time": "2023-12-01T12:36:38.059Z"
   },
   {
    "duration": 84,
    "start_time": "2023-12-01T12:36:38.065Z"
   },
   {
    "duration": 471,
    "start_time": "2023-12-01T12:36:38.151Z"
   },
   {
    "duration": 1183,
    "start_time": "2023-12-01T12:36:38.623Z"
   },
   {
    "duration": 2643,
    "start_time": "2023-12-01T12:36:39.811Z"
   },
   {
    "duration": 8,
    "start_time": "2023-12-01T12:36:42.456Z"
   },
   {
    "duration": 23,
    "start_time": "2023-12-01T12:36:42.465Z"
   },
   {
    "duration": 31,
    "start_time": "2023-12-01T12:36:42.489Z"
   },
   {
    "duration": 814,
    "start_time": "2023-12-01T12:36:42.522Z"
   },
   {
    "duration": 399,
    "start_time": "2023-12-01T12:36:43.337Z"
   },
   {
    "duration": 1596,
    "start_time": "2023-12-01T12:36:43.740Z"
   },
   {
    "duration": 83,
    "start_time": "2023-12-01T12:36:45.338Z"
   },
   {
    "duration": 0,
    "start_time": "2023-12-01T12:36:45.422Z"
   },
   {
    "duration": 0,
    "start_time": "2023-12-01T12:36:45.424Z"
   },
   {
    "duration": 0,
    "start_time": "2023-12-01T12:36:45.425Z"
   },
   {
    "duration": 0,
    "start_time": "2023-12-01T12:36:45.427Z"
   },
   {
    "duration": 1684,
    "start_time": "2023-12-01T12:43:19.762Z"
   },
   {
    "duration": 1439,
    "start_time": "2023-12-01T12:44:49.269Z"
   },
   {
    "duration": 1577,
    "start_time": "2023-12-01T12:44:57.199Z"
   },
   {
    "duration": 267,
    "start_time": "2023-12-01T12:47:15.530Z"
   },
   {
    "duration": 158,
    "start_time": "2023-12-01T12:47:25.524Z"
   },
   {
    "duration": 141,
    "start_time": "2023-12-01T12:47:29.857Z"
   },
   {
    "duration": 206,
    "start_time": "2023-12-01T12:47:40.293Z"
   },
   {
    "duration": 1658,
    "start_time": "2023-12-01T12:48:21.169Z"
   },
   {
    "duration": 1907,
    "start_time": "2023-12-01T12:48:42.404Z"
   },
   {
    "duration": 1793,
    "start_time": "2023-12-01T12:48:54.532Z"
   },
   {
    "duration": 2375,
    "start_time": "2023-12-01T12:52:47.809Z"
   },
   {
    "duration": 2132,
    "start_time": "2023-12-01T12:53:47.274Z"
   },
   {
    "duration": 2273,
    "start_time": "2023-12-01T12:54:02.692Z"
   },
   {
    "duration": 2240,
    "start_time": "2023-12-01T12:54:18.522Z"
   },
   {
    "duration": 246,
    "start_time": "2023-12-01T12:54:36.286Z"
   },
   {
    "duration": 2306,
    "start_time": "2023-12-01T12:54:59.217Z"
   },
   {
    "duration": 2580,
    "start_time": "2023-12-01T12:59:53.683Z"
   },
   {
    "duration": 1622,
    "start_time": "2023-12-01T19:41:24.381Z"
   },
   {
    "duration": 191,
    "start_time": "2023-12-01T19:41:26.005Z"
   },
   {
    "duration": 68,
    "start_time": "2023-12-01T19:41:26.198Z"
   },
   {
    "duration": 27,
    "start_time": "2023-12-01T19:41:26.268Z"
   },
   {
    "duration": 18,
    "start_time": "2023-12-01T19:41:26.296Z"
   },
   {
    "duration": 12,
    "start_time": "2023-12-01T19:41:26.316Z"
   },
   {
    "duration": 17,
    "start_time": "2023-12-01T19:41:26.330Z"
   },
   {
    "duration": 12,
    "start_time": "2023-12-01T19:41:26.349Z"
   },
   {
    "duration": 4,
    "start_time": "2023-12-01T19:41:26.363Z"
   },
   {
    "duration": 45,
    "start_time": "2023-12-01T19:41:26.369Z"
   },
   {
    "duration": 22,
    "start_time": "2023-12-01T19:41:26.415Z"
   },
   {
    "duration": 6,
    "start_time": "2023-12-01T19:41:26.438Z"
   },
   {
    "duration": 30,
    "start_time": "2023-12-01T19:41:26.445Z"
   },
   {
    "duration": 5,
    "start_time": "2023-12-01T19:41:26.476Z"
   },
   {
    "duration": 34,
    "start_time": "2023-12-01T19:41:26.482Z"
   },
   {
    "duration": 5,
    "start_time": "2023-12-01T19:41:26.517Z"
   },
   {
    "duration": 12,
    "start_time": "2023-12-01T19:41:26.523Z"
   },
   {
    "duration": 4,
    "start_time": "2023-12-01T19:41:26.536Z"
   },
   {
    "duration": 83,
    "start_time": "2023-12-01T19:41:26.541Z"
   },
   {
    "duration": 421,
    "start_time": "2023-12-01T19:41:26.625Z"
   },
   {
    "duration": 1204,
    "start_time": "2023-12-01T19:41:27.047Z"
   },
   {
    "duration": 2792,
    "start_time": "2023-12-01T19:41:28.253Z"
   },
   {
    "duration": 7,
    "start_time": "2023-12-01T19:41:31.047Z"
   },
   {
    "duration": 39,
    "start_time": "2023-12-01T19:41:31.055Z"
   },
   {
    "duration": 12,
    "start_time": "2023-12-01T19:41:31.096Z"
   },
   {
    "duration": 1512,
    "start_time": "2023-12-01T19:41:31.109Z"
   },
   {
    "duration": 492,
    "start_time": "2023-12-01T19:41:32.623Z"
   },
   {
    "duration": 2511,
    "start_time": "2023-12-01T19:41:33.117Z"
   },
   {
    "duration": 299,
    "start_time": "2023-12-01T19:41:35.630Z"
   },
   {
    "duration": 155,
    "start_time": "2023-12-01T19:41:35.931Z"
   },
   {
    "duration": 169,
    "start_time": "2023-12-01T19:41:36.088Z"
   },
   {
    "duration": 152,
    "start_time": "2023-12-01T19:41:36.259Z"
   },
   {
    "duration": 940,
    "start_time": "2023-12-01T20:55:28.614Z"
   },
   {
    "duration": 304,
    "start_time": "2023-12-01T21:00:25.116Z"
   },
   {
    "duration": 890,
    "start_time": "2023-12-01T21:01:11.483Z"
   },
   {
    "duration": 303,
    "start_time": "2023-12-01T21:01:17.225Z"
   },
   {
    "duration": 436,
    "start_time": "2023-12-01T21:01:30.001Z"
   },
   {
    "duration": 7,
    "start_time": "2023-12-01T22:32:23.458Z"
   },
   {
    "duration": 405,
    "start_time": "2023-12-01T22:34:24.743Z"
   },
   {
    "duration": 6,
    "start_time": "2023-12-01T22:35:12.515Z"
   },
   {
    "duration": 5,
    "start_time": "2023-12-01T22:35:36.554Z"
   },
   {
    "duration": 7,
    "start_time": "2023-12-01T22:36:00.563Z"
   },
   {
    "duration": 12,
    "start_time": "2023-12-01T22:37:14.030Z"
   },
   {
    "duration": 1577,
    "start_time": "2023-12-02T22:24:48.208Z"
   },
   {
    "duration": 192,
    "start_time": "2023-12-02T22:24:49.787Z"
   },
   {
    "duration": 73,
    "start_time": "2023-12-02T22:24:49.981Z"
   },
   {
    "duration": 35,
    "start_time": "2023-12-02T22:24:50.056Z"
   },
   {
    "duration": 4,
    "start_time": "2023-12-02T22:24:50.093Z"
   },
   {
    "duration": 27,
    "start_time": "2023-12-02T22:24:50.098Z"
   },
   {
    "duration": 43,
    "start_time": "2023-12-02T22:24:50.126Z"
   },
   {
    "duration": 14,
    "start_time": "2023-12-02T22:24:50.170Z"
   },
   {
    "duration": 8,
    "start_time": "2023-12-02T22:24:50.186Z"
   },
   {
    "duration": 25,
    "start_time": "2023-12-02T22:24:50.196Z"
   },
   {
    "duration": 26,
    "start_time": "2023-12-02T22:24:50.222Z"
   },
   {
    "duration": 23,
    "start_time": "2023-12-02T22:24:50.249Z"
   },
   {
    "duration": 40,
    "start_time": "2023-12-02T22:24:50.273Z"
   },
   {
    "duration": 5,
    "start_time": "2023-12-02T22:24:50.317Z"
   },
   {
    "duration": 8,
    "start_time": "2023-12-02T22:24:50.323Z"
   },
   {
    "duration": 8,
    "start_time": "2023-12-02T22:24:50.333Z"
   },
   {
    "duration": 32,
    "start_time": "2023-12-02T22:24:50.343Z"
   },
   {
    "duration": 14,
    "start_time": "2023-12-02T22:24:50.377Z"
   },
   {
    "duration": 66,
    "start_time": "2023-12-02T22:24:50.392Z"
   },
   {
    "duration": 454,
    "start_time": "2023-12-02T22:24:50.460Z"
   },
   {
    "duration": 1189,
    "start_time": "2023-12-02T22:24:50.915Z"
   },
   {
    "duration": 2791,
    "start_time": "2023-12-02T22:24:52.105Z"
   },
   {
    "duration": 9,
    "start_time": "2023-12-02T22:24:54.897Z"
   },
   {
    "duration": 41,
    "start_time": "2023-12-02T22:24:54.907Z"
   },
   {
    "duration": 17,
    "start_time": "2023-12-02T22:24:54.950Z"
   },
   {
    "duration": 884,
    "start_time": "2023-12-02T22:24:54.968Z"
   },
   {
    "duration": 423,
    "start_time": "2023-12-02T22:24:55.854Z"
   },
   {
    "duration": 2636,
    "start_time": "2023-12-02T22:24:56.279Z"
   },
   {
    "duration": 296,
    "start_time": "2023-12-02T22:24:58.916Z"
   },
   {
    "duration": 146,
    "start_time": "2023-12-02T22:24:59.214Z"
   },
   {
    "duration": 140,
    "start_time": "2023-12-02T22:24:59.361Z"
   },
   {
    "duration": 140,
    "start_time": "2023-12-02T22:24:59.502Z"
   },
   {
    "duration": 841,
    "start_time": "2023-12-02T22:24:59.644Z"
   },
   {
    "duration": 525,
    "start_time": "2023-12-02T22:25:00.487Z"
   },
   {
    "duration": 56,
    "start_time": "2023-12-02T22:25:01.014Z"
   },
   {
    "duration": 936,
    "start_time": "2023-12-02T22:25:01.072Z"
   },
   {
    "duration": 4,
    "start_time": "2023-12-02T22:25:02.010Z"
   },
   {
    "duration": 95,
    "start_time": "2023-12-02T22:25:02.016Z"
   },
   {
    "duration": 20,
    "start_time": "2023-12-02T22:25:02.113Z"
   },
   {
    "duration": 32,
    "start_time": "2023-12-02T22:25:02.135Z"
   },
   {
    "duration": 15493,
    "start_time": "2023-12-02T22:25:25.320Z"
   },
   {
    "duration": 16065,
    "start_time": "2023-12-02T22:28:13.193Z"
   },
   {
    "duration": 16485,
    "start_time": "2023-12-02T22:28:47.008Z"
   },
   {
    "duration": 4022,
    "start_time": "2023-12-02T22:29:14.267Z"
   },
   {
    "duration": 164,
    "start_time": "2023-12-02T22:32:59.862Z"
   },
   {
    "duration": 6,
    "start_time": "2023-12-02T22:48:43.499Z"
   },
   {
    "duration": 228,
    "start_time": "2023-12-02T22:49:24.082Z"
   },
   {
    "duration": 5,
    "start_time": "2023-12-02T22:50:59.434Z"
   },
   {
    "duration": 109,
    "start_time": "2023-12-02T22:51:13.659Z"
   },
   {
    "duration": 6,
    "start_time": "2023-12-02T22:51:17.970Z"
   },
   {
    "duration": 4,
    "start_time": "2023-12-02T22:51:20.908Z"
   },
   {
    "duration": 1025,
    "start_time": "2023-12-02T22:52:24.580Z"
   },
   {
    "duration": 6,
    "start_time": "2023-12-02T22:52:28.586Z"
   },
   {
    "duration": 4,
    "start_time": "2023-12-02T22:52:33.126Z"
   },
   {
    "duration": 7,
    "start_time": "2023-12-02T22:56:42.583Z"
   },
   {
    "duration": 215,
    "start_time": "2023-12-02T22:56:43.984Z"
   },
   {
    "duration": 5,
    "start_time": "2023-12-02T22:56:48.949Z"
   },
   {
    "duration": 1619,
    "start_time": "2023-12-03T09:50:27.033Z"
   },
   {
    "duration": 191,
    "start_time": "2023-12-03T09:50:28.654Z"
   },
   {
    "duration": 68,
    "start_time": "2023-12-03T09:50:28.847Z"
   },
   {
    "duration": 28,
    "start_time": "2023-12-03T09:50:28.917Z"
   },
   {
    "duration": 21,
    "start_time": "2023-12-03T09:50:28.947Z"
   },
   {
    "duration": 37,
    "start_time": "2023-12-03T09:50:28.969Z"
   },
   {
    "duration": 35,
    "start_time": "2023-12-03T09:50:29.008Z"
   },
   {
    "duration": 36,
    "start_time": "2023-12-03T09:50:29.044Z"
   },
   {
    "duration": 33,
    "start_time": "2023-12-03T09:50:29.081Z"
   },
   {
    "duration": 39,
    "start_time": "2023-12-03T09:50:29.116Z"
   },
   {
    "duration": 46,
    "start_time": "2023-12-03T09:50:29.157Z"
   },
   {
    "duration": 27,
    "start_time": "2023-12-03T09:50:29.205Z"
   },
   {
    "duration": 54,
    "start_time": "2023-12-03T09:50:29.234Z"
   },
   {
    "duration": 5,
    "start_time": "2023-12-03T09:50:29.289Z"
   },
   {
    "duration": 14,
    "start_time": "2023-12-03T09:50:29.295Z"
   },
   {
    "duration": 21,
    "start_time": "2023-12-03T09:50:29.310Z"
   },
   {
    "duration": 36,
    "start_time": "2023-12-03T09:50:29.332Z"
   },
   {
    "duration": 17,
    "start_time": "2023-12-03T09:50:29.369Z"
   },
   {
    "duration": 91,
    "start_time": "2023-12-03T09:50:29.388Z"
   },
   {
    "duration": 463,
    "start_time": "2023-12-03T09:50:29.481Z"
   },
   {
    "duration": 1222,
    "start_time": "2023-12-03T09:50:29.945Z"
   },
   {
    "duration": 2781,
    "start_time": "2023-12-03T09:50:31.168Z"
   },
   {
    "duration": 16,
    "start_time": "2023-12-03T09:50:33.950Z"
   },
   {
    "duration": 38,
    "start_time": "2023-12-03T09:50:33.968Z"
   },
   {
    "duration": 12,
    "start_time": "2023-12-03T09:50:34.008Z"
   },
   {
    "duration": 865,
    "start_time": "2023-12-03T09:50:34.022Z"
   },
   {
    "duration": 416,
    "start_time": "2023-12-03T09:50:34.888Z"
   },
   {
    "duration": 2704,
    "start_time": "2023-12-03T09:50:35.308Z"
   },
   {
    "duration": 316,
    "start_time": "2023-12-03T09:50:38.013Z"
   },
   {
    "duration": 165,
    "start_time": "2023-12-03T09:50:38.331Z"
   },
   {
    "duration": 178,
    "start_time": "2023-12-03T09:50:38.498Z"
   },
   {
    "duration": 166,
    "start_time": "2023-12-03T09:50:38.678Z"
   },
   {
    "duration": 922,
    "start_time": "2023-12-03T09:50:38.846Z"
   },
   {
    "duration": 323,
    "start_time": "2023-12-03T09:50:39.770Z"
   },
   {
    "duration": 4206,
    "start_time": "2023-12-03T09:50:40.094Z"
   },
   {
    "duration": 6,
    "start_time": "2023-12-03T09:50:44.302Z"
   },
   {
    "duration": 500,
    "start_time": "2023-12-03T09:50:44.310Z"
   },
   {
    "duration": 5,
    "start_time": "2023-12-03T09:50:44.811Z"
   },
   {
    "duration": 9,
    "start_time": "2023-12-03T09:50:44.817Z"
   },
   {
    "duration": 8,
    "start_time": "2023-12-03T09:50:44.827Z"
   },
   {
    "duration": 29,
    "start_time": "2023-12-03T09:50:44.836Z"
   },
   {
    "duration": 5,
    "start_time": "2023-12-03T09:50:44.867Z"
   },
   {
    "duration": 237,
    "start_time": "2023-12-03T09:50:44.873Z"
   },
   {
    "duration": 4,
    "start_time": "2023-12-03T09:50:45.111Z"
   },
   {
    "duration": 9,
    "start_time": "2023-12-03T10:22:38.009Z"
   },
   {
    "duration": 263,
    "start_time": "2023-12-03T10:22:38.875Z"
   },
   {
    "duration": 5,
    "start_time": "2023-12-03T10:22:41.895Z"
   },
   {
    "duration": 13,
    "start_time": "2023-12-03T10:47:13.268Z"
   },
   {
    "duration": 5,
    "start_time": "2023-12-03T10:54:47.016Z"
   },
   {
    "duration": 8,
    "start_time": "2023-12-03T11:07:13.749Z"
   },
   {
    "duration": 5,
    "start_time": "2023-12-03T11:08:12.953Z"
   },
   {
    "duration": 74,
    "start_time": "2023-12-03T11:09:49.997Z"
   },
   {
    "duration": 6,
    "start_time": "2023-12-03T11:10:01.139Z"
   },
   {
    "duration": 5,
    "start_time": "2023-12-03T11:10:52.711Z"
   },
   {
    "duration": 1243,
    "start_time": "2023-12-03T11:29:43.975Z"
   },
   {
    "duration": 377,
    "start_time": "2023-12-03T11:29:53.251Z"
   },
   {
    "duration": 7346,
    "start_time": "2023-12-03T11:30:23.448Z"
   },
   {
    "duration": 9358,
    "start_time": "2023-12-03T11:30:49.912Z"
   },
   {
    "duration": 6801,
    "start_time": "2023-12-03T11:31:14.293Z"
   },
   {
    "duration": 6783,
    "start_time": "2023-12-03T11:31:43.544Z"
   },
   {
    "duration": 6,
    "start_time": "2023-12-03T11:41:42.322Z"
   },
   {
    "duration": 130,
    "start_time": "2023-12-03T11:44:34.269Z"
   },
   {
    "duration": 6,
    "start_time": "2023-12-03T11:44:51.001Z"
   },
   {
    "duration": 31,
    "start_time": "2023-12-03T11:44:59.705Z"
   },
   {
    "duration": 25,
    "start_time": "2023-12-03T11:47:08.203Z"
   },
   {
    "duration": 11,
    "start_time": "2023-12-03T11:47:51.064Z"
   },
   {
    "duration": 8,
    "start_time": "2023-12-03T11:48:22.503Z"
   },
   {
    "duration": 23,
    "start_time": "2023-12-03T11:48:37.386Z"
   },
   {
    "duration": 28,
    "start_time": "2023-12-03T11:49:26.016Z"
   },
   {
    "duration": 25,
    "start_time": "2023-12-03T11:49:50.758Z"
   },
   {
    "duration": 25,
    "start_time": "2023-12-03T11:50:16.427Z"
   },
   {
    "duration": 24,
    "start_time": "2023-12-03T11:51:52.469Z"
   },
   {
    "duration": 26,
    "start_time": "2023-12-03T11:53:11.998Z"
   },
   {
    "duration": 13,
    "start_time": "2023-12-03T11:54:42.566Z"
   },
   {
    "duration": 26,
    "start_time": "2023-12-03T11:54:59.683Z"
   },
   {
    "duration": 25,
    "start_time": "2023-12-03T11:55:33.237Z"
   },
   {
    "duration": 25,
    "start_time": "2023-12-03T11:56:39.219Z"
   },
   {
    "duration": 12,
    "start_time": "2023-12-03T13:08:51.499Z"
   },
   {
    "duration": 24,
    "start_time": "2023-12-03T13:13:52.353Z"
   },
   {
    "duration": 3,
    "start_time": "2023-12-03T13:15:29.776Z"
   },
   {
    "duration": 9295,
    "start_time": "2023-12-03T13:15:30.520Z"
   },
   {
    "duration": 10,
    "start_time": "2023-12-03T13:20:07.493Z"
   },
   {
    "duration": 8,
    "start_time": "2023-12-03T13:20:41.727Z"
   },
   {
    "duration": 8,
    "start_time": "2023-12-03T13:21:34.416Z"
   },
   {
    "duration": 8,
    "start_time": "2023-12-03T13:21:49.882Z"
   },
   {
    "duration": 9,
    "start_time": "2023-12-03T13:22:05.111Z"
   },
   {
    "duration": 8,
    "start_time": "2023-12-03T13:22:13.388Z"
   },
   {
    "duration": 8,
    "start_time": "2023-12-03T13:22:36.869Z"
   },
   {
    "duration": 11,
    "start_time": "2023-12-03T13:22:58.019Z"
   },
   {
    "duration": 7,
    "start_time": "2023-12-03T13:24:00.433Z"
   },
   {
    "duration": 9,
    "start_time": "2023-12-03T13:24:11.280Z"
   },
   {
    "duration": 1163,
    "start_time": "2023-12-03T13:38:42.254Z"
   },
   {
    "duration": 8,
    "start_time": "2023-12-03T13:45:40.127Z"
   },
   {
    "duration": 9,
    "start_time": "2023-12-03T13:46:28.058Z"
   },
   {
    "duration": 11,
    "start_time": "2023-12-03T13:47:45.890Z"
   },
   {
    "duration": 32,
    "start_time": "2023-12-03T13:48:24.561Z"
   },
   {
    "duration": 13,
    "start_time": "2023-12-03T13:48:35.974Z"
   },
   {
    "duration": 8,
    "start_time": "2023-12-03T13:49:05.408Z"
   },
   {
    "duration": 8,
    "start_time": "2023-12-03T13:49:23.850Z"
   },
   {
    "duration": 9328,
    "start_time": "2023-12-03T13:50:36.615Z"
   },
   {
    "duration": 8,
    "start_time": "2023-12-03T13:54:39.628Z"
   },
   {
    "duration": 8,
    "start_time": "2023-12-03T14:08:49.321Z"
   },
   {
    "duration": 7,
    "start_time": "2023-12-03T14:11:02.000Z"
   },
   {
    "duration": 8,
    "start_time": "2023-12-03T14:11:35.780Z"
   },
   {
    "duration": 9,
    "start_time": "2023-12-03T14:12:54.265Z"
   },
   {
    "duration": 9,
    "start_time": "2023-12-03T14:13:30.341Z"
   },
   {
    "duration": 7,
    "start_time": "2023-12-03T14:14:21.892Z"
   },
   {
    "duration": 31,
    "start_time": "2023-12-03T14:15:33.942Z"
   },
   {
    "duration": 8,
    "start_time": "2023-12-03T14:15:45.695Z"
   },
   {
    "duration": 8,
    "start_time": "2023-12-03T14:16:41.023Z"
   },
   {
    "duration": 8,
    "start_time": "2023-12-03T14:17:03.282Z"
   },
   {
    "duration": 31,
    "start_time": "2023-12-03T14:19:36.756Z"
   },
   {
    "duration": 9,
    "start_time": "2023-12-03T14:19:41.634Z"
   },
   {
    "duration": 8,
    "start_time": "2023-12-03T14:20:35.102Z"
   },
   {
    "duration": 8,
    "start_time": "2023-12-03T14:21:19.334Z"
   },
   {
    "duration": 665,
    "start_time": "2023-12-03T16:50:51.526Z"
   },
   {
    "duration": 816,
    "start_time": "2023-12-03T16:51:33.710Z"
   },
   {
    "duration": 437,
    "start_time": "2023-12-03T16:52:46.762Z"
   },
   {
    "duration": 422,
    "start_time": "2023-12-03T16:53:33.512Z"
   },
   {
    "duration": 397,
    "start_time": "2023-12-03T16:53:57.447Z"
   },
   {
    "duration": 399,
    "start_time": "2023-12-03T16:54:04.035Z"
   },
   {
    "duration": 515,
    "start_time": "2023-12-03T16:54:14.794Z"
   },
   {
    "duration": 427,
    "start_time": "2023-12-03T16:54:22.949Z"
   },
   {
    "duration": 2560,
    "start_time": "2023-12-03T16:55:23.546Z"
   },
   {
    "duration": 2681,
    "start_time": "2023-12-03T16:59:01.002Z"
   },
   {
    "duration": 2712,
    "start_time": "2023-12-03T17:03:33.521Z"
   },
   {
    "duration": 90,
    "start_time": "2023-12-03T17:03:54.179Z"
   },
   {
    "duration": 2483,
    "start_time": "2023-12-03T17:04:07.862Z"
   },
   {
    "duration": 2185,
    "start_time": "2023-12-03T17:04:28.085Z"
   },
   {
    "duration": 2682,
    "start_time": "2023-12-03T17:04:39.467Z"
   },
   {
    "duration": 2340,
    "start_time": "2023-12-03T17:05:29.283Z"
   },
   {
    "duration": 2630,
    "start_time": "2023-12-03T17:06:07.408Z"
   },
   {
    "duration": 2775,
    "start_time": "2023-12-03T17:06:23.751Z"
   },
   {
    "duration": 2549,
    "start_time": "2023-12-03T17:06:33.768Z"
   },
   {
    "duration": 2687,
    "start_time": "2023-12-03T17:06:41.051Z"
   },
   {
    "duration": 1212,
    "start_time": "2023-12-03T17:24:49.665Z"
   },
   {
    "duration": 537,
    "start_time": "2023-12-03T17:29:08.377Z"
   },
   {
    "duration": 14,
    "start_time": "2023-12-03T17:37:19.108Z"
   },
   {
    "duration": 910,
    "start_time": "2023-12-03T17:37:30.823Z"
   },
   {
    "duration": 283,
    "start_time": "2023-12-03T17:42:51.100Z"
   },
   {
    "duration": 877,
    "start_time": "2023-12-03T17:45:37.229Z"
   },
   {
    "duration": 1421,
    "start_time": "2023-12-03T18:00:49.911Z"
   },
   {
    "duration": 78,
    "start_time": "2023-12-03T18:00:51.334Z"
   },
   {
    "duration": 69,
    "start_time": "2023-12-03T18:00:51.414Z"
   },
   {
    "duration": 27,
    "start_time": "2023-12-03T18:00:51.485Z"
   },
   {
    "duration": 4,
    "start_time": "2023-12-03T18:00:51.513Z"
   },
   {
    "duration": 14,
    "start_time": "2023-12-03T18:00:51.519Z"
   },
   {
    "duration": 46,
    "start_time": "2023-12-03T18:00:51.535Z"
   },
   {
    "duration": 12,
    "start_time": "2023-12-03T18:00:51.583Z"
   },
   {
    "duration": 4,
    "start_time": "2023-12-03T18:00:51.597Z"
   },
   {
    "duration": 20,
    "start_time": "2023-12-03T18:00:51.603Z"
   },
   {
    "duration": 20,
    "start_time": "2023-12-03T18:00:51.624Z"
   },
   {
    "duration": 5,
    "start_time": "2023-12-03T18:00:51.665Z"
   },
   {
    "duration": 32,
    "start_time": "2023-12-03T18:00:51.672Z"
   },
   {
    "duration": 4,
    "start_time": "2023-12-03T18:00:51.705Z"
   },
   {
    "duration": 30,
    "start_time": "2023-12-03T18:00:51.711Z"
   },
   {
    "duration": 10,
    "start_time": "2023-12-03T18:00:51.743Z"
   },
   {
    "duration": 36,
    "start_time": "2023-12-03T18:00:51.754Z"
   },
   {
    "duration": 41,
    "start_time": "2023-12-03T18:00:51.792Z"
   },
   {
    "duration": 81,
    "start_time": "2023-12-03T18:00:51.834Z"
   },
   {
    "duration": 442,
    "start_time": "2023-12-03T18:00:51.916Z"
   },
   {
    "duration": 1243,
    "start_time": "2023-12-03T18:00:52.360Z"
   },
   {
    "duration": 2923,
    "start_time": "2023-12-03T18:00:53.605Z"
   },
   {
    "duration": 7,
    "start_time": "2023-12-03T18:00:56.529Z"
   },
   {
    "duration": 35,
    "start_time": "2023-12-03T18:00:56.537Z"
   },
   {
    "duration": 19,
    "start_time": "2023-12-03T18:00:56.573Z"
   },
   {
    "duration": 895,
    "start_time": "2023-12-03T18:00:56.593Z"
   },
   {
    "duration": 416,
    "start_time": "2023-12-03T18:00:57.490Z"
   },
   {
    "duration": 114,
    "start_time": "2023-12-03T18:00:57.910Z"
   },
   {
    "duration": 0,
    "start_time": "2023-12-03T18:00:58.026Z"
   },
   {
    "duration": 0,
    "start_time": "2023-12-03T18:00:58.027Z"
   },
   {
    "duration": 0,
    "start_time": "2023-12-03T18:00:58.028Z"
   },
   {
    "duration": 0,
    "start_time": "2023-12-03T18:00:58.029Z"
   },
   {
    "duration": 0,
    "start_time": "2023-12-03T18:00:58.030Z"
   },
   {
    "duration": 0,
    "start_time": "2023-12-03T18:00:58.031Z"
   },
   {
    "duration": 0,
    "start_time": "2023-12-03T18:00:58.032Z"
   },
   {
    "duration": 0,
    "start_time": "2023-12-03T18:00:58.033Z"
   },
   {
    "duration": 0,
    "start_time": "2023-12-03T18:00:58.034Z"
   },
   {
    "duration": 0,
    "start_time": "2023-12-03T18:00:58.035Z"
   },
   {
    "duration": 0,
    "start_time": "2023-12-03T18:00:58.036Z"
   },
   {
    "duration": 0,
    "start_time": "2023-12-03T18:00:58.037Z"
   },
   {
    "duration": 0,
    "start_time": "2023-12-03T18:00:58.038Z"
   },
   {
    "duration": 0,
    "start_time": "2023-12-03T18:00:58.039Z"
   },
   {
    "duration": 0,
    "start_time": "2023-12-03T18:00:58.040Z"
   },
   {
    "duration": 0,
    "start_time": "2023-12-03T18:00:58.041Z"
   },
   {
    "duration": 0,
    "start_time": "2023-12-03T18:00:58.065Z"
   },
   {
    "duration": 0,
    "start_time": "2023-12-03T18:00:58.067Z"
   },
   {
    "duration": 423,
    "start_time": "2023-12-03T18:01:46.539Z"
   },
   {
    "duration": 2710,
    "start_time": "2023-12-03T18:01:46.965Z"
   },
   {
    "duration": 839,
    "start_time": "2023-12-03T18:01:49.677Z"
   },
   {
    "duration": 367,
    "start_time": "2023-12-03T18:01:50.517Z"
   },
   {
    "duration": 6,
    "start_time": "2023-12-03T18:01:50.886Z"
   },
   {
    "duration": 519,
    "start_time": "2023-12-03T18:01:50.893Z"
   },
   {
    "duration": 5,
    "start_time": "2023-12-03T18:01:51.414Z"
   },
   {
    "duration": 18,
    "start_time": "2023-12-03T18:01:51.420Z"
   },
   {
    "duration": 39,
    "start_time": "2023-12-03T18:01:51.440Z"
   },
   {
    "duration": 61,
    "start_time": "2023-12-03T18:01:51.480Z"
   },
   {
    "duration": 12,
    "start_time": "2023-12-03T18:01:51.542Z"
   },
   {
    "duration": 253,
    "start_time": "2023-12-03T18:01:51.556Z"
   },
   {
    "duration": 5,
    "start_time": "2023-12-03T18:01:51.810Z"
   },
   {
    "duration": 17,
    "start_time": "2023-12-03T18:01:51.818Z"
   },
   {
    "duration": 10,
    "start_time": "2023-12-03T18:01:51.837Z"
   },
   {
    "duration": 19,
    "start_time": "2023-12-03T18:01:51.849Z"
   },
   {
    "duration": 32,
    "start_time": "2023-12-03T18:01:51.869Z"
   },
   {
    "duration": 38,
    "start_time": "2023-12-03T18:01:51.902Z"
   },
   {
    "duration": 46,
    "start_time": "2023-12-03T18:01:51.942Z"
   },
   {
    "duration": 5,
    "start_time": "2023-12-03T18:03:34.921Z"
   },
   {
    "duration": 2304,
    "start_time": "2023-12-03T20:56:15.075Z"
   },
   {
    "duration": 79,
    "start_time": "2023-12-03T20:56:17.380Z"
   },
   {
    "duration": 78,
    "start_time": "2023-12-03T20:56:17.461Z"
   },
   {
    "duration": 28,
    "start_time": "2023-12-03T20:56:17.541Z"
   },
   {
    "duration": 4,
    "start_time": "2023-12-03T20:56:17.571Z"
   },
   {
    "duration": 24,
    "start_time": "2023-12-03T20:56:17.576Z"
   },
   {
    "duration": 29,
    "start_time": "2023-12-03T20:56:17.602Z"
   },
   {
    "duration": 16,
    "start_time": "2023-12-03T20:56:17.633Z"
   },
   {
    "duration": 9,
    "start_time": "2023-12-03T20:56:17.650Z"
   },
   {
    "duration": 19,
    "start_time": "2023-12-03T20:56:17.661Z"
   },
   {
    "duration": 50,
    "start_time": "2023-12-03T20:56:17.682Z"
   },
   {
    "duration": 8,
    "start_time": "2023-12-03T20:56:17.736Z"
   },
   {
    "duration": 24,
    "start_time": "2023-12-03T20:56:17.746Z"
   },
   {
    "duration": 5,
    "start_time": "2023-12-03T20:56:17.771Z"
   },
   {
    "duration": 31,
    "start_time": "2023-12-03T20:56:17.777Z"
   },
   {
    "duration": 10,
    "start_time": "2023-12-03T20:56:17.809Z"
   },
   {
    "duration": 20,
    "start_time": "2023-12-03T20:56:17.827Z"
   },
   {
    "duration": 5,
    "start_time": "2023-12-03T20:56:17.848Z"
   },
   {
    "duration": 68,
    "start_time": "2023-12-03T20:56:17.854Z"
   },
   {
    "duration": 500,
    "start_time": "2023-12-03T20:56:17.923Z"
   },
   {
    "duration": 1342,
    "start_time": "2023-12-03T20:56:18.425Z"
   },
   {
    "duration": 2995,
    "start_time": "2023-12-03T20:56:19.768Z"
   },
   {
    "duration": 7,
    "start_time": "2023-12-03T20:56:22.765Z"
   },
   {
    "duration": 24,
    "start_time": "2023-12-03T20:56:22.774Z"
   },
   {
    "duration": 33,
    "start_time": "2023-12-03T20:56:22.799Z"
   },
   {
    "duration": 965,
    "start_time": "2023-12-03T20:56:22.833Z"
   },
   {
    "duration": 441,
    "start_time": "2023-12-03T20:56:23.800Z"
   },
   {
    "duration": 2794,
    "start_time": "2023-12-03T20:56:24.246Z"
   },
   {
    "duration": 1007,
    "start_time": "2023-12-03T20:56:27.041Z"
   },
   {
    "duration": 315,
    "start_time": "2023-12-03T20:56:28.050Z"
   },
   {
    "duration": 6,
    "start_time": "2023-12-03T20:56:28.366Z"
   },
   {
    "duration": 468,
    "start_time": "2023-12-03T20:56:28.374Z"
   },
   {
    "duration": 5,
    "start_time": "2023-12-03T20:56:28.843Z"
   },
   {
    "duration": 6,
    "start_time": "2023-12-03T20:56:28.849Z"
   },
   {
    "duration": 5,
    "start_time": "2023-12-03T20:56:28.857Z"
   },
   {
    "duration": 13,
    "start_time": "2023-12-03T20:56:28.864Z"
   },
   {
    "duration": 5,
    "start_time": "2023-12-03T20:56:28.879Z"
   },
   {
    "duration": 300,
    "start_time": "2023-12-03T20:56:28.885Z"
   },
   {
    "duration": 5,
    "start_time": "2023-12-03T20:56:29.187Z"
   },
   {
    "duration": 21,
    "start_time": "2023-12-03T20:56:29.193Z"
   },
   {
    "duration": 11,
    "start_time": "2023-12-03T20:56:29.223Z"
   },
   {
    "duration": 13,
    "start_time": "2023-12-03T20:56:29.235Z"
   },
   {
    "duration": 9,
    "start_time": "2023-12-03T20:56:29.250Z"
   },
   {
    "duration": 22,
    "start_time": "2023-12-03T20:56:29.260Z"
   },
   {
    "duration": 8,
    "start_time": "2023-12-03T20:56:29.284Z"
   },
   {
    "duration": 95,
    "start_time": "2023-12-03T21:34:51.633Z"
   },
   {
    "duration": 47,
    "start_time": "2023-12-03T22:58:47.020Z"
   },
   {
    "duration": 1551,
    "start_time": "2023-12-03T22:59:49.928Z"
   },
   {
    "duration": 78,
    "start_time": "2023-12-03T22:59:51.481Z"
   },
   {
    "duration": 71,
    "start_time": "2023-12-03T22:59:51.560Z"
   },
   {
    "duration": 40,
    "start_time": "2023-12-03T22:59:51.632Z"
   },
   {
    "duration": 4,
    "start_time": "2023-12-03T22:59:51.674Z"
   },
   {
    "duration": 36,
    "start_time": "2023-12-03T22:59:51.679Z"
   },
   {
    "duration": 31,
    "start_time": "2023-12-03T22:59:51.717Z"
   },
   {
    "duration": 13,
    "start_time": "2023-12-03T22:59:51.750Z"
   },
   {
    "duration": 4,
    "start_time": "2023-12-03T22:59:51.765Z"
   },
   {
    "duration": 29,
    "start_time": "2023-12-03T22:59:51.771Z"
   },
   {
    "duration": 53,
    "start_time": "2023-12-03T22:59:51.802Z"
   },
   {
    "duration": 5,
    "start_time": "2023-12-03T22:59:51.857Z"
   },
   {
    "duration": 37,
    "start_time": "2023-12-03T22:59:51.863Z"
   },
   {
    "duration": 10,
    "start_time": "2023-12-03T22:59:51.903Z"
   },
   {
    "duration": 44,
    "start_time": "2023-12-03T22:59:51.915Z"
   },
   {
    "duration": 41,
    "start_time": "2023-12-03T22:59:51.961Z"
   },
   {
    "duration": 27,
    "start_time": "2023-12-03T22:59:52.003Z"
   },
   {
    "duration": 24,
    "start_time": "2023-12-03T22:59:52.032Z"
   },
   {
    "duration": 70,
    "start_time": "2023-12-03T22:59:52.057Z"
   },
   {
    "duration": 451,
    "start_time": "2023-12-03T22:59:52.129Z"
   },
   {
    "duration": 1210,
    "start_time": "2023-12-03T22:59:52.582Z"
   },
   {
    "duration": 2751,
    "start_time": "2023-12-03T22:59:53.794Z"
   },
   {
    "duration": 19,
    "start_time": "2023-12-03T22:59:56.547Z"
   },
   {
    "duration": 34,
    "start_time": "2023-12-03T22:59:56.568Z"
   },
   {
    "duration": 12,
    "start_time": "2023-12-03T22:59:56.604Z"
   },
   {
    "duration": 901,
    "start_time": "2023-12-03T22:59:56.617Z"
   },
   {
    "duration": 431,
    "start_time": "2023-12-03T22:59:57.520Z"
   },
   {
    "duration": 2511,
    "start_time": "2023-12-03T22:59:57.952Z"
   },
   {
    "duration": 965,
    "start_time": "2023-12-03T23:00:00.465Z"
   },
   {
    "duration": 346,
    "start_time": "2023-12-03T23:00:01.432Z"
   },
   {
    "duration": 7,
    "start_time": "2023-12-03T23:00:01.779Z"
   },
   {
    "duration": 462,
    "start_time": "2023-12-03T23:00:01.787Z"
   },
   {
    "duration": 5,
    "start_time": "2023-12-03T23:00:02.251Z"
   },
   {
    "duration": 138,
    "start_time": "2023-12-03T23:00:02.268Z"
   },
   {
    "duration": 34,
    "start_time": "2023-12-03T23:00:02.408Z"
   },
   {
    "duration": 50,
    "start_time": "2023-12-03T23:00:02.443Z"
   },
   {
    "duration": 62,
    "start_time": "2023-12-03T23:00:02.495Z"
   },
   {
    "duration": 254,
    "start_time": "2023-12-03T23:00:02.559Z"
   },
   {
    "duration": 5,
    "start_time": "2023-12-03T23:00:02.814Z"
   },
   {
    "duration": 30,
    "start_time": "2023-12-03T23:00:02.820Z"
   },
   {
    "duration": 16,
    "start_time": "2023-12-03T23:00:02.854Z"
   },
   {
    "duration": 11,
    "start_time": "2023-12-03T23:00:02.872Z"
   },
   {
    "duration": 19,
    "start_time": "2023-12-03T23:00:02.884Z"
   },
   {
    "duration": 31,
    "start_time": "2023-12-03T23:00:02.905Z"
   },
   {
    "duration": 14,
    "start_time": "2023-12-03T23:00:02.937Z"
   },
   {
    "duration": 37,
    "start_time": "2023-12-03T23:00:02.953Z"
   },
   {
    "duration": 8,
    "start_time": "2023-12-03T23:01:06.934Z"
   },
   {
    "duration": 8,
    "start_time": "2023-12-03T23:03:03.885Z"
   },
   {
    "duration": 8,
    "start_time": "2023-12-03T23:03:10.187Z"
   },
   {
    "duration": 108,
    "start_time": "2023-12-04T10:16:28.042Z"
   },
   {
    "duration": 444,
    "start_time": "2023-12-04T10:18:59.117Z"
   },
   {
    "duration": 195,
    "start_time": "2023-12-04T10:18:59.563Z"
   },
   {
    "duration": 79,
    "start_time": "2023-12-04T10:18:59.760Z"
   },
   {
    "duration": 31,
    "start_time": "2023-12-04T10:18:59.842Z"
   },
   {
    "duration": 5,
    "start_time": "2023-12-04T10:18:59.874Z"
   },
   {
    "duration": 59,
    "start_time": "2023-12-04T10:18:59.881Z"
   },
   {
    "duration": 59,
    "start_time": "2023-12-04T10:18:59.941Z"
   },
   {
    "duration": 26,
    "start_time": "2023-12-04T10:19:00.002Z"
   },
   {
    "duration": 47,
    "start_time": "2023-12-04T10:19:00.030Z"
   },
   {
    "duration": 63,
    "start_time": "2023-12-04T10:19:00.080Z"
   },
   {
    "duration": 60,
    "start_time": "2023-12-04T10:19:00.144Z"
   },
   {
    "duration": 27,
    "start_time": "2023-12-04T10:19:00.206Z"
   },
   {
    "duration": 60,
    "start_time": "2023-12-04T10:19:00.235Z"
   },
   {
    "duration": 28,
    "start_time": "2023-12-04T10:19:00.297Z"
   },
   {
    "duration": 36,
    "start_time": "2023-12-04T10:19:00.327Z"
   },
   {
    "duration": 19,
    "start_time": "2023-12-04T10:19:00.365Z"
   },
   {
    "duration": 34,
    "start_time": "2023-12-04T10:19:00.385Z"
   },
   {
    "duration": 40,
    "start_time": "2023-12-04T10:19:00.421Z"
   },
   {
    "duration": 107,
    "start_time": "2023-12-04T10:19:00.462Z"
   },
   {
    "duration": 86,
    "start_time": "2023-12-04T10:19:00.570Z"
   },
   {
    "duration": 0,
    "start_time": "2023-12-04T10:19:00.658Z"
   },
   {
    "duration": 0,
    "start_time": "2023-12-04T10:19:00.659Z"
   },
   {
    "duration": 0,
    "start_time": "2023-12-04T10:19:00.660Z"
   },
   {
    "duration": 0,
    "start_time": "2023-12-04T10:19:00.661Z"
   },
   {
    "duration": 0,
    "start_time": "2023-12-04T10:19:00.662Z"
   },
   {
    "duration": 0,
    "start_time": "2023-12-04T10:19:00.663Z"
   },
   {
    "duration": 0,
    "start_time": "2023-12-04T10:19:00.664Z"
   },
   {
    "duration": 0,
    "start_time": "2023-12-04T10:19:00.665Z"
   },
   {
    "duration": 0,
    "start_time": "2023-12-04T10:19:00.667Z"
   },
   {
    "duration": 0,
    "start_time": "2023-12-04T10:19:00.668Z"
   },
   {
    "duration": 0,
    "start_time": "2023-12-04T10:19:00.669Z"
   },
   {
    "duration": 0,
    "start_time": "2023-12-04T10:19:00.670Z"
   },
   {
    "duration": 0,
    "start_time": "2023-12-04T10:19:00.671Z"
   },
   {
    "duration": 0,
    "start_time": "2023-12-04T10:19:00.672Z"
   },
   {
    "duration": 0,
    "start_time": "2023-12-04T10:19:00.673Z"
   },
   {
    "duration": 0,
    "start_time": "2023-12-04T10:19:00.674Z"
   },
   {
    "duration": 0,
    "start_time": "2023-12-04T10:19:00.675Z"
   },
   {
    "duration": 0,
    "start_time": "2023-12-04T10:19:00.676Z"
   },
   {
    "duration": 0,
    "start_time": "2023-12-04T10:19:00.713Z"
   },
   {
    "duration": 1,
    "start_time": "2023-12-04T10:19:00.713Z"
   },
   {
    "duration": 0,
    "start_time": "2023-12-04T10:19:00.714Z"
   },
   {
    "duration": 0,
    "start_time": "2023-12-04T10:19:00.715Z"
   },
   {
    "duration": 0,
    "start_time": "2023-12-04T10:19:00.716Z"
   },
   {
    "duration": 0,
    "start_time": "2023-12-04T10:19:00.717Z"
   },
   {
    "duration": 0,
    "start_time": "2023-12-04T10:19:00.718Z"
   },
   {
    "duration": 0,
    "start_time": "2023-12-04T10:19:00.721Z"
   },
   {
    "duration": 450,
    "start_time": "2023-12-04T10:20:20.595Z"
   },
   {
    "duration": 488,
    "start_time": "2023-12-04T10:20:26.595Z"
   },
   {
    "duration": 20,
    "start_time": "2023-12-04T10:20:34.035Z"
   },
   {
    "duration": 12,
    "start_time": "2023-12-04T10:20:57.063Z"
   },
   {
    "duration": 467,
    "start_time": "2023-12-04T10:21:06.429Z"
   },
   {
    "duration": 1562,
    "start_time": "2023-12-04T10:21:19.296Z"
   },
   {
    "duration": 3328,
    "start_time": "2023-12-04T10:21:25.766Z"
   },
   {
    "duration": 8,
    "start_time": "2023-12-04T10:21:35.269Z"
   },
   {
    "duration": 28,
    "start_time": "2023-12-04T10:21:41.119Z"
   },
   {
    "duration": 17,
    "start_time": "2023-12-04T10:21:42.797Z"
   },
   {
    "duration": 794,
    "start_time": "2023-12-04T10:21:47.695Z"
   },
   {
    "duration": 455,
    "start_time": "2023-12-04T10:21:53.637Z"
   },
   {
    "duration": 3423,
    "start_time": "2023-12-04T10:21:57.497Z"
   },
   {
    "duration": 1069,
    "start_time": "2023-12-04T10:22:07.383Z"
   },
   {
    "duration": 363,
    "start_time": "2023-12-04T10:22:11.592Z"
   },
   {
    "duration": 6,
    "start_time": "2023-12-04T10:22:20.584Z"
   },
   {
    "duration": 593,
    "start_time": "2023-12-04T10:22:27.528Z"
   },
   {
    "duration": 39,
    "start_time": "2023-12-04T10:22:34.133Z"
   },
   {
    "duration": 3,
    "start_time": "2023-12-04T10:22:47.390Z"
   },
   {
    "duration": 6,
    "start_time": "2023-12-04T10:22:53.818Z"
   },
   {
    "duration": 6,
    "start_time": "2023-12-04T10:22:55.888Z"
   },
   {
    "duration": 6,
    "start_time": "2023-12-04T10:22:57.977Z"
   },
   {
    "duration": 11,
    "start_time": "2023-12-04T10:23:01.676Z"
   },
   {
    "duration": 7,
    "start_time": "2023-12-04T10:23:06.104Z"
   },
   {
    "duration": 273,
    "start_time": "2023-12-04T10:23:07.718Z"
   },
   {
    "duration": 5,
    "start_time": "2023-12-04T10:23:11.739Z"
   },
   {
    "duration": 6,
    "start_time": "2023-12-04T10:23:14.860Z"
   },
   {
    "duration": 7,
    "start_time": "2023-12-04T10:23:17.318Z"
   },
   {
    "duration": 18,
    "start_time": "2023-12-04T10:23:20.104Z"
   },
   {
    "duration": 11,
    "start_time": "2023-12-04T10:23:25.518Z"
   },
   {
    "duration": 8,
    "start_time": "2023-12-04T10:23:28.955Z"
   },
   {
    "duration": 8,
    "start_time": "2023-12-04T10:23:32.642Z"
   },
   {
    "duration": 9,
    "start_time": "2023-12-04T10:23:35.323Z"
   },
   {
    "duration": 20,
    "start_time": "2023-12-04T10:32:04.821Z"
   },
   {
    "duration": 27,
    "start_time": "2023-12-04T10:32:31.181Z"
   },
   {
    "duration": 1192,
    "start_time": "2023-12-04T10:33:46.352Z"
   },
   {
    "duration": 78,
    "start_time": "2023-12-04T10:33:47.546Z"
   },
   {
    "duration": 89,
    "start_time": "2023-12-04T10:33:47.625Z"
   },
   {
    "duration": 30,
    "start_time": "2023-12-04T10:33:47.716Z"
   },
   {
    "duration": 5,
    "start_time": "2023-12-04T10:33:47.748Z"
   },
   {
    "duration": 15,
    "start_time": "2023-12-04T10:33:55.305Z"
   },
   {
    "duration": 31,
    "start_time": "2023-12-04T10:34:11.689Z"
   },
   {
    "duration": 105,
    "start_time": "2023-12-04T10:35:27.925Z"
   },
   {
    "duration": 1774,
    "start_time": "2023-12-04T10:35:57.712Z"
   },
   {
    "duration": 1184,
    "start_time": "2023-12-04T10:36:21.243Z"
   },
   {
    "duration": 82,
    "start_time": "2023-12-04T10:36:22.429Z"
   },
   {
    "duration": 74,
    "start_time": "2023-12-04T10:36:22.513Z"
   },
   {
    "duration": 44,
    "start_time": "2023-12-04T10:36:22.589Z"
   },
   {
    "duration": 5,
    "start_time": "2023-12-04T10:36:22.635Z"
   },
   {
    "duration": 36,
    "start_time": "2023-12-04T10:39:09.408Z"
   },
   {
    "duration": 1248,
    "start_time": "2023-12-04T10:41:31.876Z"
   },
   {
    "duration": 84,
    "start_time": "2023-12-04T10:41:33.126Z"
   },
   {
    "duration": 176,
    "start_time": "2023-12-04T10:41:33.212Z"
   },
   {
    "duration": 93,
    "start_time": "2023-12-04T10:41:33.389Z"
   },
   {
    "duration": 11,
    "start_time": "2023-12-04T10:41:33.484Z"
   },
   {
    "duration": 32,
    "start_time": "2023-12-04T10:41:33.496Z"
   },
   {
    "duration": 33,
    "start_time": "2023-12-04T10:41:33.530Z"
   },
   {
    "duration": 15,
    "start_time": "2023-12-04T10:41:33.564Z"
   },
   {
    "duration": 68,
    "start_time": "2023-12-04T10:41:33.580Z"
   },
   {
    "duration": 15,
    "start_time": "2023-12-04T10:41:33.649Z"
   },
   {
    "duration": 14,
    "start_time": "2023-12-04T10:41:33.665Z"
   },
   {
    "duration": 26,
    "start_time": "2023-12-04T10:41:33.680Z"
   },
   {
    "duration": 32,
    "start_time": "2023-12-04T10:41:33.707Z"
   },
   {
    "duration": 10,
    "start_time": "2023-12-04T10:41:33.742Z"
   },
   {
    "duration": 45,
    "start_time": "2023-12-04T10:41:33.754Z"
   },
   {
    "duration": 1688,
    "start_time": "2023-12-04T10:41:33.801Z"
   },
   {
    "duration": 0,
    "start_time": "2023-12-04T10:41:35.491Z"
   },
   {
    "duration": 0,
    "start_time": "2023-12-04T10:41:35.492Z"
   },
   {
    "duration": 0,
    "start_time": "2023-12-04T10:41:35.493Z"
   },
   {
    "duration": 0,
    "start_time": "2023-12-04T10:41:35.495Z"
   },
   {
    "duration": 1,
    "start_time": "2023-12-04T10:41:35.495Z"
   },
   {
    "duration": 0,
    "start_time": "2023-12-04T10:41:35.497Z"
   },
   {
    "duration": 0,
    "start_time": "2023-12-04T10:41:35.499Z"
   },
   {
    "duration": 0,
    "start_time": "2023-12-04T10:41:35.500Z"
   },
   {
    "duration": 0,
    "start_time": "2023-12-04T10:41:35.501Z"
   },
   {
    "duration": 0,
    "start_time": "2023-12-04T10:41:35.505Z"
   },
   {
    "duration": 0,
    "start_time": "2023-12-04T10:41:35.507Z"
   },
   {
    "duration": 0,
    "start_time": "2023-12-04T10:41:35.509Z"
   },
   {
    "duration": 0,
    "start_time": "2023-12-04T10:41:35.510Z"
   },
   {
    "duration": 0,
    "start_time": "2023-12-04T10:41:35.511Z"
   },
   {
    "duration": 0,
    "start_time": "2023-12-04T10:41:35.512Z"
   },
   {
    "duration": 0,
    "start_time": "2023-12-04T10:41:35.513Z"
   },
   {
    "duration": 0,
    "start_time": "2023-12-04T10:41:35.514Z"
   },
   {
    "duration": 0,
    "start_time": "2023-12-04T10:41:35.516Z"
   },
   {
    "duration": 0,
    "start_time": "2023-12-04T10:41:35.517Z"
   },
   {
    "duration": 0,
    "start_time": "2023-12-04T10:41:35.518Z"
   },
   {
    "duration": 0,
    "start_time": "2023-12-04T10:41:35.519Z"
   },
   {
    "duration": 0,
    "start_time": "2023-12-04T10:41:35.520Z"
   },
   {
    "duration": 0,
    "start_time": "2023-12-04T10:41:35.521Z"
   },
   {
    "duration": 0,
    "start_time": "2023-12-04T10:41:35.522Z"
   },
   {
    "duration": 0,
    "start_time": "2023-12-04T10:41:35.524Z"
   },
   {
    "duration": 0,
    "start_time": "2023-12-04T10:41:35.525Z"
   },
   {
    "duration": 0,
    "start_time": "2023-12-04T10:41:35.526Z"
   },
   {
    "duration": 0,
    "start_time": "2023-12-04T10:41:35.527Z"
   },
   {
    "duration": 0,
    "start_time": "2023-12-04T10:41:35.528Z"
   },
   {
    "duration": 0,
    "start_time": "2023-12-04T10:41:35.529Z"
   },
   {
    "duration": 0,
    "start_time": "2023-12-04T10:41:35.531Z"
   },
   {
    "duration": 0,
    "start_time": "2023-12-04T10:41:35.533Z"
   },
   {
    "duration": 1242,
    "start_time": "2023-12-04T10:42:27.200Z"
   },
   {
    "duration": 103,
    "start_time": "2023-12-04T10:42:28.444Z"
   },
   {
    "duration": 85,
    "start_time": "2023-12-04T10:42:28.549Z"
   },
   {
    "duration": 52,
    "start_time": "2023-12-04T10:42:28.636Z"
   },
   {
    "duration": 6,
    "start_time": "2023-12-04T10:42:41.271Z"
   },
   {
    "duration": 13,
    "start_time": "2023-12-04T10:43:12.062Z"
   },
   {
    "duration": 15,
    "start_time": "2023-12-04T10:43:45.681Z"
   },
   {
    "duration": 32,
    "start_time": "2023-12-04T10:44:08.998Z"
   },
   {
    "duration": 1267,
    "start_time": "2023-12-04T10:45:34.968Z"
   },
   {
    "duration": 75,
    "start_time": "2023-12-04T10:45:36.237Z"
   },
   {
    "duration": 87,
    "start_time": "2023-12-04T10:45:36.314Z"
   },
   {
    "duration": 32,
    "start_time": "2023-12-04T10:45:36.403Z"
   },
   {
    "duration": 5,
    "start_time": "2023-12-04T10:45:36.437Z"
   },
   {
    "duration": 30,
    "start_time": "2023-12-04T10:45:36.443Z"
   },
   {
    "duration": 14,
    "start_time": "2023-12-04T10:45:47.655Z"
   },
   {
    "duration": 21,
    "start_time": "2023-12-04T10:45:52.641Z"
   },
   {
    "duration": 22,
    "start_time": "2023-12-04T11:44:05.216Z"
   },
   {
    "duration": 15,
    "start_time": "2023-12-04T11:44:58.333Z"
   },
   {
    "duration": 1185,
    "start_time": "2023-12-04T11:50:56.645Z"
   },
   {
    "duration": 79,
    "start_time": "2023-12-04T11:50:57.832Z"
   },
   {
    "duration": 73,
    "start_time": "2023-12-04T11:50:57.913Z"
   },
   {
    "duration": 48,
    "start_time": "2023-12-04T11:50:57.988Z"
   },
   {
    "duration": 5,
    "start_time": "2023-12-04T11:50:58.038Z"
   },
   {
    "duration": 19,
    "start_time": "2023-12-04T11:50:58.045Z"
   },
   {
    "duration": 11,
    "start_time": "2023-12-04T11:50:58.066Z"
   },
   {
    "duration": 55,
    "start_time": "2023-12-04T11:50:58.079Z"
   },
   {
    "duration": 50,
    "start_time": "2023-12-04T11:58:31.637Z"
   },
   {
    "duration": 1213,
    "start_time": "2023-12-04T11:58:46.417Z"
   },
   {
    "duration": 83,
    "start_time": "2023-12-04T11:58:47.632Z"
   },
   {
    "duration": 74,
    "start_time": "2023-12-04T11:58:47.716Z"
   },
   {
    "duration": 32,
    "start_time": "2023-12-04T11:58:47.806Z"
   },
   {
    "duration": 5,
    "start_time": "2023-12-04T11:58:47.840Z"
   },
   {
    "duration": 18,
    "start_time": "2023-12-04T11:58:47.846Z"
   },
   {
    "duration": 30,
    "start_time": "2023-12-04T11:58:47.865Z"
   },
   {
    "duration": 55,
    "start_time": "2023-12-04T11:58:47.897Z"
   },
   {
    "duration": 5,
    "start_time": "2023-12-04T11:59:10.022Z"
   },
   {
    "duration": 9,
    "start_time": "2023-12-04T12:01:06.765Z"
   },
   {
    "duration": 1255,
    "start_time": "2023-12-04T12:02:52.660Z"
   },
   {
    "duration": 6,
    "start_time": "2023-12-04T12:03:18.161Z"
   },
   {
    "duration": 13,
    "start_time": "2023-12-04T12:03:53.383Z"
   },
   {
    "duration": 8,
    "start_time": "2023-12-04T12:04:04.627Z"
   },
   {
    "duration": 8,
    "start_time": "2023-12-04T12:04:21.851Z"
   },
   {
    "duration": 16,
    "start_time": "2023-12-04T12:05:08.234Z"
   },
   {
    "duration": 10,
    "start_time": "2023-12-04T12:05:18.496Z"
   },
   {
    "duration": 46,
    "start_time": "2023-12-04T12:18:01.727Z"
   },
   {
    "duration": 16,
    "start_time": "2023-12-04T12:18:11.985Z"
   },
   {
    "duration": 20,
    "start_time": "2023-12-04T12:18:40.324Z"
   },
   {
    "duration": 15,
    "start_time": "2023-12-04T12:22:06.477Z"
   },
   {
    "duration": 14,
    "start_time": "2023-12-04T12:22:24.803Z"
   },
   {
    "duration": 16,
    "start_time": "2023-12-04T12:24:20.967Z"
   },
   {
    "duration": 10,
    "start_time": "2023-12-04T12:25:39.534Z"
   },
   {
    "duration": 9,
    "start_time": "2023-12-04T12:26:01.177Z"
   },
   {
    "duration": 19,
    "start_time": "2023-12-04T12:26:19.186Z"
   },
   {
    "duration": 22,
    "start_time": "2023-12-04T12:28:09.338Z"
   },
   {
    "duration": 24,
    "start_time": "2023-12-04T12:28:22.918Z"
   },
   {
    "duration": 7,
    "start_time": "2023-12-04T12:29:00.351Z"
   },
   {
    "duration": 37,
    "start_time": "2023-12-04T12:29:01.303Z"
   },
   {
    "duration": 5,
    "start_time": "2023-12-04T12:29:06.884Z"
   },
   {
    "duration": 8,
    "start_time": "2023-12-04T12:29:15.345Z"
   },
   {
    "duration": 5,
    "start_time": "2023-12-04T12:29:21.308Z"
   },
   {
    "duration": 14,
    "start_time": "2023-12-04T12:29:30.028Z"
   },
   {
    "duration": 5,
    "start_time": "2023-12-04T12:29:33.858Z"
   },
   {
    "duration": 65,
    "start_time": "2023-12-04T12:29:37.819Z"
   },
   {
    "duration": 432,
    "start_time": "2023-12-04T12:30:08.555Z"
   },
   {
    "duration": 477,
    "start_time": "2023-12-04T12:59:51.370Z"
   },
   {
    "duration": 410,
    "start_time": "2023-12-04T13:00:14.418Z"
   },
   {
    "duration": 411,
    "start_time": "2023-12-04T13:03:04.768Z"
   },
   {
    "duration": 493,
    "start_time": "2023-12-04T13:03:22.228Z"
   },
   {
    "duration": 123,
    "start_time": "2023-12-04T13:03:50.104Z"
   },
   {
    "duration": 424,
    "start_time": "2023-12-04T13:03:55.869Z"
   },
   {
    "duration": 673,
    "start_time": "2023-12-04T13:10:53.414Z"
   },
   {
    "duration": 772,
    "start_time": "2023-12-04T13:12:19.761Z"
   },
   {
    "duration": 581,
    "start_time": "2023-12-04T13:13:06.247Z"
   },
   {
    "duration": 560,
    "start_time": "2023-12-04T13:13:40.479Z"
   },
   {
    "duration": 781,
    "start_time": "2023-12-04T13:14:04.937Z"
   },
   {
    "duration": 401,
    "start_time": "2023-12-04T13:14:32.824Z"
   },
   {
    "duration": 1361,
    "start_time": "2023-12-04T13:17:11.069Z"
   },
   {
    "duration": 1472,
    "start_time": "2023-12-04T13:19:11.149Z"
   },
   {
    "duration": 1406,
    "start_time": "2023-12-04T13:19:45.232Z"
   },
   {
    "duration": 1495,
    "start_time": "2023-12-04T13:20:16.106Z"
   },
   {
    "duration": 3239,
    "start_time": "2023-12-04T13:20:26.651Z"
   },
   {
    "duration": 3236,
    "start_time": "2023-12-04T13:20:57.040Z"
   },
   {
    "duration": 12,
    "start_time": "2023-12-04T13:21:09.527Z"
   },
   {
    "duration": 32,
    "start_time": "2023-12-04T13:22:07.605Z"
   },
   {
    "duration": 18,
    "start_time": "2023-12-04T13:22:24.927Z"
   },
   {
    "duration": 198,
    "start_time": "2023-12-04T13:29:59.023Z"
   },
   {
    "duration": 25,
    "start_time": "2023-12-04T13:31:22.796Z"
   },
   {
    "duration": 206,
    "start_time": "2023-12-04T13:31:52.940Z"
   },
   {
    "duration": 377,
    "start_time": "2023-12-04T13:33:05.378Z"
   },
   {
    "duration": 3140,
    "start_time": "2023-12-04T13:33:44.466Z"
   },
   {
    "duration": 1291,
    "start_time": "2023-12-04T13:34:31.576Z"
   },
   {
    "duration": 95,
    "start_time": "2023-12-04T13:34:32.869Z"
   },
   {
    "duration": 76,
    "start_time": "2023-12-04T13:34:32.966Z"
   },
   {
    "duration": 212,
    "start_time": "2023-12-04T13:34:33.044Z"
   },
   {
    "duration": 39,
    "start_time": "2023-12-04T13:34:33.258Z"
   },
   {
    "duration": 75,
    "start_time": "2023-12-04T13:34:33.299Z"
   },
   {
    "duration": 20,
    "start_time": "2023-12-04T13:34:33.376Z"
   },
   {
    "duration": 32,
    "start_time": "2023-12-04T13:34:33.398Z"
   },
   {
    "duration": 5,
    "start_time": "2023-12-04T13:34:33.432Z"
   },
   {
    "duration": 633,
    "start_time": "2023-12-04T13:34:33.439Z"
   },
   {
    "duration": 74,
    "start_time": "2023-12-04T13:34:34.073Z"
   },
   {
    "duration": 21,
    "start_time": "2023-12-04T13:34:34.149Z"
   },
   {
    "duration": 46,
    "start_time": "2023-12-04T13:34:34.172Z"
   },
   {
    "duration": 5,
    "start_time": "2023-12-04T13:34:34.219Z"
   },
   {
    "duration": 13,
    "start_time": "2023-12-04T13:34:34.226Z"
   },
   {
    "duration": 30,
    "start_time": "2023-12-04T13:34:34.241Z"
   },
   {
    "duration": 23,
    "start_time": "2023-12-04T13:34:34.273Z"
   },
   {
    "duration": 14,
    "start_time": "2023-12-04T13:34:34.298Z"
   },
   {
    "duration": 74,
    "start_time": "2023-12-04T13:34:34.314Z"
   },
   {
    "duration": 425,
    "start_time": "2023-12-04T13:34:34.390Z"
   },
   {
    "duration": 1470,
    "start_time": "2023-12-04T13:34:34.817Z"
   },
   {
    "duration": 3129,
    "start_time": "2023-12-04T13:34:36.289Z"
   },
   {
    "duration": 8,
    "start_time": "2023-12-04T13:34:39.420Z"
   },
   {
    "duration": 25,
    "start_time": "2023-12-04T13:34:39.430Z"
   },
   {
    "duration": 12,
    "start_time": "2023-12-04T13:34:39.457Z"
   },
   {
    "duration": 1695,
    "start_time": "2023-12-04T13:34:56.831Z"
   },
   {
    "duration": 734,
    "start_time": "2023-12-04T13:35:07.161Z"
   },
   {
    "duration": 770,
    "start_time": "2023-12-04T13:36:28.676Z"
   },
   {
    "duration": 528,
    "start_time": "2023-12-04T13:39:44.009Z"
   },
   {
    "duration": 2881,
    "start_time": "2023-12-04T13:42:53.925Z"
   },
   {
    "duration": 1459,
    "start_time": "2023-12-04T13:47:09.566Z"
   },
   {
    "duration": 357,
    "start_time": "2023-12-04T13:47:17.722Z"
   },
   {
    "duration": 6,
    "start_time": "2023-12-04T13:54:07.188Z"
   },
   {
    "duration": 456,
    "start_time": "2023-12-04T13:54:09.578Z"
   },
   {
    "duration": 51,
    "start_time": "2023-12-04T13:59:12.932Z"
   },
   {
    "duration": 1183,
    "start_time": "2023-12-04T13:59:20.546Z"
   },
   {
    "duration": 185,
    "start_time": "2023-12-04T13:59:21.731Z"
   },
   {
    "duration": 76,
    "start_time": "2023-12-04T13:59:21.917Z"
   },
   {
    "duration": 42,
    "start_time": "2023-12-04T13:59:21.995Z"
   },
   {
    "duration": 5,
    "start_time": "2023-12-04T13:59:22.039Z"
   },
   {
    "duration": 18,
    "start_time": "2023-12-04T13:59:22.046Z"
   },
   {
    "duration": 33,
    "start_time": "2023-12-04T13:59:22.066Z"
   },
   {
    "duration": 43,
    "start_time": "2023-12-04T13:59:22.100Z"
   },
   {
    "duration": 5,
    "start_time": "2023-12-04T13:59:22.145Z"
   },
   {
    "duration": 33,
    "start_time": "2023-12-04T13:59:22.153Z"
   },
   {
    "duration": 23,
    "start_time": "2023-12-04T13:59:22.188Z"
   },
   {
    "duration": 7,
    "start_time": "2023-12-04T13:59:22.213Z"
   },
   {
    "duration": 38,
    "start_time": "2023-12-04T13:59:22.221Z"
   },
   {
    "duration": 5,
    "start_time": "2023-12-04T13:59:22.261Z"
   },
   {
    "duration": 10,
    "start_time": "2023-12-04T13:59:22.268Z"
   },
   {
    "duration": 28,
    "start_time": "2023-12-04T13:59:22.280Z"
   },
   {
    "duration": 47,
    "start_time": "2023-12-04T13:59:22.309Z"
   },
   {
    "duration": 21,
    "start_time": "2023-12-04T13:59:22.358Z"
   },
   {
    "duration": 83,
    "start_time": "2023-12-04T13:59:22.381Z"
   },
   {
    "duration": 424,
    "start_time": "2023-12-04T13:59:22.466Z"
   },
   {
    "duration": 1384,
    "start_time": "2023-12-04T13:59:22.891Z"
   },
   {
    "duration": 3170,
    "start_time": "2023-12-04T13:59:24.277Z"
   },
   {
    "duration": 8,
    "start_time": "2023-12-04T13:59:27.448Z"
   },
   {
    "duration": 56,
    "start_time": "2023-12-04T13:59:27.457Z"
   },
   {
    "duration": 29,
    "start_time": "2023-12-04T13:59:27.515Z"
   },
   {
    "duration": 738,
    "start_time": "2023-12-04T13:59:27.545Z"
   },
   {
    "duration": 444,
    "start_time": "2023-12-04T13:59:28.284Z"
   },
   {
    "duration": 2886,
    "start_time": "2023-12-04T13:59:28.732Z"
   },
   {
    "duration": 1316,
    "start_time": "2023-12-04T13:59:31.619Z"
   },
   {
    "duration": 342,
    "start_time": "2023-12-04T13:59:32.937Z"
   },
   {
    "duration": 6,
    "start_time": "2023-12-04T13:59:33.281Z"
   },
   {
    "duration": 430,
    "start_time": "2023-12-04T14:01:17.945Z"
   },
   {
    "duration": 1261,
    "start_time": "2023-12-04T14:04:23.988Z"
   },
   {
    "duration": 182,
    "start_time": "2023-12-04T14:04:25.251Z"
   },
   {
    "duration": 76,
    "start_time": "2023-12-04T14:04:25.435Z"
   },
   {
    "duration": 31,
    "start_time": "2023-12-04T14:04:25.513Z"
   },
   {
    "duration": 5,
    "start_time": "2023-12-04T14:04:25.546Z"
   },
   {
    "duration": 49,
    "start_time": "2023-12-04T14:04:25.552Z"
   },
   {
    "duration": 44,
    "start_time": "2023-12-04T14:04:25.603Z"
   },
   {
    "duration": 48,
    "start_time": "2023-12-04T14:04:25.649Z"
   },
   {
    "duration": 7,
    "start_time": "2023-12-04T14:04:25.699Z"
   },
   {
    "duration": 18,
    "start_time": "2023-12-04T14:04:25.709Z"
   },
   {
    "duration": 24,
    "start_time": "2023-12-04T14:04:25.729Z"
   },
   {
    "duration": 6,
    "start_time": "2023-12-04T14:04:25.754Z"
   },
   {
    "duration": 49,
    "start_time": "2023-12-04T14:04:25.762Z"
   },
   {
    "duration": 6,
    "start_time": "2023-12-04T14:04:25.813Z"
   },
   {
    "duration": 11,
    "start_time": "2023-12-04T14:04:25.820Z"
   },
   {
    "duration": 18,
    "start_time": "2023-12-04T14:04:25.833Z"
   },
   {
    "duration": 19,
    "start_time": "2023-12-04T14:04:25.853Z"
   },
   {
    "duration": 4,
    "start_time": "2023-12-04T14:04:25.874Z"
   },
   {
    "duration": 87,
    "start_time": "2023-12-04T14:04:25.879Z"
   },
   {
    "duration": 406,
    "start_time": "2023-12-04T14:04:25.967Z"
   },
   {
    "duration": 1421,
    "start_time": "2023-12-04T14:04:26.375Z"
   },
   {
    "duration": 3127,
    "start_time": "2023-12-04T14:04:27.798Z"
   },
   {
    "duration": 8,
    "start_time": "2023-12-04T14:04:30.927Z"
   },
   {
    "duration": 59,
    "start_time": "2023-12-04T14:04:30.936Z"
   },
   {
    "duration": 54,
    "start_time": "2023-12-04T14:04:30.996Z"
   },
   {
    "duration": 862,
    "start_time": "2023-12-04T14:04:31.052Z"
   },
   {
    "duration": 462,
    "start_time": "2023-12-04T14:04:31.915Z"
   },
   {
    "duration": 2942,
    "start_time": "2023-12-04T14:04:32.380Z"
   },
   {
    "duration": 1301,
    "start_time": "2023-12-04T14:04:35.324Z"
   },
   {
    "duration": 359,
    "start_time": "2023-12-04T14:04:36.626Z"
   },
   {
    "duration": 6,
    "start_time": "2023-12-04T14:04:36.987Z"
   },
   {
    "duration": 467,
    "start_time": "2023-12-04T14:05:09.226Z"
   },
   {
    "duration": 660,
    "start_time": "2023-12-04T14:05:39.256Z"
   },
   {
    "duration": 600,
    "start_time": "2023-12-04T14:06:05.787Z"
   },
   {
    "duration": 483,
    "start_time": "2023-12-04T14:06:25.254Z"
   },
   {
    "duration": 675,
    "start_time": "2023-12-04T14:07:27.708Z"
   },
   {
    "duration": 584,
    "start_time": "2023-12-04T14:08:14.298Z"
   },
   {
    "duration": 5,
    "start_time": "2023-12-04T14:08:30.049Z"
   },
   {
    "duration": 5,
    "start_time": "2023-12-04T14:08:33.050Z"
   },
   {
    "duration": 6,
    "start_time": "2023-12-04T14:08:35.253Z"
   },
   {
    "duration": 13,
    "start_time": "2023-12-04T14:08:38.233Z"
   },
   {
    "duration": 5,
    "start_time": "2023-12-04T14:11:27.591Z"
   },
   {
    "duration": 7,
    "start_time": "2023-12-04T14:22:02.130Z"
   },
   {
    "duration": 262,
    "start_time": "2023-12-04T14:22:06.173Z"
   },
   {
    "duration": 332,
    "start_time": "2023-12-04T14:23:54.595Z"
   },
   {
    "duration": 5,
    "start_time": "2023-12-04T14:24:07.140Z"
   },
   {
    "duration": 6,
    "start_time": "2023-12-04T14:24:12.762Z"
   },
   {
    "duration": 6,
    "start_time": "2023-12-04T14:24:13.544Z"
   },
   {
    "duration": 14,
    "start_time": "2023-12-04T14:24:16.005Z"
   },
   {
    "duration": 11,
    "start_time": "2023-12-04T14:24:55.229Z"
   },
   {
    "duration": 12,
    "start_time": "2023-12-04T14:24:59.963Z"
   },
   {
    "duration": 125,
    "start_time": "2023-12-04T14:25:02.973Z"
   },
   {
    "duration": 356,
    "start_time": "2023-12-04T14:29:48.145Z"
   },
   {
    "duration": 395,
    "start_time": "2023-12-04T14:29:52.240Z"
   },
   {
    "duration": 25,
    "start_time": "2023-12-04T14:38:03.015Z"
   },
   {
    "duration": 26,
    "start_time": "2023-12-04T14:39:50.543Z"
   },
   {
    "duration": 24,
    "start_time": "2023-12-04T14:41:45.999Z"
   },
   {
    "duration": 14,
    "start_time": "2023-12-04T14:42:38.637Z"
   },
   {
    "duration": 666,
    "start_time": "2023-12-04T14:50:57.019Z"
   },
   {
    "duration": 566,
    "start_time": "2023-12-04T14:58:56.462Z"
   },
   {
    "duration": 756,
    "start_time": "2023-12-04T14:59:11.793Z"
   },
   {
    "duration": 761,
    "start_time": "2023-12-04T14:59:26.447Z"
   },
   {
    "duration": 673,
    "start_time": "2023-12-04T14:59:31.336Z"
   },
   {
    "duration": 713,
    "start_time": "2023-12-04T15:04:00.924Z"
   },
   {
    "duration": 788,
    "start_time": "2023-12-04T15:04:09.344Z"
   },
   {
    "duration": 42,
    "start_time": "2023-12-04T15:04:43.814Z"
   },
   {
    "duration": 662,
    "start_time": "2023-12-04T15:04:49.549Z"
   },
   {
    "duration": 582,
    "start_time": "2023-12-04T15:05:29.213Z"
   },
   {
    "duration": 685,
    "start_time": "2023-12-04T15:05:38.034Z"
   },
   {
    "duration": 7,
    "start_time": "2023-12-04T15:25:05.982Z"
   },
   {
    "duration": 18,
    "start_time": "2023-12-04T15:26:24.777Z"
   },
   {
    "duration": 1334,
    "start_time": "2023-12-04T15:31:18.238Z"
   },
   {
    "duration": 17,
    "start_time": "2023-12-04T15:32:40.842Z"
   },
   {
    "duration": 19,
    "start_time": "2023-12-04T15:32:56.257Z"
   },
   {
    "duration": 18,
    "start_time": "2023-12-04T15:33:44.288Z"
   },
   {
    "duration": 184,
    "start_time": "2023-12-04T16:50:44.377Z"
   },
   {
    "duration": 67,
    "start_time": "2023-12-04T16:51:10.328Z"
   },
   {
    "duration": 72,
    "start_time": "2023-12-04T16:51:32.620Z"
   },
   {
    "duration": 574,
    "start_time": "2023-12-04T16:51:44.745Z"
   },
   {
    "duration": 662,
    "start_time": "2023-12-04T16:54:12.057Z"
   },
   {
    "duration": 672,
    "start_time": "2023-12-04T16:56:12.702Z"
   },
   {
    "duration": 797,
    "start_time": "2023-12-04T16:56:47.554Z"
   },
   {
    "duration": 679,
    "start_time": "2023-12-04T16:57:20.368Z"
   },
   {
    "duration": 430,
    "start_time": "2023-12-04T16:57:49.224Z"
   },
   {
    "duration": 394,
    "start_time": "2023-12-04T16:58:20.677Z"
   },
   {
    "duration": 415,
    "start_time": "2023-12-04T16:58:48.376Z"
   },
   {
    "duration": 163,
    "start_time": "2023-12-04T16:59:20.791Z"
   },
   {
    "duration": 512,
    "start_time": "2023-12-04T17:00:03.972Z"
   },
   {
    "duration": 422,
    "start_time": "2023-12-04T17:00:34.432Z"
   },
   {
    "duration": 386,
    "start_time": "2023-12-04T17:00:49.958Z"
   },
   {
    "duration": 85,
    "start_time": "2023-12-04T17:01:12.951Z"
   },
   {
    "duration": 381,
    "start_time": "2023-12-04T17:01:19.618Z"
   },
   {
    "duration": 374,
    "start_time": "2023-12-04T17:02:28.943Z"
   },
   {
    "duration": 1310,
    "start_time": "2023-12-04T18:11:03.893Z"
   },
   {
    "duration": 73,
    "start_time": "2023-12-04T18:11:05.205Z"
   },
   {
    "duration": 77,
    "start_time": "2023-12-04T18:11:05.280Z"
   },
   {
    "duration": 34,
    "start_time": "2023-12-04T18:11:05.360Z"
   },
   {
    "duration": 5,
    "start_time": "2023-12-04T18:11:05.395Z"
   },
   {
    "duration": 12,
    "start_time": "2023-12-04T18:11:05.414Z"
   },
   {
    "duration": 9,
    "start_time": "2023-12-04T18:11:05.428Z"
   },
   {
    "duration": 33,
    "start_time": "2023-12-04T18:11:05.438Z"
   },
   {
    "duration": 5,
    "start_time": "2023-12-04T18:11:05.472Z"
   },
   {
    "duration": 38,
    "start_time": "2023-12-04T18:11:05.480Z"
   },
   {
    "duration": 23,
    "start_time": "2023-12-04T18:11:05.520Z"
   },
   {
    "duration": 9,
    "start_time": "2023-12-04T18:11:05.544Z"
   },
   {
    "duration": 34,
    "start_time": "2023-12-04T18:11:05.554Z"
   },
   {
    "duration": 24,
    "start_time": "2023-12-04T18:11:05.590Z"
   },
   {
    "duration": 11,
    "start_time": "2023-12-04T18:11:05.616Z"
   },
   {
    "duration": 28,
    "start_time": "2023-12-04T18:11:05.629Z"
   },
   {
    "duration": 46,
    "start_time": "2023-12-04T18:11:05.659Z"
   },
   {
    "duration": 17,
    "start_time": "2023-12-04T18:11:05.707Z"
   },
   {
    "duration": 114,
    "start_time": "2023-12-04T18:11:05.726Z"
   },
   {
    "duration": 207,
    "start_time": "2023-12-04T18:11:05.842Z"
   },
   {
    "duration": 392,
    "start_time": "2023-12-04T18:11:06.051Z"
   },
   {
    "duration": 1371,
    "start_time": "2023-12-04T18:11:06.445Z"
   },
   {
    "duration": 3059,
    "start_time": "2023-12-04T18:11:07.817Z"
   },
   {
    "duration": 8,
    "start_time": "2023-12-04T18:11:10.877Z"
   },
   {
    "duration": 34,
    "start_time": "2023-12-04T18:11:10.887Z"
   },
   {
    "duration": 16,
    "start_time": "2023-12-04T18:11:10.922Z"
   },
   {
    "duration": 722,
    "start_time": "2023-12-04T18:11:10.939Z"
   },
   {
    "duration": 424,
    "start_time": "2023-12-04T18:11:11.664Z"
   },
   {
    "duration": 2728,
    "start_time": "2023-12-04T18:11:12.090Z"
   },
   {
    "duration": 1280,
    "start_time": "2023-12-04T18:11:14.819Z"
   },
   {
    "duration": 373,
    "start_time": "2023-12-04T18:11:16.101Z"
   },
   {
    "duration": 6,
    "start_time": "2023-12-04T18:11:16.475Z"
   },
   {
    "duration": 576,
    "start_time": "2023-12-04T18:11:16.482Z"
   },
   {
    "duration": 4,
    "start_time": "2023-12-04T18:11:17.060Z"
   },
   {
    "duration": 19,
    "start_time": "2023-12-04T18:11:17.066Z"
   },
   {
    "duration": 32,
    "start_time": "2023-12-04T18:11:17.086Z"
   },
   {
    "duration": 18,
    "start_time": "2023-12-04T18:11:17.120Z"
   },
   {
    "duration": 11,
    "start_time": "2023-12-04T18:11:17.141Z"
   },
   {
    "duration": 8,
    "start_time": "2023-12-04T18:11:17.157Z"
   },
   {
    "duration": 418,
    "start_time": "2023-12-04T18:11:17.167Z"
   },
   {
    "duration": 5,
    "start_time": "2023-12-04T18:11:17.587Z"
   },
   {
    "duration": 22,
    "start_time": "2023-12-04T18:11:17.594Z"
   },
   {
    "duration": 17,
    "start_time": "2023-12-04T18:11:17.618Z"
   },
   {
    "duration": 11,
    "start_time": "2023-12-04T18:11:17.636Z"
   },
   {
    "duration": 11,
    "start_time": "2023-12-04T18:11:17.649Z"
   },
   {
    "duration": 9,
    "start_time": "2023-12-04T18:11:17.662Z"
   },
   {
    "duration": 10,
    "start_time": "2023-12-04T18:11:17.672Z"
   },
   {
    "duration": 34,
    "start_time": "2023-12-04T18:11:17.683Z"
   }
  ],
  "kernelspec": {
   "display_name": "Python 3 (ipykernel)",
   "language": "python",
   "name": "python3"
  },
  "language_info": {
   "codemirror_mode": {
    "name": "ipython",
    "version": 3
   },
   "file_extension": ".py",
   "mimetype": "text/x-python",
   "name": "python",
   "nbconvert_exporter": "python",
   "pygments_lexer": "ipython3",
   "version": "3.9.5"
  },
  "toc": {
   "base_numbering": 1,
   "nav_menu": {},
   "number_sections": true,
   "sideBar": true,
   "skip_h1_title": true,
   "title_cell": "Table of Contents",
   "title_sidebar": "Contents",
   "toc_cell": false,
   "toc_position": {
    "height": "calc(100% - 180px)",
    "left": "10px",
    "top": "150px",
    "width": "330.8px"
   },
   "toc_section_display": true,
   "toc_window_display": false
  }
 },
 "nbformat": 4,
 "nbformat_minor": 2
}
