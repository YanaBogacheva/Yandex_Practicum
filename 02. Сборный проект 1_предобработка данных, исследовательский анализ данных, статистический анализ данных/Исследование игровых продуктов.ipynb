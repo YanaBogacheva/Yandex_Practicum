{
 "cells": [
  {
   "cell_type": "markdown",
   "metadata": {},
   "source": [
    "# Исследование игровых продуктов"
   ]
  },
  {
   "cell_type": "markdown",
   "metadata": {},
   "source": [
    "**Объект исследования** \n",
    "- исторические данные о продажах компьютерных игр в интернет-магазине «Стримчик», а так же об оценках пользователей и экспертов, жанрах и платформах, доступные из открытых источников.\n",
    "\n",
    "**Цель исследования**\n",
    "- выявить закономерности, определяющие успешность игры, для того, чтобы сделать ставку на потенциально популярный продукт и спланировать рекламные кампании."
   ]
  },
  {
   "cell_type": "markdown",
   "metadata": {},
   "source": [
    "**План выполнение проекта:**\n",
    "\n",
    "**1. Загрузка данных и изучение общей информации.**\n",
    "\n",
    "**2. Подготовка данных.**\n",
    "- Заменить названия столбцов (приведите к нижнему регистру).\n",
    "- Преобразовать данные в нужные типы.\n",
    "- Обработать пропуски при необходимости.\n",
    "- Посчитать суммарные продажи во всех регионах и записать их в отдельный столбец.\n",
    "\n",
    "**3. Исследовательский анализ данных.**\n",
    "- Посмотреть, сколько игр выпускалось в разные годы, определить, важны ли данные за все периоды.\n",
    "- Посмотреть, как менялись продажи по платформам; выбрать платформы с наибольшими суммарными продажами и построить распределение по годам; определить, за какой характерный срок появляются новые и исчезают старые платформы.\n",
    "- Выбрать данные за соответствующий актуальный период; актуальный период определить в результате исследования предыдущих вопросов.\n",
    "- Не учитывать в работе данные за предыдущие годы.\n",
    "- Определить, какие платформы лидируют по продажам, растут или падают; выбрать несколько потенциально прибыльных платформ.\n",
    "- Построть график «ящик с усами» по глобальным продажам игр в разбивке по платформам, описать результат.\n",
    "- Посмотреть, как влияют на продажи внутри одной популярной платформы отзывы пользователей и критиков; построить диаграмму рассеяния и посчитть корреляцию между отзывами и продажами; сформулировать выводы.\n",
    "- Соотнести выводы с продажами игр на других платформах.\n",
    "- Посмотреть на общее распределение игр по жанрам; выяснить, что можно сказать о самых прибыльных жанрах, выделяются ли жанры с высокими и низкими продажами.\n",
    "\n",
    "**4. Портрет пользователя каждого региона.**\n",
    "\n",
    "Определить для пользователя каждого региона (NA, EU, JP):\n",
    "- самые популярные платформы (топ-5), описать различия в долях продаж;\n",
    "- самые популярные жанры (топ-5), пояснить разницу,\n",
    "- влияет ли рейтинг ESRB на продажи в отдельном регионе.\n",
    "\n",
    "**5. Проверка гипотез.**\n",
    "1. Средние пользовательские рейтинги платформ Xbox One и PC одинаковые;\n",
    "2. Средние пользовательские рейтинги жанров Action (англ. «действие», экшен-игры) и Sports (англ. «спортивные соревнования») разные.\n",
    "\n",
    "**6. Общий вывод.**"
   ]
  },
  {
   "cell_type": "markdown",
   "metadata": {},
   "source": [
    "## Загрузка данных и изучение общей информации "
   ]
  },
  {
   "cell_type": "code",
   "execution_count": 1,
   "metadata": {},
   "outputs": [],
   "source": [
    "# Импортирую библиотеки.\n",
    "import pandas as pd\n",
    "import matplotlib.pyplot as plt\n",
    "import seaborn as sns\n",
    "import warnings\n",
    "import numpy as np\n",
    "from scipy import stats as st"
   ]
  },
  {
   "cell_type": "code",
   "execution_count": 2,
   "metadata": {},
   "outputs": [],
   "source": [
    "warnings.simplefilter(\"ignore\")"
   ]
  },
  {
   "cell_type": "code",
   "execution_count": 3,
   "metadata": {},
   "outputs": [],
   "source": [
    "# Открываю файл.\n",
    "data = pd.read_csv('/datasets/games.csv')"
   ]
  },
  {
   "cell_type": "code",
   "execution_count": 4,
   "metadata": {},
   "outputs": [
    {
     "data": {
      "text/html": [
       "<div>\n",
       "<style scoped>\n",
       "    .dataframe tbody tr th:only-of-type {\n",
       "        vertical-align: middle;\n",
       "    }\n",
       "\n",
       "    .dataframe tbody tr th {\n",
       "        vertical-align: top;\n",
       "    }\n",
       "\n",
       "    .dataframe thead th {\n",
       "        text-align: right;\n",
       "    }\n",
       "</style>\n",
       "<table border=\"1\" class=\"dataframe\">\n",
       "  <thead>\n",
       "    <tr style=\"text-align: right;\">\n",
       "      <th></th>\n",
       "      <th>Name</th>\n",
       "      <th>Platform</th>\n",
       "      <th>Year_of_Release</th>\n",
       "      <th>Genre</th>\n",
       "      <th>NA_sales</th>\n",
       "      <th>EU_sales</th>\n",
       "      <th>JP_sales</th>\n",
       "      <th>Other_sales</th>\n",
       "      <th>Critic_Score</th>\n",
       "      <th>User_Score</th>\n",
       "      <th>Rating</th>\n",
       "    </tr>\n",
       "  </thead>\n",
       "  <tbody>\n",
       "    <tr>\n",
       "      <th>0</th>\n",
       "      <td>Wii Sports</td>\n",
       "      <td>Wii</td>\n",
       "      <td>2006.0</td>\n",
       "      <td>Sports</td>\n",
       "      <td>41.36</td>\n",
       "      <td>28.96</td>\n",
       "      <td>3.77</td>\n",
       "      <td>8.45</td>\n",
       "      <td>76.0</td>\n",
       "      <td>8</td>\n",
       "      <td>E</td>\n",
       "    </tr>\n",
       "    <tr>\n",
       "      <th>1</th>\n",
       "      <td>Super Mario Bros.</td>\n",
       "      <td>NES</td>\n",
       "      <td>1985.0</td>\n",
       "      <td>Platform</td>\n",
       "      <td>29.08</td>\n",
       "      <td>3.58</td>\n",
       "      <td>6.81</td>\n",
       "      <td>0.77</td>\n",
       "      <td>NaN</td>\n",
       "      <td>NaN</td>\n",
       "      <td>NaN</td>\n",
       "    </tr>\n",
       "    <tr>\n",
       "      <th>2</th>\n",
       "      <td>Mario Kart Wii</td>\n",
       "      <td>Wii</td>\n",
       "      <td>2008.0</td>\n",
       "      <td>Racing</td>\n",
       "      <td>15.68</td>\n",
       "      <td>12.76</td>\n",
       "      <td>3.79</td>\n",
       "      <td>3.29</td>\n",
       "      <td>82.0</td>\n",
       "      <td>8.3</td>\n",
       "      <td>E</td>\n",
       "    </tr>\n",
       "    <tr>\n",
       "      <th>3</th>\n",
       "      <td>Wii Sports Resort</td>\n",
       "      <td>Wii</td>\n",
       "      <td>2009.0</td>\n",
       "      <td>Sports</td>\n",
       "      <td>15.61</td>\n",
       "      <td>10.93</td>\n",
       "      <td>3.28</td>\n",
       "      <td>2.95</td>\n",
       "      <td>80.0</td>\n",
       "      <td>8</td>\n",
       "      <td>E</td>\n",
       "    </tr>\n",
       "    <tr>\n",
       "      <th>4</th>\n",
       "      <td>Pokemon Red/Pokemon Blue</td>\n",
       "      <td>GB</td>\n",
       "      <td>1996.0</td>\n",
       "      <td>Role-Playing</td>\n",
       "      <td>11.27</td>\n",
       "      <td>8.89</td>\n",
       "      <td>10.22</td>\n",
       "      <td>1.00</td>\n",
       "      <td>NaN</td>\n",
       "      <td>NaN</td>\n",
       "      <td>NaN</td>\n",
       "    </tr>\n",
       "    <tr>\n",
       "      <th>...</th>\n",
       "      <td>...</td>\n",
       "      <td>...</td>\n",
       "      <td>...</td>\n",
       "      <td>...</td>\n",
       "      <td>...</td>\n",
       "      <td>...</td>\n",
       "      <td>...</td>\n",
       "      <td>...</td>\n",
       "      <td>...</td>\n",
       "      <td>...</td>\n",
       "      <td>...</td>\n",
       "    </tr>\n",
       "    <tr>\n",
       "      <th>16710</th>\n",
       "      <td>Samurai Warriors: Sanada Maru</td>\n",
       "      <td>PS3</td>\n",
       "      <td>2016.0</td>\n",
       "      <td>Action</td>\n",
       "      <td>0.00</td>\n",
       "      <td>0.00</td>\n",
       "      <td>0.01</td>\n",
       "      <td>0.00</td>\n",
       "      <td>NaN</td>\n",
       "      <td>NaN</td>\n",
       "      <td>NaN</td>\n",
       "    </tr>\n",
       "    <tr>\n",
       "      <th>16711</th>\n",
       "      <td>LMA Manager 2007</td>\n",
       "      <td>X360</td>\n",
       "      <td>2006.0</td>\n",
       "      <td>Sports</td>\n",
       "      <td>0.00</td>\n",
       "      <td>0.01</td>\n",
       "      <td>0.00</td>\n",
       "      <td>0.00</td>\n",
       "      <td>NaN</td>\n",
       "      <td>NaN</td>\n",
       "      <td>NaN</td>\n",
       "    </tr>\n",
       "    <tr>\n",
       "      <th>16712</th>\n",
       "      <td>Haitaka no Psychedelica</td>\n",
       "      <td>PSV</td>\n",
       "      <td>2016.0</td>\n",
       "      <td>Adventure</td>\n",
       "      <td>0.00</td>\n",
       "      <td>0.00</td>\n",
       "      <td>0.01</td>\n",
       "      <td>0.00</td>\n",
       "      <td>NaN</td>\n",
       "      <td>NaN</td>\n",
       "      <td>NaN</td>\n",
       "    </tr>\n",
       "    <tr>\n",
       "      <th>16713</th>\n",
       "      <td>Spirits &amp; Spells</td>\n",
       "      <td>GBA</td>\n",
       "      <td>2003.0</td>\n",
       "      <td>Platform</td>\n",
       "      <td>0.01</td>\n",
       "      <td>0.00</td>\n",
       "      <td>0.00</td>\n",
       "      <td>0.00</td>\n",
       "      <td>NaN</td>\n",
       "      <td>NaN</td>\n",
       "      <td>NaN</td>\n",
       "    </tr>\n",
       "    <tr>\n",
       "      <th>16714</th>\n",
       "      <td>Winning Post 8 2016</td>\n",
       "      <td>PSV</td>\n",
       "      <td>2016.0</td>\n",
       "      <td>Simulation</td>\n",
       "      <td>0.00</td>\n",
       "      <td>0.00</td>\n",
       "      <td>0.01</td>\n",
       "      <td>0.00</td>\n",
       "      <td>NaN</td>\n",
       "      <td>NaN</td>\n",
       "      <td>NaN</td>\n",
       "    </tr>\n",
       "  </tbody>\n",
       "</table>\n",
       "<p>16715 rows × 11 columns</p>\n",
       "</div>"
      ],
      "text/plain": [
       "                                Name Platform  Year_of_Release         Genre  \\\n",
       "0                         Wii Sports      Wii           2006.0        Sports   \n",
       "1                  Super Mario Bros.      NES           1985.0      Platform   \n",
       "2                     Mario Kart Wii      Wii           2008.0        Racing   \n",
       "3                  Wii Sports Resort      Wii           2009.0        Sports   \n",
       "4           Pokemon Red/Pokemon Blue       GB           1996.0  Role-Playing   \n",
       "...                              ...      ...              ...           ...   \n",
       "16710  Samurai Warriors: Sanada Maru      PS3           2016.0        Action   \n",
       "16711               LMA Manager 2007     X360           2006.0        Sports   \n",
       "16712        Haitaka no Psychedelica      PSV           2016.0     Adventure   \n",
       "16713               Spirits & Spells      GBA           2003.0      Platform   \n",
       "16714            Winning Post 8 2016      PSV           2016.0    Simulation   \n",
       "\n",
       "       NA_sales  EU_sales  JP_sales  Other_sales  Critic_Score User_Score  \\\n",
       "0         41.36     28.96      3.77         8.45          76.0          8   \n",
       "1         29.08      3.58      6.81         0.77           NaN        NaN   \n",
       "2         15.68     12.76      3.79         3.29          82.0        8.3   \n",
       "3         15.61     10.93      3.28         2.95          80.0          8   \n",
       "4         11.27      8.89     10.22         1.00           NaN        NaN   \n",
       "...         ...       ...       ...          ...           ...        ...   \n",
       "16710      0.00      0.00      0.01         0.00           NaN        NaN   \n",
       "16711      0.00      0.01      0.00         0.00           NaN        NaN   \n",
       "16712      0.00      0.00      0.01         0.00           NaN        NaN   \n",
       "16713      0.01      0.00      0.00         0.00           NaN        NaN   \n",
       "16714      0.00      0.00      0.01         0.00           NaN        NaN   \n",
       "\n",
       "      Rating  \n",
       "0          E  \n",
       "1        NaN  \n",
       "2          E  \n",
       "3          E  \n",
       "4        NaN  \n",
       "...      ...  \n",
       "16710    NaN  \n",
       "16711    NaN  \n",
       "16712    NaN  \n",
       "16713    NaN  \n",
       "16714    NaN  \n",
       "\n",
       "[16715 rows x 11 columns]"
      ]
     },
     "execution_count": 4,
     "metadata": {},
     "output_type": "execute_result"
    }
   ],
   "source": [
    "# Посмотрю данные пяти первых и пяти последних строк.\n",
    "data"
   ]
  },
  {
   "cell_type": "code",
   "execution_count": 5,
   "metadata": {
    "scrolled": true
   },
   "outputs": [
    {
     "name": "stdout",
     "output_type": "stream",
     "text": [
      "<class 'pandas.core.frame.DataFrame'>\n",
      "RangeIndex: 16715 entries, 0 to 16714\n",
      "Data columns (total 11 columns):\n",
      " #   Column           Non-Null Count  Dtype  \n",
      "---  ------           --------------  -----  \n",
      " 0   Name             16713 non-null  object \n",
      " 1   Platform         16715 non-null  object \n",
      " 2   Year_of_Release  16446 non-null  float64\n",
      " 3   Genre            16713 non-null  object \n",
      " 4   NA_sales         16715 non-null  float64\n",
      " 5   EU_sales         16715 non-null  float64\n",
      " 6   JP_sales         16715 non-null  float64\n",
      " 7   Other_sales      16715 non-null  float64\n",
      " 8   Critic_Score     8137 non-null   float64\n",
      " 9   User_Score       10014 non-null  object \n",
      " 10  Rating           9949 non-null   object \n",
      "dtypes: float64(6), object(5)\n",
      "memory usage: 1.4+ MB\n"
     ]
    }
   ],
   "source": [
    "# Посмотрю общую информацию о данных.\n",
    "data.info()"
   ]
  },
  {
   "cell_type": "markdown",
   "metadata": {},
   "source": [
    "**Описание данных:**\n",
    "\n",
    "В датафрейме 11 столбцов и 16715 строк. \n",
    "\n",
    "**Name** — название игры.\n",
    "\n",
    "**Platform** — платформа.\n",
    "\n",
    "**Year_of_Release** — год выпуска.\n",
    "\n",
    "**Genre** — жанр игры. \n",
    "\n",
    "**NA_sales** — продажи в Северной Америке (миллионы проданных копий).\n",
    "\n",
    "**EU_sales** — продажи в Европе (миллионы проданных копий).\n",
    "\n",
    "**JP_sales** — продажи в Японии (миллионы проданных копий).\n",
    "\n",
    "**Other_sales** — продажи в других странах (миллионы проданных копий).\n",
    "\n",
    "**Critic_Score** — оценка критиков (максимум 100).\n",
    "\n",
    "**User_Score** — оценка пользователей (максимум 10). \n",
    "\n",
    "**Rating** — рейтинг от организации ESRB (англ. Entertainment Software Rating Board, эта ассоциация определяет рейтинг компьютерных игр и присваивает им подходящую возрастную категорию)."
   ]
  },
  {
   "cell_type": "markdown",
   "metadata": {},
   "source": [
    "**Выявленные проблемы в данных:**\n",
    "- названия всех столбцов имеют некорректный вид; \n",
    "- наличие пропусков в столбцах: Name, Year_of_Release, Genre, Critic_Score, User_Score, Rating;\n",
    "- неверный тип данных в столбцах: Year_of_Release, User_Score."
   ]
  },
  {
   "cell_type": "markdown",
   "metadata": {},
   "source": [
    "## Предобработка данных"
   ]
  },
  {
   "cell_type": "markdown",
   "metadata": {},
   "source": [
    "### Замена названий столбцов"
   ]
  },
  {
   "cell_type": "code",
   "execution_count": 6,
   "metadata": {},
   "outputs": [],
   "source": [
    "# Привожу названия столбцов к нижнему регистру.\n",
    "data.columns = data.columns.str.lower()"
   ]
  },
  {
   "cell_type": "code",
   "execution_count": 7,
   "metadata": {},
   "outputs": [
    {
     "data": {
      "text/plain": [
       "Index(['name', 'platform', 'year_of_release', 'genre', 'na_sales', 'eu_sales',\n",
       "       'jp_sales', 'other_sales', 'critic_score', 'user_score', 'rating'],\n",
       "      dtype='object')"
      ]
     },
     "execution_count": 7,
     "metadata": {},
     "output_type": "execute_result"
    }
   ],
   "source": [
    "# Проверяю результат.\n",
    "data.columns"
   ]
  },
  {
   "cell_type": "markdown",
   "metadata": {},
   "source": [
    "**Названия столбцов преобразованы к надлежащему виду.** "
   ]
  },
  {
   "cell_type": "markdown",
   "metadata": {},
   "source": [
    "### Обработка пропусков"
   ]
  },
  {
   "cell_type": "code",
   "execution_count": 8,
   "metadata": {
    "scrolled": true
   },
   "outputs": [
    {
     "data": {
      "text/plain": [
       "name                  2\n",
       "platform              0\n",
       "year_of_release     269\n",
       "genre                 2\n",
       "na_sales              0\n",
       "eu_sales              0\n",
       "jp_sales              0\n",
       "other_sales           0\n",
       "critic_score       8578\n",
       "user_score         6701\n",
       "rating             6766\n",
       "dtype: int64"
      ]
     },
     "execution_count": 8,
     "metadata": {},
     "output_type": "execute_result"
    }
   ],
   "source": [
    "# Нахожу количество пропущенных значений в каждом столбце.\n",
    "data.isna().sum()"
   ]
  },
  {
   "cell_type": "markdown",
   "metadata": {},
   "source": [
    "В столбцах *name* и *genre* - по 2 прпуска, в столбце *year_of_release* - 269 пропусков. Такие пропуски могли возникнуть из-за ошибки при загрузке данных. Заполнение их какими-то недостоверными данными может исказить результаты исследования. Учитывая небольшое количество пропусков, считаю возможным удалить эти строки. Но прежде чем удалять пропущенные значения, проверю информацию о них: число пропусков составляет 1,6% всех значений, среднее и медианное количество продаж на уровне среднего и медианного значений всего датасета. Следовательно удаление этих пропущенных значений не исказит результаты исследования. Затем удалю пропущенные значения одной строкой."
   ]
  },
  {
   "cell_type": "code",
   "execution_count": 9,
   "metadata": {},
   "outputs": [
    {
     "data": {
      "text/html": [
       "<div>\n",
       "<style scoped>\n",
       "    .dataframe tbody tr th:only-of-type {\n",
       "        vertical-align: middle;\n",
       "    }\n",
       "\n",
       "    .dataframe tbody tr th {\n",
       "        vertical-align: top;\n",
       "    }\n",
       "\n",
       "    .dataframe thead th {\n",
       "        text-align: right;\n",
       "    }\n",
       "</style>\n",
       "<table border=\"1\" class=\"dataframe\">\n",
       "  <thead>\n",
       "    <tr style=\"text-align: right;\">\n",
       "      <th></th>\n",
       "      <th>name</th>\n",
       "      <th>platform</th>\n",
       "      <th>year_of_release</th>\n",
       "      <th>genre</th>\n",
       "      <th>na_sales</th>\n",
       "      <th>eu_sales</th>\n",
       "      <th>jp_sales</th>\n",
       "      <th>other_sales</th>\n",
       "      <th>critic_score</th>\n",
       "      <th>user_score</th>\n",
       "      <th>rating</th>\n",
       "    </tr>\n",
       "  </thead>\n",
       "  <tbody>\n",
       "    <tr>\n",
       "      <th>659</th>\n",
       "      <td>NaN</td>\n",
       "      <td>GEN</td>\n",
       "      <td>1993.0</td>\n",
       "      <td>NaN</td>\n",
       "      <td>1.78</td>\n",
       "      <td>0.53</td>\n",
       "      <td>0.00</td>\n",
       "      <td>0.08</td>\n",
       "      <td>NaN</td>\n",
       "      <td>NaN</td>\n",
       "      <td>NaN</td>\n",
       "    </tr>\n",
       "    <tr>\n",
       "      <th>14244</th>\n",
       "      <td>NaN</td>\n",
       "      <td>GEN</td>\n",
       "      <td>1993.0</td>\n",
       "      <td>NaN</td>\n",
       "      <td>0.00</td>\n",
       "      <td>0.00</td>\n",
       "      <td>0.03</td>\n",
       "      <td>0.00</td>\n",
       "      <td>NaN</td>\n",
       "      <td>NaN</td>\n",
       "      <td>NaN</td>\n",
       "    </tr>\n",
       "  </tbody>\n",
       "</table>\n",
       "</div>"
      ],
      "text/plain": [
       "      name platform  year_of_release genre  na_sales  eu_sales  jp_sales  \\\n",
       "659    NaN      GEN           1993.0   NaN      1.78      0.53      0.00   \n",
       "14244  NaN      GEN           1993.0   NaN      0.00      0.00      0.03   \n",
       "\n",
       "       other_sales  critic_score user_score rating  \n",
       "659           0.08           NaN        NaN    NaN  \n",
       "14244         0.00           NaN        NaN    NaN  "
      ]
     },
     "execution_count": 9,
     "metadata": {},
     "output_type": "execute_result"
    }
   ],
   "source": [
    "data[data['name'].isna()]"
   ]
  },
  {
   "cell_type": "code",
   "execution_count": 10,
   "metadata": {
    "scrolled": true
   },
   "outputs": [
    {
     "data": {
      "text/html": [
       "<div>\n",
       "<style scoped>\n",
       "    .dataframe tbody tr th:only-of-type {\n",
       "        vertical-align: middle;\n",
       "    }\n",
       "\n",
       "    .dataframe tbody tr th {\n",
       "        vertical-align: top;\n",
       "    }\n",
       "\n",
       "    .dataframe thead th {\n",
       "        text-align: right;\n",
       "    }\n",
       "</style>\n",
       "<table border=\"1\" class=\"dataframe\">\n",
       "  <thead>\n",
       "    <tr style=\"text-align: right;\">\n",
       "      <th></th>\n",
       "      <th>year_of_release</th>\n",
       "      <th>na_sales</th>\n",
       "      <th>eu_sales</th>\n",
       "      <th>jp_sales</th>\n",
       "      <th>other_sales</th>\n",
       "      <th>critic_score</th>\n",
       "    </tr>\n",
       "  </thead>\n",
       "  <tbody>\n",
       "    <tr>\n",
       "      <th>count</th>\n",
       "      <td>0.0</td>\n",
       "      <td>269.000000</td>\n",
       "      <td>269.000000</td>\n",
       "      <td>269.000000</td>\n",
       "      <td>269.000000</td>\n",
       "      <td>154.000000</td>\n",
       "    </tr>\n",
       "    <tr>\n",
       "      <th>mean</th>\n",
       "      <td>NaN</td>\n",
       "      <td>0.219888</td>\n",
       "      <td>0.090929</td>\n",
       "      <td>0.024907</td>\n",
       "      <td>0.032007</td>\n",
       "      <td>67.584416</td>\n",
       "    </tr>\n",
       "    <tr>\n",
       "      <th>std</th>\n",
       "      <td>NaN</td>\n",
       "      <td>0.424907</td>\n",
       "      <td>0.207933</td>\n",
       "      <td>0.090160</td>\n",
       "      <td>0.075546</td>\n",
       "      <td>14.828740</td>\n",
       "    </tr>\n",
       "    <tr>\n",
       "      <th>min</th>\n",
       "      <td>NaN</td>\n",
       "      <td>0.000000</td>\n",
       "      <td>0.000000</td>\n",
       "      <td>0.000000</td>\n",
       "      <td>0.000000</td>\n",
       "      <td>22.000000</td>\n",
       "    </tr>\n",
       "    <tr>\n",
       "      <th>25%</th>\n",
       "      <td>NaN</td>\n",
       "      <td>0.010000</td>\n",
       "      <td>0.000000</td>\n",
       "      <td>0.000000</td>\n",
       "      <td>0.000000</td>\n",
       "      <td>57.000000</td>\n",
       "    </tr>\n",
       "    <tr>\n",
       "      <th>50%</th>\n",
       "      <td>NaN</td>\n",
       "      <td>0.090000</td>\n",
       "      <td>0.020000</td>\n",
       "      <td>0.000000</td>\n",
       "      <td>0.010000</td>\n",
       "      <td>70.000000</td>\n",
       "    </tr>\n",
       "    <tr>\n",
       "      <th>75%</th>\n",
       "      <td>NaN</td>\n",
       "      <td>0.240000</td>\n",
       "      <td>0.100000</td>\n",
       "      <td>0.000000</td>\n",
       "      <td>0.030000</td>\n",
       "      <td>78.000000</td>\n",
       "    </tr>\n",
       "    <tr>\n",
       "      <th>max</th>\n",
       "      <td>NaN</td>\n",
       "      <td>4.260000</td>\n",
       "      <td>2.360000</td>\n",
       "      <td>0.770000</td>\n",
       "      <td>0.710000</td>\n",
       "      <td>94.000000</td>\n",
       "    </tr>\n",
       "  </tbody>\n",
       "</table>\n",
       "</div>"
      ],
      "text/plain": [
       "       year_of_release    na_sales    eu_sales    jp_sales  other_sales  \\\n",
       "count              0.0  269.000000  269.000000  269.000000   269.000000   \n",
       "mean               NaN    0.219888    0.090929    0.024907     0.032007   \n",
       "std                NaN    0.424907    0.207933    0.090160     0.075546   \n",
       "min                NaN    0.000000    0.000000    0.000000     0.000000   \n",
       "25%                NaN    0.010000    0.000000    0.000000     0.000000   \n",
       "50%                NaN    0.090000    0.020000    0.000000     0.010000   \n",
       "75%                NaN    0.240000    0.100000    0.000000     0.030000   \n",
       "max                NaN    4.260000    2.360000    0.770000     0.710000   \n",
       "\n",
       "       critic_score  \n",
       "count    154.000000  \n",
       "mean      67.584416  \n",
       "std       14.828740  \n",
       "min       22.000000  \n",
       "25%       57.000000  \n",
       "50%       70.000000  \n",
       "75%       78.000000  \n",
       "max       94.000000  "
      ]
     },
     "execution_count": 10,
     "metadata": {},
     "output_type": "execute_result"
    }
   ],
   "source": [
    "data[data['year_of_release'].isna()].describe()"
   ]
  },
  {
   "cell_type": "code",
   "execution_count": 11,
   "metadata": {},
   "outputs": [
    {
     "data": {
      "text/html": [
       "<div>\n",
       "<style scoped>\n",
       "    .dataframe tbody tr th:only-of-type {\n",
       "        vertical-align: middle;\n",
       "    }\n",
       "\n",
       "    .dataframe tbody tr th {\n",
       "        vertical-align: top;\n",
       "    }\n",
       "\n",
       "    .dataframe thead th {\n",
       "        text-align: right;\n",
       "    }\n",
       "</style>\n",
       "<table border=\"1\" class=\"dataframe\">\n",
       "  <thead>\n",
       "    <tr style=\"text-align: right;\">\n",
       "      <th></th>\n",
       "      <th>year_of_release</th>\n",
       "      <th>na_sales</th>\n",
       "      <th>eu_sales</th>\n",
       "      <th>jp_sales</th>\n",
       "      <th>other_sales</th>\n",
       "      <th>critic_score</th>\n",
       "    </tr>\n",
       "  </thead>\n",
       "  <tbody>\n",
       "    <tr>\n",
       "      <th>count</th>\n",
       "      <td>16446.000000</td>\n",
       "      <td>16715.000000</td>\n",
       "      <td>16715.000000</td>\n",
       "      <td>16715.000000</td>\n",
       "      <td>16715.000000</td>\n",
       "      <td>8137.000000</td>\n",
       "    </tr>\n",
       "    <tr>\n",
       "      <th>mean</th>\n",
       "      <td>2006.484616</td>\n",
       "      <td>0.263377</td>\n",
       "      <td>0.145060</td>\n",
       "      <td>0.077617</td>\n",
       "      <td>0.047342</td>\n",
       "      <td>68.967679</td>\n",
       "    </tr>\n",
       "    <tr>\n",
       "      <th>std</th>\n",
       "      <td>5.877050</td>\n",
       "      <td>0.813604</td>\n",
       "      <td>0.503339</td>\n",
       "      <td>0.308853</td>\n",
       "      <td>0.186731</td>\n",
       "      <td>13.938165</td>\n",
       "    </tr>\n",
       "    <tr>\n",
       "      <th>min</th>\n",
       "      <td>1980.000000</td>\n",
       "      <td>0.000000</td>\n",
       "      <td>0.000000</td>\n",
       "      <td>0.000000</td>\n",
       "      <td>0.000000</td>\n",
       "      <td>13.000000</td>\n",
       "    </tr>\n",
       "    <tr>\n",
       "      <th>25%</th>\n",
       "      <td>2003.000000</td>\n",
       "      <td>0.000000</td>\n",
       "      <td>0.000000</td>\n",
       "      <td>0.000000</td>\n",
       "      <td>0.000000</td>\n",
       "      <td>60.000000</td>\n",
       "    </tr>\n",
       "    <tr>\n",
       "      <th>50%</th>\n",
       "      <td>2007.000000</td>\n",
       "      <td>0.080000</td>\n",
       "      <td>0.020000</td>\n",
       "      <td>0.000000</td>\n",
       "      <td>0.010000</td>\n",
       "      <td>71.000000</td>\n",
       "    </tr>\n",
       "    <tr>\n",
       "      <th>75%</th>\n",
       "      <td>2010.000000</td>\n",
       "      <td>0.240000</td>\n",
       "      <td>0.110000</td>\n",
       "      <td>0.040000</td>\n",
       "      <td>0.030000</td>\n",
       "      <td>79.000000</td>\n",
       "    </tr>\n",
       "    <tr>\n",
       "      <th>max</th>\n",
       "      <td>2016.000000</td>\n",
       "      <td>41.360000</td>\n",
       "      <td>28.960000</td>\n",
       "      <td>10.220000</td>\n",
       "      <td>10.570000</td>\n",
       "      <td>98.000000</td>\n",
       "    </tr>\n",
       "  </tbody>\n",
       "</table>\n",
       "</div>"
      ],
      "text/plain": [
       "       year_of_release      na_sales      eu_sales      jp_sales  \\\n",
       "count     16446.000000  16715.000000  16715.000000  16715.000000   \n",
       "mean       2006.484616      0.263377      0.145060      0.077617   \n",
       "std           5.877050      0.813604      0.503339      0.308853   \n",
       "min        1980.000000      0.000000      0.000000      0.000000   \n",
       "25%        2003.000000      0.000000      0.000000      0.000000   \n",
       "50%        2007.000000      0.080000      0.020000      0.000000   \n",
       "75%        2010.000000      0.240000      0.110000      0.040000   \n",
       "max        2016.000000     41.360000     28.960000     10.220000   \n",
       "\n",
       "        other_sales  critic_score  \n",
       "count  16715.000000   8137.000000  \n",
       "mean       0.047342     68.967679  \n",
       "std        0.186731     13.938165  \n",
       "min        0.000000     13.000000  \n",
       "25%        0.000000     60.000000  \n",
       "50%        0.010000     71.000000  \n",
       "75%        0.030000     79.000000  \n",
       "max       10.570000     98.000000  "
      ]
     },
     "execution_count": 11,
     "metadata": {},
     "output_type": "execute_result"
    }
   ],
   "source": [
    "data.describe()"
   ]
  },
  {
   "cell_type": "code",
   "execution_count": 12,
   "metadata": {},
   "outputs": [],
   "source": [
    "# Удаляю пропуски в столбцах name, year_of_release, genre.\n",
    "data = data.dropna(subset=['name', 'year_of_release', 'genre'])"
   ]
  },
  {
   "cell_type": "markdown",
   "metadata": {},
   "source": [
    "Прежде чем обрабатывать пропуски в столбцах *user_score*, *critic_score* и *rating* посмотрю на перечень их уникальных значений."
   ]
  },
  {
   "cell_type": "code",
   "execution_count": 13,
   "metadata": {
    "scrolled": true
   },
   "outputs": [
    {
     "data": {
      "text/plain": [
       "array(['8', nan, '8.3', '8.5', '6.6', '8.4', '8.6', '7.7', '6.3', '7.4',\n",
       "       '8.2', '9', '7.9', '8.1', '8.7', '7.1', '3.4', '5.3', '4.8', '3.2',\n",
       "       '8.9', '6.4', '7.8', '7.5', '2.6', '7.2', '9.2', '7', '7.3', '4.3',\n",
       "       '7.6', '5.7', '5', '9.1', '6.5', 'tbd', '8.8', '6.9', '9.4', '6.8',\n",
       "       '6.1', '6.7', '5.4', '4', '4.9', '4.5', '9.3', '6.2', '4.2', '6',\n",
       "       '3.7', '4.1', '5.8', '5.6', '5.5', '4.4', '4.6', '5.9', '3.9',\n",
       "       '3.1', '2.9', '5.2', '3.3', '4.7', '5.1', '3.5', '2.5', '1.9', '3',\n",
       "       '2.7', '2.2', '2', '9.5', '2.1', '3.6', '2.8', '1.8', '3.8', '0',\n",
       "       '1.6', '9.6', '2.4', '1.7', '1.1', '0.3', '1.5', '0.7', '1.2',\n",
       "       '2.3', '0.5', '1.3', '0.2', '0.6', '1.4', '0.9', '1', '9.7'],\n",
       "      dtype=object)"
      ]
     },
     "execution_count": 13,
     "metadata": {},
     "output_type": "execute_result"
    }
   ],
   "source": [
    "# Вывожу уникальные значения столбца user_score. \n",
    "data['user_score'].unique()"
   ]
  },
  {
   "cell_type": "code",
   "execution_count": 14,
   "metadata": {
    "scrolled": false
   },
   "outputs": [
    {
     "data": {
      "text/plain": [
       "2376"
      ]
     },
     "execution_count": 14,
     "metadata": {},
     "output_type": "execute_result"
    }
   ],
   "source": [
    "# Сосчитаю, сколько раз встречается значение 'tbd'.\n",
    "data.query('user_score == \"tbd\"')['user_score'].count()"
   ]
  },
  {
   "cell_type": "markdown",
   "metadata": {},
   "source": [
    "В столбце *user_score* 2376 раз встречается значение 'tbd' — To Be Determined, то есть «Будет определено». Это означает, что рейтинг данной игры не определен. По сути это то же, что и nan. Количество этих значений, как и количество пропусков слишком велико, чтобы можно было их удалить. Поэтому заменю значения 'tbd' на nan, так как nan принадлежит к типу данных float и с ним можно производить математические операции, и не буду удалять."
   ]
  },
  {
   "cell_type": "code",
   "execution_count": 15,
   "metadata": {},
   "outputs": [],
   "source": [
    "# Заменяю 'tbd' на nan.\n",
    "data['user_score'] = data['user_score'].replace('tbd', np.nan)"
   ]
  },
  {
   "cell_type": "code",
   "execution_count": 16,
   "metadata": {
    "scrolled": true
   },
   "outputs": [
    {
     "data": {
      "text/plain": [
       "array(['E', nan, 'M', 'T', 'E10+', 'K-A', 'AO', 'EC', 'RP'], dtype=object)"
      ]
     },
     "execution_count": 16,
     "metadata": {},
     "output_type": "execute_result"
    }
   ],
   "source": [
    "# Вывожу уникальные значения столбца rating. \n",
    "data['rating'].unique()"
   ]
  },
  {
   "cell_type": "markdown",
   "metadata": {},
   "source": [
    "Возрастные категории по ESRB:\n",
    "- EC («Early childhood») — для детей младшего возраста;\n",
    "- E («Everyone») — для всех, первоначально K-A (\"Kids to Adults\");\n",
    "- E10+ («Everyone 10 and older») — для всех от 10 лет и старше;\n",
    "- T («Teen») — подросткам (игра подходит для лиц от 13 лет);\n",
    "- M («Mature») — для взрослых (материалы игры не подходят для лиц младше 17 лет);\n",
    "- AO («Adults Only 18+») — только для взрослых (содержание игры только для взрослых старше 18 лет);\n",
    "- RP («Rating Pending») — рейтинг ожидается: продукт был отправлен в ESRB и ожидает присвоения рейтинга."
   ]
  },
  {
   "cell_type": "markdown",
   "metadata": {},
   "source": [
    "Значения 'E' и 'K-A' обозначают одну возрастную категорию. Следует заменить 'K-A' на 'E'."
   ]
  },
  {
   "cell_type": "code",
   "execution_count": 17,
   "metadata": {},
   "outputs": [],
   "source": [
    "# Заменяю все 'K-A' на 'E', а 'RP' на 'UNKNOWN'.\n",
    "data['rating'] = data['rating'].replace('K-A', 'E')\n",
    "data['rating'] = data['rating'].replace('RP', 'UNKNOWN')"
   ]
  },
  {
   "cell_type": "markdown",
   "metadata": {},
   "source": [
    "Значения столбца *rating* принадлежат к типу object, применять к ним математические операции не потребуется. Количество пропусков слишком велико, чтобы их удалить. Для того, чтобы не исказить результаты исследования, заменю пропуски на строковое значение 'UNKNOWN'."
   ]
  },
  {
   "cell_type": "code",
   "execution_count": 18,
   "metadata": {},
   "outputs": [],
   "source": [
    "# Заменю пропущенные значения в столбце 'rating' на 'UNKNOWN'.\n",
    "data['rating'] = data['rating'].fillna('UNKNOWN')"
   ]
  },
  {
   "cell_type": "code",
   "execution_count": 19,
   "metadata": {
    "scrolled": true
   },
   "outputs": [
    {
     "data": {
      "text/plain": [
       "array([76., nan, 82., 80., 89., 58., 87., 91., 61., 97., 95., 77., 88.,\n",
       "       83., 94., 93., 85., 86., 98., 96., 90., 84., 73., 74., 78., 92.,\n",
       "       71., 72., 68., 62., 49., 67., 81., 66., 56., 79., 70., 59., 64.,\n",
       "       75., 60., 63., 69., 50., 25., 42., 44., 55., 48., 57., 29., 47.,\n",
       "       65., 54., 20., 53., 37., 38., 33., 52., 30., 32., 43., 45., 51.,\n",
       "       40., 46., 39., 34., 41., 36., 31., 27., 35., 26., 19., 28., 23.,\n",
       "       24., 21., 17., 13.])"
      ]
     },
     "execution_count": 19,
     "metadata": {},
     "output_type": "execute_result"
    }
   ],
   "source": [
    "# Вывожу уникальные значения столбца critic_score. \n",
    "data['critic_score'].unique()"
   ]
  },
  {
   "cell_type": "markdown",
   "metadata": {},
   "source": [
    "Заполнение пропусков в столбце *critic_score* так же может исказить результаты исследования. Но при этом их количество достаточно велико, поэтому удалять их не стоит. Оставлю и эти пропуски."
   ]
  },
  {
   "cell_type": "code",
   "execution_count": 20,
   "metadata": {
    "scrolled": true
   },
   "outputs": [
    {
     "data": {
      "text/plain": [
       "name                  0\n",
       "platform              0\n",
       "year_of_release       0\n",
       "genre                 0\n",
       "na_sales              0\n",
       "eu_sales              0\n",
       "jp_sales              0\n",
       "other_sales           0\n",
       "critic_score       8461\n",
       "user_score         8981\n",
       "rating                0\n",
       "dtype: int64"
      ]
     },
     "execution_count": 20,
     "metadata": {},
     "output_type": "execute_result"
    }
   ],
   "source": [
    "# Проверяю результат.\n",
    "data.isna().sum()"
   ]
  },
  {
   "cell_type": "markdown",
   "metadata": {},
   "source": [
    "**Пропуски в столбцах *name, year_of_release, genre* удалены, в столбце *rating* заполнены. Пропуски в столбцах *critic_score*, *user_score* не подлежат заполнению или удалению, поэтому их пришлось оставить. На мой взгляд пропуски в этих столбцах могли возникнуть по техническим причинам во время загрузки информации. Или из-за того, что это непопулярные или новые игры, по которым оценки пользователей и критиков просто отсутствуют.**   "
   ]
  },
  {
   "cell_type": "markdown",
   "metadata": {},
   "source": [
    "### Преобразование типов данных"
   ]
  },
  {
   "cell_type": "code",
   "execution_count": 21,
   "metadata": {},
   "outputs": [
    {
     "name": "stdout",
     "output_type": "stream",
     "text": [
      "<class 'pandas.core.frame.DataFrame'>\n",
      "Int64Index: 16444 entries, 0 to 16714\n",
      "Data columns (total 11 columns):\n",
      " #   Column           Non-Null Count  Dtype  \n",
      "---  ------           --------------  -----  \n",
      " 0   name             16444 non-null  object \n",
      " 1   platform         16444 non-null  object \n",
      " 2   year_of_release  16444 non-null  float64\n",
      " 3   genre            16444 non-null  object \n",
      " 4   na_sales         16444 non-null  float64\n",
      " 5   eu_sales         16444 non-null  float64\n",
      " 6   jp_sales         16444 non-null  float64\n",
      " 7   other_sales      16444 non-null  float64\n",
      " 8   critic_score     7983 non-null   float64\n",
      " 9   user_score       7463 non-null   object \n",
      " 10  rating           16444 non-null  object \n",
      "dtypes: float64(6), object(5)\n",
      "memory usage: 1.5+ MB\n"
     ]
    }
   ],
   "source": [
    "# Посмотрю общую информацию о данных, чтобы проверить в каких столбцах нужно изменить тип данных.\n",
    "data.info()"
   ]
  },
  {
   "cell_type": "code",
   "execution_count": 22,
   "metadata": {},
   "outputs": [],
   "source": [
    "# Изменяю тип данных столбца year_of_release на int.\n",
    "data['year_of_release'] = data['year_of_release'].astype('int')"
   ]
  },
  {
   "cell_type": "code",
   "execution_count": 23,
   "metadata": {},
   "outputs": [],
   "source": [
    "# Изменяю тип данных столбца user_score на float.\n",
    "data['user_score'] = pd.to_numeric(data['user_score'])"
   ]
  },
  {
   "cell_type": "code",
   "execution_count": 24,
   "metadata": {
    "scrolled": true
   },
   "outputs": [
    {
     "name": "stdout",
     "output_type": "stream",
     "text": [
      "<class 'pandas.core.frame.DataFrame'>\n",
      "Int64Index: 16444 entries, 0 to 16714\n",
      "Data columns (total 11 columns):\n",
      " #   Column           Non-Null Count  Dtype  \n",
      "---  ------           --------------  -----  \n",
      " 0   name             16444 non-null  object \n",
      " 1   platform         16444 non-null  object \n",
      " 2   year_of_release  16444 non-null  int64  \n",
      " 3   genre            16444 non-null  object \n",
      " 4   na_sales         16444 non-null  float64\n",
      " 5   eu_sales         16444 non-null  float64\n",
      " 6   jp_sales         16444 non-null  float64\n",
      " 7   other_sales      16444 non-null  float64\n",
      " 8   critic_score     7983 non-null   float64\n",
      " 9   user_score       7463 non-null   float64\n",
      " 10  rating           16444 non-null  object \n",
      "dtypes: float64(6), int64(1), object(4)\n",
      "memory usage: 1.5+ MB\n"
     ]
    }
   ],
   "source": [
    "# Проверяю результат.\n",
    "data.info()"
   ]
  },
  {
   "cell_type": "markdown",
   "metadata": {},
   "source": [
    "**Тип данных столбца *year_of_release* изменент на int, тип данных столбца *user_score* измененн на float.**"
   ]
  },
  {
   "cell_type": "markdown",
   "metadata": {},
   "source": [
    "### Проверка данных на наличие дубликатов"
   ]
  },
  {
   "cell_type": "markdown",
   "metadata": {},
   "source": [
    "Приведу значения в столбце 'name' к нижнему регистру и проверю датасет на наличие дубликатов. При наличии удалю их.        "
   ]
  },
  {
   "cell_type": "code",
   "execution_count": 25,
   "metadata": {},
   "outputs": [],
   "source": [
    "data['name'] = data['name'].str.lower()"
   ]
  },
  {
   "cell_type": "code",
   "execution_count": 26,
   "metadata": {},
   "outputs": [
    {
     "data": {
      "text/plain": [
       "1"
      ]
     },
     "execution_count": 26,
     "metadata": {},
     "output_type": "execute_result"
    }
   ],
   "source": [
    "data.duplicated(subset=['name', 'platform', 'year_of_release']).sum()"
   ]
  },
  {
   "cell_type": "code",
   "execution_count": 27,
   "metadata": {},
   "outputs": [],
   "source": [
    "data = data.drop_duplicates(subset=['name', 'platform', 'year_of_release'])"
   ]
  },
  {
   "cell_type": "markdown",
   "metadata": {},
   "source": [
    "**В данных найден и удален один дубликат по сумме параметров.**"
   ]
  },
  {
   "cell_type": "markdown",
   "metadata": {},
   "source": [
    "### Подсчет суммарных продаж во всех регионах"
   ]
  },
  {
   "cell_type": "code",
   "execution_count": 28,
   "metadata": {},
   "outputs": [],
   "source": [
    "# Сохраняю сумму продаж во всех регионах в столбце total_sales.\n",
    "data['total_sales'] = data['na_sales'] + data['eu_sales'] + data['jp_sales'] + data['other_sales']"
   ]
  },
  {
   "cell_type": "code",
   "execution_count": 29,
   "metadata": {},
   "outputs": [
    {
     "data": {
      "text/html": [
       "<div>\n",
       "<style scoped>\n",
       "    .dataframe tbody tr th:only-of-type {\n",
       "        vertical-align: middle;\n",
       "    }\n",
       "\n",
       "    .dataframe tbody tr th {\n",
       "        vertical-align: top;\n",
       "    }\n",
       "\n",
       "    .dataframe thead th {\n",
       "        text-align: right;\n",
       "    }\n",
       "</style>\n",
       "<table border=\"1\" class=\"dataframe\">\n",
       "  <thead>\n",
       "    <tr style=\"text-align: right;\">\n",
       "      <th></th>\n",
       "      <th>name</th>\n",
       "      <th>platform</th>\n",
       "      <th>year_of_release</th>\n",
       "      <th>genre</th>\n",
       "      <th>na_sales</th>\n",
       "      <th>eu_sales</th>\n",
       "      <th>jp_sales</th>\n",
       "      <th>other_sales</th>\n",
       "      <th>critic_score</th>\n",
       "      <th>user_score</th>\n",
       "      <th>rating</th>\n",
       "      <th>total_sales</th>\n",
       "    </tr>\n",
       "  </thead>\n",
       "  <tbody>\n",
       "    <tr>\n",
       "      <th>0</th>\n",
       "      <td>wii sports</td>\n",
       "      <td>Wii</td>\n",
       "      <td>2006</td>\n",
       "      <td>Sports</td>\n",
       "      <td>41.36</td>\n",
       "      <td>28.96</td>\n",
       "      <td>3.77</td>\n",
       "      <td>8.45</td>\n",
       "      <td>76.0</td>\n",
       "      <td>8.0</td>\n",
       "      <td>E</td>\n",
       "      <td>82.54</td>\n",
       "    </tr>\n",
       "    <tr>\n",
       "      <th>1</th>\n",
       "      <td>super mario bros.</td>\n",
       "      <td>NES</td>\n",
       "      <td>1985</td>\n",
       "      <td>Platform</td>\n",
       "      <td>29.08</td>\n",
       "      <td>3.58</td>\n",
       "      <td>6.81</td>\n",
       "      <td>0.77</td>\n",
       "      <td>NaN</td>\n",
       "      <td>NaN</td>\n",
       "      <td>UNKNOWN</td>\n",
       "      <td>40.24</td>\n",
       "    </tr>\n",
       "    <tr>\n",
       "      <th>2</th>\n",
       "      <td>mario kart wii</td>\n",
       "      <td>Wii</td>\n",
       "      <td>2008</td>\n",
       "      <td>Racing</td>\n",
       "      <td>15.68</td>\n",
       "      <td>12.76</td>\n",
       "      <td>3.79</td>\n",
       "      <td>3.29</td>\n",
       "      <td>82.0</td>\n",
       "      <td>8.3</td>\n",
       "      <td>E</td>\n",
       "      <td>35.52</td>\n",
       "    </tr>\n",
       "    <tr>\n",
       "      <th>3</th>\n",
       "      <td>wii sports resort</td>\n",
       "      <td>Wii</td>\n",
       "      <td>2009</td>\n",
       "      <td>Sports</td>\n",
       "      <td>15.61</td>\n",
       "      <td>10.93</td>\n",
       "      <td>3.28</td>\n",
       "      <td>2.95</td>\n",
       "      <td>80.0</td>\n",
       "      <td>8.0</td>\n",
       "      <td>E</td>\n",
       "      <td>32.77</td>\n",
       "    </tr>\n",
       "    <tr>\n",
       "      <th>4</th>\n",
       "      <td>pokemon red/pokemon blue</td>\n",
       "      <td>GB</td>\n",
       "      <td>1996</td>\n",
       "      <td>Role-Playing</td>\n",
       "      <td>11.27</td>\n",
       "      <td>8.89</td>\n",
       "      <td>10.22</td>\n",
       "      <td>1.00</td>\n",
       "      <td>NaN</td>\n",
       "      <td>NaN</td>\n",
       "      <td>UNKNOWN</td>\n",
       "      <td>31.38</td>\n",
       "    </tr>\n",
       "  </tbody>\n",
       "</table>\n",
       "</div>"
      ],
      "text/plain": [
       "                       name platform  year_of_release         genre  na_sales  \\\n",
       "0                wii sports      Wii             2006        Sports     41.36   \n",
       "1         super mario bros.      NES             1985      Platform     29.08   \n",
       "2            mario kart wii      Wii             2008        Racing     15.68   \n",
       "3         wii sports resort      Wii             2009        Sports     15.61   \n",
       "4  pokemon red/pokemon blue       GB             1996  Role-Playing     11.27   \n",
       "\n",
       "   eu_sales  jp_sales  other_sales  critic_score  user_score   rating  \\\n",
       "0     28.96      3.77         8.45          76.0         8.0        E   \n",
       "1      3.58      6.81         0.77           NaN         NaN  UNKNOWN   \n",
       "2     12.76      3.79         3.29          82.0         8.3        E   \n",
       "3     10.93      3.28         2.95          80.0         8.0        E   \n",
       "4      8.89     10.22         1.00           NaN         NaN  UNKNOWN   \n",
       "\n",
       "   total_sales  \n",
       "0        82.54  \n",
       "1        40.24  \n",
       "2        35.52  \n",
       "3        32.77  \n",
       "4        31.38  "
      ]
     },
     "execution_count": 29,
     "metadata": {},
     "output_type": "execute_result"
    }
   ],
   "source": [
    "# Проверяю результат.\n",
    "data.head()"
   ]
  },
  {
   "cell_type": "markdown",
   "metadata": {},
   "source": [
    "**В датафрейм добавлен столбец *total_sales*, содержащий сумму продаж во всех регионах.**"
   ]
  },
  {
   "cell_type": "markdown",
   "metadata": {},
   "source": [
    "## Исследовательский анализ данных"
   ]
  },
  {
   "cell_type": "markdown",
   "metadata": {},
   "source": [
    "### Изучение динамики выпуска игр по годам"
   ]
  },
  {
   "cell_type": "code",
   "execution_count": 30,
   "metadata": {},
   "outputs": [
    {
     "data": {
      "image/png": "[encoded data removed]",
      "text/plain": [
       "<Figure size 720x432 with 1 Axes>"
      ]
     },
     "metadata": {
      "needs_background": "light"
     },
     "output_type": "display_data"
    }
   ],
   "source": [
    "# Группирую данные о выпуске игр по годам и визуализирую результат. \n",
    "sales_by_year = data.pivot_table(index = ['year_of_release'], values=['name'], aggfunc='count')\n",
    "sales_by_year.plot(kind='bar', legend=False, grid=True, figsize=(10, 6))\n",
    "plt.title('Динамика выпуска игр по годам')\n",
    "plt.xlabel('\\n Количество игр')\n",
    "plt.ylabel('Год');"
   ]
  },
  {
   "cell_type": "markdown",
   "metadata": {},
   "source": [
    "**На графике видно, что до 1993 выпускалось мало игр. С 1994 года начался рост выпуска игр, достигший своего пика в 2008-2009 гг. Начиная с 2012 года выпуск игр значительно снизился и остановился примерно на одном уровне до 2016 года. Для того, чтобы проследить динамику продаж игр по платформам, буду использовать данные за все периоды. Для построения прогноза продаж игр на 2017 год буду использовать период с 2013 по 2015 год, т.к. этот период является наиболее близким к 2017 году, и в нем прослеживается единая тенденция по объемам выпуска игр. При этом данные за 2016 год могут быть не полными и могут исказить результаты исследования, поэтому их не буду использовать.**"
   ]
  },
  {
   "cell_type": "markdown",
   "metadata": {},
   "source": [
    "### Анализ объемов продаж игр по платформам.\n",
    "Посмотрите, как менялись продажи по платформам. Выберите платформы с наибольшими суммарными продажами и постройте распределение по годам. За какой характерный срок появляются новые и исчезают старые платформы?"
   ]
  },
  {
   "cell_type": "code",
   "execution_count": 31,
   "metadata": {},
   "outputs": [
    {
     "data": {
      "image/png": "[encoded data removed]",
      "text/plain": [
       "<Figure size 720x504 with 1 Axes>"
      ]
     },
     "metadata": {
      "needs_background": "light"
     },
     "output_type": "display_data"
    }
   ],
   "source": [
    "# Группирую данные об объемах продаж игр по платформам за все периоды и визуализирую результат.\n",
    "platforms_sales = data.pivot_table(index=['platform'], values=['total_sales'], aggfunc='sum').sort_values(by='total_sales')\n",
    "platforms_sales.plot(kind='barh', legend=False, figsize=(10, 7), grid=True)\n",
    "plt.title('Объем продаж игр')\n",
    "plt.xlabel('\\n Количество проданных копий (млн)')\n",
    "plt.ylabel('Платформа');"
   ]
  },
  {
   "cell_type": "markdown",
   "metadata": {},
   "source": [
    "**На графике видно, что больше всего игр продано для платформы PS2. Далее в ТОП-6 по объемам продаж вошли: X360, PS3, Wii, DS, PS. По остальным платформам объемы продаж значительно ниже.**"
   ]
  },
  {
   "cell_type": "code",
   "execution_count": 32,
   "metadata": {
    "scrolled": false
   },
   "outputs": [
    {
     "name": "stdout",
     "output_type": "stream",
     "text": [
      "Динамика продаж игр для платформы PS2 по годам\n"
     ]
    },
    {
     "data": {
      "image/png": "[encoded data removed]",
      "text/plain": [
       "<Figure size 432x288 with 1 Axes>"
      ]
     },
     "metadata": {
      "needs_background": "light"
     },
     "output_type": "display_data"
    },
    {
     "name": "stdout",
     "output_type": "stream",
     "text": [
      "Динамика продаж игр для платформы X360 по годам\n"
     ]
    },
    {
     "data": {
      "image/png": "[encoded data removed]",
      "text/plain": [
       "<Figure size 432x288 with 1 Axes>"
      ]
     },
     "metadata": {
      "needs_background": "light"
     },
     "output_type": "display_data"
    },
    {
     "name": "stdout",
     "output_type": "stream",
     "text": [
      "Динамика продаж игр для платформы PS3 по годам\n"
     ]
    },
    {
     "data": {
      "image/png": "[encoded data removed]",
      "text/plain": [
       "<Figure size 432x288 with 1 Axes>"
      ]
     },
     "metadata": {
      "needs_background": "light"
     },
     "output_type": "display_data"
    },
    {
     "name": "stdout",
     "output_type": "stream",
     "text": [
      "Динамика продаж игр для платформы Wii по годам\n"
     ]
    },
    {
     "data": {
      "image/png": "[encoded data removed]",
      "text/plain": [
       "<Figure size 432x288 with 1 Axes>"
      ]
     },
     "metadata": {
      "needs_background": "light"
     },
     "output_type": "display_data"
    },
    {
     "name": "stdout",
     "output_type": "stream",
     "text": [
      "Динамика продаж игр для платформы DS по годам\n"
     ]
    },
    {
     "data": {
      "image/png": "[encoded data removed]",
      "text/plain": [
       "<Figure size 432x288 with 1 Axes>"
      ]
     },
     "metadata": {
      "needs_background": "light"
     },
     "output_type": "display_data"
    },
    {
     "name": "stdout",
     "output_type": "stream",
     "text": [
      "Динамика продаж игр для платформы PS по годам\n"
     ]
    },
    {
     "data": {
      "image/png": "[encoded data removed]",
      "text/plain": [
       "<Figure size 432x288 with 1 Axes>"
      ]
     },
     "metadata": {
      "needs_background": "light"
     },
     "output_type": "display_data"
    }
   ],
   "source": [
    "# Рассмотрю динамику продаж игр по годам для каждой платформы из ТОП-6.\n",
    "for platform in platforms_sales.sort_values(by='total_sales', ascending=False).index[:6]:\n",
    "    print('Динамика продаж игр для платформы', platform, 'по годам')\n",
    "    (data\n",
    "     .query('platform == @platform')\n",
    "     .pivot_table(index='year_of_release', values='total_sales', aggfunc='sum')\n",
    "     .plot(kind='bar', legend=False)\n",
    "    )\n",
    "    plt.xlabel('\\n Годы')\n",
    "    plt.ylabel('Количество проданных копий (млн)')\n",
    "    plt.show()"
   ]
  },
  {
   "cell_type": "markdown",
   "metadata": {},
   "source": [
    "Проверю странное значение продаж для платформы DS в 1985 году. По данным Википедии консоль Nintendo DS (DS) была выпущена в 2004 году.      "
   ]
  },
  {
   "cell_type": "code",
   "execution_count": 33,
   "metadata": {
    "scrolled": true
   },
   "outputs": [
    {
     "data": {
      "text/html": [
       "<div>\n",
       "<style scoped>\n",
       "    .dataframe tbody tr th:only-of-type {\n",
       "        vertical-align: middle;\n",
       "    }\n",
       "\n",
       "    .dataframe tbody tr th {\n",
       "        vertical-align: top;\n",
       "    }\n",
       "\n",
       "    .dataframe thead th {\n",
       "        text-align: right;\n",
       "    }\n",
       "</style>\n",
       "<table border=\"1\" class=\"dataframe\">\n",
       "  <thead>\n",
       "    <tr style=\"text-align: right;\">\n",
       "      <th></th>\n",
       "      <th>name</th>\n",
       "      <th>platform</th>\n",
       "      <th>year_of_release</th>\n",
       "      <th>genre</th>\n",
       "      <th>na_sales</th>\n",
       "      <th>eu_sales</th>\n",
       "      <th>jp_sales</th>\n",
       "      <th>other_sales</th>\n",
       "      <th>critic_score</th>\n",
       "      <th>user_score</th>\n",
       "      <th>rating</th>\n",
       "      <th>total_sales</th>\n",
       "    </tr>\n",
       "  </thead>\n",
       "  <tbody>\n",
       "    <tr>\n",
       "      <th>15957</th>\n",
       "      <td>strongest tokyo university shogi ds</td>\n",
       "      <td>DS</td>\n",
       "      <td>1985</td>\n",
       "      <td>Action</td>\n",
       "      <td>0.0</td>\n",
       "      <td>0.0</td>\n",
       "      <td>0.02</td>\n",
       "      <td>0.0</td>\n",
       "      <td>NaN</td>\n",
       "      <td>NaN</td>\n",
       "      <td>UNKNOWN</td>\n",
       "      <td>0.02</td>\n",
       "    </tr>\n",
       "  </tbody>\n",
       "</table>\n",
       "</div>"
      ],
      "text/plain": [
       "                                      name platform  year_of_release   genre  \\\n",
       "15957  strongest tokyo university shogi ds       DS             1985  Action   \n",
       "\n",
       "       na_sales  eu_sales  jp_sales  other_sales  critic_score  user_score  \\\n",
       "15957       0.0       0.0      0.02          0.0           NaN         NaN   \n",
       "\n",
       "        rating  total_sales  \n",
       "15957  UNKNOWN         0.02  "
      ]
     },
     "execution_count": 33,
     "metadata": {},
     "output_type": "execute_result"
    }
   ],
   "source": [
    "data[(data['platform'] == \"DS\") & (data['year_of_release'] == 1985)]"
   ]
  },
  {
   "cell_type": "markdown",
   "metadata": {},
   "source": [
    "Такое значение всего 1, кроме того количество продаж по нему крайне мало. Видимо это аномалия, вызванная технической ошибкой при загрузке данных. Эту строку следует удалить.    "
   ]
  },
  {
   "cell_type": "code",
   "execution_count": 34,
   "metadata": {},
   "outputs": [],
   "source": [
    "data = data.drop([15957], axis = 0)"
   ]
  },
  {
   "cell_type": "markdown",
   "metadata": {},
   "source": [
    "**На графиках видно, что после выпуска платформы, продажи игр для них продолжаются 10 - 12 лет. Сначала платформы набирают популярность (наблюдается рост продаж игр), потом удерживают ее в течение примерно 4 лет, и затем их продажи снижаются. При этом все платформы из ТОП-6 уже не являются популярными: по некоторы продажи в 2015-2016 гг. крайне малы, а по некоторым вовсе отсутствуют. Поэтому стоит рассмотреть данные о продажах игр за актуальный период.**"
   ]
  },
  {
   "cell_type": "markdown",
   "metadata": {},
   "source": [
    "### Выбор актуального периода для анализа"
   ]
  },
  {
   "cell_type": "markdown",
   "metadata": {},
   "source": [
    "Для построения прогноза продаж игр на 2017 год буду использовать период с 2014 по 2015 год, т.к. этот период является наиболее близким к 2017 году, и в нем прослеживается единая тенденция по объемам выпуска игр. При этом данные за 2016 год могут быть не полными и могут исказить результаты исследования, поэтому их не буду использовать."
   ]
  },
  {
   "cell_type": "code",
   "execution_count": 35,
   "metadata": {},
   "outputs": [],
   "source": [
    "actual_data = data.query('2014 <= year_of_release <= 2015')"
   ]
  },
  {
   "cell_type": "markdown",
   "metadata": {},
   "source": [
    "### Анализ объемов продаж игр по платформам за актуальный период"
   ]
  },
  {
   "cell_type": "code",
   "execution_count": 36,
   "metadata": {},
   "outputs": [],
   "source": [
    "# Группирую данные об объемах продаж игр по платформам за все периоды и визуализирую результат.\n",
    "actual_platforms_sales = (actual_data.pivot_table(index=['platform'], values=['total_sales'], aggfunc='sum')\n",
    "                     .sort_values(by='total_sales')\n",
    ")"
   ]
  },
  {
   "cell_type": "code",
   "execution_count": 37,
   "metadata": {
    "scrolled": true
   },
   "outputs": [
    {
     "data": {
      "image/png": "[encoded data removed]",
      "text/plain": [
       "<Figure size 576x360 with 1 Axes>"
      ]
     },
     "metadata": {
      "needs_background": "light"
     },
     "output_type": "display_data"
    }
   ],
   "source": [
    "actual_platforms_sales.plot(kind='barh', legend=False, figsize=(8, 5), grid=True)\n",
    "plt.title('Объем продаж игр')\n",
    "plt.xlabel('\\n Количество проданных копий (млн)')\n",
    "plt.ylabel('Платформа');"
   ]
  },
  {
   "cell_type": "markdown",
   "metadata": {},
   "source": [
    "**На графике видно, что больше всего игр за период с 2014 по 2015 год продано для платформы PS4. Далее в ТОП-5 по объемам продаж вошли: XOne, 3DS, PS3 и X360. Но и их продажи значительно ниже, чем у PS4.**"
   ]
  },
  {
   "cell_type": "code",
   "execution_count": 38,
   "metadata": {
    "scrolled": false
   },
   "outputs": [
    {
     "name": "stdout",
     "output_type": "stream",
     "text": [
      "Динамика продаж игр для платформы PS4 по годам\n"
     ]
    },
    {
     "data": {
      "image/png": "[encoded data removed]",
      "text/plain": [
       "<Figure size 432x288 with 1 Axes>"
      ]
     },
     "metadata": {
      "needs_background": "light"
     },
     "output_type": "display_data"
    },
    {
     "name": "stdout",
     "output_type": "stream",
     "text": [
      "Динамика продаж игр для платформы XOne по годам\n"
     ]
    },
    {
     "data": {
      "image/png": "[encoded data removed]",
      "text/plain": [
       "<Figure size 432x288 with 1 Axes>"
      ]
     },
     "metadata": {
      "needs_background": "light"
     },
     "output_type": "display_data"
    },
    {
     "name": "stdout",
     "output_type": "stream",
     "text": [
      "Динамика продаж игр для платформы 3DS по годам\n"
     ]
    },
    {
     "data": {
      "image/png": "[encoded data removed]",
      "text/plain": [
       "<Figure size 432x288 with 1 Axes>"
      ]
     },
     "metadata": {
      "needs_background": "light"
     },
     "output_type": "display_data"
    },
    {
     "name": "stdout",
     "output_type": "stream",
     "text": [
      "Динамика продаж игр для платформы PS3 по годам\n"
     ]
    },
    {
     "data": {
      "image/png": "[encoded data removed]",
      "text/plain": [
       "<Figure size 432x288 with 1 Axes>"
      ]
     },
     "metadata": {
      "needs_background": "light"
     },
     "output_type": "display_data"
    },
    {
     "name": "stdout",
     "output_type": "stream",
     "text": [
      "Динамика продаж игр для платформы X360 по годам\n"
     ]
    },
    {
     "data": {
      "image/png": "[encoded data removed]",
      "text/plain": [
       "<Figure size 432x288 with 1 Axes>"
      ]
     },
     "metadata": {
      "needs_background": "light"
     },
     "output_type": "display_data"
    },
    {
     "name": "stdout",
     "output_type": "stream",
     "text": [
      "Динамика продаж игр для платформы WiiU по годам\n"
     ]
    },
    {
     "data": {
      "image/png": "[encoded data removed]",
      "text/plain": [
       "<Figure size 432x288 with 1 Axes>"
      ]
     },
     "metadata": {
      "needs_background": "light"
     },
     "output_type": "display_data"
    },
    {
     "name": "stdout",
     "output_type": "stream",
     "text": [
      "Динамика продаж игр для платформы PC по годам\n"
     ]
    },
    {
     "data": {
      "image/png": "[encoded data removed]",
      "text/plain": [
       "<Figure size 432x288 with 1 Axes>"
      ]
     },
     "metadata": {
      "needs_background": "light"
     },
     "output_type": "display_data"
    },
    {
     "name": "stdout",
     "output_type": "stream",
     "text": [
      "Динамика продаж игр для платформы PSV по годам\n"
     ]
    },
    {
     "data": {
      "image/png": "[encoded data removed]",
      "text/plain": [
       "<Figure size 432x288 with 1 Axes>"
      ]
     },
     "metadata": {
      "needs_background": "light"
     },
     "output_type": "display_data"
    },
    {
     "name": "stdout",
     "output_type": "stream",
     "text": [
      "Динамика продаж игр для платформы Wii по годам\n"
     ]
    },
    {
     "data": {
      "image/png": "[encoded data removed]",
      "text/plain": [
       "<Figure size 432x288 with 1 Axes>"
      ]
     },
     "metadata": {
      "needs_background": "light"
     },
     "output_type": "display_data"
    },
    {
     "name": "stdout",
     "output_type": "stream",
     "text": [
      "Динамика продаж игр для платформы PSP по годам\n"
     ]
    },
    {
     "data": {
      "image/png": "[encoded data removed]",
      "text/plain": [
       "<Figure size 432x288 with 1 Axes>"
      ]
     },
     "metadata": {
      "needs_background": "light"
     },
     "output_type": "display_data"
    }
   ],
   "source": [
    "# Рассмотрю динамику продаж игр за все периоды платформ, которые продавались в актуальный период,\n",
    "# чтобы оценить, на каком этапе своего существования они находятся.\n",
    "# Возможно низкий объем продаж, связан с тем, что платформа совсем новая и пик ее популярности еще впереди.\n",
    "for platform in actual_platforms_sales.sort_values(by='total_sales', ascending=False).index[:]:\n",
    "    print('Динамика продаж игр для платформы', platform, 'по годам')\n",
    "    (data\n",
    "     .query('platform == @platform')\n",
    "     .pivot_table(index='year_of_release', values='total_sales', aggfunc='sum')\n",
    "     .plot(kind='bar', legend=False)\n",
    "    )\n",
    "    plt.xlabel('\\n Годы')\n",
    "    plt.ylabel('Количество проданных копий (млн)')\n",
    "    plt.show()"
   ]
  },
  {
   "cell_type": "markdown",
   "metadata": {},
   "source": [
    "**На графиках видно, что объемы продаж по всем платформам упали в 2016 году. Это может быть связано с тем, что в декабре 2016 года еще нет полных данных за весь год. При этом для популярных в 2014-2015 гг. платформ PS3, X360 и 3DS отчетливо видно, что пик их популярности пройден. В свою очередь платформы PS4 и XOne выпущены в 2013 году, что позже всех остальных. Исходя из среднего срока продолжительности популярности платформ, можно предположить, что в 2017 году у них будет если не пик популярности, то хотя бы достаточно высокий уровень. Тем не менее прибыль можно получить даже на падающих, но по прежнему стабильных продажах. Поэтому в список потенциально прибыльных платформ можно включить все, у которых продажи за 2015 год были более 15 млн копий. Помимо PS4 и XOne это: 3DS, PS3, X360 и WiiU. Кроме того, игры для PC выпускаются и продаются более 30 лет с 1985 года по настоящее время. В 2014-2015 гг. продажи игр для PC находятся хоть и не на самом высоком, но на стабильном уровне, поэтому PC тоже стоит всключить в число потенциально прибыльных.  \n",
    "<br /> Таким образом, потенциально самыми прибыльными в 2017 году можно считать следующие платформы: \n",
    "<br /> PS4, \n",
    "XOne, \n",
    "3DS, PS3, X360, WiiU и PC.**\n",
    "        "
   ]
  },
  {
   "cell_type": "markdown",
   "metadata": {},
   "source": [
    "### Анализ размаха продаж игр в разбивке по платформам"
   ]
  },
  {
   "cell_type": "code",
   "execution_count": 39,
   "metadata": {
    "scrolled": false
   },
   "outputs": [
    {
     "data": {
      "image/png": "[encoded data removed]",
      "text/plain": [
       "<Figure size 864x504 with 1 Axes>"
      ]
     },
     "metadata": {
      "needs_background": "light"
     },
     "output_type": "display_data"
    }
   ],
   "source": [
    "# Построю диаграмму размаха продаж по платформам.\n",
    "plt.figure(figsize=(12, 7))\n",
    "(sns.boxplot(data = actual_data, y = 'total_sales', x='platform')\n",
    "    .set(title = 'Размах продаж игр по платформам за 2014-2015 гг \\n', \n",
    "         xlabel = '\\n Платформы', \n",
    "         ylabel = 'Количество проданных копий (млн)',\n",
    "         ylim = [-0.5, 4]));"
   ]
  },
  {
   "cell_type": "code",
   "execution_count": 40,
   "metadata": {
    "scrolled": false
   },
   "outputs": [
    {
     "data": {
      "image/png": "[encoded data removed]",
      "text/plain": [
       "<Figure size 864x504 with 1 Axes>"
      ]
     },
     "metadata": {
      "needs_background": "light"
     },
     "output_type": "display_data"
    }
   ],
   "source": [
    "# Построю диаграмму размаха продаж по платформам в 100% масштабе, чтобы увидеть максимальные продажи.\n",
    "plt.figure(figsize=(12, 7))\n",
    "(sns.boxplot(data = actual_data, y = 'total_sales', x='platform')\n",
    "    .set(title = 'Размах продаж игр по платформам за 2014-2015 гг \\n', \n",
    "         xlabel = '\\n Платформы', \n",
    "         ylabel = 'Количество проданных копий (млн)'));"
   ]
  },
  {
   "cell_type": "markdown",
   "metadata": {},
   "source": [
    "**На графиках видно, что распределение продаж среди платформ различается в незначительной степени, медиана продаж находится примерно на одном уровне (0,2 млн проданных копий). Тем не менее, диапазон большей части значений продаж для платформ PS4 и XOne наибольший, что подтверждает то, что их можно считать самыми прибыльными. Также можно отметить достаточно высокие значения, выходящие далеко за пределы 3 квартиля у PS4, XOne и других потенциально прибылльных платформ. Вероятно, это самые продаваемые игры. Для Wii диапазон большей части значений продаж находится примерно на одном уровне с PS4 и XOne но так как для этой латформы отсутствуют такие большие выбросы, как для других, включать ее в список потенциально прибыльных не буду.**"
   ]
  },
  {
   "cell_type": "markdown",
   "metadata": {},
   "source": [
    "### Анализ влияния  отзывов пользователей и критиков на продажи внутри одной популярной платформы"
   ]
  },
  {
   "cell_type": "code",
   "execution_count": 41,
   "metadata": {
    "scrolled": false
   },
   "outputs": [
    {
     "data": {
      "text/html": [
       "<div>\n",
       "<style scoped>\n",
       "    .dataframe tbody tr th:only-of-type {\n",
       "        vertical-align: middle;\n",
       "    }\n",
       "\n",
       "    .dataframe tbody tr th {\n",
       "        vertical-align: top;\n",
       "    }\n",
       "\n",
       "    .dataframe thead th {\n",
       "        text-align: right;\n",
       "    }\n",
       "</style>\n",
       "<table border=\"1\" class=\"dataframe\">\n",
       "  <thead>\n",
       "    <tr style=\"text-align: right;\">\n",
       "      <th></th>\n",
       "      <th>critic_score</th>\n",
       "      <th>user_score</th>\n",
       "      <th>total_sales</th>\n",
       "    </tr>\n",
       "  </thead>\n",
       "  <tbody>\n",
       "    <tr>\n",
       "      <th>critic_score</th>\n",
       "      <td>1.000000</td>\n",
       "      <td>0.602514</td>\n",
       "      <td>0.429003</td>\n",
       "    </tr>\n",
       "    <tr>\n",
       "      <th>user_score</th>\n",
       "      <td>0.602514</td>\n",
       "      <td>1.000000</td>\n",
       "      <td>0.005328</td>\n",
       "    </tr>\n",
       "    <tr>\n",
       "      <th>total_sales</th>\n",
       "      <td>0.429003</td>\n",
       "      <td>0.005328</td>\n",
       "      <td>1.000000</td>\n",
       "    </tr>\n",
       "  </tbody>\n",
       "</table>\n",
       "</div>"
      ],
      "text/plain": [
       "              critic_score  user_score  total_sales\n",
       "critic_score      1.000000    0.602514     0.429003\n",
       "user_score        0.602514    1.000000     0.005328\n",
       "total_sales       0.429003    0.005328     1.000000"
      ]
     },
     "execution_count": 41,
     "metadata": {},
     "output_type": "execute_result"
    }
   ],
   "source": [
    "# Создаю матрицу корреляции между продажами и отзывами критиков и пользователей для платформы PS4.\n",
    "PS4_data = actual_data.query('platform == \"PS4\"')\n",
    "PS4_data_cor = PS4_data[['critic_score','user_score', 'total_sales']]\n",
    "PS4_data_cor.corr()"
   ]
  },
  {
   "cell_type": "code",
   "execution_count": 42,
   "metadata": {},
   "outputs": [
    {
     "data": {
      "image/png": "[encoded data removed]",
      "text/plain": [
       "<Figure size 432x288 with 1 Axes>"
      ]
     },
     "metadata": {
      "needs_background": "light"
     },
     "output_type": "display_data"
    }
   ],
   "source": [
    "# Построю график зависимости объема продаж от отзывов пользователей для платформы PS4.\n",
    "PS4_data.plot(x='user_score', y='total_sales', kind='scatter')\n",
    "plt.title('Влияние оценки пользователей \\n на объем продаж игр для PS4')\n",
    "plt.xlabel('Оценка пользователей')\n",
    "plt.ylabel('Количество проданных копий (млн)');"
   ]
  },
  {
   "cell_type": "code",
   "execution_count": 43,
   "metadata": {
    "scrolled": false
   },
   "outputs": [
    {
     "data": {
      "image/png": "[encoded data removed]",
      "text/plain": [
       "<Figure size 432x288 with 1 Axes>"
      ]
     },
     "metadata": {
      "needs_background": "light"
     },
     "output_type": "display_data"
    }
   ],
   "source": [
    "# Построю график зависимости объема продаж от отзывов критиков для платформы PS4.\n",
    "PS4_data.plot(x='critic_score', y='total_sales', kind='scatter')\n",
    "plt.title('Влияние оценки критиков \\n на объем продаж игр для PS4')\n",
    "plt.xlabel('Оценка критиков')\n",
    "plt.ylabel('Количество проданных копий (млн)');"
   ]
  },
  {
   "cell_type": "markdown",
   "metadata": {},
   "source": [
    "**Корреляция между объемами продаж и оценками пользователей близка к нулю, значит взаимосвязь отсутсвует. Корреляция объемами продаж и оценками критиков равна 40%, то есть имеется слабая прямопропорциональная зависимость.**"
   ]
  },
  {
   "cell_type": "code",
   "execution_count": 44,
   "metadata": {},
   "outputs": [
    {
     "data": {
      "text/html": [
       "<div>\n",
       "<style scoped>\n",
       "    .dataframe tbody tr th:only-of-type {\n",
       "        vertical-align: middle;\n",
       "    }\n",
       "\n",
       "    .dataframe tbody tr th {\n",
       "        vertical-align: top;\n",
       "    }\n",
       "\n",
       "    .dataframe thead th {\n",
       "        text-align: right;\n",
       "    }\n",
       "</style>\n",
       "<table border=\"1\" class=\"dataframe\">\n",
       "  <thead>\n",
       "    <tr style=\"text-align: right;\">\n",
       "      <th></th>\n",
       "      <th>critic_score</th>\n",
       "      <th>user_score</th>\n",
       "      <th>total_sales</th>\n",
       "    </tr>\n",
       "  </thead>\n",
       "  <tbody>\n",
       "    <tr>\n",
       "      <th>critic_score</th>\n",
       "      <td>1.000000</td>\n",
       "      <td>0.453434</td>\n",
       "      <td>0.474138</td>\n",
       "    </tr>\n",
       "    <tr>\n",
       "      <th>user_score</th>\n",
       "      <td>0.453434</td>\n",
       "      <td>1.000000</td>\n",
       "      <td>-0.056546</td>\n",
       "    </tr>\n",
       "    <tr>\n",
       "      <th>total_sales</th>\n",
       "      <td>0.474138</td>\n",
       "      <td>-0.056546</td>\n",
       "      <td>1.000000</td>\n",
       "    </tr>\n",
       "  </tbody>\n",
       "</table>\n",
       "</div>"
      ],
      "text/plain": [
       "              critic_score  user_score  total_sales\n",
       "critic_score      1.000000    0.453434     0.474138\n",
       "user_score        0.453434    1.000000    -0.056546\n",
       "total_sales       0.474138   -0.056546     1.000000"
      ]
     },
     "execution_count": 44,
     "metadata": {},
     "output_type": "execute_result"
    }
   ],
   "source": [
    "# Создаю матрицу корреляции между продажами и отзывами критиков и пользователей для платформы XOne.\n",
    "XOne_data = actual_data.query('platform == \"XOne\"')\n",
    "XOne_data_cor = XOne_data[['critic_score','user_score', 'total_sales']]\n",
    "XOne_data_cor.corr()"
   ]
  },
  {
   "cell_type": "code",
   "execution_count": 45,
   "metadata": {},
   "outputs": [
    {
     "data": {
      "image/png": "[encoded data removed]",
      "text/plain": [
       "<Figure size 432x288 with 1 Axes>"
      ]
     },
     "metadata": {
      "needs_background": "light"
     },
     "output_type": "display_data"
    }
   ],
   "source": [
    "# Построю график зависимости объема продаж от отзывов пользователей для платформы XOne.\n",
    "XOne_data.plot(x='user_score', y='total_sales', kind='scatter')\n",
    "plt.title('Влияние оценки пользователей \\n на объем продаж игр для XOne')\n",
    "plt.xlabel('Оценка пользователей')\n",
    "plt.ylabel('Количество проданных копий (млн)');"
   ]
  },
  {
   "cell_type": "code",
   "execution_count": 46,
   "metadata": {},
   "outputs": [
    {
     "data": {
      "image/png": "[encoded data removed]",
      "text/plain": [
       "<Figure size 432x288 with 1 Axes>"
      ]
     },
     "metadata": {
      "needs_background": "light"
     },
     "output_type": "display_data"
    }
   ],
   "source": [
    "# Построю график зависимости объема продаж от отзывов критиков для платформы PS4.\n",
    "XOne_data.plot(x='critic_score', y='total_sales', kind='scatter')\n",
    "plt.title('Влияние оценки критиков \\n на объем продаж игр для XOne')\n",
    "plt.xlabel('Оценка критиков')\n",
    "plt.ylabel('Количество проданных копий (млн)');"
   ]
  },
  {
   "cell_type": "markdown",
   "metadata": {},
   "source": [
    "**Для платформы XOne прослеживаются те же закономерности, что и для платформы PS4: взаимозвязь между оценками пользователей и объемами продаж отсутствует, имеется слабая прямопропорциональная взаимосвязь между объемами продаж и оценками критиков.**"
   ]
  },
  {
   "cell_type": "markdown",
   "metadata": {},
   "source": [
    "**Учитывая, что корреляция между оценками критиков и объемами продаж не велика, кроме того на графиках видно большое количество выбрасов (то есть низкое число продаж для игр с высокой оценкой), нельзя однозначно говорить о наличии прямой взаимосвязи между объемами продаж и оценками критиков.**"
   ]
  },
  {
   "cell_type": "markdown",
   "metadata": {},
   "source": [
    "### Анализ общего распределение игр по жанрам"
   ]
  },
  {
   "cell_type": "code",
   "execution_count": 47,
   "metadata": {
    "scrolled": false
   },
   "outputs": [
    {
     "data": {
      "image/png": "[encoded data removed]",
      "text/plain": [
       "<Figure size 648x648 with 1 Axes>"
      ]
     },
     "metadata": {},
     "output_type": "display_data"
    }
   ],
   "source": [
    "# Построю круговую диаграмму распределения проданных игр по жанрам за период с 2014 по 2015 гг.\n",
    "(actual_data.pivot_table(index = 'genre', values = 'total_sales', aggfunc = 'sum')\n",
    "            .sort_values(ascending=False, by = 'total_sales')\n",
    "            .plot(kind='pie', figsize=(9,9), y= 'total_sales',  legend=False)\n",
    "    )\n",
    "plt.title('Распределение игр по жанрам')\n",
    "plt.ylabel('');"
   ]
  },
  {
   "cell_type": "markdown",
   "metadata": {},
   "source": [
    "**Из графика видно, что больше всего продаются игры жанра *Action*, следом идут *Shooter*, *Role-Playing* и *Sports*. Все остальные жанры распространены значительно меньше. Наименее прибыльные жанры - *Strategy* и *Puzzle*.**"
   ]
  },
  {
   "cell_type": "code",
   "execution_count": 48,
   "metadata": {},
   "outputs": [
    {
     "data": {
      "image/png": "[encoded data removed]",
      "text/plain": [
       "<Figure size 864x504 with 1 Axes>"
      ]
     },
     "metadata": {
      "needs_background": "light"
     },
     "output_type": "display_data"
    }
   ],
   "source": [
    "# Построю диаграмму размаха продаж по жанрам в обычном и увеличенном маштабе.\n",
    "plt.figure(figsize=(12, 7))\n",
    "(sns.boxplot(data = actual_data, y = 'total_sales', x='genre')\n",
    "    .set(title = 'Размах продаж игр по жанрам', \n",
    "         xlabel = '\\n Жанры', \n",
    "         ylabel = 'Количество проданных копий (млн)'));"
   ]
  },
  {
   "cell_type": "code",
   "execution_count": 49,
   "metadata": {},
   "outputs": [
    {
     "data": {
      "image/png": "[encoded data removed]",
      "text/plain": [
       "<Figure size 864x504 with 1 Axes>"
      ]
     },
     "metadata": {
      "needs_background": "light"
     },
     "output_type": "display_data"
    }
   ],
   "source": [
    "# Построю диаграмму размаха продаж по жанрам.\n",
    "plt.figure(figsize=(12, 7))\n",
    "(sns.boxplot(data = actual_data, y = 'total_sales', x='genre')\n",
    "    .set(title = 'Размах продаж игр по жанрам', \n",
    "         xlabel = '\\n Жанры', \n",
    "         ylabel = 'Количество проданных копий (млн)',\n",
    "         ylim = [-0.2, 4]));"
   ]
  },
  {
   "cell_type": "markdown",
   "metadata": {},
   "source": [
    "**На диаграммах размаха видно, что наибольший диапазон значений продаж имеют игры жанра Shooter, медианное значение продаж этого жанра превышает большинство значений продаж игр других жанров. Кроме того, выбросы (то есть небольшое число очень популярных игр) по продажам этого жанра превышают 14 млн. копий. Этот жанр можно считать наиболее стабильным. Медианное значение продаж игр других жанров находится примерно на одном уровне (примерно 0,1 - 0,4 млн копий). Но для жанров Action, Role-Playing и Sports так же характерно большое число выбрасов, значения которых превышает 6 млн копий. Жанр Platform имеет давольно большой диапазон большей части значений продаж по сравнению с другими жанрами. Но для этого жанра не характерно наличие очень популярных ирг с большим числом продаж. Таким образом наиболее популярными жанрами игр являются *Action*, *Shooter*, *Role-Playing* и *Sports*.**"
   ]
  },
  {
   "cell_type": "markdown",
   "metadata": {},
   "source": [
    "## Портрет пользователя каждого региона"
   ]
  },
  {
   "cell_type": "code",
   "execution_count": 50,
   "metadata": {},
   "outputs": [],
   "source": [
    "# Создаю список регионов.\n",
    "regions = actual_data.columns[4:7]"
   ]
  },
  {
   "cell_type": "code",
   "execution_count": 51,
   "metadata": {
    "scrolled": true
   },
   "outputs": [
    {
     "data": {
      "image/png": "[encoded data removed]",
      "text/plain": [
       "<Figure size 1080x360 with 3 Axes>"
      ]
     },
     "metadata": {},
     "output_type": "display_data"
    }
   ],
   "source": [
    "# Построю круговые диаграммы для каждого региона по 5 самым популярным платформам.\n",
    "fig, axs = plt.subplots(1, 3, figsize=(15, 5))\n",
    "fig.suptitle('ТОП-5 платформ в регионах')\n",
    "for i in range(3):\n",
    "    # Группирую датафрейм по платформам для каждого региона.\n",
    "    actual_data_platform_i = actual_data.groupby('platform').agg({regions[i]: 'sum'}).sort_values(by=regions[i], ascending=False)\n",
    "    actual_data_platform_i.reset_index(inplace= True)\n",
    "    # Выбираю ТОП-5 платформ с наибольшими продажами.\n",
    "    top_sales_i = actual_data_platform_i.iloc[:5]\n",
    "    # Считаю сумму продаж по остальным платформам.\n",
    "    other_sales_i = actual_data_platform_i[regions[i]].iloc[5:].sum()\n",
    "    # Добавляю строку с суммой продаж по остальным платформам.\n",
    "    new_row = {'platform': 'Other', regions[i]: other_sales_i}\n",
    "    top_sales_i = top_sales_i.append(new_row, ignore_index = True)\n",
    "    # Строю круговые диаграммы.\n",
    "    axs[i].pie(top_sales_i[regions[i]], labels = top_sales_i['platform'])\n",
    "    axs[i].pie(top_sales_i[regions[i]], labels = top_sales_i['platform'], autopct='%1.1f%%')\n",
    "    axs[i].set_title(top_sales_i.columns[1].split('_')[0].upper());"
   ]
  },
  {
   "cell_type": "markdown",
   "metadata": {},
   "source": [
    "**На диаграммах можно отметить сходство Северной Америки и Европы в предпочтениях платформ: в обоих регионах на первом месте стоит платформа PS4, далее с небольшими отличиями предпочтения распределяются между XOne, X360, PS3. Замыкает ТОП-5 платформ в Америке 3DS, а в Европе - PC. В Японии другие предпочтения: самая популярная платформа - 3DS, второе место занимает PSV, далее примерно поровну предпочтения распределены между платформами PS3, PS4 и WiiU.**"
   ]
  },
  {
   "cell_type": "code",
   "execution_count": 52,
   "metadata": {
    "scrolled": true
   },
   "outputs": [
    {
     "data": {
      "image/png": "[encoded data removed]",
      "text/plain": [
       "<Figure size 1080x360 with 3 Axes>"
      ]
     },
     "metadata": {},
     "output_type": "display_data"
    }
   ],
   "source": [
    "# Построю круговые диаграммы для каждого региона по 5 самым популярным жанрам.\n",
    "fig, axs = plt.subplots(1, 3, figsize=(15, 5))\n",
    "fig.suptitle('ТОП-5 жанров в регионах')\n",
    "for i in range(3):\n",
    "    # Группирую датафрейм по жанрам для каждого региона.\n",
    "    actual_data_genre_i = actual_data.groupby('genre').agg({regions[i]: 'sum'}).sort_values(by=regions[i], ascending=False)\n",
    "    actual_data_genre_i.reset_index(inplace= True)\n",
    "    # Выбираю ТОП-5 жанров с наибольшими продажами.\n",
    "    top_sales_i = actual_data_genre_i.iloc[:5]\n",
    "    # Считаю сумму продаж по остальным жанрам.\n",
    "    other_sales_i = actual_data_genre_i[regions[i]].iloc[5:].sum()\n",
    "    # Добавляю строку с суммой продаж по остальным жанрам.\n",
    "    new_row = {'genre': 'Other', regions[i]: other_sales_i}\n",
    "    top_sales_i = top_sales_i.append(new_row, ignore_index = True)\n",
    "    # Строю круговые диаграммы.\n",
    "    axs[i].pie(top_sales_i[regions[i]], labels = top_sales_i['genre'])\n",
    "    axs[i].pie(top_sales_i[regions[i]], labels = top_sales_i['genre'], autopct='%1.1f%%')\n",
    "    axs[i].set_title(top_sales_i.columns[1].split('_')[0].upper());"
   ]
  },
  {
   "cell_type": "markdown",
   "metadata": {},
   "source": [
    "**Предпочтения по жанрам сново схожи у Америки и Европы: самый популярный жанр - Action, далее идут Shooter, Sports и Role-Playing. Замыкает ТОП-5 жанров в Америке Misc, а в Европе - Racing. В Японии самые популярные жанры - Role-Playing (33,3%) и Action (30,5%), далее идут почти в равных долях Fighting, Misc, Shooter.**"
   ]
  },
  {
   "cell_type": "code",
   "execution_count": 53,
   "metadata": {},
   "outputs": [
    {
     "data": {
      "image/png": "[encoded data removed]",
      "text/plain": [
       "<Figure size 1080x360 with 3 Axes>"
      ]
     },
     "metadata": {},
     "output_type": "display_data"
    }
   ],
   "source": [
    "# Построю круговые диаграммы распределения рейтинга ESRB для каждого региона\n",
    "fig, axs = plt.subplots(1, 3, figsize=(15, 5))\n",
    "fig.suptitle('Распределение рейтинга ESRB в регионах')\n",
    "for i in range(3):\n",
    "    df_i = (actual_data.groupby('rating')[regions[i]].sum().\n",
    "             reset_index().\n",
    "             sort_values(regions[i], ascending = False, ignore_index = True))\n",
    "    axs[i].pie(df_i[regions[i]], labels = df_i['rating'])\n",
    "    axs[i].pie(df_i[regions[i]], labels = df_i['rating'], autopct='%1.1f%%')\n",
    "    axs[i].set_title(df_i.columns[1].split('_')[0].upper());"
   ]
  },
  {
   "cell_type": "markdown",
   "metadata": {},
   "source": [
    "**И в этот раз можно видеть идентичное распределение игр по возрастным категориям в Америке и Европе: на первом месте игры для лиц старше 17 лет, далее идет большой блок игр, не получивших категорию, потом идут игры для всех возрастов, игры для подростков и игры для детей от 10 лет. В Японии же более половины составляют игры без рейтинга. Вероятно, это связано с тем, что компания ESRB в основном оценивает компании из Северной Америки, а в Японии широко распространены игры местного производства.**"
   ]
  },
  {
   "cell_type": "markdown",
   "metadata": {},
   "source": [
    "**Предпочтения пользователей в Северной Америке**\n",
    "- Самая популярная платформа - PS4;\n",
    "- Самый распространенный жанр - Action;\n",
    "- Самая распространенная возрастная категория - М (для лиц старше 17 лет).\n",
    "\n",
    "**Предпочтения пользователей в Европе**\n",
    "- Самая популярная платформа - PS4;\n",
    "- Самый распространенный жанр - Action;\n",
    "- Самая распространенная возрастная категория - М (для лиц старше 17 лет).\n",
    "\n",
    "**Предпочтения пользователей в Японии**\n",
    "- Самая популярная платформа - 3DS;\n",
    "- Самый распространенный жанр - Role-Playing;\n",
    "- Самая распространенная возрастная категория - не определена."
   ]
  },
  {
   "cell_type": "markdown",
   "metadata": {},
   "source": [
    "## Проверка гипотез"
   ]
  },
  {
   "cell_type": "markdown",
   "metadata": {},
   "source": [
    "### Средние пользовательские рейтинги платформ Xbox One и PC одинаковые."
   ]
  },
  {
   "cell_type": "markdown",
   "metadata": {},
   "source": [
    "Формулирую нулевую и альтернативную гипотезы:\n",
    "\n",
    "H0: Средние пользовательские рейтинги платформ Xbox One и PC равны.\n",
    "\n",
    "H1: Средние пользовательские рейтинги платформ Xbox One и PC не равны."
   ]
  },
  {
   "cell_type": "code",
   "execution_count": 54,
   "metadata": {},
   "outputs": [],
   "source": [
    "# Сохраняю данные о пользовательских рейтингах платформ Xbox One и PC.\n",
    "xone = actual_data[(actual_data['platform'] == 'XOne') & (actual_data['user_score'] > 0)]['user_score']\n",
    "pc = actual_data[(actual_data['platform'] == 'PC') & (actual_data['user_score'] > 0)]['user_score']"
   ]
  },
  {
   "cell_type": "code",
   "execution_count": 55,
   "metadata": {
    "scrolled": true
   },
   "outputs": [
    {
     "name": "stdout",
     "output_type": "stream",
     "text": [
      "Средний пользовательский рейтинг платформы Xbox One: 6.6\n",
      "Средний пользовательский рейтинг платформы PC: 6.3\n",
      "p-значение: 0.2064150169331124\n",
      "Не получилось отвергнуть нулевую гипотезу.\n"
     ]
    }
   ],
   "source": [
    "# Проверяю первую гипотезу.\n",
    "alpha = .05\n",
    "\n",
    "results = st.ttest_ind(xone, pc, equal_var=False)\n",
    "\n",
    "print('Средний пользовательский рейтинг платформы Xbox One:', xone.mean().round(1))\n",
    "print('Средний пользовательский рейтинг платформы PC:', pc.mean().round(1))\n",
    "print('p-значение:', results.pvalue)\n",
    "\n",
    "if (results.pvalue < alpha):\n",
    "    print(\"Отвергаем нулевую гипотезу.\")\n",
    "else:\n",
    "    print(\"Не получилось отвергнуть нулевую гипотезу.\")"
   ]
  },
  {
   "cell_type": "markdown",
   "metadata": {},
   "source": [
    "**При проверке гипотезы получилось, что p-значение равно 0.2064150169331124. Это означает что вероятность случайно получить различие между средними пользовательскими рейтингами двух платформ равна 20,6%. Это слишком большая вероятность, чтобы делать вывод о значимом различии между средними пользовательскими рейтингами. Поэтому нельзя отвергнуть нулевую гипотезу.**"
   ]
  },
  {
   "cell_type": "markdown",
   "metadata": {},
   "source": [
    "### Средние пользовательские рейтинги жанров Action (англ. «действие», экшен-игры) и Sports (англ. «спортивные соревнования») разные."
   ]
  },
  {
   "cell_type": "markdown",
   "metadata": {},
   "source": [
    "Формулирую нулевую и альтернативную гипотезы:\n",
    "\n",
    "H0: Средние пользовательские рейтинги жанров Action и Sports равны.\n",
    "\n",
    "H1: Средние пользовательские рейтинги жанров Action и Sports не равны."
   ]
  },
  {
   "cell_type": "code",
   "execution_count": 56,
   "metadata": {},
   "outputs": [],
   "source": [
    "# Сохраняю данные о пользовательских рейтингах жанров Action и Sports.\n",
    "action = actual_data[(actual_data['genre'] == 'Action') &  (actual_data['user_score'] > 0)]['user_score']\n",
    "sports = actual_data[(actual_data['genre'] == 'Sports') &  (actual_data['user_score'] > 0)]['user_score']"
   ]
  },
  {
   "cell_type": "code",
   "execution_count": 57,
   "metadata": {
    "scrolled": true
   },
   "outputs": [
    {
     "name": "stdout",
     "output_type": "stream",
     "text": [
      "Средний пользовательский рейтинг жанa Action: 6.8\n",
      "Средний пользовательский рейтинг жанра Sports: 5.1\n",
      "p-значение: 5.639159825656943e-13\n",
      "Отвергаем нулевую гипотезу.\n"
     ]
    }
   ],
   "source": [
    "# Проверяю вторую гиотезу.\n",
    "alpha = .05\n",
    "\n",
    "results = st.ttest_ind(action, sports, equal_var=False)\n",
    "\n",
    "print('Средний пользовательский рейтинг жанa Action:', action.mean().round(1))\n",
    "print('Средний пользовательский рейтинг жанра Sports:', sports.mean().round(1))\n",
    "print('p-значение:', results.pvalue)\n",
    "\n",
    "if (results.pvalue < alpha):\n",
    "    print(\"Отвергаем нулевую гипотезу.\")\n",
    "else:\n",
    "    print(\"Не получилось отвергнуть нулевую гипотезу.\")"
   ]
  },
  {
   "cell_type": "markdown",
   "metadata": {},
   "source": [
    "**Гипотеза о том, что пользовательские рейтинги жанров Action и Sports одинаковые, отвергнута. Вероятность случайно получить различия между пользовательскими рейтингами крайне мала. То есть можно сделать вывод о значимом различии между ними.**"
   ]
  },
  {
   "cell_type": "markdown",
   "metadata": {},
   "source": [
    "## Общий вывод"
   ]
  },
  {
   "cell_type": "markdown",
   "metadata": {},
   "source": [
    "**В ходе исследования была проанализирована информация о продажах компьютерных игр на основе следующих данных:**\n",
    "- название игры;\n",
    "- платформа;\n",
    "- год выпуска;\n",
    "- жанр игры;\n",
    "- продажи в Северной Америке;\n",
    "- продажи в Европе;\n",
    "- продажи в Японии;\n",
    "- продажи в других странах;\n",
    "- оценка критиков;\n",
    "- оценка пользователей;\n",
    "- рейтинг от организации ESRB.\n",
    "\n",
    "**Были выявлены и обработаны следующие ошибки в данных:**\n",
    "- названия столбцов преобразованы к надлежащему виду;\n",
    "- обработаны пропущенные значения;\n",
    "- удалены дубликаты;\n",
    "- преобразованы типы данных;\n",
    "- удалены аномалии.\n",
    "\n",
    "**В результате проведенного исследования выявлены следующие закономерности:**\n",
    "\n",
    "*Периоды активности рынка компьютерных игр:*\n",
    "- 1980 – 1993 гг. - слабая активность;\n",
    "- 1994 – 2009 гг. - рост выпуска игр;\n",
    "- 2008 – 2009 гг. - пик активности;\n",
    "- 2010 – 2012 гг. - спад активности;\n",
    "- 2013 – 2016 гг. -  объемы выпуска игр на одном уровне.\n",
    "\n",
    "*Самые популярные игровые платформы за весь период:*\n",
    "- PS2;\n",
    "- X360;\n",
    "- PS3;\n",
    "- Wii;\n",
    "- DS;\n",
    "- PS;\n",
    "\n",
    "*Характерный срок коммерческой активности платформ* составляет примерно 10 - 12 лет. При этом период самых высоких продаж длится примерно 4 года. Исключением является PC, для которого выпускаются и продаются игры более 30 лет с 1985 года по настоящее время.\n",
    "        \n",
    "\n",
    "*Для построения прогноза продаж игр на 2017 год выбран период с 2014 по 2015 год.*\n",
    "\n",
    "*Потенциально самыми прибыльными платформами в 2017 году можно считать:*\n",
    "- PS4, \n",
    "- XOne, \n",
    "- 3DS, \n",
    "- PS3, \n",
    "- X360, \n",
    "- WiiU,\n",
    "- PC.\n",
    "\n",
    "*Самые популярные жанры игр:* \n",
    "- Action;\n",
    "- Shooter; \n",
    "- Role-Playing; \n",
    "- Sports. \n",
    "\n",
    "*Предпочтения пользователей по регионам.*\n",
    "\n",
    "Предпочтения пользователей в Европе и Северной Америке схожи:\n",
    "- Самая популярная платформа - PS4;\n",
    "- Самый распространенный жанр - Action;\n",
    "- Самая распространенная возрастная категория - М (для лиц старше 17 лет).\n",
    "\n",
    "Предпочтения пользователей в Японии:\n",
    "- Самая популярная платформа - 3DS;\n",
    "- Самый распространенный жанр - Role-Playing;\n",
    "- Самая распространенная возрастная категория - не определена.\n",
    "\n",
    "Взаимозвязь между оценками пользователей и объемами продаж отсутствует, о взаимосвязи между объемами продаж и оценками критиков тоже не стоит говорить.\n",
    "\n",
    "Гипотеза о том, что пользовательские рейтинги платформ Xbox One и PC одинаковые, не отвергнута.\n",
    "\n",
    "Гипотеза о том, что пользовательские рейтинги жанров Action и Sports одинаковые, отвергнута.\n"
   ]
  }
 ],
 "metadata": {
  "ExecuteTimeLog": [
   {
    "duration": 1282,
    "start_time": "2023-04-25T07:21:20.298Z"
   },
   {
    "duration": 99,
    "start_time": "2023-04-25T07:29:05.760Z"
   },
   {
    "duration": 2,
    "start_time": "2023-04-25T07:29:08.919Z"
   },
   {
    "duration": 107,
    "start_time": "2023-04-25T07:29:09.431Z"
   },
   {
    "duration": 17,
    "start_time": "2023-04-25T07:29:09.999Z"
   },
   {
    "duration": 17,
    "start_time": "2023-04-25T07:30:52.941Z"
   },
   {
    "duration": 1299,
    "start_time": "2023-04-25T08:51:22.599Z"
   },
   {
    "duration": 4,
    "start_time": "2023-04-25T08:52:38.228Z"
   },
   {
    "duration": 4,
    "start_time": "2023-04-25T08:53:02.250Z"
   },
   {
    "duration": 5,
    "start_time": "2023-04-25T08:53:32.082Z"
   },
   {
    "duration": 7,
    "start_time": "2023-04-25T08:58:43.794Z"
   },
   {
    "duration": 16,
    "start_time": "2023-04-25T08:59:04.857Z"
   },
   {
    "duration": 21,
    "start_time": "2023-04-25T08:59:16.512Z"
   },
   {
    "duration": 27,
    "start_time": "2023-04-25T09:46:52.639Z"
   },
   {
    "duration": 4,
    "start_time": "2023-04-25T09:47:00.394Z"
   },
   {
    "duration": 78,
    "start_time": "2023-04-25T09:47:00.847Z"
   },
   {
    "duration": 24,
    "start_time": "2023-04-25T09:47:01.970Z"
   },
   {
    "duration": 17,
    "start_time": "2023-04-25T09:47:03.526Z"
   },
   {
    "duration": 3,
    "start_time": "2023-04-25T09:47:06.287Z"
   },
   {
    "duration": 9,
    "start_time": "2023-04-25T09:47:06.894Z"
   },
   {
    "duration": 2,
    "start_time": "2023-04-25T09:47:09.261Z"
   },
   {
    "duration": 3,
    "start_time": "2023-04-25T09:47:10.102Z"
   },
   {
    "duration": 3,
    "start_time": "2023-04-25T09:47:12.118Z"
   },
   {
    "duration": 16,
    "start_time": "2023-04-25T09:47:14.192Z"
   },
   {
    "duration": 1229,
    "start_time": "2023-04-25T09:47:42.954Z"
   },
   {
    "duration": 57,
    "start_time": "2023-04-25T09:47:45.000Z"
   },
   {
    "duration": 19,
    "start_time": "2023-04-25T09:47:46.090Z"
   },
   {
    "duration": 15,
    "start_time": "2023-04-25T09:47:47.474Z"
   },
   {
    "duration": 4,
    "start_time": "2023-04-25T09:47:54.046Z"
   },
   {
    "duration": 6,
    "start_time": "2023-04-25T09:47:54.764Z"
   },
   {
    "duration": 105,
    "start_time": "2023-04-25T09:48:08.610Z"
   },
   {
    "duration": 16,
    "start_time": "2023-04-25T09:48:54.961Z"
   },
   {
    "duration": 287,
    "start_time": "2023-04-25T09:53:29.139Z"
   },
   {
    "duration": 4,
    "start_time": "2023-04-25T09:57:05.867Z"
   },
   {
    "duration": 5,
    "start_time": "2023-04-25T09:57:14.852Z"
   },
   {
    "duration": 3,
    "start_time": "2023-04-25T09:57:28.139Z"
   },
   {
    "duration": 4,
    "start_time": "2023-04-25T09:57:34.389Z"
   },
   {
    "duration": 8,
    "start_time": "2023-04-25T09:57:46.843Z"
   },
   {
    "duration": 23,
    "start_time": "2023-04-25T09:59:54.249Z"
   },
   {
    "duration": 1351,
    "start_time": "2023-04-25T10:01:04.865Z"
   },
   {
    "duration": 61,
    "start_time": "2023-04-25T10:01:06.903Z"
   },
   {
    "duration": 24,
    "start_time": "2023-04-25T10:01:07.982Z"
   },
   {
    "duration": 17,
    "start_time": "2023-04-25T10:01:08.711Z"
   },
   {
    "duration": 3,
    "start_time": "2023-04-25T10:01:11.567Z"
   },
   {
    "duration": 7,
    "start_time": "2023-04-25T10:01:12.305Z"
   },
   {
    "duration": 12,
    "start_time": "2023-04-25T10:01:17.919Z"
   },
   {
    "duration": 4,
    "start_time": "2023-04-25T10:01:23.335Z"
   },
   {
    "duration": 25,
    "start_time": "2023-04-25T10:01:33.268Z"
   },
   {
    "duration": 5,
    "start_time": "2023-04-25T10:01:52.820Z"
   },
   {
    "duration": 8,
    "start_time": "2023-04-25T10:02:05.331Z"
   },
   {
    "duration": 17,
    "start_time": "2023-04-25T10:03:34.597Z"
   },
   {
    "duration": 10,
    "start_time": "2023-04-25T10:06:00.742Z"
   },
   {
    "duration": 17,
    "start_time": "2023-04-25T10:06:39.421Z"
   },
   {
    "duration": 16,
    "start_time": "2023-04-25T10:09:30.530Z"
   },
   {
    "duration": 13,
    "start_time": "2023-04-25T10:09:59.519Z"
   },
   {
    "duration": 15,
    "start_time": "2023-04-25T10:10:20.504Z"
   },
   {
    "duration": 16,
    "start_time": "2023-04-25T10:10:57.238Z"
   },
   {
    "duration": 9,
    "start_time": "2023-04-25T10:11:34.453Z"
   },
   {
    "duration": 188,
    "start_time": "2023-04-25T10:11:50.621Z"
   },
   {
    "duration": 12,
    "start_time": "2023-04-25T10:13:08.530Z"
   },
   {
    "duration": 22,
    "start_time": "2023-04-25T10:13:55.258Z"
   },
   {
    "duration": 37,
    "start_time": "2023-04-25T10:17:24.137Z"
   },
   {
    "duration": 11,
    "start_time": "2023-04-25T10:20:48.205Z"
   },
   {
    "duration": 4,
    "start_time": "2023-04-25T10:37:57.430Z"
   },
   {
    "duration": 3,
    "start_time": "2023-04-25T10:38:24.049Z"
   },
   {
    "duration": 10,
    "start_time": "2023-04-25T10:38:55.769Z"
   },
   {
    "duration": 13,
    "start_time": "2023-04-25T10:39:13.999Z"
   },
   {
    "duration": 11,
    "start_time": "2023-04-25T10:41:23.851Z"
   },
   {
    "duration": 15,
    "start_time": "2023-04-25T10:41:24.663Z"
   },
   {
    "duration": 9,
    "start_time": "2023-04-25T10:41:26.831Z"
   },
   {
    "duration": 11,
    "start_time": "2023-04-25T10:41:38.711Z"
   },
   {
    "duration": 21,
    "start_time": "2023-04-25T12:26:04.666Z"
   },
   {
    "duration": 93,
    "start_time": "2023-04-25T12:33:40.196Z"
   },
   {
    "duration": 1446,
    "start_time": "2023-04-26T22:19:50.556Z"
   },
   {
    "duration": 111,
    "start_time": "2023-04-26T22:19:52.004Z"
   },
   {
    "duration": 25,
    "start_time": "2023-04-26T22:19:52.117Z"
   },
   {
    "duration": 37,
    "start_time": "2023-04-26T22:19:52.144Z"
   },
   {
    "duration": 11,
    "start_time": "2023-04-26T22:19:52.184Z"
   },
   {
    "duration": 41,
    "start_time": "2023-04-26T22:19:52.196Z"
   },
   {
    "duration": 40,
    "start_time": "2023-04-26T22:19:52.239Z"
   },
   {
    "duration": 15,
    "start_time": "2023-04-26T22:19:52.281Z"
   },
   {
    "duration": 14,
    "start_time": "2023-04-26T22:19:52.297Z"
   },
   {
    "duration": 22,
    "start_time": "2023-04-26T22:19:52.313Z"
   },
   {
    "duration": 18,
    "start_time": "2023-04-26T22:19:52.337Z"
   },
   {
    "duration": 26,
    "start_time": "2023-04-26T22:19:52.357Z"
   },
   {
    "duration": 19,
    "start_time": "2023-04-26T22:19:52.385Z"
   },
   {
    "duration": 49,
    "start_time": "2023-04-26T22:19:52.407Z"
   },
   {
    "duration": 146,
    "start_time": "2023-04-26T22:19:52.457Z"
   },
   {
    "duration": 5,
    "start_time": "2023-04-26T22:20:21.494Z"
   },
   {
    "duration": 6,
    "start_time": "2023-04-26T22:20:44.987Z"
   },
   {
    "duration": 24,
    "start_time": "2023-04-26T22:20:56.976Z"
   },
   {
    "duration": 8,
    "start_time": "2023-04-26T22:21:29.289Z"
   },
   {
    "duration": 16,
    "start_time": "2023-04-26T22:21:34.356Z"
   },
   {
    "duration": 9,
    "start_time": "2023-04-26T22:22:32.724Z"
   },
   {
    "duration": 9,
    "start_time": "2023-04-26T22:22:53.685Z"
   },
   {
    "duration": 4,
    "start_time": "2023-04-26T22:23:12.754Z"
   },
   {
    "duration": 9,
    "start_time": "2023-04-26T22:23:34.726Z"
   },
   {
    "duration": 10,
    "start_time": "2023-04-26T22:23:38.613Z"
   },
   {
    "duration": 22,
    "start_time": "2023-04-26T22:25:29.972Z"
   },
   {
    "duration": 19,
    "start_time": "2023-04-26T22:29:15.239Z"
   },
   {
    "duration": 6,
    "start_time": "2023-04-26T22:29:42.874Z"
   },
   {
    "duration": 3,
    "start_time": "2023-04-26T22:29:46.086Z"
   },
   {
    "duration": 78,
    "start_time": "2023-04-26T22:29:46.091Z"
   },
   {
    "duration": 20,
    "start_time": "2023-04-26T22:29:46.172Z"
   },
   {
    "duration": 25,
    "start_time": "2023-04-26T22:29:46.193Z"
   },
   {
    "duration": 5,
    "start_time": "2023-04-26T22:29:46.220Z"
   },
   {
    "duration": 37,
    "start_time": "2023-04-26T22:29:46.227Z"
   },
   {
    "duration": 17,
    "start_time": "2023-04-26T22:29:46.266Z"
   },
   {
    "duration": 13,
    "start_time": "2023-04-26T22:29:46.285Z"
   },
   {
    "duration": 16,
    "start_time": "2023-04-26T22:29:46.299Z"
   },
   {
    "duration": 23,
    "start_time": "2023-04-26T22:29:46.317Z"
   },
   {
    "duration": 6,
    "start_time": "2023-04-26T22:29:46.342Z"
   },
   {
    "duration": 24,
    "start_time": "2023-04-26T22:29:46.350Z"
   },
   {
    "duration": 0,
    "start_time": "2023-04-26T22:29:46.376Z"
   },
   {
    "duration": 0,
    "start_time": "2023-04-26T22:29:46.377Z"
   },
   {
    "duration": 0,
    "start_time": "2023-04-26T22:29:46.379Z"
   },
   {
    "duration": 0,
    "start_time": "2023-04-26T22:29:46.380Z"
   },
   {
    "duration": 0,
    "start_time": "2023-04-26T22:29:46.381Z"
   },
   {
    "duration": 0,
    "start_time": "2023-04-26T22:29:46.382Z"
   },
   {
    "duration": 0,
    "start_time": "2023-04-26T22:29:46.383Z"
   },
   {
    "duration": 1500,
    "start_time": "2023-04-27T20:27:03.272Z"
   },
   {
    "duration": 209,
    "start_time": "2023-04-27T20:27:04.774Z"
   },
   {
    "duration": 24,
    "start_time": "2023-04-27T20:27:04.984Z"
   },
   {
    "duration": 14,
    "start_time": "2023-04-27T20:27:05.010Z"
   },
   {
    "duration": 4,
    "start_time": "2023-04-27T20:27:05.027Z"
   },
   {
    "duration": 9,
    "start_time": "2023-04-27T20:27:05.033Z"
   },
   {
    "duration": 18,
    "start_time": "2023-04-27T20:27:05.044Z"
   },
   {
    "duration": 25,
    "start_time": "2023-04-27T20:27:05.070Z"
   },
   {
    "duration": 9,
    "start_time": "2023-04-27T20:27:05.097Z"
   },
   {
    "duration": 13,
    "start_time": "2023-04-27T20:27:05.107Z"
   },
   {
    "duration": 10,
    "start_time": "2023-04-27T20:27:05.122Z"
   },
   {
    "duration": 94,
    "start_time": "2023-04-27T20:27:05.133Z"
   },
   {
    "duration": 0,
    "start_time": "2023-04-27T20:27:05.229Z"
   },
   {
    "duration": 0,
    "start_time": "2023-04-27T20:27:05.230Z"
   },
   {
    "duration": 0,
    "start_time": "2023-04-27T20:27:05.231Z"
   },
   {
    "duration": 0,
    "start_time": "2023-04-27T20:27:05.232Z"
   },
   {
    "duration": 0,
    "start_time": "2023-04-27T20:27:05.233Z"
   },
   {
    "duration": 0,
    "start_time": "2023-04-27T20:27:05.234Z"
   },
   {
    "duration": 0,
    "start_time": "2023-04-27T20:27:05.235Z"
   },
   {
    "duration": 5,
    "start_time": "2023-04-27T20:27:38.672Z"
   },
   {
    "duration": 9,
    "start_time": "2023-04-27T20:27:41.381Z"
   },
   {
    "duration": 10,
    "start_time": "2023-04-27T20:27:57.279Z"
   },
   {
    "duration": 10,
    "start_time": "2023-04-27T20:28:01.322Z"
   },
   {
    "duration": 17,
    "start_time": "2023-04-27T20:28:59.701Z"
   },
   {
    "duration": 4,
    "start_time": "2023-04-27T20:29:41.282Z"
   },
   {
    "duration": 6,
    "start_time": "2023-04-27T20:29:42.044Z"
   },
   {
    "duration": 13,
    "start_time": "2023-04-27T20:29:42.834Z"
   },
   {
    "duration": 4,
    "start_time": "2023-04-27T20:30:48.044Z"
   },
   {
    "duration": 14,
    "start_time": "2023-04-27T20:30:50.629Z"
   },
   {
    "duration": 23,
    "start_time": "2023-04-27T20:31:18.400Z"
   },
   {
    "duration": 14,
    "start_time": "2023-04-27T20:32:20.145Z"
   },
   {
    "duration": 5,
    "start_time": "2023-04-27T20:32:27.512Z"
   },
   {
    "duration": 26,
    "start_time": "2023-04-27T20:32:35.267Z"
   },
   {
    "duration": 1432,
    "start_time": "2023-04-28T07:41:45.916Z"
   },
   {
    "duration": 531,
    "start_time": "2023-04-28T07:41:47.350Z"
   },
   {
    "duration": 32,
    "start_time": "2023-04-28T07:41:47.882Z"
   },
   {
    "duration": 17,
    "start_time": "2023-04-28T07:41:47.916Z"
   },
   {
    "duration": 3,
    "start_time": "2023-04-28T07:41:47.935Z"
   },
   {
    "duration": 7,
    "start_time": "2023-04-28T07:41:47.940Z"
   },
   {
    "duration": 14,
    "start_time": "2023-04-28T07:41:47.948Z"
   },
   {
    "duration": 8,
    "start_time": "2023-04-28T07:41:47.964Z"
   },
   {
    "duration": 28,
    "start_time": "2023-04-28T07:41:47.974Z"
   },
   {
    "duration": 18,
    "start_time": "2023-04-28T07:41:48.005Z"
   },
   {
    "duration": 14,
    "start_time": "2023-04-28T07:41:48.025Z"
   },
   {
    "duration": 5,
    "start_time": "2023-04-28T07:41:48.041Z"
   },
   {
    "duration": 28,
    "start_time": "2023-04-28T07:41:48.048Z"
   },
   {
    "duration": 16,
    "start_time": "2023-04-28T07:41:48.079Z"
   },
   {
    "duration": 12,
    "start_time": "2023-04-28T07:41:48.099Z"
   },
   {
    "duration": 414,
    "start_time": "2023-04-28T07:41:48.115Z"
   },
   {
    "duration": 0,
    "start_time": "2023-04-28T07:41:48.530Z"
   },
   {
    "duration": 0,
    "start_time": "2023-04-28T07:41:48.532Z"
   },
   {
    "duration": 0,
    "start_time": "2023-04-28T07:41:48.533Z"
   },
   {
    "duration": 0,
    "start_time": "2023-04-28T07:41:48.533Z"
   },
   {
    "duration": 0,
    "start_time": "2023-04-28T07:41:48.534Z"
   },
   {
    "duration": 1197,
    "start_time": "2023-04-28T09:13:23.306Z"
   },
   {
    "duration": 57,
    "start_time": "2023-04-28T09:13:25.212Z"
   },
   {
    "duration": 37,
    "start_time": "2023-04-28T09:13:26.205Z"
   },
   {
    "duration": 14,
    "start_time": "2023-04-28T09:13:27.009Z"
   },
   {
    "duration": 5,
    "start_time": "2023-04-28T09:13:31.092Z"
   },
   {
    "duration": 5,
    "start_time": "2023-04-28T09:13:32.061Z"
   },
   {
    "duration": 8,
    "start_time": "2023-04-28T09:13:37.663Z"
   },
   {
    "duration": 10,
    "start_time": "2023-04-28T09:13:42.405Z"
   },
   {
    "duration": 16,
    "start_time": "2023-04-28T09:14:39.893Z"
   },
   {
    "duration": 9,
    "start_time": "2023-04-28T09:14:46.406Z"
   },
   {
    "duration": 15,
    "start_time": "2023-04-28T09:16:50.410Z"
   },
   {
    "duration": 12,
    "start_time": "2023-04-28T09:48:37.436Z"
   },
   {
    "duration": 105,
    "start_time": "2023-04-28T09:48:58.826Z"
   },
   {
    "duration": 8,
    "start_time": "2023-04-28T10:20:41.240Z"
   },
   {
    "duration": 6,
    "start_time": "2023-04-28T10:21:35.588Z"
   },
   {
    "duration": 6,
    "start_time": "2023-04-28T10:21:54.469Z"
   },
   {
    "duration": 8,
    "start_time": "2023-04-28T10:31:37.540Z"
   },
   {
    "duration": 9,
    "start_time": "2023-04-28T10:35:17.563Z"
   },
   {
    "duration": 5,
    "start_time": "2023-04-28T10:35:48.498Z"
   },
   {
    "duration": 9,
    "start_time": "2023-04-28T10:36:23.642Z"
   },
   {
    "duration": 5,
    "start_time": "2023-04-28T10:37:45.873Z"
   },
   {
    "duration": 9,
    "start_time": "2023-04-28T10:38:40.057Z"
   },
   {
    "duration": 10,
    "start_time": "2023-04-28T10:43:00.645Z"
   },
   {
    "duration": 3,
    "start_time": "2023-04-28T10:45:14.347Z"
   },
   {
    "duration": 6,
    "start_time": "2023-04-28T10:45:20.258Z"
   },
   {
    "duration": 5,
    "start_time": "2023-04-28T10:45:24.745Z"
   },
   {
    "duration": 3,
    "start_time": "2023-04-28T10:45:55.370Z"
   },
   {
    "duration": 69,
    "start_time": "2023-04-28T10:45:55.375Z"
   },
   {
    "duration": 21,
    "start_time": "2023-04-28T10:45:55.446Z"
   },
   {
    "duration": 16,
    "start_time": "2023-04-28T10:45:55.469Z"
   },
   {
    "duration": 6,
    "start_time": "2023-04-28T10:45:55.487Z"
   },
   {
    "duration": 10,
    "start_time": "2023-04-28T10:45:55.494Z"
   },
   {
    "duration": 15,
    "start_time": "2023-04-28T10:45:55.505Z"
   },
   {
    "duration": 19,
    "start_time": "2023-04-28T10:45:55.522Z"
   },
   {
    "duration": 6,
    "start_time": "2023-04-28T10:45:55.542Z"
   },
   {
    "duration": 15,
    "start_time": "2023-04-28T10:45:55.550Z"
   },
   {
    "duration": 10,
    "start_time": "2023-04-28T10:45:55.568Z"
   },
   {
    "duration": 14,
    "start_time": "2023-04-28T10:45:55.580Z"
   },
   {
    "duration": 5,
    "start_time": "2023-04-28T10:45:55.596Z"
   },
   {
    "duration": 18,
    "start_time": "2023-04-28T10:45:55.603Z"
   },
   {
    "duration": 16,
    "start_time": "2023-04-28T10:45:55.622Z"
   },
   {
    "duration": 11,
    "start_time": "2023-04-28T10:45:55.639Z"
   },
   {
    "duration": 14,
    "start_time": "2023-04-28T10:45:55.652Z"
   },
   {
    "duration": 4,
    "start_time": "2023-04-28T10:45:55.668Z"
   },
   {
    "duration": 5,
    "start_time": "2023-04-28T10:45:55.694Z"
   },
   {
    "duration": 14,
    "start_time": "2023-04-28T10:45:55.701Z"
   },
   {
    "duration": 22,
    "start_time": "2023-04-28T10:45:55.717Z"
   },
   {
    "duration": 11,
    "start_time": "2023-04-28T10:45:55.741Z"
   },
   {
    "duration": 45,
    "start_time": "2023-04-28T10:45:55.754Z"
   },
   {
    "duration": 3,
    "start_time": "2023-04-28T10:46:48.590Z"
   },
   {
    "duration": 3,
    "start_time": "2023-04-28T10:48:19.373Z"
   },
   {
    "duration": 14,
    "start_time": "2023-04-28T10:48:20.795Z"
   },
   {
    "duration": 808,
    "start_time": "2023-04-28T14:25:36.131Z"
   },
   {
    "duration": 10,
    "start_time": "2023-04-28T14:26:08.883Z"
   },
   {
    "duration": 30,
    "start_time": "2023-04-28T14:27:56.242Z"
   },
   {
    "duration": 1195,
    "start_time": "2023-04-28T14:28:57.007Z"
   },
   {
    "duration": 56,
    "start_time": "2023-04-28T14:28:58.204Z"
   },
   {
    "duration": 25,
    "start_time": "2023-04-28T14:28:58.262Z"
   },
   {
    "duration": 15,
    "start_time": "2023-04-28T14:28:58.289Z"
   },
   {
    "duration": 3,
    "start_time": "2023-04-28T14:28:58.307Z"
   },
   {
    "duration": 6,
    "start_time": "2023-04-28T14:28:58.312Z"
   },
   {
    "duration": 11,
    "start_time": "2023-04-28T14:28:58.319Z"
   },
   {
    "duration": 15,
    "start_time": "2023-04-28T14:29:12.458Z"
   },
   {
    "duration": 5,
    "start_time": "2023-04-28T14:29:14.789Z"
   },
   {
    "duration": 153,
    "start_time": "2023-04-28T14:29:17.486Z"
   },
   {
    "duration": 39,
    "start_time": "2023-04-28T14:29:49.857Z"
   },
   {
    "duration": 10,
    "start_time": "2023-04-28T14:29:58.818Z"
   },
   {
    "duration": 9,
    "start_time": "2023-04-28T14:30:11.915Z"
   },
   {
    "duration": 7,
    "start_time": "2023-04-28T14:30:58.381Z"
   },
   {
    "duration": 7,
    "start_time": "2023-04-28T14:31:13.738Z"
   },
   {
    "duration": 8,
    "start_time": "2023-04-28T14:31:26.005Z"
   },
   {
    "duration": 9,
    "start_time": "2023-04-28T14:31:33.489Z"
   },
   {
    "duration": 18,
    "start_time": "2023-04-28T14:31:55.916Z"
   },
   {
    "duration": 9,
    "start_time": "2023-04-28T14:32:05.634Z"
   },
   {
    "duration": 8,
    "start_time": "2023-04-28T14:32:22.298Z"
   },
   {
    "duration": 1146,
    "start_time": "2023-04-28T14:33:10.529Z"
   },
   {
    "duration": 53,
    "start_time": "2023-04-28T14:33:11.677Z"
   },
   {
    "duration": 26,
    "start_time": "2023-04-28T14:33:11.732Z"
   },
   {
    "duration": 20,
    "start_time": "2023-04-28T14:33:11.761Z"
   },
   {
    "duration": 11,
    "start_time": "2023-04-28T14:33:11.784Z"
   },
   {
    "duration": 8,
    "start_time": "2023-04-28T14:33:11.797Z"
   },
   {
    "duration": 17,
    "start_time": "2023-04-28T14:33:11.807Z"
   },
   {
    "duration": 18,
    "start_time": "2023-04-28T14:33:11.826Z"
   },
   {
    "duration": 6,
    "start_time": "2023-04-28T14:33:11.846Z"
   },
   {
    "duration": 8,
    "start_time": "2023-04-28T14:33:11.855Z"
   },
   {
    "duration": 38,
    "start_time": "2023-04-28T14:33:11.865Z"
   },
   {
    "duration": 6,
    "start_time": "2023-04-28T14:33:11.905Z"
   },
   {
    "duration": 16,
    "start_time": "2023-04-28T14:33:11.913Z"
   },
   {
    "duration": 19,
    "start_time": "2023-04-28T14:33:11.931Z"
   },
   {
    "duration": 5,
    "start_time": "2023-04-28T14:33:11.952Z"
   },
   {
    "duration": 42,
    "start_time": "2023-04-28T14:33:11.958Z"
   },
   {
    "duration": 21,
    "start_time": "2023-04-28T14:33:12.002Z"
   },
   {
    "duration": 28,
    "start_time": "2023-04-28T14:33:12.025Z"
   },
   {
    "duration": 5,
    "start_time": "2023-04-28T14:33:12.056Z"
   },
   {
    "duration": 58,
    "start_time": "2023-04-28T14:33:12.063Z"
   },
   {
    "duration": 15,
    "start_time": "2023-04-28T14:33:40.724Z"
   },
   {
    "duration": 19,
    "start_time": "2023-04-28T14:33:57.428Z"
   },
   {
    "duration": 123,
    "start_time": "2023-04-28T14:34:04.313Z"
   },
   {
    "duration": 1146,
    "start_time": "2023-04-28T14:34:43.541Z"
   },
   {
    "duration": 53,
    "start_time": "2023-04-28T14:34:44.689Z"
   },
   {
    "duration": 25,
    "start_time": "2023-04-28T14:34:44.744Z"
   },
   {
    "duration": 14,
    "start_time": "2023-04-28T14:34:44.771Z"
   },
   {
    "duration": 6,
    "start_time": "2023-04-28T14:34:44.787Z"
   },
   {
    "duration": 8,
    "start_time": "2023-04-28T14:34:44.795Z"
   },
   {
    "duration": 9,
    "start_time": "2023-04-28T14:34:44.805Z"
   },
   {
    "duration": 13,
    "start_time": "2023-04-28T14:34:44.816Z"
   },
   {
    "duration": 5,
    "start_time": "2023-04-28T14:34:44.831Z"
   },
   {
    "duration": 13,
    "start_time": "2023-04-28T14:34:44.838Z"
   },
   {
    "duration": 167,
    "start_time": "2023-04-28T14:34:44.853Z"
   },
   {
    "duration": 0,
    "start_time": "2023-04-28T14:34:45.022Z"
   },
   {
    "duration": 0,
    "start_time": "2023-04-28T14:34:45.024Z"
   },
   {
    "duration": 0,
    "start_time": "2023-04-28T14:34:45.025Z"
   },
   {
    "duration": 0,
    "start_time": "2023-04-28T14:34:45.026Z"
   },
   {
    "duration": 1,
    "start_time": "2023-04-28T14:34:45.027Z"
   },
   {
    "duration": 0,
    "start_time": "2023-04-28T14:34:45.028Z"
   },
   {
    "duration": 0,
    "start_time": "2023-04-28T14:34:45.029Z"
   },
   {
    "duration": 0,
    "start_time": "2023-04-28T14:34:45.031Z"
   },
   {
    "duration": 0,
    "start_time": "2023-04-28T14:34:45.032Z"
   },
   {
    "duration": 7,
    "start_time": "2023-04-28T14:35:11.348Z"
   },
   {
    "duration": 8,
    "start_time": "2023-04-28T14:35:21.164Z"
   },
   {
    "duration": 11,
    "start_time": "2023-04-28T14:35:40.503Z"
   },
   {
    "duration": 11,
    "start_time": "2023-04-28T14:35:53.300Z"
   },
   {
    "duration": 3,
    "start_time": "2023-04-28T14:36:05.606Z"
   },
   {
    "duration": 1175,
    "start_time": "2023-04-28T14:36:43.116Z"
   },
   {
    "duration": 53,
    "start_time": "2023-04-28T14:36:45.126Z"
   },
   {
    "duration": 24,
    "start_time": "2023-04-28T14:36:46.522Z"
   },
   {
    "duration": 14,
    "start_time": "2023-04-28T14:36:47.484Z"
   },
   {
    "duration": 3,
    "start_time": "2023-04-28T14:36:53.304Z"
   },
   {
    "duration": 5,
    "start_time": "2023-04-28T14:36:54.415Z"
   },
   {
    "duration": 9,
    "start_time": "2023-04-28T14:37:01.076Z"
   },
   {
    "duration": 16,
    "start_time": "2023-04-28T14:37:05.843Z"
   },
   {
    "duration": 6,
    "start_time": "2023-04-28T14:37:11.011Z"
   },
   {
    "duration": 8,
    "start_time": "2023-04-28T14:37:14.997Z"
   },
   {
    "duration": 13,
    "start_time": "2023-04-28T14:37:19.652Z"
   },
   {
    "duration": 24,
    "start_time": "2023-04-28T14:38:41.987Z"
   },
   {
    "duration": 18,
    "start_time": "2023-04-28T14:39:03.682Z"
   },
   {
    "duration": 11,
    "start_time": "2023-04-28T14:39:15.322Z"
   },
   {
    "duration": 9,
    "start_time": "2023-04-28T14:39:35.696Z"
   },
   {
    "duration": 5,
    "start_time": "2023-04-28T14:41:50.052Z"
   },
   {
    "duration": 10,
    "start_time": "2023-04-28T14:42:02.184Z"
   },
   {
    "duration": 17,
    "start_time": "2023-04-28T14:43:00.533Z"
   },
   {
    "duration": 4,
    "start_time": "2023-04-28T14:43:09.175Z"
   },
   {
    "duration": 10,
    "start_time": "2023-04-28T14:43:11.469Z"
   },
   {
    "duration": 17,
    "start_time": "2023-04-28T14:43:12.409Z"
   },
   {
    "duration": 7,
    "start_time": "2023-04-28T14:49:57.387Z"
   },
   {
    "duration": 22,
    "start_time": "2023-04-28T14:50:19.549Z"
   },
   {
    "duration": 165,
    "start_time": "2023-04-28T15:44:12.210Z"
   },
   {
    "duration": 5,
    "start_time": "2023-04-28T15:47:05.116Z"
   },
   {
    "duration": 584,
    "start_time": "2023-04-28T15:47:12.614Z"
   },
   {
    "duration": 592,
    "start_time": "2023-04-28T15:47:48.805Z"
   },
   {
    "duration": 21,
    "start_time": "2023-04-28T15:48:15.964Z"
   },
   {
    "duration": 27,
    "start_time": "2023-04-28T15:49:02.371Z"
   },
   {
    "duration": 21,
    "start_time": "2023-04-28T15:49:06.877Z"
   },
   {
    "duration": 480,
    "start_time": "2023-04-28T15:49:41.961Z"
   },
   {
    "duration": 463,
    "start_time": "2023-04-28T15:49:51.322Z"
   },
   {
    "duration": 429,
    "start_time": "2023-04-28T15:50:49.384Z"
   },
   {
    "duration": 739,
    "start_time": "2023-04-28T15:51:04.740Z"
   },
   {
    "duration": 605,
    "start_time": "2023-04-28T15:51:10.479Z"
   },
   {
    "duration": 363,
    "start_time": "2023-04-28T15:53:05.372Z"
   },
   {
    "duration": 21,
    "start_time": "2023-04-28T15:54:53.669Z"
   },
   {
    "duration": 492,
    "start_time": "2023-04-28T15:56:01.880Z"
   },
   {
    "duration": 777,
    "start_time": "2023-04-28T15:57:53.116Z"
   },
   {
    "duration": 29,
    "start_time": "2023-04-28T15:58:10.875Z"
   },
   {
    "duration": 411,
    "start_time": "2023-04-28T15:58:21.816Z"
   },
   {
    "duration": 369,
    "start_time": "2023-04-28T15:59:28.882Z"
   },
   {
    "duration": 364,
    "start_time": "2023-04-28T15:59:52.110Z"
   },
   {
    "duration": 497,
    "start_time": "2023-04-28T16:00:01.854Z"
   },
   {
    "duration": 313,
    "start_time": "2023-04-28T16:00:27.722Z"
   },
   {
    "duration": 322,
    "start_time": "2023-04-28T16:00:46.190Z"
   },
   {
    "duration": 299,
    "start_time": "2023-04-28T16:00:56.614Z"
   },
   {
    "duration": 418,
    "start_time": "2023-04-28T16:01:07.127Z"
   },
   {
    "duration": 356,
    "start_time": "2023-04-28T16:01:16.814Z"
   },
   {
    "duration": 549,
    "start_time": "2023-04-28T16:01:24.046Z"
   },
   {
    "duration": 331,
    "start_time": "2023-04-28T16:01:33.503Z"
   },
   {
    "duration": 34,
    "start_time": "2023-04-28T16:02:35.706Z"
   },
   {
    "duration": 20,
    "start_time": "2023-04-28T16:02:59.464Z"
   },
   {
    "duration": 389,
    "start_time": "2023-04-28T16:03:05.805Z"
   },
   {
    "duration": 62,
    "start_time": "2023-04-28T16:03:19.486Z"
   },
   {
    "duration": 25,
    "start_time": "2023-04-28T16:03:34.848Z"
   },
   {
    "duration": 22,
    "start_time": "2023-04-28T16:04:21.903Z"
   },
   {
    "duration": 20,
    "start_time": "2023-04-28T16:04:47.242Z"
   },
   {
    "duration": 454,
    "start_time": "2023-04-28T16:04:54.666Z"
   },
   {
    "duration": 25,
    "start_time": "2023-04-28T16:05:24.800Z"
   },
   {
    "duration": 445,
    "start_time": "2023-04-28T16:06:26.871Z"
   },
   {
    "duration": 586,
    "start_time": "2023-04-28T16:08:57.350Z"
   },
   {
    "duration": 28,
    "start_time": "2023-04-28T17:04:16.418Z"
   },
   {
    "duration": 16,
    "start_time": "2023-04-28T17:05:14.726Z"
   },
   {
    "duration": 22,
    "start_time": "2023-04-28T17:07:36.030Z"
   },
   {
    "duration": 18,
    "start_time": "2023-04-28T17:09:00.067Z"
   },
   {
    "duration": 17,
    "start_time": "2023-04-28T17:09:33.761Z"
   },
   {
    "duration": 31,
    "start_time": "2023-04-28T17:09:59.186Z"
   },
   {
    "duration": 23,
    "start_time": "2023-04-28T17:10:12.352Z"
   },
   {
    "duration": 29,
    "start_time": "2023-04-28T17:15:45.751Z"
   },
   {
    "duration": 104,
    "start_time": "2023-04-28T17:15:58.017Z"
   },
   {
    "duration": 197,
    "start_time": "2023-04-28T17:16:34.324Z"
   },
   {
    "duration": 24,
    "start_time": "2023-04-28T17:17:12.665Z"
   },
   {
    "duration": 24,
    "start_time": "2023-04-28T17:17:51.233Z"
   },
   {
    "duration": 101,
    "start_time": "2023-04-28T17:18:22.613Z"
   },
   {
    "duration": 337,
    "start_time": "2023-04-28T17:32:12.903Z"
   },
   {
    "duration": 49,
    "start_time": "2023-04-28T17:32:54.625Z"
   },
   {
    "duration": 10,
    "start_time": "2023-04-28T17:33:54.715Z"
   },
   {
    "duration": 169,
    "start_time": "2023-04-28T17:34:44.588Z"
   },
   {
    "duration": 11,
    "start_time": "2023-04-28T17:34:56.532Z"
   },
   {
    "duration": 292,
    "start_time": "2023-04-28T17:35:05.235Z"
   },
   {
    "duration": 306,
    "start_time": "2023-04-28T17:36:07.622Z"
   },
   {
    "duration": 287,
    "start_time": "2023-04-28T17:36:27.750Z"
   },
   {
    "duration": 14,
    "start_time": "2023-04-28T17:36:54.716Z"
   },
   {
    "duration": 14,
    "start_time": "2023-04-28T17:37:03.767Z"
   },
   {
    "duration": 17,
    "start_time": "2023-04-28T17:38:39.864Z"
   },
   {
    "duration": 29,
    "start_time": "2023-04-28T17:41:53.500Z"
   },
   {
    "duration": 399,
    "start_time": "2023-04-28T17:42:19.767Z"
   },
   {
    "duration": 30,
    "start_time": "2023-04-28T17:42:53.105Z"
   },
   {
    "duration": 1123,
    "start_time": "2023-04-28T17:43:37.109Z"
   },
   {
    "duration": 1239,
    "start_time": "2023-04-28T17:43:46.042Z"
   },
   {
    "duration": 1337,
    "start_time": "2023-04-28T17:43:58.778Z"
   },
   {
    "duration": 1425,
    "start_time": "2023-04-28T17:44:06.676Z"
   },
   {
    "duration": 64,
    "start_time": "2023-04-28T17:44:43.031Z"
   },
   {
    "duration": 1520,
    "start_time": "2023-04-28T17:44:51.058Z"
   },
   {
    "duration": 2177,
    "start_time": "2023-04-28T17:46:34.252Z"
   },
   {
    "duration": 1453,
    "start_time": "2023-04-28T17:46:54.178Z"
   },
   {
    "duration": 1310,
    "start_time": "2023-04-28T17:47:38.746Z"
   },
   {
    "duration": 66,
    "start_time": "2023-04-28T17:48:23.380Z"
   },
   {
    "duration": 1174,
    "start_time": "2023-04-28T17:48:34.761Z"
   },
   {
    "duration": 85,
    "start_time": "2023-04-28T17:49:24.441Z"
   },
   {
    "duration": 1225,
    "start_time": "2023-04-28T17:49:34.460Z"
   },
   {
    "duration": 1201,
    "start_time": "2023-04-28T17:50:15.356Z"
   },
   {
    "duration": 1171,
    "start_time": "2023-04-28T17:50:33.495Z"
   },
   {
    "duration": 1382,
    "start_time": "2023-04-28T17:51:04.144Z"
   },
   {
    "duration": 1103,
    "start_time": "2023-04-28T17:54:59.041Z"
   },
   {
    "duration": 12,
    "start_time": "2023-04-28T17:57:43.630Z"
   },
   {
    "duration": 52,
    "start_time": "2023-04-28T17:59:10.417Z"
   },
   {
    "duration": 53,
    "start_time": "2023-04-28T17:59:24.685Z"
   },
   {
    "duration": 341,
    "start_time": "2023-04-28T17:59:49.329Z"
   },
   {
    "duration": 387,
    "start_time": "2023-04-28T18:00:08.706Z"
   },
   {
    "duration": 455,
    "start_time": "2023-04-28T18:01:04.883Z"
   },
   {
    "duration": 360,
    "start_time": "2023-04-28T18:01:14.119Z"
   },
   {
    "duration": 62,
    "start_time": "2023-04-28T21:39:07.121Z"
   },
   {
    "duration": 1584,
    "start_time": "2023-04-28T21:39:24.824Z"
   },
   {
    "duration": 266,
    "start_time": "2023-04-28T21:39:26.410Z"
   },
   {
    "duration": 51,
    "start_time": "2023-04-28T21:39:26.679Z"
   },
   {
    "duration": 14,
    "start_time": "2023-04-28T21:39:26.737Z"
   },
   {
    "duration": 4,
    "start_time": "2023-04-28T21:39:26.753Z"
   },
   {
    "duration": 6,
    "start_time": "2023-04-28T21:39:26.758Z"
   },
   {
    "duration": 10,
    "start_time": "2023-04-28T21:39:26.766Z"
   },
   {
    "duration": 29,
    "start_time": "2023-04-28T21:39:26.778Z"
   },
   {
    "duration": 7,
    "start_time": "2023-04-28T21:39:26.809Z"
   },
   {
    "duration": 14,
    "start_time": "2023-04-28T21:39:26.818Z"
   },
   {
    "duration": 7,
    "start_time": "2023-04-28T21:39:26.836Z"
   },
   {
    "duration": 15,
    "start_time": "2023-04-28T21:39:26.844Z"
   },
   {
    "duration": 16,
    "start_time": "2023-04-28T21:39:26.861Z"
   },
   {
    "duration": 4,
    "start_time": "2023-04-28T21:39:26.900Z"
   },
   {
    "duration": 19,
    "start_time": "2023-04-28T21:39:26.906Z"
   },
   {
    "duration": 22,
    "start_time": "2023-04-28T21:39:26.927Z"
   },
   {
    "duration": 5,
    "start_time": "2023-04-28T21:39:26.951Z"
   },
   {
    "duration": 20,
    "start_time": "2023-04-28T21:39:26.958Z"
   },
   {
    "duration": 426,
    "start_time": "2023-04-28T21:39:26.980Z"
   },
   {
    "duration": 339,
    "start_time": "2023-04-28T21:39:27.408Z"
   },
   {
    "duration": 77,
    "start_time": "2023-04-28T21:39:27.749Z"
   },
   {
    "duration": 0,
    "start_time": "2023-04-28T21:39:27.829Z"
   },
   {
    "duration": 0,
    "start_time": "2023-04-28T21:39:27.830Z"
   },
   {
    "duration": 13,
    "start_time": "2023-04-28T21:41:39.143Z"
   },
   {
    "duration": 10,
    "start_time": "2023-04-28T21:42:14.576Z"
   },
   {
    "duration": 10,
    "start_time": "2023-04-28T21:42:37.415Z"
   },
   {
    "duration": 13,
    "start_time": "2023-04-28T21:43:21.965Z"
   },
   {
    "duration": 1291,
    "start_time": "2023-04-28T21:44:33.145Z"
   },
   {
    "duration": 54,
    "start_time": "2023-04-28T21:44:34.439Z"
   },
   {
    "duration": 36,
    "start_time": "2023-04-28T21:44:34.495Z"
   },
   {
    "duration": 14,
    "start_time": "2023-04-28T21:44:34.534Z"
   },
   {
    "duration": 3,
    "start_time": "2023-04-28T21:44:34.550Z"
   },
   {
    "duration": 15,
    "start_time": "2023-04-28T21:44:34.555Z"
   },
   {
    "duration": 30,
    "start_time": "2023-04-28T21:44:34.572Z"
   },
   {
    "duration": 22,
    "start_time": "2023-04-28T21:44:34.605Z"
   },
   {
    "duration": 7,
    "start_time": "2023-04-28T21:44:34.629Z"
   },
   {
    "duration": 22,
    "start_time": "2023-04-28T21:44:34.640Z"
   },
   {
    "duration": 10,
    "start_time": "2023-04-28T21:44:34.664Z"
   },
   {
    "duration": 22,
    "start_time": "2023-04-28T21:44:34.676Z"
   },
   {
    "duration": 32,
    "start_time": "2023-04-28T21:44:34.699Z"
   },
   {
    "duration": 5,
    "start_time": "2023-04-28T21:44:34.733Z"
   },
   {
    "duration": 10,
    "start_time": "2023-04-28T21:44:34.740Z"
   },
   {
    "duration": 27,
    "start_time": "2023-04-28T21:44:34.752Z"
   },
   {
    "duration": 5,
    "start_time": "2023-04-28T21:44:34.782Z"
   },
   {
    "duration": 31,
    "start_time": "2023-04-28T21:44:34.789Z"
   },
   {
    "duration": 355,
    "start_time": "2023-04-28T21:44:34.828Z"
   },
   {
    "duration": 345,
    "start_time": "2023-04-28T21:44:35.185Z"
   },
   {
    "duration": 121,
    "start_time": "2023-04-28T21:44:35.532Z"
   },
   {
    "duration": 0,
    "start_time": "2023-04-28T21:44:35.655Z"
   },
   {
    "duration": 0,
    "start_time": "2023-04-28T21:44:35.656Z"
   },
   {
    "duration": 10,
    "start_time": "2023-04-28T21:45:36.625Z"
   },
   {
    "duration": 14,
    "start_time": "2023-04-28T21:45:49.692Z"
   },
   {
    "duration": 4,
    "start_time": "2023-04-28T21:47:19.277Z"
   },
   {
    "duration": 315,
    "start_time": "2023-04-28T21:47:38.217Z"
   },
   {
    "duration": 10,
    "start_time": "2023-04-28T21:47:50.733Z"
   },
   {
    "duration": 5,
    "start_time": "2023-04-28T21:48:01.774Z"
   },
   {
    "duration": 8,
    "start_time": "2023-04-28T21:49:23.604Z"
   },
   {
    "duration": 44,
    "start_time": "2023-04-28T21:49:43.186Z"
   },
   {
    "duration": 359,
    "start_time": "2023-04-28T21:49:51.666Z"
   },
   {
    "duration": 349,
    "start_time": "2023-04-28T21:51:32.828Z"
   },
   {
    "duration": 5,
    "start_time": "2023-04-28T21:51:37.715Z"
   },
   {
    "duration": 50,
    "start_time": "2023-04-28T21:58:19.284Z"
   },
   {
    "duration": 307,
    "start_time": "2023-04-28T21:58:31.703Z"
   },
   {
    "duration": 8,
    "start_time": "2023-04-28T21:58:35.433Z"
   },
   {
    "duration": 12,
    "start_time": "2023-04-28T21:58:41.232Z"
   },
   {
    "duration": 22,
    "start_time": "2023-04-28T21:58:54.303Z"
   },
   {
    "duration": 694,
    "start_time": "2023-04-28T22:01:13.080Z"
   },
   {
    "duration": 5,
    "start_time": "2023-04-28T22:02:18.777Z"
   },
   {
    "duration": 29,
    "start_time": "2023-04-28T22:02:44.645Z"
   },
   {
    "duration": 9,
    "start_time": "2023-04-28T22:07:40.796Z"
   },
   {
    "duration": 11,
    "start_time": "2023-04-28T22:07:58.257Z"
   },
   {
    "duration": 13,
    "start_time": "2023-04-28T22:08:21.618Z"
   },
   {
    "duration": 9,
    "start_time": "2023-04-28T22:08:29.307Z"
   },
   {
    "duration": 11,
    "start_time": "2023-04-28T22:09:08.348Z"
   },
   {
    "duration": 42,
    "start_time": "2023-04-28T22:09:42.673Z"
   },
   {
    "duration": 28,
    "start_time": "2023-04-28T22:13:06.284Z"
   },
   {
    "duration": 1135,
    "start_time": "2023-04-28T22:14:26.979Z"
   },
   {
    "duration": 53,
    "start_time": "2023-04-28T22:14:28.979Z"
   },
   {
    "duration": 23,
    "start_time": "2023-04-28T22:14:31.024Z"
   },
   {
    "duration": 14,
    "start_time": "2023-04-28T22:14:34.783Z"
   },
   {
    "duration": 4,
    "start_time": "2023-04-28T22:14:41.524Z"
   },
   {
    "duration": 3,
    "start_time": "2023-04-28T22:14:42.452Z"
   },
   {
    "duration": 9,
    "start_time": "2023-04-28T22:14:45.535Z"
   },
   {
    "duration": 16,
    "start_time": "2023-04-28T22:14:47.774Z"
   },
   {
    "duration": 6,
    "start_time": "2023-04-28T22:14:58.742Z"
   },
   {
    "duration": 8,
    "start_time": "2023-04-28T22:15:04.026Z"
   },
   {
    "duration": 5,
    "start_time": "2023-04-28T22:15:05.806Z"
   },
   {
    "duration": 9,
    "start_time": "2023-04-28T22:15:08.312Z"
   },
   {
    "duration": 12,
    "start_time": "2023-04-28T22:15:16.132Z"
   },
   {
    "duration": 4,
    "start_time": "2023-04-28T22:15:21.505Z"
   },
   {
    "duration": 8,
    "start_time": "2023-04-28T22:15:22.520Z"
   },
   {
    "duration": 13,
    "start_time": "2023-04-28T22:15:24.687Z"
   },
   {
    "duration": 6,
    "start_time": "2023-04-28T22:16:01.065Z"
   },
   {
    "duration": 20,
    "start_time": "2023-04-28T22:16:02.534Z"
   },
   {
    "duration": 335,
    "start_time": "2023-04-28T22:16:38.214Z"
   },
   {
    "duration": 310,
    "start_time": "2023-04-28T22:16:45.770Z"
   },
   {
    "duration": 8,
    "start_time": "2023-04-28T22:16:52.363Z"
   },
   {
    "duration": 25,
    "start_time": "2023-04-28T22:18:41.578Z"
   },
   {
    "duration": 111,
    "start_time": "2023-04-28T22:19:03.731Z"
   },
   {
    "duration": 16,
    "start_time": "2023-04-28T22:19:29.452Z"
   },
   {
    "duration": 20,
    "start_time": "2023-04-28T22:20:54.126Z"
   },
   {
    "duration": 30,
    "start_time": "2023-04-28T22:21:05.402Z"
   },
   {
    "duration": 162,
    "start_time": "2023-04-28T22:21:58.238Z"
   },
   {
    "duration": 178,
    "start_time": "2023-04-28T22:23:07.088Z"
   },
   {
    "duration": 4,
    "start_time": "2023-04-28T22:25:58.713Z"
   },
   {
    "duration": 11,
    "start_time": "2023-04-28T22:27:57.309Z"
   },
   {
    "duration": 275,
    "start_time": "2023-04-28T22:28:15.693Z"
   },
   {
    "duration": 8,
    "start_time": "2023-04-28T22:28:32.247Z"
   },
   {
    "duration": 12,
    "start_time": "2023-04-28T22:29:12.907Z"
   },
   {
    "duration": 9,
    "start_time": "2023-04-28T22:29:54.410Z"
   },
   {
    "duration": 1158,
    "start_time": "2023-04-28T22:30:40.813Z"
   },
   {
    "duration": 55,
    "start_time": "2023-04-28T22:30:41.973Z"
   },
   {
    "duration": 23,
    "start_time": "2023-04-28T22:30:42.502Z"
   },
   {
    "duration": 15,
    "start_time": "2023-04-28T22:30:43.204Z"
   },
   {
    "duration": 4,
    "start_time": "2023-04-28T22:30:46.516Z"
   },
   {
    "duration": 5,
    "start_time": "2023-04-28T22:30:47.182Z"
   },
   {
    "duration": 12,
    "start_time": "2023-04-28T22:30:49.475Z"
   },
   {
    "duration": 20,
    "start_time": "2023-04-28T22:30:51.186Z"
   },
   {
    "duration": 5,
    "start_time": "2023-04-28T22:30:52.552Z"
   },
   {
    "duration": 8,
    "start_time": "2023-04-28T22:30:53.287Z"
   },
   {
    "duration": 5,
    "start_time": "2023-04-28T22:30:55.105Z"
   },
   {
    "duration": 11,
    "start_time": "2023-04-28T22:30:56.837Z"
   },
   {
    "duration": 14,
    "start_time": "2023-04-28T22:30:59.121Z"
   },
   {
    "duration": 5,
    "start_time": "2023-04-28T22:30:59.994Z"
   },
   {
    "duration": 10,
    "start_time": "2023-04-28T22:31:01.073Z"
   },
   {
    "duration": 16,
    "start_time": "2023-04-28T22:31:01.956Z"
   },
   {
    "duration": 5,
    "start_time": "2023-04-28T22:31:04.941Z"
   },
   {
    "duration": 15,
    "start_time": "2023-04-28T22:31:05.801Z"
   },
   {
    "duration": 312,
    "start_time": "2023-04-28T22:31:18.822Z"
   },
   {
    "duration": 11,
    "start_time": "2023-04-28T22:31:27.632Z"
   },
   {
    "duration": 279,
    "start_time": "2023-04-28T22:31:29.987Z"
   },
   {
    "duration": 8,
    "start_time": "2023-04-28T22:32:30.135Z"
   },
   {
    "duration": 8,
    "start_time": "2023-04-28T22:32:44.504Z"
   },
   {
    "duration": 6,
    "start_time": "2023-04-28T22:32:51.834Z"
   },
   {
    "duration": 1024,
    "start_time": "2023-04-28T22:33:42.771Z"
   },
   {
    "duration": 1102,
    "start_time": "2023-04-28T22:35:35.802Z"
   },
   {
    "duration": 52,
    "start_time": "2023-04-28T22:35:36.906Z"
   },
   {
    "duration": 22,
    "start_time": "2023-04-28T22:35:36.960Z"
   },
   {
    "duration": 22,
    "start_time": "2023-04-28T22:35:36.984Z"
   },
   {
    "duration": 14,
    "start_time": "2023-04-28T22:35:37.008Z"
   },
   {
    "duration": 18,
    "start_time": "2023-04-28T22:35:37.023Z"
   },
   {
    "duration": 27,
    "start_time": "2023-04-28T22:35:37.043Z"
   },
   {
    "duration": 33,
    "start_time": "2023-04-28T22:35:37.072Z"
   },
   {
    "duration": 5,
    "start_time": "2023-04-28T22:35:37.107Z"
   },
   {
    "duration": 39,
    "start_time": "2023-04-28T22:35:37.114Z"
   },
   {
    "duration": 5,
    "start_time": "2023-04-28T22:35:37.155Z"
   },
   {
    "duration": 33,
    "start_time": "2023-04-28T22:35:37.162Z"
   },
   {
    "duration": 20,
    "start_time": "2023-04-28T22:35:37.197Z"
   },
   {
    "duration": 4,
    "start_time": "2023-04-28T22:35:37.220Z"
   },
   {
    "duration": 21,
    "start_time": "2023-04-28T22:35:37.226Z"
   },
   {
    "duration": 13,
    "start_time": "2023-04-28T22:35:37.249Z"
   },
   {
    "duration": 5,
    "start_time": "2023-04-28T22:35:37.264Z"
   },
   {
    "duration": 24,
    "start_time": "2023-04-28T22:35:37.270Z"
   },
   {
    "duration": 328,
    "start_time": "2023-04-28T22:35:37.296Z"
   },
   {
    "duration": 12,
    "start_time": "2023-04-28T22:35:37.626Z"
   },
   {
    "duration": 271,
    "start_time": "2023-04-28T22:35:37.639Z"
   },
   {
    "duration": 1020,
    "start_time": "2023-04-28T22:35:37.912Z"
   },
   {
    "duration": 3,
    "start_time": "2023-04-28T22:35:38.933Z"
   },
   {
    "duration": 25,
    "start_time": "2023-04-28T22:35:38.937Z"
   },
   {
    "duration": 5,
    "start_time": "2023-04-28T22:36:26.715Z"
   },
   {
    "duration": 11,
    "start_time": "2023-04-28T22:38:57.629Z"
   },
   {
    "duration": 98,
    "start_time": "2023-04-28T22:39:55.304Z"
   },
   {
    "duration": 7,
    "start_time": "2023-04-28T22:40:08.351Z"
   },
   {
    "duration": 8,
    "start_time": "2023-04-28T22:40:40.402Z"
   },
   {
    "duration": 159,
    "start_time": "2023-04-28T22:41:24.262Z"
   },
   {
    "duration": 10,
    "start_time": "2023-04-28T22:42:08.238Z"
   },
   {
    "duration": 161,
    "start_time": "2023-04-28T22:42:19.407Z"
   },
   {
    "duration": 10,
    "start_time": "2023-04-28T22:42:40.072Z"
   },
   {
    "duration": 10,
    "start_time": "2023-04-28T22:42:41.162Z"
   },
   {
    "duration": 171,
    "start_time": "2023-04-28T22:42:43.302Z"
   },
   {
    "duration": 154,
    "start_time": "2023-04-28T22:44:28.366Z"
   },
   {
    "duration": 156,
    "start_time": "2023-04-28T22:44:48.503Z"
   },
   {
    "duration": 13,
    "start_time": "2023-04-28T22:50:55.076Z"
   },
   {
    "duration": 16,
    "start_time": "2023-04-28T22:51:33.303Z"
   },
   {
    "duration": 4,
    "start_time": "2023-04-28T22:52:46.073Z"
   },
   {
    "duration": 104,
    "start_time": "2023-04-28T22:55:14.689Z"
   },
   {
    "duration": 180,
    "start_time": "2023-04-28T23:01:45.013Z"
   },
   {
    "duration": 187,
    "start_time": "2023-04-28T23:02:00.591Z"
   },
   {
    "duration": 179,
    "start_time": "2023-04-28T23:03:02.993Z"
   },
   {
    "duration": 696,
    "start_time": "2023-04-28T23:11:25.370Z"
   },
   {
    "duration": 6,
    "start_time": "2023-04-28T23:11:59.856Z"
   },
   {
    "duration": 720,
    "start_time": "2023-04-28T23:12:24.269Z"
   },
   {
    "duration": 890,
    "start_time": "2023-04-28T23:14:08.540Z"
   },
   {
    "duration": 24,
    "start_time": "2023-04-28T23:16:51.809Z"
   },
   {
    "duration": 198,
    "start_time": "2023-04-28T23:19:26.173Z"
   },
   {
    "duration": 107,
    "start_time": "2023-04-28T23:20:02.962Z"
   },
   {
    "duration": 106,
    "start_time": "2023-04-28T23:20:18.473Z"
   },
   {
    "duration": 1385,
    "start_time": "2023-04-29T08:25:02.790Z"
   },
   {
    "duration": 96,
    "start_time": "2023-04-29T08:25:04.178Z"
   },
   {
    "duration": 24,
    "start_time": "2023-04-29T08:25:04.276Z"
   },
   {
    "duration": 16,
    "start_time": "2023-04-29T08:25:04.301Z"
   },
   {
    "duration": 3,
    "start_time": "2023-04-29T08:25:04.319Z"
   },
   {
    "duration": 16,
    "start_time": "2023-04-29T08:25:04.323Z"
   },
   {
    "duration": 20,
    "start_time": "2023-04-29T08:25:04.341Z"
   },
   {
    "duration": 15,
    "start_time": "2023-04-29T08:25:04.362Z"
   },
   {
    "duration": 10,
    "start_time": "2023-04-29T08:25:04.379Z"
   },
   {
    "duration": 15,
    "start_time": "2023-04-29T08:25:04.390Z"
   },
   {
    "duration": 4,
    "start_time": "2023-04-29T08:25:04.407Z"
   },
   {
    "duration": 15,
    "start_time": "2023-04-29T08:25:04.412Z"
   },
   {
    "duration": 16,
    "start_time": "2023-04-29T08:25:04.428Z"
   },
   {
    "duration": 8,
    "start_time": "2023-04-29T08:25:04.447Z"
   },
   {
    "duration": 11,
    "start_time": "2023-04-29T08:25:04.458Z"
   },
   {
    "duration": 18,
    "start_time": "2023-04-29T08:25:04.471Z"
   },
   {
    "duration": 21,
    "start_time": "2023-04-29T08:25:04.491Z"
   },
   {
    "duration": 22,
    "start_time": "2023-04-29T08:25:04.513Z"
   },
   {
    "duration": 300,
    "start_time": "2023-04-29T08:25:04.537Z"
   },
   {
    "duration": 11,
    "start_time": "2023-04-29T08:25:04.838Z"
   },
   {
    "duration": 270,
    "start_time": "2023-04-29T08:25:04.851Z"
   },
   {
    "duration": 957,
    "start_time": "2023-04-29T08:25:05.123Z"
   },
   {
    "duration": 6,
    "start_time": "2023-04-29T08:25:06.082Z"
   },
   {
    "duration": 15,
    "start_time": "2023-04-29T08:25:06.089Z"
   },
   {
    "duration": 173,
    "start_time": "2023-04-29T08:25:06.106Z"
   },
   {
    "duration": 13,
    "start_time": "2023-04-29T08:25:06.281Z"
   },
   {
    "duration": 8,
    "start_time": "2023-04-29T08:25:06.295Z"
   },
   {
    "duration": 11,
    "start_time": "2023-04-29T08:25:06.306Z"
   },
   {
    "duration": 28,
    "start_time": "2023-04-29T08:25:06.319Z"
   },
   {
    "duration": 14,
    "start_time": "2023-04-29T08:25:06.349Z"
   },
   {
    "duration": 1282,
    "start_time": "2023-04-29T08:35:01.563Z"
   },
   {
    "duration": 53,
    "start_time": "2023-04-29T08:35:02.847Z"
   },
   {
    "duration": 26,
    "start_time": "2023-04-29T08:35:03.141Z"
   },
   {
    "duration": 13,
    "start_time": "2023-04-29T08:35:03.935Z"
   },
   {
    "duration": 3,
    "start_time": "2023-04-29T08:35:09.597Z"
   },
   {
    "duration": 4,
    "start_time": "2023-04-29T08:35:10.339Z"
   },
   {
    "duration": 9,
    "start_time": "2023-04-29T08:35:12.738Z"
   },
   {
    "duration": 14,
    "start_time": "2023-04-29T08:35:14.889Z"
   },
   {
    "duration": 6,
    "start_time": "2023-04-29T08:35:17.370Z"
   },
   {
    "duration": 7,
    "start_time": "2023-04-29T08:35:18.332Z"
   },
   {
    "duration": 5,
    "start_time": "2023-04-29T08:35:20.430Z"
   },
   {
    "duration": 10,
    "start_time": "2023-04-29T08:35:22.099Z"
   },
   {
    "duration": 14,
    "start_time": "2023-04-29T08:35:25.391Z"
   },
   {
    "duration": 4,
    "start_time": "2023-04-29T08:35:26.229Z"
   },
   {
    "duration": 7,
    "start_time": "2023-04-29T08:35:27.311Z"
   },
   {
    "duration": 14,
    "start_time": "2023-04-29T08:35:28.213Z"
   },
   {
    "duration": 4,
    "start_time": "2023-04-29T08:35:31.939Z"
   },
   {
    "duration": 13,
    "start_time": "2023-04-29T08:35:33.526Z"
   },
   {
    "duration": 366,
    "start_time": "2023-04-29T08:36:03.620Z"
   },
   {
    "duration": 103,
    "start_time": "2023-04-29T08:42:12.364Z"
   },
   {
    "duration": 17,
    "start_time": "2023-04-29T08:44:50.181Z"
   },
   {
    "duration": 378,
    "start_time": "2023-04-29T08:45:21.999Z"
   },
   {
    "duration": 342,
    "start_time": "2023-04-29T08:45:41.266Z"
   },
   {
    "duration": 332,
    "start_time": "2023-04-29T10:09:42.158Z"
   },
   {
    "duration": 475,
    "start_time": "2023-04-29T10:13:49.798Z"
   },
   {
    "duration": 331,
    "start_time": "2023-04-29T10:14:34.213Z"
   },
   {
    "duration": 1070,
    "start_time": "2023-04-29T10:26:04.982Z"
   },
   {
    "duration": 6,
    "start_time": "2023-04-29T10:39:17.347Z"
   },
   {
    "duration": 22,
    "start_time": "2023-04-29T10:39:18.860Z"
   },
   {
    "duration": 10,
    "start_time": "2023-04-29T10:41:49.660Z"
   },
   {
    "duration": 10,
    "start_time": "2023-04-29T10:41:54.636Z"
   },
   {
    "duration": 156,
    "start_time": "2023-04-29T10:41:55.678Z"
   },
   {
    "duration": 21,
    "start_time": "2023-04-29T10:43:31.598Z"
   },
   {
    "duration": 13,
    "start_time": "2023-04-29T10:46:45.520Z"
   },
   {
    "duration": 9,
    "start_time": "2023-04-29T10:46:55.947Z"
   },
   {
    "duration": 11,
    "start_time": "2023-04-29T10:47:00.379Z"
   },
   {
    "duration": 257,
    "start_time": "2023-04-29T10:47:01.330Z"
   },
   {
    "duration": 12,
    "start_time": "2023-04-29T10:47:08.919Z"
   },
   {
    "duration": 677,
    "start_time": "2023-04-29T10:47:09.994Z"
   },
   {
    "duration": 593,
    "start_time": "2023-04-29T10:49:25.243Z"
   },
   {
    "duration": 7,
    "start_time": "2023-04-29T10:49:51.718Z"
   },
   {
    "duration": 719,
    "start_time": "2023-04-29T10:49:58.857Z"
   },
   {
    "duration": 6,
    "start_time": "2023-04-29T10:50:15.087Z"
   },
   {
    "duration": 11,
    "start_time": "2023-04-29T10:53:27.083Z"
   },
   {
    "duration": 179,
    "start_time": "2023-04-29T10:53:28.161Z"
   },
   {
    "duration": 18,
    "start_time": "2023-04-29T10:53:36.638Z"
   },
   {
    "duration": 635,
    "start_time": "2023-04-29T10:53:39.663Z"
   },
   {
    "duration": 1287,
    "start_time": "2023-04-29T10:53:53.589Z"
   },
   {
    "duration": 697,
    "start_time": "2023-04-29T10:54:35.022Z"
   },
   {
    "duration": 728,
    "start_time": "2023-04-29T11:01:38.207Z"
   },
   {
    "duration": 1692,
    "start_time": "2023-04-29T11:12:26.572Z"
   },
   {
    "duration": 1563,
    "start_time": "2023-04-29T11:23:04.475Z"
   },
   {
    "duration": 1622,
    "start_time": "2023-04-29T11:23:32.187Z"
   },
   {
    "duration": 5,
    "start_time": "2023-04-29T12:35:56.375Z"
   },
   {
    "duration": 24,
    "start_time": "2023-04-29T12:36:07.627Z"
   },
   {
    "duration": 160,
    "start_time": "2023-04-29T12:37:02.343Z"
   },
   {
    "duration": 143,
    "start_time": "2023-04-29T12:37:16.760Z"
   },
   {
    "duration": 116,
    "start_time": "2023-04-29T12:38:14.424Z"
   },
   {
    "duration": 20,
    "start_time": "2023-04-29T12:39:40.594Z"
   },
   {
    "duration": 136,
    "start_time": "2023-04-29T12:43:37.724Z"
   },
   {
    "duration": 197,
    "start_time": "2023-04-29T12:46:08.838Z"
   },
   {
    "duration": 130,
    "start_time": "2023-04-29T12:46:14.127Z"
   },
   {
    "duration": 97,
    "start_time": "2023-04-29T12:48:06.184Z"
   },
   {
    "duration": 92,
    "start_time": "2023-04-29T12:48:13.886Z"
   },
   {
    "duration": 71,
    "start_time": "2023-04-29T12:48:29.139Z"
   },
   {
    "duration": 69,
    "start_time": "2023-04-29T12:48:47.151Z"
   },
   {
    "duration": 119,
    "start_time": "2023-04-29T12:49:13.270Z"
   },
   {
    "duration": 123,
    "start_time": "2023-04-29T12:50:02.084Z"
   },
   {
    "duration": 142,
    "start_time": "2023-04-29T12:50:20.422Z"
   },
   {
    "duration": 144,
    "start_time": "2023-04-29T12:50:27.352Z"
   },
   {
    "duration": 114,
    "start_time": "2023-04-29T12:50:38.209Z"
   },
   {
    "duration": 117,
    "start_time": "2023-04-29T12:50:49.382Z"
   },
   {
    "duration": 1593,
    "start_time": "2023-04-29T12:51:47.478Z"
   },
   {
    "duration": 496,
    "start_time": "2023-04-29T12:57:19.513Z"
   },
   {
    "duration": 322,
    "start_time": "2023-04-29T12:57:38.056Z"
   },
   {
    "duration": 239,
    "start_time": "2023-04-29T12:58:01.060Z"
   },
   {
    "duration": 244,
    "start_time": "2023-04-29T12:58:14.653Z"
   },
   {
    "duration": 250,
    "start_time": "2023-04-29T12:58:25.382Z"
   },
   {
    "duration": 323,
    "start_time": "2023-04-29T12:58:36.612Z"
   },
   {
    "duration": 431,
    "start_time": "2023-04-29T13:00:32.930Z"
   },
   {
    "duration": 317,
    "start_time": "2023-04-29T13:00:41.590Z"
   },
   {
    "duration": 257,
    "start_time": "2023-04-29T13:01:05.064Z"
   },
   {
    "duration": 271,
    "start_time": "2023-04-29T13:01:16.180Z"
   },
   {
    "duration": 3,
    "start_time": "2023-04-29T13:04:24.940Z"
   },
   {
    "duration": 53,
    "start_time": "2023-04-29T13:04:24.945Z"
   },
   {
    "duration": 18,
    "start_time": "2023-04-29T13:04:25.001Z"
   },
   {
    "duration": 17,
    "start_time": "2023-04-29T13:04:25.020Z"
   },
   {
    "duration": 8,
    "start_time": "2023-04-29T13:04:25.039Z"
   },
   {
    "duration": 10,
    "start_time": "2023-04-29T13:04:25.049Z"
   },
   {
    "duration": 15,
    "start_time": "2023-04-29T13:04:25.060Z"
   },
   {
    "duration": 16,
    "start_time": "2023-04-29T13:04:25.077Z"
   },
   {
    "duration": 16,
    "start_time": "2023-04-29T13:04:25.094Z"
   },
   {
    "duration": 11,
    "start_time": "2023-04-29T13:04:25.111Z"
   },
   {
    "duration": 15,
    "start_time": "2023-04-29T13:04:25.124Z"
   },
   {
    "duration": 16,
    "start_time": "2023-04-29T13:04:25.140Z"
   },
   {
    "duration": 29,
    "start_time": "2023-04-29T13:04:25.158Z"
   },
   {
    "duration": 4,
    "start_time": "2023-04-29T13:04:25.189Z"
   },
   {
    "duration": 11,
    "start_time": "2023-04-29T13:04:25.195Z"
   },
   {
    "duration": 14,
    "start_time": "2023-04-29T13:04:25.207Z"
   },
   {
    "duration": 6,
    "start_time": "2023-04-29T13:04:25.223Z"
   },
   {
    "duration": 16,
    "start_time": "2023-04-29T13:04:25.230Z"
   },
   {
    "duration": 313,
    "start_time": "2023-04-29T13:04:25.248Z"
   },
   {
    "duration": 247,
    "start_time": "2023-04-29T13:04:25.563Z"
   },
   {
    "duration": 991,
    "start_time": "2023-04-29T13:04:25.811Z"
   },
   {
    "duration": 7,
    "start_time": "2023-04-29T13:04:26.805Z"
   },
   {
    "duration": 25,
    "start_time": "2023-04-29T13:04:26.814Z"
   },
   {
    "duration": 158,
    "start_time": "2023-04-29T13:04:26.841Z"
   },
   {
    "duration": 12,
    "start_time": "2023-04-29T13:04:27.000Z"
   },
   {
    "duration": 1731,
    "start_time": "2023-04-29T13:04:27.013Z"
   },
   {
    "duration": 5,
    "start_time": "2023-04-29T13:04:28.746Z"
   },
   {
    "duration": 147,
    "start_time": "2023-04-29T13:04:28.753Z"
   },
   {
    "duration": 255,
    "start_time": "2023-04-29T13:04:28.903Z"
   },
   {
    "duration": 3,
    "start_time": "2023-04-29T13:05:53.721Z"
   },
   {
    "duration": 79,
    "start_time": "2023-04-29T13:05:53.726Z"
   },
   {
    "duration": 20,
    "start_time": "2023-04-29T13:05:53.807Z"
   },
   {
    "duration": 38,
    "start_time": "2023-04-29T13:05:53.829Z"
   },
   {
    "duration": 21,
    "start_time": "2023-04-29T13:05:53.869Z"
   },
   {
    "duration": 17,
    "start_time": "2023-04-29T13:05:53.891Z"
   },
   {
    "duration": 21,
    "start_time": "2023-04-29T13:05:53.909Z"
   },
   {
    "duration": 31,
    "start_time": "2023-04-29T13:05:53.932Z"
   },
   {
    "duration": 7,
    "start_time": "2023-04-29T13:05:53.965Z"
   },
   {
    "duration": 18,
    "start_time": "2023-04-29T13:05:53.973Z"
   },
   {
    "duration": 12,
    "start_time": "2023-04-29T13:05:53.993Z"
   },
   {
    "duration": 55,
    "start_time": "2023-04-29T13:05:54.006Z"
   },
   {
    "duration": 74,
    "start_time": "2023-04-29T13:05:54.063Z"
   },
   {
    "duration": 24,
    "start_time": "2023-04-29T13:05:54.139Z"
   },
   {
    "duration": 31,
    "start_time": "2023-04-29T13:05:54.164Z"
   },
   {
    "duration": 45,
    "start_time": "2023-04-29T13:05:54.197Z"
   },
   {
    "duration": 20,
    "start_time": "2023-04-29T13:05:54.244Z"
   },
   {
    "duration": 38,
    "start_time": "2023-04-29T13:05:54.266Z"
   },
   {
    "duration": 406,
    "start_time": "2023-04-29T13:05:54.305Z"
   },
   {
    "duration": 285,
    "start_time": "2023-04-29T13:05:54.713Z"
   },
   {
    "duration": 938,
    "start_time": "2023-04-29T13:05:54.999Z"
   },
   {
    "duration": 9,
    "start_time": "2023-04-29T13:05:55.939Z"
   },
   {
    "duration": 16,
    "start_time": "2023-04-29T13:05:55.950Z"
   },
   {
    "duration": 170,
    "start_time": "2023-04-29T13:05:55.970Z"
   },
   {
    "duration": 14,
    "start_time": "2023-04-29T13:05:56.143Z"
   },
   {
    "duration": 1817,
    "start_time": "2023-04-29T13:05:56.159Z"
   },
   {
    "duration": 6,
    "start_time": "2023-04-29T13:05:57.978Z"
   },
   {
    "duration": 159,
    "start_time": "2023-04-29T13:05:57.985Z"
   },
   {
    "duration": 350,
    "start_time": "2023-04-29T13:05:58.146Z"
   },
   {
    "duration": 119,
    "start_time": "2023-04-29T13:35:41.232Z"
   },
   {
    "duration": 122,
    "start_time": "2023-04-29T13:36:12.174Z"
   },
   {
    "duration": 123,
    "start_time": "2023-04-29T13:43:36.129Z"
   },
   {
    "duration": 9,
    "start_time": "2023-04-29T13:43:55.081Z"
   },
   {
    "duration": 114,
    "start_time": "2023-04-29T13:44:49.743Z"
   },
   {
    "duration": 8,
    "start_time": "2023-04-29T13:45:05.382Z"
   },
   {
    "duration": 121,
    "start_time": "2023-04-29T13:55:05.857Z"
   },
   {
    "duration": 12,
    "start_time": "2023-04-29T13:57:23.765Z"
   },
   {
    "duration": 156,
    "start_time": "2023-04-29T13:57:24.649Z"
   },
   {
    "duration": 129,
    "start_time": "2023-04-29T13:57:26.227Z"
   },
   {
    "duration": 11,
    "start_time": "2023-04-29T13:58:30.419Z"
   },
   {
    "duration": 115,
    "start_time": "2023-04-29T13:58:32.039Z"
   },
   {
    "duration": 120,
    "start_time": "2023-04-29T13:58:34.293Z"
   },
   {
    "duration": 387,
    "start_time": "2023-04-29T14:37:09.844Z"
   },
   {
    "duration": 624,
    "start_time": "2023-04-29T14:38:34.125Z"
   },
   {
    "duration": 87,
    "start_time": "2023-04-29T14:39:35.327Z"
   },
   {
    "duration": 73,
    "start_time": "2023-04-29T14:39:46.578Z"
   },
   {
    "duration": 330,
    "start_time": "2023-04-29T14:40:57.613Z"
   },
   {
    "duration": 85,
    "start_time": "2023-04-29T14:42:06.422Z"
   },
   {
    "duration": 138,
    "start_time": "2023-04-29T14:42:23.686Z"
   },
   {
    "duration": 142,
    "start_time": "2023-04-29T14:42:43.442Z"
   },
   {
    "duration": 142,
    "start_time": "2023-04-29T14:42:59.629Z"
   },
   {
    "duration": 146,
    "start_time": "2023-04-29T14:43:58.962Z"
   },
   {
    "duration": 149,
    "start_time": "2023-04-29T14:44:09.888Z"
   },
   {
    "duration": 150,
    "start_time": "2023-04-29T14:44:17.405Z"
   },
   {
    "duration": 137,
    "start_time": "2023-04-29T14:44:24.311Z"
   },
   {
    "duration": 148,
    "start_time": "2023-04-29T14:44:54.282Z"
   },
   {
    "duration": 165,
    "start_time": "2023-04-29T14:47:49.885Z"
   },
   {
    "duration": 253,
    "start_time": "2023-04-29T14:51:45.920Z"
   },
   {
    "duration": 19,
    "start_time": "2023-04-29T15:16:39.427Z"
   },
   {
    "duration": 4,
    "start_time": "2023-04-29T15:17:27.320Z"
   },
   {
    "duration": 270,
    "start_time": "2023-04-29T15:18:09.534Z"
   },
   {
    "duration": 416,
    "start_time": "2023-04-29T15:19:58.331Z"
   },
   {
    "duration": 259,
    "start_time": "2023-04-29T15:20:10.835Z"
   },
   {
    "duration": 192,
    "start_time": "2023-04-29T15:20:18.602Z"
   },
   {
    "duration": 268,
    "start_time": "2023-04-29T15:20:25.119Z"
   },
   {
    "duration": 20,
    "start_time": "2023-04-29T15:20:29.235Z"
   },
   {
    "duration": 527,
    "start_time": "2023-04-29T15:20:32.262Z"
   },
   {
    "duration": 257,
    "start_time": "2023-04-29T15:20:38.839Z"
   },
   {
    "duration": 260,
    "start_time": "2023-04-29T15:24:25.628Z"
   },
   {
    "duration": 5,
    "start_time": "2023-04-29T15:28:39.851Z"
   },
   {
    "duration": 5,
    "start_time": "2023-04-29T15:35:09.116Z"
   },
   {
    "duration": 5,
    "start_time": "2023-04-29T15:35:11.134Z"
   },
   {
    "duration": 9,
    "start_time": "2023-04-29T15:35:26.424Z"
   },
   {
    "duration": 6,
    "start_time": "2023-04-29T15:37:51.501Z"
   },
   {
    "duration": 7,
    "start_time": "2023-04-29T15:40:47.629Z"
   },
   {
    "duration": 1116,
    "start_time": "2023-04-29T15:42:19.907Z"
   },
   {
    "duration": 51,
    "start_time": "2023-04-29T15:42:21.025Z"
   },
   {
    "duration": 20,
    "start_time": "2023-04-29T15:42:21.077Z"
   },
   {
    "duration": 14,
    "start_time": "2023-04-29T15:42:21.099Z"
   },
   {
    "duration": 5,
    "start_time": "2023-04-29T15:42:21.114Z"
   },
   {
    "duration": 9,
    "start_time": "2023-04-29T15:42:21.120Z"
   },
   {
    "duration": 17,
    "start_time": "2023-04-29T15:42:21.130Z"
   },
   {
    "duration": 32,
    "start_time": "2023-04-29T15:42:21.148Z"
   },
   {
    "duration": 5,
    "start_time": "2023-04-29T15:42:21.181Z"
   },
   {
    "duration": 10,
    "start_time": "2023-04-29T15:42:21.188Z"
   },
   {
    "duration": 22,
    "start_time": "2023-04-29T15:42:21.199Z"
   },
   {
    "duration": 16,
    "start_time": "2023-04-29T15:42:21.223Z"
   },
   {
    "duration": 22,
    "start_time": "2023-04-29T15:42:21.241Z"
   },
   {
    "duration": 15,
    "start_time": "2023-04-29T15:42:21.265Z"
   },
   {
    "duration": 23,
    "start_time": "2023-04-29T15:42:21.281Z"
   },
   {
    "duration": 22,
    "start_time": "2023-04-29T15:42:21.306Z"
   },
   {
    "duration": 14,
    "start_time": "2023-04-29T15:42:21.330Z"
   },
   {
    "duration": 13,
    "start_time": "2023-04-29T15:42:21.345Z"
   },
   {
    "duration": 26,
    "start_time": "2023-04-29T15:42:21.359Z"
   },
   {
    "duration": 15,
    "start_time": "2023-04-29T15:42:21.387Z"
   },
   {
    "duration": 27,
    "start_time": "2023-04-29T15:42:21.404Z"
   },
   {
    "duration": 295,
    "start_time": "2023-04-29T15:42:21.432Z"
   },
   {
    "duration": 257,
    "start_time": "2023-04-29T15:42:21.728Z"
   },
   {
    "duration": 944,
    "start_time": "2023-04-29T15:42:21.987Z"
   },
   {
    "duration": 6,
    "start_time": "2023-04-29T15:42:22.932Z"
   },
   {
    "duration": 14,
    "start_time": "2023-04-29T15:42:22.940Z"
   },
   {
    "duration": 149,
    "start_time": "2023-04-29T15:42:22.955Z"
   },
   {
    "duration": 14,
    "start_time": "2023-04-29T15:42:23.107Z"
   },
   {
    "duration": 1532,
    "start_time": "2023-04-29T15:42:23.134Z"
   },
   {
    "duration": 242,
    "start_time": "2023-04-29T15:42:24.667Z"
   },
   {
    "duration": 95,
    "start_time": "2023-04-29T15:42:24.911Z"
   },
   {
    "duration": 0,
    "start_time": "2023-04-29T15:42:25.008Z"
   },
   {
    "duration": 0,
    "start_time": "2023-04-29T15:42:25.009Z"
   },
   {
    "duration": 0,
    "start_time": "2023-04-29T15:42:25.010Z"
   },
   {
    "duration": 0,
    "start_time": "2023-04-29T15:42:25.011Z"
   },
   {
    "duration": 0,
    "start_time": "2023-04-29T15:42:25.012Z"
   },
   {
    "duration": 11,
    "start_time": "2023-04-29T15:43:22.722Z"
   },
   {
    "duration": 152,
    "start_time": "2023-04-29T15:43:26.590Z"
   },
   {
    "duration": 133,
    "start_time": "2023-04-29T15:43:27.745Z"
   },
   {
    "duration": 134,
    "start_time": "2023-04-29T15:43:34.860Z"
   },
   {
    "duration": 5,
    "start_time": "2023-04-29T15:43:41.762Z"
   },
   {
    "duration": 301,
    "start_time": "2023-04-29T15:43:43.029Z"
   },
   {
    "duration": 219,
    "start_time": "2023-04-29T16:59:40.270Z"
   },
   {
    "duration": 391,
    "start_time": "2023-04-29T17:00:17.758Z"
   },
   {
    "duration": 321,
    "start_time": "2023-04-29T17:01:09.003Z"
   },
   {
    "duration": 331,
    "start_time": "2023-04-29T17:08:05.612Z"
   },
   {
    "duration": 4,
    "start_time": "2023-04-29T17:56:34.215Z"
   },
   {
    "duration": 5,
    "start_time": "2023-04-29T17:57:23.194Z"
   },
   {
    "duration": 5,
    "start_time": "2023-04-29T17:57:24.302Z"
   },
   {
    "duration": 1193,
    "start_time": "2023-04-29T17:58:38.220Z"
   },
   {
    "duration": 77,
    "start_time": "2023-04-29T17:58:39.415Z"
   },
   {
    "duration": 22,
    "start_time": "2023-04-29T17:58:39.494Z"
   },
   {
    "duration": 14,
    "start_time": "2023-04-29T17:58:39.518Z"
   },
   {
    "duration": 31,
    "start_time": "2023-04-29T17:58:39.538Z"
   },
   {
    "duration": 10,
    "start_time": "2023-04-29T17:58:39.571Z"
   },
   {
    "duration": 10,
    "start_time": "2023-04-29T17:58:39.582Z"
   },
   {
    "duration": 14,
    "start_time": "2023-04-29T17:58:39.593Z"
   },
   {
    "duration": 5,
    "start_time": "2023-04-29T17:58:39.609Z"
   },
   {
    "duration": 9,
    "start_time": "2023-04-29T17:58:39.615Z"
   },
   {
    "duration": 4,
    "start_time": "2023-04-29T17:58:39.626Z"
   },
   {
    "duration": 36,
    "start_time": "2023-04-29T17:58:39.631Z"
   },
   {
    "duration": 7,
    "start_time": "2023-04-29T17:58:39.668Z"
   },
   {
    "duration": 8,
    "start_time": "2023-04-29T17:58:39.678Z"
   },
   {
    "duration": 8,
    "start_time": "2023-04-29T17:58:39.687Z"
   },
   {
    "duration": 14,
    "start_time": "2023-04-29T17:58:39.696Z"
   },
   {
    "duration": 12,
    "start_time": "2023-04-29T17:58:39.712Z"
   },
   {
    "duration": 3,
    "start_time": "2023-04-29T17:58:39.726Z"
   },
   {
    "duration": 15,
    "start_time": "2023-04-29T17:58:39.730Z"
   },
   {
    "duration": 32,
    "start_time": "2023-04-29T17:58:39.749Z"
   },
   {
    "duration": 5,
    "start_time": "2023-04-29T17:58:39.782Z"
   },
   {
    "duration": 15,
    "start_time": "2023-04-29T17:58:39.788Z"
   },
   {
    "duration": 354,
    "start_time": "2023-04-29T17:58:39.804Z"
   },
   {
    "duration": 276,
    "start_time": "2023-04-29T17:58:40.167Z"
   },
   {
    "duration": 1018,
    "start_time": "2023-04-29T17:58:40.444Z"
   },
   {
    "duration": 7,
    "start_time": "2023-04-29T17:58:41.464Z"
   },
   {
    "duration": 10,
    "start_time": "2023-04-29T17:58:41.472Z"
   },
   {
    "duration": 170,
    "start_time": "2023-04-29T17:58:41.483Z"
   },
   {
    "duration": 15,
    "start_time": "2023-04-29T17:58:41.655Z"
   },
   {
    "duration": 1658,
    "start_time": "2023-04-29T17:58:41.672Z"
   },
   {
    "duration": 269,
    "start_time": "2023-04-29T17:58:43.334Z"
   },
   {
    "duration": 11,
    "start_time": "2023-04-29T17:58:43.605Z"
   },
   {
    "duration": 147,
    "start_time": "2023-04-29T17:58:43.617Z"
   },
   {
    "duration": 131,
    "start_time": "2023-04-29T17:58:43.765Z"
   },
   {
    "duration": 176,
    "start_time": "2023-04-29T17:58:43.897Z"
   },
   {
    "duration": 6,
    "start_time": "2023-04-29T17:58:44.074Z"
   },
   {
    "duration": 389,
    "start_time": "2023-04-29T17:58:44.082Z"
   },
   {
    "duration": 448,
    "start_time": "2023-04-29T17:58:44.473Z"
   },
   {
    "duration": 345,
    "start_time": "2023-04-29T17:58:44.923Z"
   },
   {
    "duration": 8,
    "start_time": "2023-04-29T18:26:02.985Z"
   },
   {
    "duration": 8,
    "start_time": "2023-04-29T18:26:22.340Z"
   },
   {
    "duration": 8,
    "start_time": "2023-04-29T18:27:28.249Z"
   },
   {
    "duration": 8,
    "start_time": "2023-04-29T18:29:13.912Z"
   },
   {
    "duration": 9,
    "start_time": "2023-04-29T18:29:39.526Z"
   },
   {
    "duration": 8,
    "start_time": "2023-04-29T18:30:16.010Z"
   },
   {
    "duration": 8,
    "start_time": "2023-04-29T18:30:26.988Z"
   },
   {
    "duration": 92,
    "start_time": "2023-04-29T18:36:08.206Z"
   },
   {
    "duration": 4,
    "start_time": "2023-04-29T18:48:44.092Z"
   },
   {
    "duration": 5,
    "start_time": "2023-04-29T18:48:50.735Z"
   },
   {
    "duration": 5,
    "start_time": "2023-04-29T18:51:14.879Z"
   },
   {
    "duration": 4,
    "start_time": "2023-04-29T18:51:22.399Z"
   },
   {
    "duration": 4,
    "start_time": "2023-04-29T18:51:29.337Z"
   },
   {
    "duration": 22,
    "start_time": "2023-04-29T19:15:51.814Z"
   },
   {
    "duration": 1114,
    "start_time": "2023-04-29T19:17:22.207Z"
   },
   {
    "duration": 53,
    "start_time": "2023-04-29T19:17:23.323Z"
   },
   {
    "duration": 21,
    "start_time": "2023-04-29T19:17:23.377Z"
   },
   {
    "duration": 14,
    "start_time": "2023-04-29T19:17:23.400Z"
   },
   {
    "duration": 9,
    "start_time": "2023-04-29T19:17:23.415Z"
   },
   {
    "duration": 11,
    "start_time": "2023-04-29T19:17:23.426Z"
   },
   {
    "duration": 14,
    "start_time": "2023-04-29T19:17:23.439Z"
   },
   {
    "duration": 16,
    "start_time": "2023-04-29T19:17:23.455Z"
   },
   {
    "duration": 6,
    "start_time": "2023-04-29T19:17:23.472Z"
   },
   {
    "duration": 8,
    "start_time": "2023-04-29T19:17:23.481Z"
   },
   {
    "duration": 5,
    "start_time": "2023-04-29T19:17:23.490Z"
   },
   {
    "duration": 8,
    "start_time": "2023-04-29T19:17:23.496Z"
   },
   {
    "duration": 6,
    "start_time": "2023-04-29T19:17:23.505Z"
   },
   {
    "duration": 34,
    "start_time": "2023-04-29T19:17:23.513Z"
   },
   {
    "duration": 25,
    "start_time": "2023-04-29T19:17:23.549Z"
   },
   {
    "duration": 19,
    "start_time": "2023-04-29T19:17:23.576Z"
   },
   {
    "duration": 19,
    "start_time": "2023-04-29T19:17:23.597Z"
   },
   {
    "duration": 4,
    "start_time": "2023-04-29T19:17:23.617Z"
   },
   {
    "duration": 15,
    "start_time": "2023-04-29T19:17:23.622Z"
   },
   {
    "duration": 26,
    "start_time": "2023-04-29T19:17:23.639Z"
   },
   {
    "duration": 12,
    "start_time": "2023-04-29T19:17:23.666Z"
   },
   {
    "duration": 17,
    "start_time": "2023-04-29T19:17:23.679Z"
   },
   {
    "duration": 310,
    "start_time": "2023-04-29T19:17:23.697Z"
   },
   {
    "duration": 281,
    "start_time": "2023-04-29T19:17:24.009Z"
   },
   {
    "duration": 1031,
    "start_time": "2023-04-29T19:17:24.292Z"
   },
   {
    "duration": 13,
    "start_time": "2023-04-29T19:17:25.324Z"
   },
   {
    "duration": 16,
    "start_time": "2023-04-29T19:17:25.339Z"
   },
   {
    "duration": 149,
    "start_time": "2023-04-29T19:17:25.358Z"
   },
   {
    "duration": 12,
    "start_time": "2023-04-29T19:17:25.509Z"
   },
   {
    "duration": 1679,
    "start_time": "2023-04-29T19:17:25.523Z"
   },
   {
    "duration": 262,
    "start_time": "2023-04-29T19:17:27.204Z"
   },
   {
    "duration": 12,
    "start_time": "2023-04-29T19:17:27.467Z"
   },
   {
    "duration": 131,
    "start_time": "2023-04-29T19:17:27.480Z"
   },
   {
    "duration": 155,
    "start_time": "2023-04-29T19:17:27.613Z"
   },
   {
    "duration": 177,
    "start_time": "2023-04-29T19:17:27.769Z"
   },
   {
    "duration": 5,
    "start_time": "2023-04-29T19:17:27.947Z"
   },
   {
    "duration": 373,
    "start_time": "2023-04-29T19:17:27.954Z"
   },
   {
    "duration": 439,
    "start_time": "2023-04-29T19:17:28.329Z"
   },
   {
    "duration": 310,
    "start_time": "2023-04-29T19:17:28.769Z"
   },
   {
    "duration": 3,
    "start_time": "2023-04-29T19:17:29.080Z"
   },
   {
    "duration": 19,
    "start_time": "2023-04-29T19:17:29.084Z"
   },
   {
    "duration": 1183,
    "start_time": "2023-04-29T19:19:24.563Z"
   },
   {
    "duration": 54,
    "start_time": "2023-04-29T19:19:25.748Z"
   },
   {
    "duration": 23,
    "start_time": "2023-04-29T19:19:25.803Z"
   },
   {
    "duration": 16,
    "start_time": "2023-04-29T19:19:25.828Z"
   },
   {
    "duration": 3,
    "start_time": "2023-04-29T19:19:25.846Z"
   },
   {
    "duration": 10,
    "start_time": "2023-04-29T19:19:25.850Z"
   },
   {
    "duration": 11,
    "start_time": "2023-04-29T19:19:25.862Z"
   },
   {
    "duration": 17,
    "start_time": "2023-04-29T19:19:25.874Z"
   },
   {
    "duration": 5,
    "start_time": "2023-04-29T19:19:25.892Z"
   },
   {
    "duration": 15,
    "start_time": "2023-04-29T19:19:25.899Z"
   },
   {
    "duration": 18,
    "start_time": "2023-04-29T19:19:25.916Z"
   },
   {
    "duration": 5,
    "start_time": "2023-04-29T19:19:25.936Z"
   },
   {
    "duration": 7,
    "start_time": "2023-04-29T19:19:25.942Z"
   },
   {
    "duration": 5,
    "start_time": "2023-04-29T19:19:25.951Z"
   },
   {
    "duration": 9,
    "start_time": "2023-04-29T19:19:25.958Z"
   },
   {
    "duration": 13,
    "start_time": "2023-04-29T19:19:25.968Z"
   },
   {
    "duration": 18,
    "start_time": "2023-04-29T19:19:25.983Z"
   },
   {
    "duration": 3,
    "start_time": "2023-04-29T19:19:26.003Z"
   },
   {
    "duration": 26,
    "start_time": "2023-04-29T19:19:26.033Z"
   },
   {
    "duration": 18,
    "start_time": "2023-04-29T19:19:26.061Z"
   },
   {
    "duration": 4,
    "start_time": "2023-04-29T19:19:26.080Z"
   },
   {
    "duration": 23,
    "start_time": "2023-04-29T19:19:26.086Z"
   },
   {
    "duration": 333,
    "start_time": "2023-04-29T19:19:26.111Z"
   },
   {
    "duration": 354,
    "start_time": "2023-04-29T19:19:26.445Z"
   },
   {
    "duration": 1063,
    "start_time": "2023-04-29T19:19:26.801Z"
   },
   {
    "duration": 7,
    "start_time": "2023-04-29T19:19:27.866Z"
   },
   {
    "duration": 17,
    "start_time": "2023-04-29T19:19:27.874Z"
   },
   {
    "duration": 185,
    "start_time": "2023-04-29T19:19:27.894Z"
   },
   {
    "duration": 16,
    "start_time": "2023-04-29T19:19:28.081Z"
   },
   {
    "duration": 1724,
    "start_time": "2023-04-29T19:19:28.098Z"
   },
   {
    "duration": 276,
    "start_time": "2023-04-29T19:19:29.823Z"
   },
   {
    "duration": 15,
    "start_time": "2023-04-29T19:19:30.100Z"
   },
   {
    "duration": 205,
    "start_time": "2023-04-29T19:19:30.116Z"
   },
   {
    "duration": 154,
    "start_time": "2023-04-29T19:19:30.323Z"
   },
   {
    "duration": 163,
    "start_time": "2023-04-29T19:19:30.479Z"
   },
   {
    "duration": 5,
    "start_time": "2023-04-29T19:19:30.644Z"
   },
   {
    "duration": 401,
    "start_time": "2023-04-29T19:19:30.650Z"
   },
   {
    "duration": 481,
    "start_time": "2023-04-29T19:19:31.053Z"
   },
   {
    "duration": 364,
    "start_time": "2023-04-29T19:19:31.536Z"
   },
   {
    "duration": 8,
    "start_time": "2023-04-29T19:23:08.865Z"
   },
   {
    "duration": 7,
    "start_time": "2023-04-29T19:23:22.641Z"
   },
   {
    "duration": 8,
    "start_time": "2023-04-29T19:24:58.846Z"
   },
   {
    "duration": 8,
    "start_time": "2023-04-29T19:25:40.168Z"
   },
   {
    "duration": 7,
    "start_time": "2023-04-29T19:25:53.616Z"
   },
   {
    "duration": 5,
    "start_time": "2023-04-29T19:25:54.323Z"
   },
   {
    "duration": 5,
    "start_time": "2023-04-29T19:26:07.337Z"
   },
   {
    "duration": 6,
    "start_time": "2023-04-29T19:27:45.693Z"
   },
   {
    "duration": 7,
    "start_time": "2023-04-29T19:27:46.857Z"
   },
   {
    "duration": 7,
    "start_time": "2023-04-29T19:28:21.082Z"
   },
   {
    "duration": 4,
    "start_time": "2023-04-29T19:28:22.233Z"
   },
   {
    "duration": 7,
    "start_time": "2023-04-29T19:28:33.315Z"
   },
   {
    "duration": 5,
    "start_time": "2023-04-29T19:28:34.115Z"
   },
   {
    "duration": 7,
    "start_time": "2023-04-29T19:28:52.477Z"
   },
   {
    "duration": 19,
    "start_time": "2023-04-29T20:09:40.779Z"
   },
   {
    "duration": 4,
    "start_time": "2023-04-29T20:12:40.824Z"
   },
   {
    "duration": 1153,
    "start_time": "2023-04-29T20:14:54.819Z"
   },
   {
    "duration": 5,
    "start_time": "2023-04-29T20:16:19.214Z"
   },
   {
    "duration": 10,
    "start_time": "2023-04-29T20:16:40.074Z"
   },
   {
    "duration": 7,
    "start_time": "2023-04-29T20:16:50.530Z"
   },
   {
    "duration": 6,
    "start_time": "2023-04-29T20:17:04.573Z"
   },
   {
    "duration": 63,
    "start_time": "2023-04-29T20:18:49.401Z"
   },
   {
    "duration": 28,
    "start_time": "2023-04-29T20:20:52.487Z"
   },
   {
    "duration": 27,
    "start_time": "2023-04-29T20:21:23.912Z"
   },
   {
    "duration": 26,
    "start_time": "2023-04-29T20:22:32.892Z"
   },
   {
    "duration": 8,
    "start_time": "2023-04-29T20:22:50.024Z"
   },
   {
    "duration": 54,
    "start_time": "2023-04-29T20:23:31.211Z"
   },
   {
    "duration": 73,
    "start_time": "2023-04-29T20:23:43.119Z"
   },
   {
    "duration": 5,
    "start_time": "2023-04-29T20:43:09.597Z"
   },
   {
    "duration": 76,
    "start_time": "2023-04-29T20:44:06.343Z"
   },
   {
    "duration": 84,
    "start_time": "2023-04-29T20:44:19.704Z"
   },
   {
    "duration": 3,
    "start_time": "2023-04-29T20:44:43.824Z"
   },
   {
    "duration": 5,
    "start_time": "2023-04-29T20:46:10.078Z"
   },
   {
    "duration": 13,
    "start_time": "2023-04-29T20:46:12.143Z"
   },
   {
    "duration": 5,
    "start_time": "2023-04-29T20:50:02.644Z"
   },
   {
    "duration": 5,
    "start_time": "2023-04-29T20:50:03.550Z"
   },
   {
    "duration": 4,
    "start_time": "2023-04-29T20:50:14.311Z"
   },
   {
    "duration": 4,
    "start_time": "2023-04-29T20:50:23.472Z"
   },
   {
    "duration": 4,
    "start_time": "2023-04-29T20:51:15.243Z"
   },
   {
    "duration": 4,
    "start_time": "2023-04-29T20:51:16.245Z"
   },
   {
    "duration": 6,
    "start_time": "2023-04-29T20:53:15.218Z"
   },
   {
    "duration": 5,
    "start_time": "2023-04-29T20:53:17.122Z"
   },
   {
    "duration": 6,
    "start_time": "2023-04-29T20:54:30.222Z"
   },
   {
    "duration": 5,
    "start_time": "2023-04-29T20:54:53.002Z"
   },
   {
    "duration": 6,
    "start_time": "2023-04-29T20:55:31.675Z"
   },
   {
    "duration": 5,
    "start_time": "2023-04-29T20:56:32.983Z"
   },
   {
    "duration": 6,
    "start_time": "2023-04-29T21:06:43.386Z"
   },
   {
    "duration": 5,
    "start_time": "2023-04-29T21:07:15.767Z"
   },
   {
    "duration": 4,
    "start_time": "2023-04-29T21:10:14.765Z"
   },
   {
    "duration": 11,
    "start_time": "2023-04-29T21:10:35.763Z"
   },
   {
    "duration": 5,
    "start_time": "2023-04-29T21:11:02.338Z"
   },
   {
    "duration": 4,
    "start_time": "2023-04-29T21:11:21.504Z"
   },
   {
    "duration": 4,
    "start_time": "2023-04-29T21:11:41.305Z"
   },
   {
    "duration": 5,
    "start_time": "2023-04-29T21:12:09.085Z"
   },
   {
    "duration": 6,
    "start_time": "2023-04-29T21:36:25.829Z"
   },
   {
    "duration": 6,
    "start_time": "2023-04-29T21:44:24.049Z"
   },
   {
    "duration": 5,
    "start_time": "2023-04-29T21:45:15.247Z"
   },
   {
    "duration": 6,
    "start_time": "2023-04-29T21:45:29.687Z"
   },
   {
    "duration": 7,
    "start_time": "2023-04-29T21:59:56.789Z"
   },
   {
    "duration": 256,
    "start_time": "2023-04-29T22:34:56.644Z"
   },
   {
    "duration": 224,
    "start_time": "2023-04-29T22:35:18.815Z"
   },
   {
    "duration": 225,
    "start_time": "2023-04-29T22:35:32.710Z"
   },
   {
    "duration": 3,
    "start_time": "2023-04-29T22:46:04.036Z"
   },
   {
    "duration": 3,
    "start_time": "2023-04-29T22:47:04.927Z"
   },
   {
    "duration": 8,
    "start_time": "2023-04-29T22:47:05.680Z"
   },
   {
    "duration": 99,
    "start_time": "2023-04-29T22:47:18.431Z"
   },
   {
    "duration": 114,
    "start_time": "2023-04-29T23:21:28.613Z"
   },
   {
    "duration": 118,
    "start_time": "2023-04-29T23:21:42.436Z"
   },
   {
    "duration": 275,
    "start_time": "2023-04-29T23:21:50.376Z"
   },
   {
    "duration": 117,
    "start_time": "2023-04-29T23:22:03.677Z"
   },
   {
    "duration": 122,
    "start_time": "2023-04-29T23:23:39.335Z"
   },
   {
    "duration": 125,
    "start_time": "2023-04-29T23:23:52.360Z"
   },
   {
    "duration": 165,
    "start_time": "2023-04-29T23:23:59.813Z"
   },
   {
    "duration": 130,
    "start_time": "2023-04-29T23:24:56.379Z"
   },
   {
    "duration": 129,
    "start_time": "2023-04-29T23:25:07.438Z"
   },
   {
    "duration": 11,
    "start_time": "2023-04-29T23:27:06.833Z"
   },
   {
    "duration": 12,
    "start_time": "2023-04-29T23:27:18.035Z"
   },
   {
    "duration": 121,
    "start_time": "2023-04-29T23:27:43.736Z"
   },
   {
    "duration": 129,
    "start_time": "2023-04-29T23:28:00.689Z"
   },
   {
    "duration": 218,
    "start_time": "2023-04-29T23:40:59.326Z"
   },
   {
    "duration": 4,
    "start_time": "2023-04-29T23:41:24.309Z"
   },
   {
    "duration": 408,
    "start_time": "2023-04-29T23:42:03.093Z"
   },
   {
    "duration": 345,
    "start_time": "2023-04-29T23:42:26.188Z"
   },
   {
    "duration": 4,
    "start_time": "2023-04-29T23:44:58.589Z"
   },
   {
    "duration": 3,
    "start_time": "2023-04-29T23:45:05.548Z"
   },
   {
    "duration": 4,
    "start_time": "2023-04-29T23:46:55.574Z"
   },
   {
    "duration": 3,
    "start_time": "2023-04-29T23:47:14.898Z"
   },
   {
    "duration": 4,
    "start_time": "2023-04-29T23:48:03.155Z"
   },
   {
    "duration": 3,
    "start_time": "2023-04-29T23:48:50.635Z"
   },
   {
    "duration": 3,
    "start_time": "2023-04-29T23:49:37.566Z"
   },
   {
    "duration": 3,
    "start_time": "2023-04-29T23:51:02.055Z"
   },
   {
    "duration": 4,
    "start_time": "2023-04-29T23:51:12.244Z"
   },
   {
    "duration": 8,
    "start_time": "2023-04-29T23:51:44.528Z"
   },
   {
    "duration": 2,
    "start_time": "2023-04-29T23:51:57.727Z"
   },
   {
    "duration": 230,
    "start_time": "2023-04-29T23:55:10.021Z"
   },
   {
    "duration": 259,
    "start_time": "2023-04-29T23:55:35.014Z"
   },
   {
    "duration": 258,
    "start_time": "2023-04-29T23:56:01.301Z"
   },
   {
    "duration": 261,
    "start_time": "2023-04-29T23:57:33.416Z"
   },
   {
    "duration": 393,
    "start_time": "2023-04-29T23:58:15.255Z"
   },
   {
    "duration": 320,
    "start_time": "2023-04-29T23:58:49.493Z"
   },
   {
    "duration": 314,
    "start_time": "2023-04-30T00:01:18.945Z"
   },
   {
    "duration": 3,
    "start_time": "2023-04-30T00:01:45.021Z"
   },
   {
    "duration": 311,
    "start_time": "2023-04-30T00:01:48.787Z"
   },
   {
    "duration": 345,
    "start_time": "2023-04-30T00:02:29.172Z"
   },
   {
    "duration": 402,
    "start_time": "2023-04-30T00:05:51.132Z"
   },
   {
    "duration": 343,
    "start_time": "2023-04-30T00:08:56.540Z"
   },
   {
    "duration": 218,
    "start_time": "2023-04-30T00:29:12.601Z"
   },
   {
    "duration": 242,
    "start_time": "2023-04-30T00:29:21.934Z"
   },
   {
    "duration": 134,
    "start_time": "2023-04-30T00:30:33.331Z"
   },
   {
    "duration": 316,
    "start_time": "2023-04-30T00:30:45.292Z"
   },
   {
    "duration": 416,
    "start_time": "2023-04-30T00:30:53.107Z"
   },
   {
    "duration": 336,
    "start_time": "2023-04-30T00:31:00.376Z"
   },
   {
    "duration": 841,
    "start_time": "2023-04-30T00:31:30.254Z"
   },
   {
    "duration": 812,
    "start_time": "2023-04-30T00:31:52.753Z"
   },
   {
    "duration": 925,
    "start_time": "2023-04-30T00:31:58.258Z"
   },
   {
    "duration": 104,
    "start_time": "2023-04-30T00:38:22.106Z"
   },
   {
    "duration": 1111,
    "start_time": "2023-04-30T01:11:16.803Z"
   },
   {
    "duration": 51,
    "start_time": "2023-04-30T01:11:17.916Z"
   },
   {
    "duration": 20,
    "start_time": "2023-04-30T01:11:17.969Z"
   },
   {
    "duration": 13,
    "start_time": "2023-04-30T01:11:17.991Z"
   },
   {
    "duration": 8,
    "start_time": "2023-04-30T01:11:18.005Z"
   },
   {
    "duration": 13,
    "start_time": "2023-04-30T01:11:18.014Z"
   },
   {
    "duration": 22,
    "start_time": "2023-04-30T01:11:18.028Z"
   },
   {
    "duration": 14,
    "start_time": "2023-04-30T01:11:18.052Z"
   },
   {
    "duration": 6,
    "start_time": "2023-04-30T01:11:18.067Z"
   },
   {
    "duration": 11,
    "start_time": "2023-04-30T01:11:18.076Z"
   },
   {
    "duration": 15,
    "start_time": "2023-04-30T01:11:18.088Z"
   },
   {
    "duration": 8,
    "start_time": "2023-04-30T01:11:18.105Z"
   },
   {
    "duration": 11,
    "start_time": "2023-04-30T01:11:18.115Z"
   },
   {
    "duration": 8,
    "start_time": "2023-04-30T01:11:18.127Z"
   },
   {
    "duration": 13,
    "start_time": "2023-04-30T01:11:18.136Z"
   },
   {
    "duration": 9,
    "start_time": "2023-04-30T01:11:18.150Z"
   },
   {
    "duration": 13,
    "start_time": "2023-04-30T01:11:18.160Z"
   },
   {
    "duration": 3,
    "start_time": "2023-04-30T01:11:18.174Z"
   },
   {
    "duration": 7,
    "start_time": "2023-04-30T01:11:18.178Z"
   },
   {
    "duration": 14,
    "start_time": "2023-04-30T01:11:18.186Z"
   },
   {
    "duration": 5,
    "start_time": "2023-04-30T01:11:18.201Z"
   },
   {
    "duration": 27,
    "start_time": "2023-04-30T01:11:18.207Z"
   },
   {
    "duration": 312,
    "start_time": "2023-04-30T01:11:18.235Z"
   },
   {
    "duration": 316,
    "start_time": "2023-04-30T01:11:18.549Z"
   },
   {
    "duration": 1136,
    "start_time": "2023-04-30T01:11:18.867Z"
   },
   {
    "duration": 6,
    "start_time": "2023-04-30T01:11:20.005Z"
   },
   {
    "duration": 21,
    "start_time": "2023-04-30T01:11:20.012Z"
   },
   {
    "duration": 151,
    "start_time": "2023-04-30T01:11:20.037Z"
   },
   {
    "duration": 1632,
    "start_time": "2023-04-30T01:11:20.190Z"
   },
   {
    "duration": 231,
    "start_time": "2023-04-30T01:11:21.823Z"
   },
   {
    "duration": 11,
    "start_time": "2023-04-30T01:11:22.055Z"
   },
   {
    "duration": 146,
    "start_time": "2023-04-30T01:11:22.067Z"
   },
   {
    "duration": 150,
    "start_time": "2023-04-30T01:11:22.214Z"
   },
   {
    "duration": 11,
    "start_time": "2023-04-30T01:11:22.365Z"
   },
   {
    "duration": 142,
    "start_time": "2023-04-30T01:11:22.377Z"
   },
   {
    "duration": 134,
    "start_time": "2023-04-30T01:11:22.520Z"
   },
   {
    "duration": 148,
    "start_time": "2023-04-30T01:11:22.656Z"
   },
   {
    "duration": 2,
    "start_time": "2023-04-30T01:11:22.806Z"
   },
   {
    "duration": 435,
    "start_time": "2023-04-30T01:11:22.809Z"
   },
   {
    "duration": 354,
    "start_time": "2023-04-30T01:11:23.245Z"
   },
   {
    "duration": 305,
    "start_time": "2023-04-30T01:11:23.601Z"
   },
   {
    "duration": 6,
    "start_time": "2023-04-30T01:11:23.907Z"
   },
   {
    "duration": 11,
    "start_time": "2023-04-30T01:11:23.914Z"
   },
   {
    "duration": 10,
    "start_time": "2023-04-30T01:11:23.926Z"
   },
   {
    "duration": 5,
    "start_time": "2023-04-30T01:11:23.938Z"
   },
   {
    "duration": 1860,
    "start_time": "2023-04-30T13:32:16.403Z"
   },
   {
    "duration": 98,
    "start_time": "2023-04-30T13:32:18.265Z"
   },
   {
    "duration": 79,
    "start_time": "2023-04-30T13:32:18.365Z"
   },
   {
    "duration": 17,
    "start_time": "2023-04-30T13:32:18.445Z"
   },
   {
    "duration": 69,
    "start_time": "2023-04-30T13:32:18.465Z"
   },
   {
    "duration": 405,
    "start_time": "2023-04-30T13:32:18.536Z"
   },
   {
    "duration": 3,
    "start_time": "2023-04-30T13:32:18.942Z"
   },
   {
    "duration": 17,
    "start_time": "2023-04-30T13:32:18.947Z"
   },
   {
    "duration": 23,
    "start_time": "2023-04-30T13:32:18.966Z"
   },
   {
    "duration": 15,
    "start_time": "2023-04-30T13:32:19.034Z"
   },
   {
    "duration": 7,
    "start_time": "2023-04-30T13:32:19.050Z"
   },
   {
    "duration": 77,
    "start_time": "2023-04-30T13:32:19.059Z"
   },
   {
    "duration": 5,
    "start_time": "2023-04-30T13:32:19.137Z"
   },
   {
    "duration": 53,
    "start_time": "2023-04-30T13:32:19.145Z"
   },
   {
    "duration": 11,
    "start_time": "2023-04-30T13:32:19.233Z"
   },
   {
    "duration": 18,
    "start_time": "2023-04-30T13:32:19.245Z"
   },
   {
    "duration": 14,
    "start_time": "2023-04-30T13:32:19.265Z"
   },
   {
    "duration": 59,
    "start_time": "2023-04-30T13:32:19.281Z"
   },
   {
    "duration": 22,
    "start_time": "2023-04-30T13:32:19.342Z"
   },
   {
    "duration": 70,
    "start_time": "2023-04-30T13:32:19.365Z"
   },
   {
    "duration": 18,
    "start_time": "2023-04-30T13:32:19.436Z"
   },
   {
    "duration": 27,
    "start_time": "2023-04-30T13:32:19.456Z"
   },
   {
    "duration": 49,
    "start_time": "2023-04-30T13:32:19.485Z"
   },
   {
    "duration": 17,
    "start_time": "2023-04-30T13:32:19.536Z"
   },
   {
    "duration": 539,
    "start_time": "2023-04-30T13:32:19.555Z"
   },
   {
    "duration": 345,
    "start_time": "2023-04-30T13:32:20.096Z"
   },
   {
    "duration": 978,
    "start_time": "2023-04-30T13:32:20.443Z"
   },
   {
    "duration": 13,
    "start_time": "2023-04-30T13:32:21.422Z"
   },
   {
    "duration": 14,
    "start_time": "2023-04-30T13:32:21.437Z"
   },
   {
    "duration": 144,
    "start_time": "2023-04-30T13:32:21.452Z"
   },
   {
    "duration": 1647,
    "start_time": "2023-04-30T13:32:21.598Z"
   },
   {
    "duration": 245,
    "start_time": "2023-04-30T13:32:23.246Z"
   },
   {
    "duration": 11,
    "start_time": "2023-04-30T13:32:23.493Z"
   },
   {
    "duration": 154,
    "start_time": "2023-04-30T13:32:23.506Z"
   },
   {
    "duration": 150,
    "start_time": "2023-04-30T13:32:23.662Z"
   },
   {
    "duration": 11,
    "start_time": "2023-04-30T13:32:23.814Z"
   },
   {
    "duration": 143,
    "start_time": "2023-04-30T13:32:23.833Z"
   },
   {
    "duration": 163,
    "start_time": "2023-04-30T13:32:23.978Z"
   },
   {
    "duration": 156,
    "start_time": "2023-04-30T13:32:24.143Z"
   },
   {
    "duration": 3,
    "start_time": "2023-04-30T13:32:24.301Z"
   },
   {
    "duration": 447,
    "start_time": "2023-04-30T13:32:24.308Z"
   },
   {
    "duration": 362,
    "start_time": "2023-04-30T13:32:24.757Z"
   },
   {
    "duration": 305,
    "start_time": "2023-04-30T13:32:25.120Z"
   },
   {
    "duration": 11,
    "start_time": "2023-04-30T13:32:25.426Z"
   },
   {
    "duration": 65,
    "start_time": "2023-04-30T13:32:25.438Z"
   },
   {
    "duration": 51,
    "start_time": "2023-04-30T13:32:25.504Z"
   },
   {
    "duration": 23,
    "start_time": "2023-04-30T13:32:25.557Z"
   },
   {
    "duration": 13,
    "start_time": "2023-04-30T14:00:39.150Z"
   },
   {
    "duration": 10,
    "start_time": "2023-04-30T14:00:46.137Z"
   },
   {
    "duration": 7,
    "start_time": "2023-04-30T14:01:04.048Z"
   },
   {
    "duration": 16,
    "start_time": "2023-04-30T14:01:07.513Z"
   },
   {
    "duration": 10,
    "start_time": "2023-04-30T14:01:31.498Z"
   },
   {
    "duration": 1097,
    "start_time": "2023-04-30T14:07:10.942Z"
   },
   {
    "duration": 52,
    "start_time": "2023-04-30T14:07:12.041Z"
   },
   {
    "duration": 21,
    "start_time": "2023-04-30T14:07:12.094Z"
   },
   {
    "duration": 13,
    "start_time": "2023-04-30T14:07:12.117Z"
   },
   {
    "duration": 18,
    "start_time": "2023-04-30T14:07:12.132Z"
   },
   {
    "duration": 12,
    "start_time": "2023-04-30T14:07:12.151Z"
   },
   {
    "duration": 22,
    "start_time": "2023-04-30T14:07:12.165Z"
   },
   {
    "duration": 4,
    "start_time": "2023-04-30T14:07:12.188Z"
   },
   {
    "duration": 160,
    "start_time": "2023-04-30T14:07:12.194Z"
   },
   {
    "duration": 13,
    "start_time": "2023-04-30T14:07:12.357Z"
   },
   {
    "duration": 5,
    "start_time": "2023-04-30T14:07:12.371Z"
   },
   {
    "duration": 13,
    "start_time": "2023-04-30T14:07:12.377Z"
   },
   {
    "duration": 4,
    "start_time": "2023-04-30T14:07:12.391Z"
   },
   {
    "duration": 9,
    "start_time": "2023-04-30T14:07:12.396Z"
   },
   {
    "duration": 6,
    "start_time": "2023-04-30T14:07:12.406Z"
   },
   {
    "duration": 21,
    "start_time": "2023-04-30T14:07:12.413Z"
   },
   {
    "duration": 6,
    "start_time": "2023-04-30T14:07:12.436Z"
   },
   {
    "duration": 12,
    "start_time": "2023-04-30T14:07:12.443Z"
   },
   {
    "duration": 14,
    "start_time": "2023-04-30T14:07:12.457Z"
   },
   {
    "duration": 4,
    "start_time": "2023-04-30T14:07:12.472Z"
   },
   {
    "duration": 8,
    "start_time": "2023-04-30T14:07:12.477Z"
   },
   {
    "duration": 14,
    "start_time": "2023-04-30T14:07:12.487Z"
   },
   {
    "duration": 4,
    "start_time": "2023-04-30T14:07:12.503Z"
   },
   {
    "duration": 12,
    "start_time": "2023-04-30T14:07:12.533Z"
   },
   {
    "duration": 305,
    "start_time": "2023-04-30T14:07:12.547Z"
   },
   {
    "duration": 268,
    "start_time": "2023-04-30T14:07:12.853Z"
   },
   {
    "duration": 987,
    "start_time": "2023-04-30T14:07:13.122Z"
   },
   {
    "duration": 7,
    "start_time": "2023-04-30T14:07:14.114Z"
   },
   {
    "duration": 16,
    "start_time": "2023-04-30T14:07:14.122Z"
   },
   {
    "duration": 146,
    "start_time": "2023-04-30T14:07:14.139Z"
   },
   {
    "duration": 1619,
    "start_time": "2023-04-30T14:07:14.286Z"
   },
   {
    "duration": 260,
    "start_time": "2023-04-30T14:07:15.907Z"
   },
   {
    "duration": 11,
    "start_time": "2023-04-30T14:07:16.169Z"
   },
   {
    "duration": 165,
    "start_time": "2023-04-30T14:07:16.181Z"
   },
   {
    "duration": 144,
    "start_time": "2023-04-30T14:07:16.347Z"
   },
   {
    "duration": 12,
    "start_time": "2023-04-30T14:07:16.493Z"
   },
   {
    "duration": 151,
    "start_time": "2023-04-30T14:07:16.506Z"
   },
   {
    "duration": 144,
    "start_time": "2023-04-30T14:07:16.659Z"
   },
   {
    "duration": 155,
    "start_time": "2023-04-30T14:07:16.804Z"
   },
   {
    "duration": 5,
    "start_time": "2023-04-30T14:07:16.961Z"
   },
   {
    "duration": 490,
    "start_time": "2023-04-30T14:07:16.968Z"
   },
   {
    "duration": 364,
    "start_time": "2023-04-30T14:07:17.459Z"
   },
   {
    "duration": 322,
    "start_time": "2023-04-30T14:07:17.824Z"
   },
   {
    "duration": 9,
    "start_time": "2023-04-30T14:07:18.148Z"
   },
   {
    "duration": 7,
    "start_time": "2023-04-30T14:07:18.158Z"
   },
   {
    "duration": 18,
    "start_time": "2023-04-30T14:07:18.166Z"
   },
   {
    "duration": 14,
    "start_time": "2023-04-30T14:07:18.185Z"
   },
   {
    "duration": 10,
    "start_time": "2023-04-30T14:07:18.200Z"
   },
   {
    "duration": 1258,
    "start_time": "2023-04-30T17:39:50.340Z"
   },
   {
    "duration": 193,
    "start_time": "2023-04-30T17:39:54.042Z"
   },
   {
    "duration": 26,
    "start_time": "2023-04-30T17:40:01.739Z"
   },
   {
    "duration": 16,
    "start_time": "2023-04-30T17:40:07.931Z"
   },
   {
    "duration": 3,
    "start_time": "2023-04-30T17:40:16.935Z"
   },
   {
    "duration": 4,
    "start_time": "2023-04-30T17:40:20.851Z"
   },
   {
    "duration": 10,
    "start_time": "2023-04-30T17:40:28.452Z"
   },
   {
    "duration": 4,
    "start_time": "2023-04-30T17:40:32.981Z"
   },
   {
    "duration": 203,
    "start_time": "2023-04-30T17:41:11.846Z"
   },
   {
    "duration": 20,
    "start_time": "2023-04-30T17:41:46.822Z"
   },
   {
    "duration": 5,
    "start_time": "2023-04-30T17:41:51.334Z"
   },
   {
    "duration": 10,
    "start_time": "2023-04-30T17:41:53.215Z"
   },
   {
    "duration": 12,
    "start_time": "2023-04-30T17:41:56.785Z"
   },
   {
    "duration": 6,
    "start_time": "2023-04-30T17:42:39.383Z"
   },
   {
    "duration": 4,
    "start_time": "2023-04-30T17:43:03.141Z"
   },
   {
    "duration": 5,
    "start_time": "2023-04-30T17:43:41.606Z"
   },
   {
    "duration": 6,
    "start_time": "2023-04-30T17:44:17.029Z"
   },
   {
    "duration": 13,
    "start_time": "2023-04-30T17:44:22.043Z"
   },
   {
    "duration": 24,
    "start_time": "2023-04-30T17:44:55.980Z"
   },
   {
    "duration": 5,
    "start_time": "2023-04-30T17:44:57.048Z"
   },
   {
    "duration": 14,
    "start_time": "2023-04-30T17:44:58.080Z"
   },
   {
    "duration": 18,
    "start_time": "2023-04-30T17:45:00.727Z"
   },
   {
    "duration": 6,
    "start_time": "2023-04-30T17:45:45.586Z"
   },
   {
    "duration": 14,
    "start_time": "2023-04-30T17:45:53.015Z"
   },
   {
    "duration": 111,
    "start_time": "2023-04-30T17:47:31.864Z"
   },
   {
    "duration": 8,
    "start_time": "2023-04-30T17:48:01.609Z"
   },
   {
    "duration": 15,
    "start_time": "2023-04-30T17:49:36.862Z"
   },
   {
    "duration": 8,
    "start_time": "2023-04-30T18:15:16.010Z"
   },
   {
    "duration": 16,
    "start_time": "2023-04-30T18:15:24.210Z"
   },
   {
    "duration": 7,
    "start_time": "2023-04-30T18:18:56.638Z"
   },
   {
    "duration": 12,
    "start_time": "2023-04-30T18:19:25.313Z"
   },
   {
    "duration": 9,
    "start_time": "2023-04-30T18:19:52.141Z"
   },
   {
    "duration": 10,
    "start_time": "2023-04-30T18:20:37.117Z"
   },
   {
    "duration": 13,
    "start_time": "2023-04-30T18:22:05.929Z"
   },
   {
    "duration": 9,
    "start_time": "2023-04-30T18:22:22.902Z"
   },
   {
    "duration": 13,
    "start_time": "2023-04-30T18:48:25.145Z"
   },
   {
    "duration": 3,
    "start_time": "2023-04-30T18:50:43.254Z"
   },
   {
    "duration": 6,
    "start_time": "2023-04-30T18:50:54.359Z"
   },
   {
    "duration": 413,
    "start_time": "2023-04-30T18:51:45.378Z"
   },
   {
    "duration": 373,
    "start_time": "2023-04-30T18:52:07.994Z"
   },
   {
    "duration": 745,
    "start_time": "2023-04-30T18:53:16.276Z"
   },
   {
    "duration": 754,
    "start_time": "2023-04-30T18:54:16.947Z"
   },
   {
    "duration": 372,
    "start_time": "2023-04-30T18:54:47.093Z"
   },
   {
    "duration": 705,
    "start_time": "2023-04-30T18:55:12.230Z"
   },
   {
    "duration": 744,
    "start_time": "2023-04-30T18:55:28.111Z"
   },
   {
    "duration": 805,
    "start_time": "2023-04-30T18:56:27.490Z"
   },
   {
    "duration": 11,
    "start_time": "2023-04-30T18:57:27.350Z"
   },
   {
    "duration": 18,
    "start_time": "2023-04-30T18:57:33.196Z"
   },
   {
    "duration": 15,
    "start_time": "2023-04-30T18:57:43.517Z"
   },
   {
    "duration": 17,
    "start_time": "2023-04-30T18:58:02.776Z"
   },
   {
    "duration": 23,
    "start_time": "2023-04-30T18:59:21.881Z"
   },
   {
    "duration": 13,
    "start_time": "2023-04-30T19:56:56.130Z"
   },
   {
    "duration": 17,
    "start_time": "2023-04-30T20:00:18.465Z"
   },
   {
    "duration": 26,
    "start_time": "2023-04-30T20:00:56.507Z"
   },
   {
    "duration": 358,
    "start_time": "2023-04-30T20:13:47.992Z"
   },
   {
    "duration": 394,
    "start_time": "2023-04-30T20:14:00.425Z"
   },
   {
    "duration": 12,
    "start_time": "2023-04-30T20:19:49.393Z"
   },
   {
    "duration": 33,
    "start_time": "2023-04-30T20:20:00.851Z"
   },
   {
    "duration": 64,
    "start_time": "2023-04-30T20:22:30.990Z"
   },
   {
    "duration": 15,
    "start_time": "2023-04-30T20:23:13.370Z"
   },
   {
    "duration": 4,
    "start_time": "2023-04-30T20:23:23.361Z"
   },
   {
    "duration": 18,
    "start_time": "2023-04-30T20:23:25.329Z"
   },
   {
    "duration": 9,
    "start_time": "2023-04-30T21:04:20.643Z"
   },
   {
    "duration": 6,
    "start_time": "2023-04-30T21:04:27.845Z"
   },
   {
    "duration": 16,
    "start_time": "2023-04-30T21:04:28.828Z"
   },
   {
    "duration": 9,
    "start_time": "2023-04-30T21:05:00.737Z"
   },
   {
    "duration": 9,
    "start_time": "2023-04-30T21:06:04.219Z"
   },
   {
    "duration": 680,
    "start_time": "2023-04-30T21:06:57.263Z"
   },
   {
    "duration": 380,
    "start_time": "2023-04-30T21:12:00.427Z"
   },
   {
    "duration": 695,
    "start_time": "2023-04-30T21:12:58.710Z"
   },
   {
    "duration": 919,
    "start_time": "2023-04-30T21:15:47.124Z"
   },
   {
    "duration": 7,
    "start_time": "2023-04-30T21:16:14.212Z"
   },
   {
    "duration": 725,
    "start_time": "2023-04-30T21:17:15.578Z"
   },
   {
    "duration": 17,
    "start_time": "2023-04-30T21:17:29.971Z"
   },
   {
    "duration": 18,
    "start_time": "2023-04-30T21:17:46.528Z"
   },
   {
    "duration": 734,
    "start_time": "2023-04-30T21:27:41.284Z"
   },
   {
    "duration": 20,
    "start_time": "2023-04-30T21:28:20.181Z"
   },
   {
    "duration": 24,
    "start_time": "2023-04-30T21:28:32.182Z"
   },
   {
    "duration": 51,
    "start_time": "2023-04-30T21:29:06.482Z"
   },
   {
    "duration": 4,
    "start_time": "2023-04-30T22:13:19.579Z"
   },
   {
    "duration": 112,
    "start_time": "2023-04-30T22:13:20.698Z"
   },
   {
    "duration": 5,
    "start_time": "2023-04-30T22:13:33.108Z"
   },
   {
    "duration": 141,
    "start_time": "2023-04-30T22:13:34.859Z"
   },
   {
    "duration": 45,
    "start_time": "2023-04-30T22:14:38.931Z"
   },
   {
    "duration": 0,
    "start_time": "2023-04-30T22:14:38.978Z"
   },
   {
    "duration": 0,
    "start_time": "2023-04-30T22:14:38.979Z"
   },
   {
    "duration": 0,
    "start_time": "2023-04-30T22:14:38.980Z"
   },
   {
    "duration": 0,
    "start_time": "2023-04-30T22:14:38.981Z"
   },
   {
    "duration": 0,
    "start_time": "2023-04-30T22:14:38.982Z"
   },
   {
    "duration": 0,
    "start_time": "2023-04-30T22:14:38.983Z"
   },
   {
    "duration": 0,
    "start_time": "2023-04-30T22:14:38.984Z"
   },
   {
    "duration": 0,
    "start_time": "2023-04-30T22:14:38.985Z"
   },
   {
    "duration": 6,
    "start_time": "2023-04-30T22:14:38.987Z"
   },
   {
    "duration": 0,
    "start_time": "2023-04-30T22:14:38.994Z"
   },
   {
    "duration": 6,
    "start_time": "2023-04-30T22:14:38.996Z"
   },
   {
    "duration": 0,
    "start_time": "2023-04-30T22:14:39.004Z"
   },
   {
    "duration": 6,
    "start_time": "2023-04-30T22:14:39.005Z"
   },
   {
    "duration": 0,
    "start_time": "2023-04-30T22:14:39.012Z"
   },
   {
    "duration": 6,
    "start_time": "2023-04-30T22:14:39.023Z"
   },
   {
    "duration": 0,
    "start_time": "2023-04-30T22:14:39.030Z"
   },
   {
    "duration": 6,
    "start_time": "2023-04-30T22:14:39.090Z"
   },
   {
    "duration": 0,
    "start_time": "2023-04-30T22:14:39.098Z"
   },
   {
    "duration": 0,
    "start_time": "2023-04-30T22:14:39.100Z"
   },
   {
    "duration": 0,
    "start_time": "2023-04-30T22:14:39.101Z"
   },
   {
    "duration": 0,
    "start_time": "2023-04-30T22:14:39.102Z"
   },
   {
    "duration": 0,
    "start_time": "2023-04-30T22:14:39.104Z"
   },
   {
    "duration": 0,
    "start_time": "2023-04-30T22:14:39.105Z"
   },
   {
    "duration": 9,
    "start_time": "2023-04-30T22:14:39.109Z"
   },
   {
    "duration": 0,
    "start_time": "2023-04-30T22:14:39.120Z"
   },
   {
    "duration": 9,
    "start_time": "2023-04-30T22:14:39.122Z"
   },
   {
    "duration": 0,
    "start_time": "2023-04-30T22:14:39.132Z"
   },
   {
    "duration": 9,
    "start_time": "2023-04-30T22:14:39.188Z"
   },
   {
    "duration": 0,
    "start_time": "2023-04-30T22:14:39.199Z"
   },
   {
    "duration": 0,
    "start_time": "2023-04-30T22:14:39.200Z"
   },
   {
    "duration": 0,
    "start_time": "2023-04-30T22:14:39.201Z"
   },
   {
    "duration": 0,
    "start_time": "2023-04-30T22:14:39.202Z"
   },
   {
    "duration": 0,
    "start_time": "2023-04-30T22:14:39.203Z"
   },
   {
    "duration": 0,
    "start_time": "2023-04-30T22:14:39.204Z"
   },
   {
    "duration": 0,
    "start_time": "2023-04-30T22:14:39.205Z"
   },
   {
    "duration": 6,
    "start_time": "2023-04-30T22:14:39.207Z"
   },
   {
    "duration": 0,
    "start_time": "2023-04-30T22:14:39.214Z"
   },
   {
    "duration": 0,
    "start_time": "2023-04-30T22:14:39.215Z"
   },
   {
    "duration": 6,
    "start_time": "2023-04-30T22:14:39.217Z"
   },
   {
    "duration": 0,
    "start_time": "2023-04-30T22:14:39.224Z"
   },
   {
    "duration": 56,
    "start_time": "2023-04-30T22:14:39.230Z"
   },
   {
    "duration": 0,
    "start_time": "2023-04-30T22:14:39.289Z"
   },
   {
    "duration": 0,
    "start_time": "2023-04-30T22:14:39.290Z"
   },
   {
    "duration": 0,
    "start_time": "2023-04-30T22:14:39.292Z"
   },
   {
    "duration": 0,
    "start_time": "2023-04-30T22:14:39.294Z"
   },
   {
    "duration": 4,
    "start_time": "2023-04-30T22:15:18.981Z"
   },
   {
    "duration": 6,
    "start_time": "2023-04-30T22:15:20.058Z"
   },
   {
    "duration": 1127,
    "start_time": "2023-04-30T22:15:38.857Z"
   },
   {
    "duration": 52,
    "start_time": "2023-04-30T22:15:39.986Z"
   },
   {
    "duration": 24,
    "start_time": "2023-04-30T22:15:40.040Z"
   },
   {
    "duration": 15,
    "start_time": "2023-04-30T22:15:40.067Z"
   },
   {
    "duration": 4,
    "start_time": "2023-04-30T22:15:40.084Z"
   },
   {
    "duration": 6,
    "start_time": "2023-04-30T22:15:40.090Z"
   },
   {
    "duration": 9,
    "start_time": "2023-04-30T22:15:40.097Z"
   },
   {
    "duration": 6,
    "start_time": "2023-04-30T22:15:40.108Z"
   },
   {
    "duration": 202,
    "start_time": "2023-04-30T22:15:40.116Z"
   },
   {
    "duration": 4,
    "start_time": "2023-04-30T22:15:51.381Z"
   },
   {
    "duration": 156,
    "start_time": "2023-04-30T22:15:52.213Z"
   },
   {
    "duration": 4,
    "start_time": "2023-04-30T22:16:07.229Z"
   },
   {
    "duration": 138,
    "start_time": "2023-04-30T22:16:08.898Z"
   },
   {
    "duration": 7,
    "start_time": "2023-04-30T22:16:22.514Z"
   },
   {
    "duration": 168,
    "start_time": "2023-04-30T22:17:22.462Z"
   },
   {
    "duration": 6,
    "start_time": "2023-04-30T22:19:32.128Z"
   },
   {
    "duration": 235,
    "start_time": "2023-04-30T22:19:34.516Z"
   },
   {
    "duration": 5,
    "start_time": "2023-04-30T22:19:56.592Z"
   },
   {
    "duration": 161,
    "start_time": "2023-04-30T22:19:58.287Z"
   },
   {
    "duration": 4,
    "start_time": "2023-04-30T22:20:26.110Z"
   },
   {
    "duration": 165,
    "start_time": "2023-04-30T22:20:26.647Z"
   },
   {
    "duration": 4,
    "start_time": "2023-04-30T22:20:31.286Z"
   },
   {
    "duration": 174,
    "start_time": "2023-04-30T22:20:32.382Z"
   },
   {
    "duration": 5,
    "start_time": "2023-04-30T22:20:52.450Z"
   },
   {
    "duration": 9,
    "start_time": "2023-04-30T22:20:53.417Z"
   },
   {
    "duration": 4,
    "start_time": "2023-04-30T22:20:59.921Z"
   },
   {
    "duration": 271,
    "start_time": "2023-04-30T22:21:00.517Z"
   },
   {
    "duration": 4,
    "start_time": "2023-04-30T22:21:09.921Z"
   },
   {
    "duration": 144,
    "start_time": "2023-04-30T22:21:10.890Z"
   },
   {
    "duration": 4,
    "start_time": "2023-04-30T22:21:33.889Z"
   },
   {
    "duration": 152,
    "start_time": "2023-04-30T22:21:34.938Z"
   },
   {
    "duration": 4,
    "start_time": "2023-04-30T22:23:49.539Z"
   },
   {
    "duration": 150,
    "start_time": "2023-04-30T22:23:50.519Z"
   },
   {
    "duration": 105,
    "start_time": "2023-04-30T22:27:52.109Z"
   },
   {
    "duration": 7,
    "start_time": "2023-04-30T22:28:09.923Z"
   },
   {
    "duration": 28,
    "start_time": "2023-04-30T22:31:47.578Z"
   },
   {
    "duration": 30,
    "start_time": "2023-04-30T22:33:16.974Z"
   },
   {
    "duration": 15,
    "start_time": "2023-04-30T22:35:15.416Z"
   },
   {
    "duration": 8,
    "start_time": "2023-04-30T22:35:40.566Z"
   },
   {
    "duration": 10,
    "start_time": "2023-04-30T22:36:03.674Z"
   },
   {
    "duration": 779,
    "start_time": "2023-04-30T22:37:50.672Z"
   },
   {
    "duration": 1160,
    "start_time": "2023-04-30T22:38:35.253Z"
   },
   {
    "duration": 51,
    "start_time": "2023-04-30T22:38:36.415Z"
   },
   {
    "duration": 29,
    "start_time": "2023-04-30T22:38:36.468Z"
   },
   {
    "duration": 13,
    "start_time": "2023-04-30T22:38:36.500Z"
   },
   {
    "duration": 3,
    "start_time": "2023-04-30T22:38:36.515Z"
   },
   {
    "duration": 7,
    "start_time": "2023-04-30T22:38:36.519Z"
   },
   {
    "duration": 11,
    "start_time": "2023-04-30T22:38:36.528Z"
   },
   {
    "duration": 4,
    "start_time": "2023-04-30T22:38:36.541Z"
   },
   {
    "duration": 223,
    "start_time": "2023-04-30T22:38:36.547Z"
   },
   {
    "duration": 4,
    "start_time": "2023-04-30T22:38:36.773Z"
   },
   {
    "duration": 173,
    "start_time": "2023-04-30T22:38:36.785Z"
   },
   {
    "duration": 2,
    "start_time": "2023-04-30T22:38:36.960Z"
   },
   {
    "duration": 835,
    "start_time": "2023-04-30T22:38:45.217Z"
   },
   {
    "duration": 27,
    "start_time": "2023-04-30T22:42:04.553Z"
   },
   {
    "duration": 14,
    "start_time": "2023-04-30T22:45:35.252Z"
   },
   {
    "duration": 30,
    "start_time": "2023-04-30T22:48:57.431Z"
   },
   {
    "duration": 8,
    "start_time": "2023-04-30T22:57:22.738Z"
   },
   {
    "duration": 5,
    "start_time": "2023-04-30T22:57:24.326Z"
   },
   {
    "duration": 9,
    "start_time": "2023-04-30T22:57:25.395Z"
   },
   {
    "duration": 6,
    "start_time": "2023-04-30T22:57:27.059Z"
   },
   {
    "duration": 3,
    "start_time": "2023-04-30T22:58:14.179Z"
   },
   {
    "duration": 4,
    "start_time": "2023-04-30T22:58:21.876Z"
   },
   {
    "duration": 5,
    "start_time": "2023-04-30T22:58:24.204Z"
   },
   {
    "duration": 5,
    "start_time": "2023-04-30T22:58:29.865Z"
   },
   {
    "duration": 5,
    "start_time": "2023-04-30T22:58:31.926Z"
   },
   {
    "duration": 5,
    "start_time": "2023-04-30T22:58:34.839Z"
   },
   {
    "duration": 9,
    "start_time": "2023-04-30T22:58:36.824Z"
   },
   {
    "duration": 13,
    "start_time": "2023-04-30T23:06:23.162Z"
   },
   {
    "duration": 7,
    "start_time": "2023-04-30T23:09:07.979Z"
   },
   {
    "duration": 6,
    "start_time": "2023-04-30T23:09:10.538Z"
   },
   {
    "duration": 14,
    "start_time": "2023-04-30T23:13:29.388Z"
   },
   {
    "duration": 4,
    "start_time": "2023-04-30T23:13:33.457Z"
   },
   {
    "duration": 6,
    "start_time": "2023-04-30T23:13:35.181Z"
   },
   {
    "duration": 14,
    "start_time": "2023-04-30T23:13:45.557Z"
   },
   {
    "duration": 5,
    "start_time": "2023-04-30T23:21:45.869Z"
   },
   {
    "duration": 12,
    "start_time": "2023-04-30T23:27:32.628Z"
   },
   {
    "duration": 9,
    "start_time": "2023-04-30T23:28:06.914Z"
   },
   {
    "duration": 9,
    "start_time": "2023-04-30T23:29:43.295Z"
   },
   {
    "duration": 14,
    "start_time": "2023-04-30T23:30:11.984Z"
   },
   {
    "duration": 733,
    "start_time": "2023-04-30T23:31:04.885Z"
   },
   {
    "duration": 8,
    "start_time": "2023-04-30T23:32:34.081Z"
   },
   {
    "duration": 9,
    "start_time": "2023-04-30T23:32:41.159Z"
   },
   {
    "duration": 8,
    "start_time": "2023-04-30T23:32:58.656Z"
   },
   {
    "duration": 60,
    "start_time": "2023-04-30T23:34:34.210Z"
   },
   {
    "duration": 13,
    "start_time": "2023-04-30T23:35:18.263Z"
   },
   {
    "duration": 13,
    "start_time": "2023-04-30T23:35:38.131Z"
   },
   {
    "duration": 14,
    "start_time": "2023-04-30T23:36:56.526Z"
   },
   {
    "duration": 10,
    "start_time": "2023-04-30T23:38:10.091Z"
   },
   {
    "duration": 9,
    "start_time": "2023-04-30T23:38:30.091Z"
   },
   {
    "duration": 13,
    "start_time": "2023-04-30T23:38:44.593Z"
   },
   {
    "duration": 6,
    "start_time": "2023-04-30T23:41:31.178Z"
   },
   {
    "duration": 15,
    "start_time": "2023-04-30T23:41:36.587Z"
   },
   {
    "duration": 333,
    "start_time": "2023-04-30T23:41:51.380Z"
   },
   {
    "duration": 1518,
    "start_time": "2023-05-01T11:25:59.411Z"
   },
   {
    "duration": 4,
    "start_time": "2023-05-01T11:26:00.932Z"
   },
   {
    "duration": 252,
    "start_time": "2023-05-01T11:26:00.938Z"
   },
   {
    "duration": 36,
    "start_time": "2023-05-01T11:26:01.192Z"
   },
   {
    "duration": 21,
    "start_time": "2023-05-01T11:26:01.230Z"
   },
   {
    "duration": 12,
    "start_time": "2023-05-01T11:26:01.253Z"
   },
   {
    "duration": 42,
    "start_time": "2023-05-01T11:26:01.267Z"
   },
   {
    "duration": 44,
    "start_time": "2023-05-01T11:26:01.311Z"
   },
   {
    "duration": 38,
    "start_time": "2023-05-01T11:26:01.356Z"
   },
   {
    "duration": 223,
    "start_time": "2023-05-01T11:26:01.397Z"
   },
   {
    "duration": 6,
    "start_time": "2023-05-01T11:26:01.622Z"
   },
   {
    "duration": 227,
    "start_time": "2023-05-01T11:26:01.629Z"
   },
   {
    "duration": 3,
    "start_time": "2023-05-01T11:26:01.858Z"
   },
   {
    "duration": 45,
    "start_time": "2023-05-01T11:26:01.863Z"
   },
   {
    "duration": 48,
    "start_time": "2023-05-01T11:26:01.910Z"
   },
   {
    "duration": 29,
    "start_time": "2023-05-01T11:26:01.959Z"
   },
   {
    "duration": 12,
    "start_time": "2023-05-01T11:26:01.990Z"
   },
   {
    "duration": 27,
    "start_time": "2023-05-01T11:26:02.004Z"
   },
   {
    "duration": 32,
    "start_time": "2023-05-01T11:26:02.033Z"
   },
   {
    "duration": 34,
    "start_time": "2023-05-01T11:26:02.067Z"
   },
   {
    "duration": 39,
    "start_time": "2023-05-01T11:26:02.103Z"
   },
   {
    "duration": 40,
    "start_time": "2023-05-01T11:26:02.145Z"
   },
   {
    "duration": 20,
    "start_time": "2023-05-01T11:26:02.187Z"
   },
   {
    "duration": 32,
    "start_time": "2023-05-01T11:26:02.209Z"
   },
   {
    "duration": 11,
    "start_time": "2023-05-01T11:26:02.243Z"
   },
   {
    "duration": 15,
    "start_time": "2023-05-01T11:26:02.255Z"
   },
   {
    "duration": 7,
    "start_time": "2023-05-01T11:26:02.272Z"
   },
   {
    "duration": 7,
    "start_time": "2023-05-01T11:26:02.282Z"
   },
   {
    "duration": 16,
    "start_time": "2023-05-01T11:26:02.291Z"
   },
   {
    "duration": 10,
    "start_time": "2023-05-01T11:26:11.728Z"
   },
   {
    "duration": 23,
    "start_time": "2023-05-01T11:26:12.805Z"
   },
   {
    "duration": 11,
    "start_time": "2023-05-01T11:26:14.003Z"
   },
   {
    "duration": 11,
    "start_time": "2023-05-01T11:26:19.437Z"
   },
   {
    "duration": 25,
    "start_time": "2023-05-01T11:26:24.212Z"
   },
   {
    "duration": 380,
    "start_time": "2023-05-01T11:26:34.578Z"
   },
   {
    "duration": 316,
    "start_time": "2023-05-01T11:26:43.549Z"
   },
   {
    "duration": 1155,
    "start_time": "2023-05-01T11:27:50.505Z"
   },
   {
    "duration": 1104,
    "start_time": "2023-05-01T11:28:01.369Z"
   },
   {
    "duration": 118,
    "start_time": "2023-05-01T12:06:37.665Z"
   },
   {
    "duration": 38,
    "start_time": "2023-05-01T12:06:45.601Z"
   },
   {
    "duration": 13,
    "start_time": "2023-05-01T12:07:04.366Z"
   },
   {
    "duration": 25,
    "start_time": "2023-05-01T12:07:30.627Z"
   },
   {
    "duration": 30,
    "start_time": "2023-05-01T12:08:31.694Z"
   },
   {
    "duration": 24,
    "start_time": "2023-05-01T12:08:48.351Z"
   },
   {
    "duration": 31,
    "start_time": "2023-05-01T12:13:47.883Z"
   },
   {
    "duration": 13,
    "start_time": "2023-05-01T12:13:57.086Z"
   },
   {
    "duration": 19,
    "start_time": "2023-05-01T12:14:16.094Z"
   },
   {
    "duration": 10,
    "start_time": "2023-05-01T12:14:27.548Z"
   },
   {
    "duration": 21,
    "start_time": "2023-05-01T12:15:01.804Z"
   },
   {
    "duration": 19,
    "start_time": "2023-05-01T12:22:04.709Z"
   },
   {
    "duration": 15,
    "start_time": "2023-05-01T12:25:22.729Z"
   },
   {
    "duration": 7,
    "start_time": "2023-05-01T12:27:25.405Z"
   },
   {
    "duration": 9,
    "start_time": "2023-05-01T12:27:59.952Z"
   },
   {
    "duration": 10,
    "start_time": "2023-05-01T12:34:18.634Z"
   },
   {
    "duration": 1253,
    "start_time": "2023-05-01T12:35:02.661Z"
   },
   {
    "duration": 5,
    "start_time": "2023-05-01T12:35:03.916Z"
   },
   {
    "duration": 70,
    "start_time": "2023-05-01T12:35:03.923Z"
   },
   {
    "duration": 29,
    "start_time": "2023-05-01T12:35:03.995Z"
   },
   {
    "duration": 19,
    "start_time": "2023-05-01T12:35:04.026Z"
   },
   {
    "duration": 3,
    "start_time": "2023-05-01T12:35:04.047Z"
   },
   {
    "duration": 7,
    "start_time": "2023-05-01T12:35:04.052Z"
   },
   {
    "duration": 14,
    "start_time": "2023-05-01T12:35:04.061Z"
   },
   {
    "duration": 6,
    "start_time": "2023-05-01T12:35:04.077Z"
   },
   {
    "duration": 245,
    "start_time": "2023-05-01T12:35:04.085Z"
   },
   {
    "duration": 4,
    "start_time": "2023-05-01T12:35:04.332Z"
   },
   {
    "duration": 165,
    "start_time": "2023-05-01T12:35:04.338Z"
   },
   {
    "duration": 12,
    "start_time": "2023-05-01T12:35:04.505Z"
   },
   {
    "duration": 22,
    "start_time": "2023-05-01T12:35:04.521Z"
   },
   {
    "duration": 37,
    "start_time": "2023-05-01T12:35:04.545Z"
   },
   {
    "duration": 63,
    "start_time": "2023-05-01T12:35:04.584Z"
   },
   {
    "duration": 10,
    "start_time": "2023-05-01T12:35:04.649Z"
   },
   {
    "duration": 9,
    "start_time": "2023-05-01T12:35:04.660Z"
   },
   {
    "duration": 13,
    "start_time": "2023-05-01T12:35:04.671Z"
   },
   {
    "duration": 32,
    "start_time": "2023-05-01T12:35:04.686Z"
   },
   {
    "duration": 26,
    "start_time": "2023-05-01T12:35:04.719Z"
   },
   {
    "duration": 16,
    "start_time": "2023-05-01T12:35:04.746Z"
   },
   {
    "duration": 16,
    "start_time": "2023-05-01T12:35:04.764Z"
   },
   {
    "duration": 11,
    "start_time": "2023-05-01T12:35:04.782Z"
   },
   {
    "duration": 22,
    "start_time": "2023-05-01T12:35:04.795Z"
   },
   {
    "duration": 32,
    "start_time": "2023-05-01T12:35:04.818Z"
   },
   {
    "duration": 4,
    "start_time": "2023-05-01T12:35:04.851Z"
   },
   {
    "duration": 10,
    "start_time": "2023-05-01T12:35:04.857Z"
   },
   {
    "duration": 15,
    "start_time": "2023-05-01T12:35:04.870Z"
   },
   {
    "duration": 9,
    "start_time": "2023-05-01T12:35:04.887Z"
   },
   {
    "duration": 26,
    "start_time": "2023-05-01T12:35:04.898Z"
   },
   {
    "duration": 13,
    "start_time": "2023-05-01T12:35:04.925Z"
   },
   {
    "duration": 13,
    "start_time": "2023-05-01T12:35:04.940Z"
   },
   {
    "duration": 16,
    "start_time": "2023-05-01T12:35:04.955Z"
   },
   {
    "duration": 377,
    "start_time": "2023-05-01T12:35:04.973Z"
   },
   {
    "duration": 352,
    "start_time": "2023-05-01T12:35:05.353Z"
   },
   {
    "duration": 1249,
    "start_time": "2023-05-01T12:35:05.707Z"
   },
   {
    "duration": 17,
    "start_time": "2023-05-01T12:35:06.957Z"
   },
   {
    "duration": 13,
    "start_time": "2023-05-01T12:35:06.975Z"
   },
   {
    "duration": 25,
    "start_time": "2023-05-01T12:35:06.990Z"
   },
   {
    "duration": 7,
    "start_time": "2023-05-01T12:35:11.125Z"
   },
   {
    "duration": 8,
    "start_time": "2023-05-01T12:35:12.426Z"
   },
   {
    "duration": 13,
    "start_time": "2023-05-01T12:35:18.782Z"
   },
   {
    "duration": 1348,
    "start_time": "2023-05-01T12:37:21.602Z"
   },
   {
    "duration": 3,
    "start_time": "2023-05-01T12:37:22.952Z"
   },
   {
    "duration": 79,
    "start_time": "2023-05-01T12:37:22.957Z"
   },
   {
    "duration": 37,
    "start_time": "2023-05-01T12:37:23.039Z"
   },
   {
    "duration": 35,
    "start_time": "2023-05-01T12:37:23.080Z"
   },
   {
    "duration": 9,
    "start_time": "2023-05-01T12:37:23.119Z"
   },
   {
    "duration": 8,
    "start_time": "2023-05-01T12:37:23.131Z"
   },
   {
    "duration": 14,
    "start_time": "2023-05-01T12:37:23.142Z"
   },
   {
    "duration": 6,
    "start_time": "2023-05-01T12:37:23.158Z"
   },
   {
    "duration": 269,
    "start_time": "2023-05-01T12:37:23.166Z"
   },
   {
    "duration": 6,
    "start_time": "2023-05-01T12:37:23.437Z"
   },
   {
    "duration": 224,
    "start_time": "2023-05-01T12:37:23.445Z"
   },
   {
    "duration": 4,
    "start_time": "2023-05-01T12:37:23.671Z"
   },
   {
    "duration": 36,
    "start_time": "2023-05-01T12:37:23.679Z"
   },
   {
    "duration": 37,
    "start_time": "2023-05-01T12:37:23.719Z"
   },
   {
    "duration": 45,
    "start_time": "2023-05-01T12:37:23.758Z"
   },
   {
    "duration": 12,
    "start_time": "2023-05-01T12:37:23.817Z"
   },
   {
    "duration": 10,
    "start_time": "2023-05-01T12:37:23.831Z"
   },
   {
    "duration": 11,
    "start_time": "2023-05-01T12:37:23.844Z"
   },
   {
    "duration": 10,
    "start_time": "2023-05-01T12:37:23.857Z"
   },
   {
    "duration": 8,
    "start_time": "2023-05-01T12:37:23.869Z"
   },
   {
    "duration": 35,
    "start_time": "2023-05-01T12:37:23.879Z"
   },
   {
    "duration": 9,
    "start_time": "2023-05-01T12:37:23.917Z"
   },
   {
    "duration": 29,
    "start_time": "2023-05-01T12:37:23.928Z"
   },
   {
    "duration": 28,
    "start_time": "2023-05-01T12:37:23.960Z"
   },
   {
    "duration": 16,
    "start_time": "2023-05-01T12:37:23.990Z"
   },
   {
    "duration": 9,
    "start_time": "2023-05-01T12:37:24.008Z"
   },
   {
    "duration": 16,
    "start_time": "2023-05-01T12:37:24.019Z"
   },
   {
    "duration": 20,
    "start_time": "2023-05-01T12:37:24.040Z"
   },
   {
    "duration": 14,
    "start_time": "2023-05-01T12:37:24.062Z"
   },
   {
    "duration": 15,
    "start_time": "2023-05-01T12:37:24.078Z"
   },
   {
    "duration": 27,
    "start_time": "2023-05-01T12:37:24.095Z"
   },
   {
    "duration": 9,
    "start_time": "2023-05-01T12:37:24.124Z"
   },
   {
    "duration": 22,
    "start_time": "2023-05-01T12:37:24.136Z"
   },
   {
    "duration": 389,
    "start_time": "2023-05-01T12:37:24.160Z"
   },
   {
    "duration": 410,
    "start_time": "2023-05-01T12:37:24.551Z"
   },
   {
    "duration": 1244,
    "start_time": "2023-05-01T12:37:24.962Z"
   },
   {
    "duration": 27,
    "start_time": "2023-05-01T12:37:26.211Z"
   },
   {
    "duration": 25,
    "start_time": "2023-05-01T12:37:26.240Z"
   },
   {
    "duration": 3,
    "start_time": "2023-05-01T12:37:26.267Z"
   },
   {
    "duration": 8,
    "start_time": "2023-05-01T12:37:39.428Z"
   },
   {
    "duration": 24,
    "start_time": "2023-05-01T12:37:42.504Z"
   },
   {
    "duration": 117,
    "start_time": "2023-05-01T12:38:39.425Z"
   },
   {
    "duration": 15,
    "start_time": "2023-05-01T12:49:12.492Z"
   },
   {
    "duration": 15,
    "start_time": "2023-05-01T12:49:43.062Z"
   },
   {
    "duration": 12,
    "start_time": "2023-05-01T12:50:05.511Z"
   },
   {
    "duration": 13,
    "start_time": "2023-05-01T12:50:10.397Z"
   },
   {
    "duration": 1166,
    "start_time": "2023-05-01T12:51:09.852Z"
   },
   {
    "duration": 10,
    "start_time": "2023-05-01T12:51:11.020Z"
   },
   {
    "duration": 52,
    "start_time": "2023-05-01T12:51:11.032Z"
   },
   {
    "duration": 35,
    "start_time": "2023-05-01T12:51:11.086Z"
   },
   {
    "duration": 16,
    "start_time": "2023-05-01T12:51:11.125Z"
   },
   {
    "duration": 4,
    "start_time": "2023-05-01T12:51:11.143Z"
   },
   {
    "duration": 7,
    "start_time": "2023-05-01T12:51:11.148Z"
   },
   {
    "duration": 11,
    "start_time": "2023-05-01T12:51:11.156Z"
   },
   {
    "duration": 5,
    "start_time": "2023-05-01T12:51:11.169Z"
   },
   {
    "duration": 212,
    "start_time": "2023-05-01T12:51:11.176Z"
   },
   {
    "duration": 4,
    "start_time": "2023-05-01T12:51:11.391Z"
   },
   {
    "duration": 186,
    "start_time": "2023-05-01T12:51:11.397Z"
   },
   {
    "duration": 2,
    "start_time": "2023-05-01T12:51:11.585Z"
   },
   {
    "duration": 39,
    "start_time": "2023-05-01T12:51:11.590Z"
   },
   {
    "duration": 34,
    "start_time": "2023-05-01T12:51:11.631Z"
   },
   {
    "duration": 29,
    "start_time": "2023-05-01T12:51:11.666Z"
   },
   {
    "duration": 23,
    "start_time": "2023-05-01T12:51:11.697Z"
   },
   {
    "duration": 7,
    "start_time": "2023-05-01T12:51:11.726Z"
   },
   {
    "duration": 20,
    "start_time": "2023-05-01T12:51:11.735Z"
   },
   {
    "duration": 13,
    "start_time": "2023-05-01T12:51:11.757Z"
   },
   {
    "duration": 13,
    "start_time": "2023-05-01T12:51:11.772Z"
   },
   {
    "duration": 36,
    "start_time": "2023-05-01T12:51:11.787Z"
   },
   {
    "duration": 8,
    "start_time": "2023-05-01T12:51:11.824Z"
   },
   {
    "duration": 11,
    "start_time": "2023-05-01T12:51:11.834Z"
   },
   {
    "duration": 17,
    "start_time": "2023-05-01T12:51:11.847Z"
   },
   {
    "duration": 20,
    "start_time": "2023-05-01T12:51:11.866Z"
   },
   {
    "duration": 4,
    "start_time": "2023-05-01T12:51:11.888Z"
   },
   {
    "duration": 30,
    "start_time": "2023-05-01T12:51:11.894Z"
   },
   {
    "duration": 17,
    "start_time": "2023-05-01T12:51:11.925Z"
   },
   {
    "duration": 9,
    "start_time": "2023-05-01T12:51:11.944Z"
   },
   {
    "duration": 10,
    "start_time": "2023-05-01T12:51:11.955Z"
   },
   {
    "duration": 10,
    "start_time": "2023-05-01T12:51:11.967Z"
   },
   {
    "duration": 5,
    "start_time": "2023-05-01T12:51:11.979Z"
   },
   {
    "duration": 43,
    "start_time": "2023-05-01T12:51:11.986Z"
   },
   {
    "duration": 387,
    "start_time": "2023-05-01T12:51:12.031Z"
   },
   {
    "duration": 325,
    "start_time": "2023-05-01T12:51:12.422Z"
   },
   {
    "duration": 1229,
    "start_time": "2023-05-01T12:51:12.749Z"
   },
   {
    "duration": 16,
    "start_time": "2023-05-01T12:51:13.980Z"
   },
   {
    "duration": 31,
    "start_time": "2023-05-01T12:51:13.998Z"
   },
   {
    "duration": 4,
    "start_time": "2023-05-01T12:51:14.030Z"
   },
   {
    "duration": 2,
    "start_time": "2023-05-01T12:51:14.038Z"
   },
   {
    "duration": 20,
    "start_time": "2023-05-01T12:51:14.042Z"
   },
   {
    "duration": 16,
    "start_time": "2023-05-01T12:51:21.933Z"
   },
   {
    "duration": 51,
    "start_time": "2023-05-01T12:51:25.093Z"
   },
   {
    "duration": 117,
    "start_time": "2023-05-01T12:58:08.632Z"
   },
   {
    "duration": 11,
    "start_time": "2023-05-01T12:59:13.073Z"
   },
   {
    "duration": 1194,
    "start_time": "2023-05-01T14:17:23.033Z"
   },
   {
    "duration": 3,
    "start_time": "2023-05-01T14:17:24.229Z"
   },
   {
    "duration": 61,
    "start_time": "2023-05-01T14:17:24.233Z"
   },
   {
    "duration": 29,
    "start_time": "2023-05-01T14:17:24.295Z"
   },
   {
    "duration": 17,
    "start_time": "2023-05-01T14:17:24.327Z"
   },
   {
    "duration": 3,
    "start_time": "2023-05-01T14:17:24.346Z"
   },
   {
    "duration": 8,
    "start_time": "2023-05-01T14:17:24.351Z"
   },
   {
    "duration": 26,
    "start_time": "2023-05-01T14:17:24.361Z"
   },
   {
    "duration": 41,
    "start_time": "2023-05-01T14:17:24.389Z"
   },
   {
    "duration": 226,
    "start_time": "2023-05-01T14:17:24.432Z"
   },
   {
    "duration": 4,
    "start_time": "2023-05-01T14:17:24.660Z"
   },
   {
    "duration": 188,
    "start_time": "2023-05-01T14:17:24.666Z"
   },
   {
    "duration": 3,
    "start_time": "2023-05-01T14:17:24.856Z"
   },
   {
    "duration": 16,
    "start_time": "2023-05-01T14:17:24.863Z"
   },
   {
    "duration": 52,
    "start_time": "2023-05-01T14:17:24.880Z"
   },
   {
    "duration": 32,
    "start_time": "2023-05-01T14:17:24.934Z"
   },
   {
    "duration": 9,
    "start_time": "2023-05-01T14:17:24.968Z"
   },
   {
    "duration": 7,
    "start_time": "2023-05-01T14:17:24.979Z"
   },
   {
    "duration": 38,
    "start_time": "2023-05-01T14:17:24.987Z"
   },
   {
    "duration": 17,
    "start_time": "2023-05-01T14:17:25.027Z"
   },
   {
    "duration": 13,
    "start_time": "2023-05-01T14:17:25.046Z"
   },
   {
    "duration": 19,
    "start_time": "2023-05-01T14:17:25.061Z"
   },
   {
    "duration": 9,
    "start_time": "2023-05-01T14:17:25.082Z"
   },
   {
    "duration": 9,
    "start_time": "2023-05-01T14:17:25.093Z"
   },
   {
    "duration": 23,
    "start_time": "2023-05-01T14:17:25.104Z"
   },
   {
    "duration": 19,
    "start_time": "2023-05-01T14:17:25.129Z"
   },
   {
    "duration": 4,
    "start_time": "2023-05-01T14:17:25.150Z"
   },
   {
    "duration": 12,
    "start_time": "2023-05-01T14:17:25.156Z"
   },
   {
    "duration": 16,
    "start_time": "2023-05-01T14:17:25.169Z"
   },
   {
    "duration": 9,
    "start_time": "2023-05-01T14:17:25.187Z"
   },
   {
    "duration": 13,
    "start_time": "2023-05-01T14:17:25.215Z"
   },
   {
    "duration": 14,
    "start_time": "2023-05-01T14:17:25.230Z"
   },
   {
    "duration": 4,
    "start_time": "2023-05-01T14:17:25.245Z"
   },
   {
    "duration": 20,
    "start_time": "2023-05-01T14:17:25.251Z"
   },
   {
    "duration": 402,
    "start_time": "2023-05-01T14:17:25.272Z"
   },
   {
    "duration": 328,
    "start_time": "2023-05-01T14:17:25.676Z"
   },
   {
    "duration": 1176,
    "start_time": "2023-05-01T14:17:26.005Z"
   },
   {
    "duration": 16,
    "start_time": "2023-05-01T14:17:27.182Z"
   },
   {
    "duration": 32,
    "start_time": "2023-05-01T14:17:27.199Z"
   },
   {
    "duration": 35,
    "start_time": "2023-05-01T14:17:27.232Z"
   },
   {
    "duration": 5,
    "start_time": "2023-05-01T14:17:35.391Z"
   },
   {
    "duration": 14,
    "start_time": "2023-05-01T14:17:41.191Z"
   },
   {
    "duration": 13,
    "start_time": "2023-05-01T14:18:18.737Z"
   },
   {
    "duration": 107,
    "start_time": "2023-05-01T14:21:42.345Z"
   },
   {
    "duration": 8,
    "start_time": "2023-05-01T14:21:49.092Z"
   },
   {
    "duration": 9,
    "start_time": "2023-05-01T14:21:55.345Z"
   },
   {
    "duration": 168,
    "start_time": "2023-05-01T14:21:58.372Z"
   },
   {
    "duration": 8,
    "start_time": "2023-05-01T14:24:58.028Z"
   },
   {
    "duration": 14,
    "start_time": "2023-05-01T14:25:03.994Z"
   },
   {
    "duration": 165,
    "start_time": "2023-05-01T14:25:08.071Z"
   },
   {
    "duration": 1822,
    "start_time": "2023-05-01T14:26:17.625Z"
   },
   {
    "duration": 253,
    "start_time": "2023-05-01T14:48:12.225Z"
   },
   {
    "duration": 262,
    "start_time": "2023-05-01T14:48:38.575Z"
   },
   {
    "duration": 67,
    "start_time": "2023-05-01T14:49:45.967Z"
   },
   {
    "duration": 73,
    "start_time": "2023-05-01T14:50:10.683Z"
   },
   {
    "duration": 267,
    "start_time": "2023-05-01T14:50:43.086Z"
   },
   {
    "duration": 361,
    "start_time": "2023-05-01T14:51:40.336Z"
   },
   {
    "duration": 287,
    "start_time": "2023-05-01T15:06:52.741Z"
   },
   {
    "duration": 272,
    "start_time": "2023-05-01T15:07:07.520Z"
   },
   {
    "duration": 13,
    "start_time": "2023-05-01T15:09:46.142Z"
   },
   {
    "duration": 148,
    "start_time": "2023-05-01T15:09:47.961Z"
   },
   {
    "duration": 158,
    "start_time": "2023-05-01T15:09:52.840Z"
   },
   {
    "duration": 13,
    "start_time": "2023-05-01T15:09:57.171Z"
   },
   {
    "duration": 152,
    "start_time": "2023-05-01T15:10:00.212Z"
   },
   {
    "duration": 155,
    "start_time": "2023-05-01T15:10:19.786Z"
   },
   {
    "duration": 195,
    "start_time": "2023-05-01T15:28:46.984Z"
   },
   {
    "duration": 242,
    "start_time": "2023-05-01T15:28:57.672Z"
   },
   {
    "duration": 172,
    "start_time": "2023-05-01T15:32:02.456Z"
   },
   {
    "duration": 169,
    "start_time": "2023-05-01T15:33:35.415Z"
   },
   {
    "duration": 300,
    "start_time": "2023-05-01T15:34:11.945Z"
   },
   {
    "duration": 285,
    "start_time": "2023-05-01T15:35:17.318Z"
   },
   {
    "duration": 313,
    "start_time": "2023-05-01T15:35:46.552Z"
   },
   {
    "duration": 293,
    "start_time": "2023-05-01T15:47:57.605Z"
   },
   {
    "duration": 407,
    "start_time": "2023-05-01T15:48:53.518Z"
   },
   {
    "duration": 279,
    "start_time": "2023-05-01T15:49:43.914Z"
   },
   {
    "duration": 300,
    "start_time": "2023-05-01T15:53:03.580Z"
   },
   {
    "duration": 274,
    "start_time": "2023-05-01T15:53:12.016Z"
   },
   {
    "duration": 6,
    "start_time": "2023-05-01T17:59:21.463Z"
   },
   {
    "duration": 7,
    "start_time": "2023-05-01T17:59:23.679Z"
   },
   {
    "duration": 6,
    "start_time": "2023-05-01T18:01:20.058Z"
   },
   {
    "duration": 6,
    "start_time": "2023-05-01T19:09:36.134Z"
   },
   {
    "duration": 7,
    "start_time": "2023-05-01T19:09:36.950Z"
   },
   {
    "duration": 6,
    "start_time": "2023-05-01T19:28:37.193Z"
   },
   {
    "duration": 6,
    "start_time": "2023-05-01T19:28:37.939Z"
   },
   {
    "duration": 2,
    "start_time": "2023-05-01T19:55:48.782Z"
   },
   {
    "duration": 384,
    "start_time": "2023-05-01T19:55:52.031Z"
   },
   {
    "duration": 479,
    "start_time": "2023-05-01T19:58:04.386Z"
   },
   {
    "duration": 335,
    "start_time": "2023-05-01T20:03:52.247Z"
   },
   {
    "duration": 10,
    "start_time": "2023-05-01T20:05:26.809Z"
   },
   {
    "duration": 8,
    "start_time": "2023-05-01T20:20:45.078Z"
   },
   {
    "duration": 6,
    "start_time": "2023-05-01T20:20:50.315Z"
   },
   {
    "duration": 3,
    "start_time": "2023-05-01T20:20:51.408Z"
   },
   {
    "duration": 10,
    "start_time": "2023-05-01T20:22:02.485Z"
   },
   {
    "duration": 14,
    "start_time": "2023-05-01T20:22:46.583Z"
   },
   {
    "duration": 4,
    "start_time": "2023-05-01T20:23:27.593Z"
   },
   {
    "duration": 5,
    "start_time": "2023-05-01T20:25:27.861Z"
   },
   {
    "duration": 12,
    "start_time": "2023-05-01T20:26:59.867Z"
   },
   {
    "duration": 7,
    "start_time": "2023-05-01T20:28:07.561Z"
   },
   {
    "duration": 6,
    "start_time": "2023-05-01T20:29:18.640Z"
   },
   {
    "duration": 3,
    "start_time": "2023-05-01T20:37:54.891Z"
   },
   {
    "duration": 7,
    "start_time": "2023-05-01T20:41:27.506Z"
   },
   {
    "duration": 7,
    "start_time": "2023-05-01T20:42:53.563Z"
   },
   {
    "duration": 7,
    "start_time": "2023-05-01T20:44:02.753Z"
   },
   {
    "duration": 10,
    "start_time": "2023-05-01T20:45:05.123Z"
   },
   {
    "duration": 8,
    "start_time": "2023-05-01T20:45:18.001Z"
   },
   {
    "duration": 5,
    "start_time": "2023-05-01T20:45:28.834Z"
   },
   {
    "duration": 6,
    "start_time": "2023-05-01T20:45:41.022Z"
   },
   {
    "duration": 12,
    "start_time": "2023-05-01T20:49:58.225Z"
   },
   {
    "duration": 11,
    "start_time": "2023-05-01T20:50:19.339Z"
   },
   {
    "duration": 7,
    "start_time": "2023-05-01T20:53:57.841Z"
   },
   {
    "duration": 10,
    "start_time": "2023-05-01T20:54:10.908Z"
   },
   {
    "duration": 10,
    "start_time": "2023-05-01T20:55:50.998Z"
   },
   {
    "duration": 1216,
    "start_time": "2023-05-01T21:07:57.743Z"
   },
   {
    "duration": 3,
    "start_time": "2023-05-01T21:07:58.961Z"
   },
   {
    "duration": 53,
    "start_time": "2023-05-01T21:07:58.965Z"
   },
   {
    "duration": 27,
    "start_time": "2023-05-01T21:07:59.020Z"
   },
   {
    "duration": 17,
    "start_time": "2023-05-01T21:07:59.048Z"
   },
   {
    "duration": 5,
    "start_time": "2023-05-01T21:07:59.067Z"
   },
   {
    "duration": 6,
    "start_time": "2023-05-01T21:07:59.074Z"
   },
   {
    "duration": 35,
    "start_time": "2023-05-01T21:07:59.081Z"
   },
   {
    "duration": 4,
    "start_time": "2023-05-01T21:07:59.118Z"
   },
   {
    "duration": 198,
    "start_time": "2023-05-01T21:07:59.125Z"
   },
   {
    "duration": 4,
    "start_time": "2023-05-01T21:07:59.325Z"
   },
   {
    "duration": 212,
    "start_time": "2023-05-01T21:07:59.331Z"
   },
   {
    "duration": 2,
    "start_time": "2023-05-01T21:07:59.545Z"
   },
   {
    "duration": 18,
    "start_time": "2023-05-01T21:07:59.549Z"
   },
   {
    "duration": 26,
    "start_time": "2023-05-01T21:07:59.569Z"
   },
   {
    "duration": 30,
    "start_time": "2023-05-01T21:07:59.612Z"
   },
   {
    "duration": 9,
    "start_time": "2023-05-01T21:07:59.643Z"
   },
   {
    "duration": 30,
    "start_time": "2023-05-01T21:07:59.654Z"
   },
   {
    "duration": 40,
    "start_time": "2023-05-01T21:07:59.686Z"
   },
   {
    "duration": 20,
    "start_time": "2023-05-01T21:07:59.727Z"
   },
   {
    "duration": 15,
    "start_time": "2023-05-01T21:07:59.749Z"
   },
   {
    "duration": 10,
    "start_time": "2023-05-01T21:07:59.765Z"
   },
   {
    "duration": 29,
    "start_time": "2023-05-01T21:07:59.777Z"
   },
   {
    "duration": 35,
    "start_time": "2023-05-01T21:07:59.808Z"
   },
   {
    "duration": 22,
    "start_time": "2023-05-01T21:07:59.845Z"
   },
   {
    "duration": 25,
    "start_time": "2023-05-01T21:07:59.868Z"
   },
   {
    "duration": 6,
    "start_time": "2023-05-01T21:07:59.895Z"
   },
   {
    "duration": 22,
    "start_time": "2023-05-01T21:07:59.904Z"
   },
   {
    "duration": 67,
    "start_time": "2023-05-01T21:07:59.927Z"
   },
   {
    "duration": 10,
    "start_time": "2023-05-01T21:07:59.996Z"
   },
   {
    "duration": 33,
    "start_time": "2023-05-01T21:08:00.008Z"
   },
   {
    "duration": 35,
    "start_time": "2023-05-01T21:08:00.043Z"
   },
   {
    "duration": 20,
    "start_time": "2023-05-01T21:08:00.079Z"
   },
   {
    "duration": 44,
    "start_time": "2023-05-01T21:08:00.101Z"
   },
   {
    "duration": 366,
    "start_time": "2023-05-01T21:08:00.147Z"
   },
   {
    "duration": 316,
    "start_time": "2023-05-01T21:08:00.516Z"
   },
   {
    "duration": 1107,
    "start_time": "2023-05-01T21:08:00.834Z"
   },
   {
    "duration": 17,
    "start_time": "2023-05-01T21:08:01.943Z"
   },
   {
    "duration": 68,
    "start_time": "2023-05-01T21:08:01.962Z"
   },
   {
    "duration": 41,
    "start_time": "2023-05-01T21:08:02.032Z"
   },
   {
    "duration": 40,
    "start_time": "2023-05-01T21:08:02.074Z"
   },
   {
    "duration": 31,
    "start_time": "2023-05-01T21:08:02.116Z"
   },
   {
    "duration": 189,
    "start_time": "2023-05-01T21:08:02.150Z"
   },
   {
    "duration": 1692,
    "start_time": "2023-05-01T21:08:02.342Z"
   },
   {
    "duration": 278,
    "start_time": "2023-05-01T21:08:04.036Z"
   },
   {
    "duration": 273,
    "start_time": "2023-05-01T21:08:04.317Z"
   },
   {
    "duration": 22,
    "start_time": "2023-05-01T21:08:04.593Z"
   },
   {
    "duration": 162,
    "start_time": "2023-05-01T21:08:04.617Z"
   },
   {
    "duration": 156,
    "start_time": "2023-05-01T21:08:04.781Z"
   },
   {
    "duration": 12,
    "start_time": "2023-05-01T21:08:04.939Z"
   },
   {
    "duration": 160,
    "start_time": "2023-05-01T21:08:04.953Z"
   },
   {
    "duration": 245,
    "start_time": "2023-05-01T21:08:05.115Z"
   },
   {
    "duration": 165,
    "start_time": "2023-05-01T21:08:05.362Z"
   },
   {
    "duration": 279,
    "start_time": "2023-05-01T21:08:05.528Z"
   },
   {
    "duration": 292,
    "start_time": "2023-05-01T21:08:05.808Z"
   },
   {
    "duration": 11,
    "start_time": "2023-05-01T21:08:06.101Z"
   },
   {
    "duration": 391,
    "start_time": "2023-05-01T21:08:06.113Z"
   },
   {
    "duration": 397,
    "start_time": "2023-05-01T21:08:06.506Z"
   },
   {
    "duration": 430,
    "start_time": "2023-05-01T21:08:06.911Z"
   },
   {
    "duration": 10,
    "start_time": "2023-05-01T21:08:07.342Z"
   },
   {
    "duration": 10,
    "start_time": "2023-05-01T21:08:07.354Z"
   },
   {
    "duration": 6,
    "start_time": "2023-05-01T21:08:07.366Z"
   },
   {
    "duration": 7,
    "start_time": "2023-05-01T21:08:07.373Z"
   },
   {
    "duration": 9,
    "start_time": "2023-05-01T21:08:18.709Z"
   },
   {
    "duration": 1210,
    "start_time": "2023-05-01T21:09:26.813Z"
   },
   {
    "duration": 2,
    "start_time": "2023-05-01T21:09:28.025Z"
   },
   {
    "duration": 67,
    "start_time": "2023-05-01T21:09:28.029Z"
   },
   {
    "duration": 23,
    "start_time": "2023-05-01T21:09:28.098Z"
   },
   {
    "duration": 14,
    "start_time": "2023-05-01T21:09:28.123Z"
   },
   {
    "duration": 14,
    "start_time": "2023-05-01T21:09:28.139Z"
   },
   {
    "duration": 11,
    "start_time": "2023-05-01T21:09:28.154Z"
   },
   {
    "duration": 10,
    "start_time": "2023-05-01T21:09:28.166Z"
   },
   {
    "duration": 4,
    "start_time": "2023-05-01T21:09:28.178Z"
   },
   {
    "duration": 200,
    "start_time": "2023-05-01T21:09:28.185Z"
   },
   {
    "duration": 5,
    "start_time": "2023-05-01T21:09:28.386Z"
   },
   {
    "duration": 163,
    "start_time": "2023-05-01T21:09:28.392Z"
   },
   {
    "duration": 3,
    "start_time": "2023-05-01T21:09:28.557Z"
   },
   {
    "duration": 33,
    "start_time": "2023-05-01T21:09:28.562Z"
   },
   {
    "duration": 51,
    "start_time": "2023-05-01T21:09:28.596Z"
   },
   {
    "duration": 31,
    "start_time": "2023-05-01T21:09:28.648Z"
   },
   {
    "duration": 9,
    "start_time": "2023-05-01T21:09:28.681Z"
   },
   {
    "duration": 6,
    "start_time": "2023-05-01T21:09:28.691Z"
   },
   {
    "duration": 14,
    "start_time": "2023-05-01T21:09:28.698Z"
   },
   {
    "duration": 4,
    "start_time": "2023-05-01T21:09:28.714Z"
   },
   {
    "duration": 6,
    "start_time": "2023-05-01T21:09:28.719Z"
   },
   {
    "duration": 7,
    "start_time": "2023-05-01T21:09:28.727Z"
   },
   {
    "duration": 13,
    "start_time": "2023-05-01T21:09:28.736Z"
   },
   {
    "duration": 16,
    "start_time": "2023-05-01T21:09:28.750Z"
   },
   {
    "duration": 9,
    "start_time": "2023-05-01T21:09:28.768Z"
   },
   {
    "duration": 34,
    "start_time": "2023-05-01T21:09:28.778Z"
   },
   {
    "duration": 4,
    "start_time": "2023-05-01T21:09:28.815Z"
   },
   {
    "duration": 7,
    "start_time": "2023-05-01T21:09:28.822Z"
   },
   {
    "duration": 19,
    "start_time": "2023-05-01T21:09:28.832Z"
   },
   {
    "duration": 12,
    "start_time": "2023-05-01T21:09:28.853Z"
   },
   {
    "duration": 11,
    "start_time": "2023-05-01T21:09:28.867Z"
   },
   {
    "duration": 12,
    "start_time": "2023-05-01T21:09:28.912Z"
   },
   {
    "duration": 6,
    "start_time": "2023-05-01T21:09:28.927Z"
   },
   {
    "duration": 21,
    "start_time": "2023-05-01T21:09:28.935Z"
   },
   {
    "duration": 370,
    "start_time": "2023-05-01T21:09:28.958Z"
   },
   {
    "duration": 291,
    "start_time": "2023-05-01T21:09:29.330Z"
   },
   {
    "duration": 1105,
    "start_time": "2023-05-01T21:09:29.623Z"
   },
   {
    "duration": 15,
    "start_time": "2023-05-01T21:09:30.730Z"
   },
   {
    "duration": 55,
    "start_time": "2023-05-01T21:09:30.747Z"
   },
   {
    "duration": 35,
    "start_time": "2023-05-01T21:09:30.804Z"
   },
   {
    "duration": 81,
    "start_time": "2023-05-01T21:09:30.840Z"
   },
   {
    "duration": 43,
    "start_time": "2023-05-01T21:09:30.923Z"
   },
   {
    "duration": 214,
    "start_time": "2023-05-01T21:09:30.968Z"
   },
   {
    "duration": 1640,
    "start_time": "2023-05-01T21:09:31.184Z"
   },
   {
    "duration": 285,
    "start_time": "2023-05-01T21:09:32.826Z"
   },
   {
    "duration": 272,
    "start_time": "2023-05-01T21:09:33.113Z"
   },
   {
    "duration": 25,
    "start_time": "2023-05-01T21:09:33.388Z"
   },
   {
    "duration": 169,
    "start_time": "2023-05-01T21:09:33.415Z"
   },
   {
    "duration": 179,
    "start_time": "2023-05-01T21:09:33.586Z"
   },
   {
    "duration": 12,
    "start_time": "2023-05-01T21:09:33.767Z"
   },
   {
    "duration": 178,
    "start_time": "2023-05-01T21:09:33.782Z"
   },
   {
    "duration": 260,
    "start_time": "2023-05-01T21:09:33.963Z"
   },
   {
    "duration": 179,
    "start_time": "2023-05-01T21:09:34.225Z"
   },
   {
    "duration": 310,
    "start_time": "2023-05-01T21:09:34.406Z"
   },
   {
    "duration": 314,
    "start_time": "2023-05-01T21:09:34.719Z"
   },
   {
    "duration": 4,
    "start_time": "2023-05-01T21:09:35.035Z"
   },
   {
    "duration": 413,
    "start_time": "2023-05-01T21:09:35.041Z"
   },
   {
    "duration": 408,
    "start_time": "2023-05-01T21:09:35.457Z"
   },
   {
    "duration": 444,
    "start_time": "2023-05-01T21:09:35.866Z"
   },
   {
    "duration": 11,
    "start_time": "2023-05-01T21:09:36.313Z"
   },
   {
    "duration": 11,
    "start_time": "2023-05-01T21:09:36.326Z"
   },
   {
    "duration": 11,
    "start_time": "2023-05-01T21:09:36.339Z"
   },
   {
    "duration": 7,
    "start_time": "2023-05-01T21:09:36.352Z"
   },
   {
    "duration": 10,
    "start_time": "2023-05-01T21:09:51.687Z"
   },
   {
    "duration": 14,
    "start_time": "2023-05-01T21:17:32.910Z"
   },
   {
    "duration": 10,
    "start_time": "2023-05-01T21:20:27.307Z"
   },
   {
    "duration": 4,
    "start_time": "2023-05-01T21:21:05.255Z"
   },
   {
    "duration": 5,
    "start_time": "2023-05-01T21:21:08.777Z"
   },
   {
    "duration": 8,
    "start_time": "2023-05-01T21:21:20.811Z"
   },
   {
    "duration": 5,
    "start_time": "2023-05-01T21:21:34.571Z"
   },
   {
    "duration": 10,
    "start_time": "2023-05-01T21:21:57.655Z"
   },
   {
    "duration": 12,
    "start_time": "2023-05-01T21:23:00.067Z"
   },
   {
    "duration": 13,
    "start_time": "2023-05-01T21:23:15.294Z"
   },
   {
    "duration": 11,
    "start_time": "2023-05-01T21:24:27.517Z"
   },
   {
    "duration": 14,
    "start_time": "2023-05-01T21:25:25.149Z"
   },
   {
    "duration": 12,
    "start_time": "2023-05-01T21:25:48.984Z"
   },
   {
    "duration": 15,
    "start_time": "2023-05-01T21:26:55.767Z"
   },
   {
    "duration": 4,
    "start_time": "2023-05-01T21:30:22.622Z"
   },
   {
    "duration": 15,
    "start_time": "2023-05-01T21:30:33.704Z"
   },
   {
    "duration": 6,
    "start_time": "2023-05-01T21:31:13.411Z"
   },
   {
    "duration": 6,
    "start_time": "2023-05-01T21:31:25.457Z"
   },
   {
    "duration": 12,
    "start_time": "2023-05-01T21:33:22.812Z"
   },
   {
    "duration": 9,
    "start_time": "2023-05-01T21:33:30.132Z"
   },
   {
    "duration": 7,
    "start_time": "2023-05-01T21:33:34.073Z"
   },
   {
    "duration": 104,
    "start_time": "2023-05-01T21:34:39.709Z"
   },
   {
    "duration": 5,
    "start_time": "2023-05-01T21:35:12.103Z"
   },
   {
    "duration": 12,
    "start_time": "2023-05-01T21:35:23.306Z"
   },
   {
    "duration": 1204,
    "start_time": "2023-05-01T21:39:34.218Z"
   },
   {
    "duration": 3,
    "start_time": "2023-05-01T21:39:35.424Z"
   },
   {
    "duration": 54,
    "start_time": "2023-05-01T21:39:35.428Z"
   },
   {
    "duration": 26,
    "start_time": "2023-05-01T21:39:35.484Z"
   },
   {
    "duration": 16,
    "start_time": "2023-05-01T21:39:35.511Z"
   },
   {
    "duration": 3,
    "start_time": "2023-05-01T21:39:35.529Z"
   },
   {
    "duration": 5,
    "start_time": "2023-05-01T21:39:35.534Z"
   },
   {
    "duration": 9,
    "start_time": "2023-05-01T21:39:35.540Z"
   },
   {
    "duration": 4,
    "start_time": "2023-05-01T21:39:35.551Z"
   },
   {
    "duration": 205,
    "start_time": "2023-05-01T21:39:35.557Z"
   },
   {
    "duration": 4,
    "start_time": "2023-05-01T21:39:35.764Z"
   },
   {
    "duration": 172,
    "start_time": "2023-05-01T21:39:35.769Z"
   },
   {
    "duration": 2,
    "start_time": "2023-05-01T21:39:35.943Z"
   },
   {
    "duration": 34,
    "start_time": "2023-05-01T21:39:35.947Z"
   },
   {
    "duration": 42,
    "start_time": "2023-05-01T21:39:35.983Z"
   },
   {
    "duration": 28,
    "start_time": "2023-05-01T21:39:36.026Z"
   },
   {
    "duration": 9,
    "start_time": "2023-05-01T21:39:36.056Z"
   },
   {
    "duration": 33,
    "start_time": "2023-05-01T21:39:36.066Z"
   },
   {
    "duration": 27,
    "start_time": "2023-05-01T21:39:36.100Z"
   },
   {
    "duration": 18,
    "start_time": "2023-05-01T21:39:36.128Z"
   },
   {
    "duration": 6,
    "start_time": "2023-05-01T21:39:36.147Z"
   },
   {
    "duration": 11,
    "start_time": "2023-05-01T21:39:36.155Z"
   },
   {
    "duration": 25,
    "start_time": "2023-05-01T21:39:36.167Z"
   },
   {
    "duration": 8,
    "start_time": "2023-05-01T21:39:36.194Z"
   },
   {
    "duration": 17,
    "start_time": "2023-05-01T21:39:36.203Z"
   },
   {
    "duration": 13,
    "start_time": "2023-05-01T21:39:36.222Z"
   },
   {
    "duration": 4,
    "start_time": "2023-05-01T21:39:36.236Z"
   },
   {
    "duration": 7,
    "start_time": "2023-05-01T21:39:36.244Z"
   },
   {
    "duration": 23,
    "start_time": "2023-05-01T21:39:36.253Z"
   },
   {
    "duration": 12,
    "start_time": "2023-05-01T21:39:36.278Z"
   },
   {
    "duration": 24,
    "start_time": "2023-05-01T21:39:36.292Z"
   },
   {
    "duration": 11,
    "start_time": "2023-05-01T21:39:36.318Z"
   },
   {
    "duration": 5,
    "start_time": "2023-05-01T21:39:36.331Z"
   },
   {
    "duration": 14,
    "start_time": "2023-05-01T21:39:36.338Z"
   },
   {
    "duration": 362,
    "start_time": "2023-05-01T21:39:36.354Z"
   },
   {
    "duration": 288,
    "start_time": "2023-05-01T21:39:36.718Z"
   },
   {
    "duration": 1051,
    "start_time": "2023-05-01T21:39:37.011Z"
   },
   {
    "duration": 15,
    "start_time": "2023-05-01T21:39:38.063Z"
   },
   {
    "duration": 5,
    "start_time": "2023-05-01T21:39:38.080Z"
   },
   {
    "duration": 6,
    "start_time": "2023-05-01T21:39:38.087Z"
   },
   {
    "duration": 7,
    "start_time": "2023-05-01T21:39:38.111Z"
   },
   {
    "duration": 18,
    "start_time": "2023-05-01T21:39:38.120Z"
   },
   {
    "duration": 152,
    "start_time": "2023-05-01T21:39:38.139Z"
   },
   {
    "duration": 1628,
    "start_time": "2023-05-01T21:39:38.293Z"
   },
   {
    "duration": 272,
    "start_time": "2023-05-01T21:39:39.923Z"
   },
   {
    "duration": 260,
    "start_time": "2023-05-01T21:39:40.197Z"
   },
   {
    "duration": 12,
    "start_time": "2023-05-01T21:39:40.459Z"
   },
   {
    "duration": 165,
    "start_time": "2023-05-01T21:39:40.473Z"
   },
   {
    "duration": 159,
    "start_time": "2023-05-01T21:39:40.640Z"
   },
   {
    "duration": 17,
    "start_time": "2023-05-01T21:39:40.801Z"
   },
   {
    "duration": 159,
    "start_time": "2023-05-01T21:39:40.819Z"
   },
   {
    "duration": 241,
    "start_time": "2023-05-01T21:39:40.980Z"
   },
   {
    "duration": 167,
    "start_time": "2023-05-01T21:39:41.223Z"
   },
   {
    "duration": 283,
    "start_time": "2023-05-01T21:39:41.392Z"
   },
   {
    "duration": 298,
    "start_time": "2023-05-01T21:39:41.677Z"
   },
   {
    "duration": 2,
    "start_time": "2023-05-01T21:39:41.977Z"
   },
   {
    "duration": 397,
    "start_time": "2023-05-01T21:39:41.981Z"
   },
   {
    "duration": 411,
    "start_time": "2023-05-01T21:39:42.380Z"
   },
   {
    "duration": 470,
    "start_time": "2023-05-01T21:39:42.793Z"
   },
   {
    "duration": 10,
    "start_time": "2023-05-01T21:39:43.265Z"
   },
   {
    "duration": 51,
    "start_time": "2023-05-01T21:40:47.508Z"
   },
   {
    "duration": 8,
    "start_time": "2023-05-01T21:41:01.728Z"
   },
   {
    "duration": 12,
    "start_time": "2023-05-01T21:41:35.160Z"
   },
   {
    "duration": 16,
    "start_time": "2023-05-01T21:44:56.264Z"
   },
   {
    "duration": 3,
    "start_time": "2023-05-01T21:45:57.437Z"
   },
   {
    "duration": 16,
    "start_time": "2023-05-01T21:45:57.443Z"
   },
   {
    "duration": 53,
    "start_time": "2023-05-01T21:45:57.461Z"
   },
   {
    "duration": 22,
    "start_time": "2023-05-01T21:45:57.515Z"
   },
   {
    "duration": 18,
    "start_time": "2023-05-01T21:45:57.539Z"
   },
   {
    "duration": 11,
    "start_time": "2023-05-01T21:45:57.559Z"
   },
   {
    "duration": 8,
    "start_time": "2023-05-01T21:45:57.572Z"
   },
   {
    "duration": 32,
    "start_time": "2023-05-01T21:45:57.582Z"
   },
   {
    "duration": 5,
    "start_time": "2023-05-01T21:45:57.615Z"
   },
   {
    "duration": 197,
    "start_time": "2023-05-01T21:45:57.622Z"
   },
   {
    "duration": 4,
    "start_time": "2023-05-01T21:45:57.822Z"
   },
   {
    "duration": 170,
    "start_time": "2023-05-01T21:45:57.827Z"
   },
   {
    "duration": 2,
    "start_time": "2023-05-01T21:45:58.012Z"
   },
   {
    "duration": 16,
    "start_time": "2023-05-01T21:45:58.016Z"
   },
   {
    "duration": 25,
    "start_time": "2023-05-01T21:45:58.034Z"
   },
   {
    "duration": 52,
    "start_time": "2023-05-01T21:45:58.060Z"
   },
   {
    "duration": 10,
    "start_time": "2023-05-01T21:45:58.113Z"
   },
   {
    "duration": 17,
    "start_time": "2023-05-01T21:45:58.124Z"
   },
   {
    "duration": 10,
    "start_time": "2023-05-01T21:45:58.142Z"
   },
   {
    "duration": 4,
    "start_time": "2023-05-01T21:45:58.154Z"
   },
   {
    "duration": 11,
    "start_time": "2023-05-01T21:45:58.159Z"
   },
   {
    "duration": 5,
    "start_time": "2023-05-01T21:45:58.171Z"
   },
   {
    "duration": 6,
    "start_time": "2023-05-01T21:45:58.178Z"
   },
   {
    "duration": 27,
    "start_time": "2023-05-01T21:45:58.186Z"
   },
   {
    "duration": 11,
    "start_time": "2023-05-01T21:45:58.214Z"
   },
   {
    "duration": 14,
    "start_time": "2023-05-01T21:45:58.226Z"
   },
   {
    "duration": 3,
    "start_time": "2023-05-01T21:45:58.242Z"
   },
   {
    "duration": 10,
    "start_time": "2023-05-01T21:45:58.246Z"
   },
   {
    "duration": 13,
    "start_time": "2023-05-01T21:45:58.260Z"
   },
   {
    "duration": 38,
    "start_time": "2023-05-01T21:45:58.275Z"
   },
   {
    "duration": 11,
    "start_time": "2023-05-01T21:45:58.315Z"
   },
   {
    "duration": 9,
    "start_time": "2023-05-01T21:45:58.327Z"
   },
   {
    "duration": 6,
    "start_time": "2023-05-01T21:45:58.337Z"
   },
   {
    "duration": 15,
    "start_time": "2023-05-01T21:45:58.344Z"
   },
   {
    "duration": 364,
    "start_time": "2023-05-01T21:45:58.361Z"
   },
   {
    "duration": 321,
    "start_time": "2023-05-01T21:45:58.727Z"
   },
   {
    "duration": 1113,
    "start_time": "2023-05-01T21:45:59.050Z"
   },
   {
    "duration": 16,
    "start_time": "2023-05-01T21:46:00.164Z"
   },
   {
    "duration": 35,
    "start_time": "2023-05-01T21:46:00.182Z"
   },
   {
    "duration": 38,
    "start_time": "2023-05-01T21:46:00.218Z"
   },
   {
    "duration": 28,
    "start_time": "2023-05-01T21:46:00.258Z"
   },
   {
    "duration": 37,
    "start_time": "2023-05-01T21:46:00.288Z"
   },
   {
    "duration": 180,
    "start_time": "2023-05-01T21:46:00.327Z"
   },
   {
    "duration": 1656,
    "start_time": "2023-05-01T21:46:00.511Z"
   },
   {
    "duration": 278,
    "start_time": "2023-05-01T21:46:02.168Z"
   },
   {
    "duration": 268,
    "start_time": "2023-05-01T21:46:02.448Z"
   },
   {
    "duration": 13,
    "start_time": "2023-05-01T21:46:02.719Z"
   },
   {
    "duration": 177,
    "start_time": "2023-05-01T21:46:02.733Z"
   },
   {
    "duration": 160,
    "start_time": "2023-05-01T21:46:02.911Z"
   },
   {
    "duration": 11,
    "start_time": "2023-05-01T21:46:03.073Z"
   },
   {
    "duration": 161,
    "start_time": "2023-05-01T21:46:03.085Z"
   },
   {
    "duration": 157,
    "start_time": "2023-05-01T21:46:03.248Z"
   },
   {
    "duration": 182,
    "start_time": "2023-05-01T21:46:03.407Z"
   },
   {
    "duration": 401,
    "start_time": "2023-05-01T21:46:03.591Z"
   },
   {
    "duration": 291,
    "start_time": "2023-05-01T21:46:03.994Z"
   },
   {
    "duration": 3,
    "start_time": "2023-05-01T21:46:04.287Z"
   },
   {
    "duration": 402,
    "start_time": "2023-05-01T21:46:04.291Z"
   },
   {
    "duration": 403,
    "start_time": "2023-05-01T21:46:04.695Z"
   },
   {
    "duration": 345,
    "start_time": "2023-05-01T21:46:05.100Z"
   },
   {
    "duration": 11,
    "start_time": "2023-05-01T21:46:05.447Z"
   },
   {
    "duration": 17,
    "start_time": "2023-05-01T21:46:05.460Z"
   },
   {
    "duration": 28,
    "start_time": "2023-05-01T21:46:05.479Z"
   },
   {
    "duration": 8,
    "start_time": "2023-05-01T21:46:05.509Z"
   },
   {
    "duration": 9,
    "start_time": "2023-05-01T21:46:05.518Z"
   },
   {
    "duration": 14,
    "start_time": "2023-05-01T21:46:05.529Z"
   },
   {
    "duration": 4,
    "start_time": "2023-05-01T21:52:00.490Z"
   },
   {
    "duration": 252,
    "start_time": "2023-05-01T21:53:07.300Z"
   },
   {
    "duration": 1132,
    "start_time": "2023-05-01T21:56:38.586Z"
   },
   {
    "duration": 54,
    "start_time": "2023-05-01T21:57:46.705Z"
   },
   {
    "duration": 22,
    "start_time": "2023-05-01T21:58:25.416Z"
   },
   {
    "duration": 27,
    "start_time": "2023-05-01T21:58:38.343Z"
   },
   {
    "duration": 36,
    "start_time": "2023-05-01T21:58:49.003Z"
   },
   {
    "duration": 20,
    "start_time": "2023-05-01T21:58:58.942Z"
   },
   {
    "duration": 33,
    "start_time": "2023-05-01T21:59:19.886Z"
   },
   {
    "duration": 955,
    "start_time": "2023-05-01T22:00:27.080Z"
   },
   {
    "duration": 933,
    "start_time": "2023-05-01T22:01:56.426Z"
   },
   {
    "duration": 269,
    "start_time": "2023-05-01T22:02:46.036Z"
   },
   {
    "duration": 39,
    "start_time": "2023-05-01T22:04:02.880Z"
   },
   {
    "duration": 51,
    "start_time": "2023-05-01T22:04:29.757Z"
   },
   {
    "duration": 582,
    "start_time": "2023-05-01T22:04:45.621Z"
   },
   {
    "duration": 525,
    "start_time": "2023-05-01T22:06:18.605Z"
   },
   {
    "duration": 1177,
    "start_time": "2023-05-01T22:14:20.744Z"
   },
   {
    "duration": 3,
    "start_time": "2023-05-01T22:14:21.923Z"
   },
   {
    "duration": 55,
    "start_time": "2023-05-01T22:14:21.927Z"
   },
   {
    "duration": 26,
    "start_time": "2023-05-01T22:14:21.983Z"
   },
   {
    "duration": 14,
    "start_time": "2023-05-01T22:14:22.011Z"
   },
   {
    "duration": 3,
    "start_time": "2023-05-01T22:14:22.027Z"
   },
   {
    "duration": 8,
    "start_time": "2023-05-01T22:14:22.031Z"
   },
   {
    "duration": 10,
    "start_time": "2023-05-01T22:14:22.040Z"
   },
   {
    "duration": 4,
    "start_time": "2023-05-01T22:14:22.052Z"
   },
   {
    "duration": 207,
    "start_time": "2023-05-01T22:14:22.057Z"
   },
   {
    "duration": 4,
    "start_time": "2023-05-01T22:14:22.266Z"
   },
   {
    "duration": 175,
    "start_time": "2023-05-01T22:14:22.272Z"
   },
   {
    "duration": 3,
    "start_time": "2023-05-01T22:14:22.448Z"
   },
   {
    "duration": 14,
    "start_time": "2023-05-01T22:14:22.454Z"
   },
   {
    "duration": 43,
    "start_time": "2023-05-01T22:14:22.469Z"
   },
   {
    "duration": 30,
    "start_time": "2023-05-01T22:14:22.514Z"
   },
   {
    "duration": 8,
    "start_time": "2023-05-01T22:14:22.546Z"
   },
   {
    "duration": 9,
    "start_time": "2023-05-01T22:14:22.555Z"
   },
   {
    "duration": 14,
    "start_time": "2023-05-01T22:14:22.565Z"
   },
   {
    "duration": 5,
    "start_time": "2023-05-01T22:14:22.580Z"
   },
   {
    "duration": 5,
    "start_time": "2023-05-01T22:14:22.611Z"
   },
   {
    "duration": 7,
    "start_time": "2023-05-01T22:14:22.618Z"
   },
   {
    "duration": 10,
    "start_time": "2023-05-01T22:14:22.627Z"
   },
   {
    "duration": 6,
    "start_time": "2023-05-01T22:14:22.639Z"
   },
   {
    "duration": 10,
    "start_time": "2023-05-01T22:14:22.646Z"
   },
   {
    "duration": 14,
    "start_time": "2023-05-01T22:14:22.658Z"
   },
   {
    "duration": 4,
    "start_time": "2023-05-01T22:14:22.674Z"
   },
   {
    "duration": 36,
    "start_time": "2023-05-01T22:14:22.680Z"
   },
   {
    "duration": 14,
    "start_time": "2023-05-01T22:14:22.718Z"
   },
   {
    "duration": 9,
    "start_time": "2023-05-01T22:14:22.733Z"
   },
   {
    "duration": 12,
    "start_time": "2023-05-01T22:14:22.744Z"
   },
   {
    "duration": 8,
    "start_time": "2023-05-01T22:14:22.758Z"
   },
   {
    "duration": 5,
    "start_time": "2023-05-01T22:14:22.768Z"
   },
   {
    "duration": 50,
    "start_time": "2023-05-01T22:14:22.775Z"
   },
   {
    "duration": 346,
    "start_time": "2023-05-01T22:14:22.827Z"
   },
   {
    "duration": 315,
    "start_time": "2023-05-01T22:14:23.175Z"
   },
   {
    "duration": 1099,
    "start_time": "2023-05-01T22:14:23.492Z"
   },
   {
    "duration": 22,
    "start_time": "2023-05-01T22:14:24.593Z"
   },
   {
    "duration": 8,
    "start_time": "2023-05-01T22:14:24.616Z"
   },
   {
    "duration": 7,
    "start_time": "2023-05-01T22:14:24.625Z"
   },
   {
    "duration": 5,
    "start_time": "2023-05-01T22:14:24.636Z"
   },
   {
    "duration": 12,
    "start_time": "2023-05-01T22:14:24.643Z"
   },
   {
    "duration": 185,
    "start_time": "2023-05-01T22:14:24.657Z"
   },
   {
    "duration": 1653,
    "start_time": "2023-05-01T22:14:24.844Z"
   },
   {
    "duration": 281,
    "start_time": "2023-05-01T22:14:26.499Z"
   },
   {
    "duration": 267,
    "start_time": "2023-05-01T22:14:26.782Z"
   },
   {
    "duration": 13,
    "start_time": "2023-05-01T22:14:27.051Z"
   },
   {
    "duration": 171,
    "start_time": "2023-05-01T22:14:27.066Z"
   },
   {
    "duration": 177,
    "start_time": "2023-05-01T22:14:27.238Z"
   },
   {
    "duration": 13,
    "start_time": "2023-05-01T22:14:27.417Z"
   },
   {
    "duration": 166,
    "start_time": "2023-05-01T22:14:27.432Z"
   },
   {
    "duration": 251,
    "start_time": "2023-05-01T22:14:27.600Z"
   },
   {
    "duration": 172,
    "start_time": "2023-05-01T22:14:27.853Z"
   },
   {
    "duration": 302,
    "start_time": "2023-05-01T22:14:28.026Z"
   },
   {
    "duration": 310,
    "start_time": "2023-05-01T22:14:28.330Z"
   },
   {
    "duration": 2,
    "start_time": "2023-05-01T22:14:28.642Z"
   },
   {
    "duration": 443,
    "start_time": "2023-05-01T22:14:28.646Z"
   },
   {
    "duration": 423,
    "start_time": "2023-05-01T22:14:29.091Z"
   },
   {
    "duration": 453,
    "start_time": "2023-05-01T22:14:29.516Z"
   },
   {
    "duration": 13,
    "start_time": "2023-05-01T22:14:29.972Z"
   },
   {
    "duration": 385,
    "start_time": "2023-05-01T22:14:38.279Z"
   },
   {
    "duration": 4,
    "start_time": "2023-05-01T22:15:12.846Z"
   },
   {
    "duration": 444,
    "start_time": "2023-05-01T22:18:28.509Z"
   },
   {
    "duration": 250,
    "start_time": "2023-05-01T22:27:29.423Z"
   },
   {
    "duration": 404,
    "start_time": "2023-05-01T22:27:37.535Z"
   },
   {
    "duration": 5,
    "start_time": "2023-05-01T22:28:31.434Z"
   },
   {
    "duration": 61,
    "start_time": "2023-05-01T22:29:10.522Z"
   },
   {
    "duration": 46,
    "start_time": "2023-05-01T22:31:32.587Z"
   },
   {
    "duration": 193,
    "start_time": "2023-05-01T22:31:41.341Z"
   },
   {
    "duration": 199,
    "start_time": "2023-05-01T22:32:06.693Z"
   },
   {
    "duration": 255,
    "start_time": "2023-05-01T22:32:52.000Z"
   },
   {
    "duration": 1207,
    "start_time": "2023-05-01T22:59:45.526Z"
   },
   {
    "duration": 3,
    "start_time": "2023-05-01T22:59:46.735Z"
   },
   {
    "duration": 62,
    "start_time": "2023-05-01T22:59:46.739Z"
   },
   {
    "duration": 26,
    "start_time": "2023-05-01T22:59:46.805Z"
   },
   {
    "duration": 15,
    "start_time": "2023-05-01T22:59:46.832Z"
   },
   {
    "duration": 3,
    "start_time": "2023-05-01T22:59:46.848Z"
   },
   {
    "duration": 12,
    "start_time": "2023-05-01T22:59:46.853Z"
   },
   {
    "duration": 15,
    "start_time": "2023-05-01T22:59:46.866Z"
   },
   {
    "duration": 30,
    "start_time": "2023-05-01T22:59:46.883Z"
   },
   {
    "duration": 188,
    "start_time": "2023-05-01T22:59:46.917Z"
   },
   {
    "duration": 5,
    "start_time": "2023-05-01T22:59:47.107Z"
   },
   {
    "duration": 181,
    "start_time": "2023-05-01T22:59:47.113Z"
   },
   {
    "duration": 2,
    "start_time": "2023-05-01T22:59:47.296Z"
   },
   {
    "duration": 15,
    "start_time": "2023-05-01T22:59:47.312Z"
   },
   {
    "duration": 27,
    "start_time": "2023-05-01T22:59:47.329Z"
   },
   {
    "duration": 28,
    "start_time": "2023-05-01T22:59:47.357Z"
   },
   {
    "duration": 29,
    "start_time": "2023-05-01T22:59:47.387Z"
   },
   {
    "duration": 15,
    "start_time": "2023-05-01T22:59:47.417Z"
   },
   {
    "duration": 28,
    "start_time": "2023-05-01T22:59:47.434Z"
   },
   {
    "duration": 5,
    "start_time": "2023-05-01T22:59:47.463Z"
   },
   {
    "duration": 6,
    "start_time": "2023-05-01T22:59:47.469Z"
   },
   {
    "duration": 9,
    "start_time": "2023-05-01T22:59:47.476Z"
   },
   {
    "duration": 9,
    "start_time": "2023-05-01T22:59:47.486Z"
   },
   {
    "duration": 7,
    "start_time": "2023-05-01T22:59:47.496Z"
   },
   {
    "duration": 11,
    "start_time": "2023-05-01T22:59:47.504Z"
   },
   {
    "duration": 14,
    "start_time": "2023-05-01T22:59:47.517Z"
   },
   {
    "duration": 3,
    "start_time": "2023-05-01T22:59:47.533Z"
   },
   {
    "duration": 6,
    "start_time": "2023-05-01T22:59:47.540Z"
   },
   {
    "duration": 14,
    "start_time": "2023-05-01T22:59:47.548Z"
   },
   {
    "duration": 8,
    "start_time": "2023-05-01T22:59:47.563Z"
   },
   {
    "duration": 45,
    "start_time": "2023-05-01T22:59:47.573Z"
   },
   {
    "duration": 9,
    "start_time": "2023-05-01T22:59:47.620Z"
   },
   {
    "duration": 5,
    "start_time": "2023-05-01T22:59:47.631Z"
   },
   {
    "duration": 18,
    "start_time": "2023-05-01T22:59:47.638Z"
   },
   {
    "duration": 361,
    "start_time": "2023-05-01T22:59:47.658Z"
   },
   {
    "duration": 300,
    "start_time": "2023-05-01T22:59:48.021Z"
   },
   {
    "duration": 1127,
    "start_time": "2023-05-01T22:59:48.323Z"
   },
   {
    "duration": 15,
    "start_time": "2023-05-01T22:59:49.452Z"
   },
   {
    "duration": 8,
    "start_time": "2023-05-01T22:59:49.469Z"
   },
   {
    "duration": 6,
    "start_time": "2023-05-01T22:59:49.478Z"
   },
   {
    "duration": 5,
    "start_time": "2023-05-01T22:59:49.486Z"
   },
   {
    "duration": 10,
    "start_time": "2023-05-01T22:59:49.511Z"
   },
   {
    "duration": 161,
    "start_time": "2023-05-01T22:59:49.523Z"
   },
   {
    "duration": 2571,
    "start_time": "2023-05-01T22:59:49.686Z"
   },
   {
    "duration": 290,
    "start_time": "2023-05-01T22:59:52.259Z"
   },
   {
    "duration": 290,
    "start_time": "2023-05-01T22:59:52.551Z"
   },
   {
    "duration": 14,
    "start_time": "2023-05-01T22:59:52.843Z"
   },
   {
    "duration": 173,
    "start_time": "2023-05-01T22:59:52.859Z"
   },
   {
    "duration": 172,
    "start_time": "2023-05-01T22:59:53.034Z"
   },
   {
    "duration": 13,
    "start_time": "2023-05-01T22:59:53.211Z"
   },
   {
    "duration": 169,
    "start_time": "2023-05-01T22:59:53.225Z"
   },
   {
    "duration": 251,
    "start_time": "2023-05-01T22:59:53.396Z"
   },
   {
    "duration": 176,
    "start_time": "2023-05-01T22:59:53.649Z"
   },
   {
    "duration": 314,
    "start_time": "2023-05-01T22:59:53.827Z"
   },
   {
    "duration": 311,
    "start_time": "2023-05-01T22:59:54.143Z"
   },
   {
    "duration": 3,
    "start_time": "2023-05-01T22:59:54.456Z"
   },
   {
    "duration": 413,
    "start_time": "2023-05-01T22:59:54.461Z"
   },
   {
    "duration": 411,
    "start_time": "2023-05-01T22:59:54.876Z"
   },
   {
    "duration": 446,
    "start_time": "2023-05-01T22:59:55.289Z"
   },
   {
    "duration": 10,
    "start_time": "2023-05-01T22:59:55.737Z"
   },
   {
    "duration": 5,
    "start_time": "2023-05-01T22:59:55.750Z"
   },
   {
    "duration": 401,
    "start_time": "2023-05-01T22:59:55.756Z"
   },
   {
    "duration": 412,
    "start_time": "2023-05-01T22:59:56.159Z"
   },
   {
    "duration": 6,
    "start_time": "2023-05-01T22:59:56.572Z"
   },
   {
    "duration": 7,
    "start_time": "2023-05-01T22:59:56.580Z"
   },
   {
    "duration": 25,
    "start_time": "2023-05-01T22:59:56.589Z"
   },
   {
    "duration": 6,
    "start_time": "2023-05-01T22:59:56.616Z"
   },
   {
    "duration": 1263,
    "start_time": "2023-05-02T15:23:48.371Z"
   },
   {
    "duration": 3,
    "start_time": "2023-05-02T15:23:49.636Z"
   },
   {
    "duration": 67,
    "start_time": "2023-05-02T15:23:49.640Z"
   },
   {
    "duration": 24,
    "start_time": "2023-05-02T15:23:49.710Z"
   },
   {
    "duration": 15,
    "start_time": "2023-05-02T15:23:49.736Z"
   },
   {
    "duration": 3,
    "start_time": "2023-05-02T15:23:49.753Z"
   },
   {
    "duration": 29,
    "start_time": "2023-05-02T15:23:49.758Z"
   },
   {
    "duration": 20,
    "start_time": "2023-05-02T15:23:49.789Z"
   },
   {
    "duration": 5,
    "start_time": "2023-05-02T15:23:49.810Z"
   },
   {
    "duration": 219,
    "start_time": "2023-05-02T15:23:49.818Z"
   },
   {
    "duration": 5,
    "start_time": "2023-05-02T15:23:50.039Z"
   },
   {
    "duration": 198,
    "start_time": "2023-05-02T15:23:50.047Z"
   },
   {
    "duration": 2,
    "start_time": "2023-05-02T15:23:50.247Z"
   },
   {
    "duration": 20,
    "start_time": "2023-05-02T15:23:50.250Z"
   },
   {
    "duration": 53,
    "start_time": "2023-05-02T15:23:50.272Z"
   },
   {
    "duration": 31,
    "start_time": "2023-05-02T15:23:50.327Z"
   },
   {
    "duration": 11,
    "start_time": "2023-05-02T15:23:50.360Z"
   },
   {
    "duration": 29,
    "start_time": "2023-05-02T15:23:50.373Z"
   },
   {
    "duration": 11,
    "start_time": "2023-05-02T15:23:50.404Z"
   },
   {
    "duration": 16,
    "start_time": "2023-05-02T15:23:50.417Z"
   },
   {
    "duration": 22,
    "start_time": "2023-05-02T15:23:50.435Z"
   },
   {
    "duration": 8,
    "start_time": "2023-05-02T15:23:50.459Z"
   },
   {
    "duration": 7,
    "start_time": "2023-05-02T15:23:50.470Z"
   },
   {
    "duration": 23,
    "start_time": "2023-05-02T15:23:50.479Z"
   },
   {
    "duration": 40,
    "start_time": "2023-05-02T15:23:50.504Z"
   },
   {
    "duration": 59,
    "start_time": "2023-05-02T15:23:50.546Z"
   },
   {
    "duration": 4,
    "start_time": "2023-05-02T15:23:50.608Z"
   },
   {
    "duration": 15,
    "start_time": "2023-05-02T15:23:50.617Z"
   },
   {
    "duration": 22,
    "start_time": "2023-05-02T15:23:50.634Z"
   },
   {
    "duration": 10,
    "start_time": "2023-05-02T15:23:50.657Z"
   },
   {
    "duration": 55,
    "start_time": "2023-05-02T15:23:50.669Z"
   },
   {
    "duration": 9,
    "start_time": "2023-05-02T15:23:50.726Z"
   },
   {
    "duration": 4,
    "start_time": "2023-05-02T15:23:50.737Z"
   },
   {
    "duration": 28,
    "start_time": "2023-05-02T15:23:50.743Z"
   },
   {
    "duration": 376,
    "start_time": "2023-05-02T15:23:50.773Z"
   },
   {
    "duration": 323,
    "start_time": "2023-05-02T15:23:51.151Z"
   },
   {
    "duration": 1228,
    "start_time": "2023-05-02T15:23:51.476Z"
   },
   {
    "duration": 16,
    "start_time": "2023-05-02T15:23:52.706Z"
   },
   {
    "duration": 11,
    "start_time": "2023-05-02T15:23:52.724Z"
   },
   {
    "duration": 8,
    "start_time": "2023-05-02T15:23:52.738Z"
   },
   {
    "duration": 7,
    "start_time": "2023-05-02T15:23:52.748Z"
   },
   {
    "duration": 41,
    "start_time": "2023-05-02T15:23:52.757Z"
   },
   {
    "duration": 170,
    "start_time": "2023-05-02T15:23:52.800Z"
   },
   {
    "duration": 1842,
    "start_time": "2023-05-02T15:23:52.972Z"
   },
   {
    "duration": 306,
    "start_time": "2023-05-02T15:23:54.816Z"
   },
   {
    "duration": 302,
    "start_time": "2023-05-02T15:23:55.123Z"
   },
   {
    "duration": 14,
    "start_time": "2023-05-02T15:23:55.427Z"
   },
   {
    "duration": 211,
    "start_time": "2023-05-02T15:23:55.443Z"
   },
   {
    "duration": 178,
    "start_time": "2023-05-02T15:23:55.656Z"
   },
   {
    "duration": 12,
    "start_time": "2023-05-02T15:23:55.836Z"
   },
   {
    "duration": 183,
    "start_time": "2023-05-02T15:23:55.850Z"
   },
   {
    "duration": 266,
    "start_time": "2023-05-02T15:23:56.035Z"
   },
   {
    "duration": 193,
    "start_time": "2023-05-02T15:23:56.303Z"
   },
   {
    "duration": 350,
    "start_time": "2023-05-02T15:23:56.500Z"
   },
   {
    "duration": 345,
    "start_time": "2023-05-02T15:23:56.852Z"
   },
   {
    "duration": 6,
    "start_time": "2023-05-02T15:23:57.198Z"
   },
   {
    "duration": 785,
    "start_time": "2023-05-02T15:23:57.205Z"
   },
   {
    "duration": 1119,
    "start_time": "2023-05-02T15:23:57.993Z"
   },
   {
    "duration": 947,
    "start_time": "2023-05-02T15:23:59.114Z"
   },
   {
    "duration": 12,
    "start_time": "2023-05-02T15:24:00.062Z"
   },
   {
    "duration": 9,
    "start_time": "2023-05-02T15:24:00.085Z"
   },
   {
    "duration": 451,
    "start_time": "2023-05-02T15:24:00.096Z"
   },
   {
    "duration": 477,
    "start_time": "2023-05-02T15:24:00.548Z"
   },
   {
    "duration": 6,
    "start_time": "2023-05-02T15:24:01.027Z"
   },
   {
    "duration": 39,
    "start_time": "2023-05-02T15:24:01.035Z"
   },
   {
    "duration": 47,
    "start_time": "2023-05-02T15:24:01.076Z"
   },
   {
    "duration": 34,
    "start_time": "2023-05-02T15:24:01.125Z"
   },
   {
    "duration": 11,
    "start_time": "2023-05-02T15:28:32.211Z"
   },
   {
    "duration": 1311,
    "start_time": "2023-05-02T15:35:12.119Z"
   },
   {
    "duration": 4,
    "start_time": "2023-05-02T15:35:13.432Z"
   },
   {
    "duration": 53,
    "start_time": "2023-05-02T15:35:13.438Z"
   },
   {
    "duration": 28,
    "start_time": "2023-05-02T15:35:13.493Z"
   },
   {
    "duration": 14,
    "start_time": "2023-05-02T15:35:13.524Z"
   },
   {
    "duration": 3,
    "start_time": "2023-05-02T15:35:13.540Z"
   },
   {
    "duration": 7,
    "start_time": "2023-05-02T15:35:13.545Z"
   },
   {
    "duration": 37,
    "start_time": "2023-05-02T15:35:13.554Z"
   },
   {
    "duration": 5,
    "start_time": "2023-05-02T15:35:13.593Z"
   },
   {
    "duration": 218,
    "start_time": "2023-05-02T15:35:13.600Z"
   },
   {
    "duration": 4,
    "start_time": "2023-05-02T15:35:13.820Z"
   },
   {
    "duration": 219,
    "start_time": "2023-05-02T15:35:13.826Z"
   },
   {
    "duration": 3,
    "start_time": "2023-05-02T15:35:14.048Z"
   },
   {
    "duration": 17,
    "start_time": "2023-05-02T15:35:14.055Z"
   },
   {
    "duration": 41,
    "start_time": "2023-05-02T15:35:14.086Z"
   },
   {
    "duration": 61,
    "start_time": "2023-05-02T15:35:14.129Z"
   },
   {
    "duration": 12,
    "start_time": "2023-05-02T15:35:14.193Z"
   },
   {
    "duration": 9,
    "start_time": "2023-05-02T15:35:14.207Z"
   },
   {
    "duration": 10,
    "start_time": "2023-05-02T15:35:14.218Z"
   },
   {
    "duration": 16,
    "start_time": "2023-05-02T15:35:14.230Z"
   },
   {
    "duration": 38,
    "start_time": "2023-05-02T15:35:14.249Z"
   },
   {
    "duration": 9,
    "start_time": "2023-05-02T15:35:14.289Z"
   },
   {
    "duration": 6,
    "start_time": "2023-05-02T15:35:14.300Z"
   },
   {
    "duration": 10,
    "start_time": "2023-05-02T15:35:14.308Z"
   },
   {
    "duration": 68,
    "start_time": "2023-05-02T15:35:14.320Z"
   },
   {
    "duration": 22,
    "start_time": "2023-05-02T15:35:14.390Z"
   },
   {
    "duration": 8,
    "start_time": "2023-05-02T15:35:14.415Z"
   },
   {
    "duration": 9,
    "start_time": "2023-05-02T15:35:14.426Z"
   },
   {
    "duration": 65,
    "start_time": "2023-05-02T15:35:14.438Z"
   },
   {
    "duration": 14,
    "start_time": "2023-05-02T15:35:14.505Z"
   },
   {
    "duration": 10,
    "start_time": "2023-05-02T15:35:14.520Z"
   },
   {
    "duration": 61,
    "start_time": "2023-05-02T15:35:14.531Z"
   },
   {
    "duration": 6,
    "start_time": "2023-05-02T15:35:14.595Z"
   },
   {
    "duration": 19,
    "start_time": "2023-05-02T15:35:14.603Z"
   },
   {
    "duration": 1062,
    "start_time": "2023-05-02T15:35:14.624Z"
   },
   {
    "duration": 808,
    "start_time": "2023-05-02T15:35:15.688Z"
   },
   {
    "duration": 1401,
    "start_time": "2023-05-02T15:35:16.498Z"
   },
   {
    "duration": 17,
    "start_time": "2023-05-02T15:35:17.901Z"
   },
   {
    "duration": 6,
    "start_time": "2023-05-02T15:35:17.920Z"
   },
   {
    "duration": 9,
    "start_time": "2023-05-02T15:35:17.928Z"
   },
   {
    "duration": 8,
    "start_time": "2023-05-02T15:35:17.943Z"
   },
   {
    "duration": 46,
    "start_time": "2023-05-02T15:35:17.953Z"
   },
   {
    "duration": 172,
    "start_time": "2023-05-02T15:35:18.001Z"
   },
   {
    "duration": 1851,
    "start_time": "2023-05-02T15:35:18.175Z"
   },
   {
    "duration": 295,
    "start_time": "2023-05-02T15:35:20.028Z"
   },
   {
    "duration": 302,
    "start_time": "2023-05-02T15:35:20.325Z"
   },
   {
    "duration": 13,
    "start_time": "2023-05-02T15:35:20.629Z"
   },
   {
    "duration": 190,
    "start_time": "2023-05-02T15:35:20.643Z"
   },
   {
    "duration": 191,
    "start_time": "2023-05-02T15:35:20.835Z"
   },
   {
    "duration": 12,
    "start_time": "2023-05-02T15:35:21.028Z"
   },
   {
    "duration": 175,
    "start_time": "2023-05-02T15:35:21.042Z"
   },
   {
    "duration": 257,
    "start_time": "2023-05-02T15:35:21.220Z"
   },
   {
    "duration": 189,
    "start_time": "2023-05-02T15:35:21.480Z"
   },
   {
    "duration": 332,
    "start_time": "2023-05-02T15:35:21.671Z"
   },
   {
    "duration": 324,
    "start_time": "2023-05-02T15:35:22.005Z"
   },
   {
    "duration": 4,
    "start_time": "2023-05-02T15:35:22.331Z"
   },
   {
    "duration": 460,
    "start_time": "2023-05-02T15:35:22.337Z"
   },
   {
    "duration": 442,
    "start_time": "2023-05-02T15:35:22.799Z"
   },
   {
    "duration": 476,
    "start_time": "2023-05-02T15:35:23.243Z"
   },
   {
    "duration": 11,
    "start_time": "2023-05-02T15:35:23.720Z"
   },
   {
    "duration": 19,
    "start_time": "2023-05-02T15:35:23.732Z"
   },
   {
    "duration": 485,
    "start_time": "2023-05-02T15:35:23.753Z"
   },
   {
    "duration": 500,
    "start_time": "2023-05-02T15:35:24.240Z"
   },
   {
    "duration": 8,
    "start_time": "2023-05-02T15:35:24.742Z"
   },
   {
    "duration": 7,
    "start_time": "2023-05-02T15:35:24.751Z"
   },
   {
    "duration": 28,
    "start_time": "2023-05-02T15:35:24.760Z"
   },
   {
    "duration": 15,
    "start_time": "2023-05-02T15:35:24.793Z"
   },
   {
    "duration": 67,
    "start_time": "2023-05-02T15:35:24.810Z"
   },
   {
    "duration": 5,
    "start_time": "2023-05-02T15:35:24.879Z"
   },
   {
    "duration": 21,
    "start_time": "2023-05-02T15:35:24.886Z"
   },
   {
    "duration": 7,
    "start_time": "2023-05-02T15:35:24.908Z"
   },
   {
    "duration": 7,
    "start_time": "2023-05-02T15:35:24.916Z"
   },
   {
    "duration": 22,
    "start_time": "2023-05-02T15:35:24.925Z"
   },
   {
    "duration": 7,
    "start_time": "2023-05-02T15:35:24.949Z"
   },
   {
    "duration": 629,
    "start_time": "2023-05-02T15:35:24.958Z"
   },
   {
    "duration": 677,
    "start_time": "2023-05-02T15:35:25.589Z"
   },
   {
    "duration": 683,
    "start_time": "2023-05-02T15:35:26.268Z"
   },
   {
    "duration": 1137,
    "start_time": "2023-11-30T19:04:52.103Z"
   },
   {
    "duration": 2,
    "start_time": "2023-11-30T19:04:53.242Z"
   },
   {
    "duration": 216,
    "start_time": "2023-11-30T19:04:53.245Z"
   },
   {
    "duration": 32,
    "start_time": "2023-11-30T19:04:53.463Z"
   },
   {
    "duration": 27,
    "start_time": "2023-11-30T19:04:53.497Z"
   },
   {
    "duration": 22,
    "start_time": "2023-11-30T19:04:53.525Z"
   },
   {
    "duration": 26,
    "start_time": "2023-11-30T19:04:53.549Z"
   },
   {
    "duration": 37,
    "start_time": "2023-11-30T19:04:53.576Z"
   },
   {
    "duration": 16,
    "start_time": "2023-11-30T19:04:53.614Z"
   },
   {
    "duration": 197,
    "start_time": "2023-11-30T19:04:53.632Z"
   },
   {
    "duration": 4,
    "start_time": "2023-11-30T19:04:53.831Z"
   },
   {
    "duration": 187,
    "start_time": "2023-11-30T19:04:53.836Z"
   },
   {
    "duration": 2,
    "start_time": "2023-11-30T19:04:54.024Z"
   },
   {
    "duration": 37,
    "start_time": "2023-11-30T19:04:54.027Z"
   },
   {
    "duration": 33,
    "start_time": "2023-11-30T19:04:54.065Z"
   },
   {
    "duration": 41,
    "start_time": "2023-11-30T19:04:54.099Z"
   },
   {
    "duration": 47,
    "start_time": "2023-11-30T19:04:54.142Z"
   },
   {
    "duration": 20,
    "start_time": "2023-11-30T19:04:54.190Z"
   },
   {
    "duration": 26,
    "start_time": "2023-11-30T19:04:54.211Z"
   },
   {
    "duration": 9,
    "start_time": "2023-11-30T19:04:54.238Z"
   },
   {
    "duration": 14,
    "start_time": "2023-11-30T19:04:54.249Z"
   },
   {
    "duration": 22,
    "start_time": "2023-11-30T19:04:54.265Z"
   },
   {
    "duration": 22,
    "start_time": "2023-11-30T19:04:54.288Z"
   },
   {
    "duration": 19,
    "start_time": "2023-11-30T19:04:54.311Z"
   },
   {
    "duration": 28,
    "start_time": "2023-11-30T19:04:54.332Z"
   },
   {
    "duration": 19,
    "start_time": "2023-11-30T19:04:54.362Z"
   },
   {
    "duration": 24,
    "start_time": "2023-11-30T19:04:54.382Z"
   },
   {
    "duration": 26,
    "start_time": "2023-11-30T19:04:54.410Z"
   },
   {
    "duration": 23,
    "start_time": "2023-11-30T19:04:54.437Z"
   },
   {
    "duration": 17,
    "start_time": "2023-11-30T19:04:54.462Z"
   },
   {
    "duration": 24,
    "start_time": "2023-11-30T19:04:54.480Z"
   },
   {
    "duration": 31,
    "start_time": "2023-11-30T19:04:54.506Z"
   },
   {
    "duration": 4,
    "start_time": "2023-11-30T19:04:54.539Z"
   },
   {
    "duration": 26,
    "start_time": "2023-11-30T19:04:54.545Z"
   },
   {
    "duration": 327,
    "start_time": "2023-11-30T19:04:54.573Z"
   },
   {
    "duration": 266,
    "start_time": "2023-11-30T19:04:54.902Z"
   },
   {
    "duration": 973,
    "start_time": "2023-11-30T19:04:55.170Z"
   },
   {
    "duration": 19,
    "start_time": "2023-11-30T19:04:56.145Z"
   },
   {
    "duration": 24,
    "start_time": "2023-11-30T19:04:56.165Z"
   },
   {
    "duration": 38,
    "start_time": "2023-11-30T19:04:56.191Z"
   },
   {
    "duration": 21,
    "start_time": "2023-11-30T19:04:56.231Z"
   },
   {
    "duration": 19,
    "start_time": "2023-11-30T19:04:56.253Z"
   },
   {
    "duration": 147,
    "start_time": "2023-11-30T19:04:56.273Z"
   },
   {
    "duration": 1502,
    "start_time": "2023-11-30T19:04:56.422Z"
   },
   {
    "duration": 252,
    "start_time": "2023-11-30T19:04:57.926Z"
   },
   {
    "duration": 238,
    "start_time": "2023-11-30T19:04:58.180Z"
   },
   {
    "duration": 11,
    "start_time": "2023-11-30T19:04:58.420Z"
   },
   {
    "duration": 193,
    "start_time": "2023-11-30T19:04:58.432Z"
   },
   {
    "duration": 141,
    "start_time": "2023-11-30T19:04:58.626Z"
   },
   {
    "duration": 11,
    "start_time": "2023-11-30T19:04:58.768Z"
   },
   {
    "duration": 158,
    "start_time": "2023-11-30T19:04:58.781Z"
   },
   {
    "duration": 220,
    "start_time": "2023-11-30T19:04:58.941Z"
   },
   {
    "duration": 154,
    "start_time": "2023-11-30T19:04:59.162Z"
   },
   {
    "duration": 273,
    "start_time": "2023-11-30T19:04:59.318Z"
   },
   {
    "duration": 265,
    "start_time": "2023-11-30T19:04:59.592Z"
   },
   {
    "duration": 2,
    "start_time": "2023-11-30T19:04:59.859Z"
   },
   {
    "duration": 407,
    "start_time": "2023-11-30T19:04:59.863Z"
   },
   {
    "duration": 369,
    "start_time": "2023-11-30T19:05:00.272Z"
   },
   {
    "duration": 398,
    "start_time": "2023-11-30T19:05:00.642Z"
   },
   {
    "duration": 14,
    "start_time": "2023-11-30T19:05:01.042Z"
   },
   {
    "duration": 28,
    "start_time": "2023-11-30T19:05:01.057Z"
   },
   {
    "duration": 394,
    "start_time": "2023-11-30T19:05:01.086Z"
   },
   {
    "duration": 370,
    "start_time": "2023-11-30T19:05:01.481Z"
   },
   {
    "duration": 6,
    "start_time": "2023-11-30T19:05:01.853Z"
   },
   {
    "duration": 46,
    "start_time": "2023-11-30T19:05:01.860Z"
   },
   {
    "duration": 79,
    "start_time": "2023-11-30T19:05:01.908Z"
   },
   {
    "duration": 95,
    "start_time": "2023-11-30T19:05:01.989Z"
   },
   {
    "duration": 88,
    "start_time": "2023-11-30T19:05:02.085Z"
   },
   {
    "duration": 3,
    "start_time": "2023-11-30T19:05:02.174Z"
   },
   {
    "duration": 97,
    "start_time": "2023-11-30T19:05:02.179Z"
   },
   {
    "duration": 19,
    "start_time": "2023-11-30T19:05:02.279Z"
   },
   {
    "duration": 21,
    "start_time": "2023-11-30T19:05:02.300Z"
   },
   {
    "duration": 15,
    "start_time": "2023-11-30T19:05:02.322Z"
   },
   {
    "duration": 7,
    "start_time": "2023-11-30T19:05:02.338Z"
   },
   {
    "duration": 569,
    "start_time": "2023-11-30T19:05:02.347Z"
   },
   {
    "duration": 559,
    "start_time": "2023-11-30T19:05:02.918Z"
   },
   {
    "duration": 593,
    "start_time": "2023-11-30T19:05:03.479Z"
   },
   {
    "duration": 1287,
    "start_time": "2023-12-04T13:01:47.577Z"
   },
   {
    "duration": 3,
    "start_time": "2023-12-04T13:01:48.866Z"
   },
   {
    "duration": 106,
    "start_time": "2023-12-04T13:01:48.870Z"
   },
   {
    "duration": 24,
    "start_time": "2023-12-04T13:01:48.978Z"
   },
   {
    "duration": 41,
    "start_time": "2023-12-04T13:01:49.004Z"
   },
   {
    "duration": 33,
    "start_time": "2023-12-04T13:01:49.047Z"
   },
   {
    "duration": 24,
    "start_time": "2023-12-04T13:01:49.082Z"
   },
   {
    "duration": 12,
    "start_time": "2023-12-04T13:01:49.108Z"
   },
   {
    "duration": 19,
    "start_time": "2023-12-04T13:01:49.122Z"
   },
   {
    "duration": 203,
    "start_time": "2023-12-04T13:01:49.144Z"
   },
   {
    "duration": 5,
    "start_time": "2023-12-04T13:01:49.348Z"
   },
   {
    "duration": 306,
    "start_time": "2023-12-04T13:01:49.354Z"
   },
   {
    "duration": 2,
    "start_time": "2023-12-04T13:01:49.662Z"
   },
   {
    "duration": 35,
    "start_time": "2023-12-04T13:01:49.666Z"
   },
   {
    "duration": 72,
    "start_time": "2023-12-04T13:01:49.702Z"
   },
   {
    "duration": 30,
    "start_time": "2023-12-04T13:01:49.776Z"
   },
   {
    "duration": 13,
    "start_time": "2023-12-04T13:01:49.807Z"
   },
   {
    "duration": 36,
    "start_time": "2023-12-04T13:01:49.821Z"
   },
   {
    "duration": 56,
    "start_time": "2023-12-04T13:01:49.858Z"
   },
   {
    "duration": 41,
    "start_time": "2023-12-04T13:01:49.915Z"
   },
   {
    "duration": 23,
    "start_time": "2023-12-04T13:01:49.958Z"
   },
   {
    "duration": 27,
    "start_time": "2023-12-04T13:01:49.983Z"
   },
   {
    "duration": 41,
    "start_time": "2023-12-04T13:01:50.012Z"
   },
   {
    "duration": 28,
    "start_time": "2023-12-04T13:01:50.054Z"
   },
   {
    "duration": 32,
    "start_time": "2023-12-04T13:01:50.084Z"
   },
   {
    "duration": 55,
    "start_time": "2023-12-04T13:01:50.117Z"
   },
   {
    "duration": 28,
    "start_time": "2023-12-04T13:01:50.173Z"
   },
   {
    "duration": 34,
    "start_time": "2023-12-04T13:01:50.205Z"
   },
   {
    "duration": 32,
    "start_time": "2023-12-04T13:01:50.241Z"
   },
   {
    "duration": 13,
    "start_time": "2023-12-04T13:01:50.275Z"
   },
   {
    "duration": 24,
    "start_time": "2023-12-04T13:01:50.290Z"
   },
   {
    "duration": 20,
    "start_time": "2023-12-04T13:01:50.315Z"
   },
   {
    "duration": 13,
    "start_time": "2023-12-04T13:01:50.337Z"
   },
   {
    "duration": 27,
    "start_time": "2023-12-04T13:01:50.351Z"
   },
   {
    "duration": 363,
    "start_time": "2023-12-04T13:01:50.379Z"
   },
   {
    "duration": 309,
    "start_time": "2023-12-04T13:01:50.744Z"
   },
   {
    "duration": 1132,
    "start_time": "2023-12-04T13:01:51.055Z"
   },
   {
    "duration": 22,
    "start_time": "2023-12-04T13:01:52.189Z"
   },
   {
    "duration": 37,
    "start_time": "2023-12-04T13:01:52.213Z"
   },
   {
    "duration": 40,
    "start_time": "2023-12-04T13:01:52.251Z"
   },
   {
    "duration": 59,
    "start_time": "2023-12-04T13:01:52.292Z"
   },
   {
    "duration": 53,
    "start_time": "2023-12-04T13:01:52.353Z"
   },
   {
    "duration": 192,
    "start_time": "2023-12-04T13:01:52.408Z"
   },
   {
    "duration": 1684,
    "start_time": "2023-12-04T13:01:52.602Z"
   },
   {
    "duration": 285,
    "start_time": "2023-12-04T13:01:54.288Z"
   },
   {
    "duration": 282,
    "start_time": "2023-12-04T13:01:54.575Z"
   },
   {
    "duration": 14,
    "start_time": "2023-12-04T13:01:54.859Z"
   },
   {
    "duration": 556,
    "start_time": "2023-12-04T13:01:54.875Z"
   },
   {
    "duration": 175,
    "start_time": "2023-12-04T13:01:55.433Z"
   },
   {
    "duration": 13,
    "start_time": "2023-12-04T13:01:55.610Z"
   },
   {
    "duration": 187,
    "start_time": "2023-12-04T13:01:55.625Z"
   },
   {
    "duration": 244,
    "start_time": "2023-12-04T13:01:55.813Z"
   },
   {
    "duration": 177,
    "start_time": "2023-12-04T13:01:56.059Z"
   },
   {
    "duration": 308,
    "start_time": "2023-12-04T13:01:56.238Z"
   },
   {
    "duration": 317,
    "start_time": "2023-12-04T13:01:56.547Z"
   },
   {
    "duration": 3,
    "start_time": "2023-12-04T13:01:56.866Z"
   },
   {
    "duration": 432,
    "start_time": "2023-12-04T13:01:56.871Z"
   },
   {
    "duration": 424,
    "start_time": "2023-12-04T13:01:57.305Z"
   },
   {
    "duration": 435,
    "start_time": "2023-12-04T13:01:57.731Z"
   },
   {
    "duration": 14,
    "start_time": "2023-12-04T13:01:58.169Z"
   },
   {
    "duration": 40,
    "start_time": "2023-12-04T13:01:58.185Z"
   },
   {
    "duration": 408,
    "start_time": "2023-12-04T13:01:58.227Z"
   },
   {
    "duration": 430,
    "start_time": "2023-12-04T13:01:58.637Z"
   },
   {
    "duration": 6,
    "start_time": "2023-12-04T13:01:59.069Z"
   },
   {
    "duration": 11,
    "start_time": "2023-12-04T13:01:59.077Z"
   },
   {
    "duration": 21,
    "start_time": "2023-12-04T13:01:59.089Z"
   },
   {
    "duration": 17,
    "start_time": "2023-12-04T13:01:59.111Z"
   },
   {
    "duration": 70,
    "start_time": "2023-12-04T13:01:59.130Z"
   },
   {
    "duration": 3,
    "start_time": "2023-12-04T13:01:59.202Z"
   },
   {
    "duration": 24,
    "start_time": "2023-12-04T13:01:59.206Z"
   },
   {
    "duration": 18,
    "start_time": "2023-12-04T13:01:59.231Z"
   },
   {
    "duration": 9,
    "start_time": "2023-12-04T13:01:59.251Z"
   },
   {
    "duration": 13,
    "start_time": "2023-12-04T13:01:59.262Z"
   },
   {
    "duration": 7,
    "start_time": "2023-12-04T13:01:59.276Z"
   },
   {
    "duration": 685,
    "start_time": "2023-12-04T13:01:59.285Z"
   },
   {
    "duration": 599,
    "start_time": "2023-12-04T13:01:59.972Z"
   },
   {
    "duration": 641,
    "start_time": "2023-12-04T13:02:00.573Z"
   },
   {
    "duration": 1256,
    "start_time": "2024-05-24T21:38:53.348Z"
   },
   {
    "duration": 3,
    "start_time": "2024-05-24T21:38:54.606Z"
   },
   {
    "duration": 197,
    "start_time": "2024-05-24T21:38:54.611Z"
   },
   {
    "duration": 21,
    "start_time": "2024-05-24T21:38:54.810Z"
   },
   {
    "duration": 13,
    "start_time": "2024-05-24T21:38:54.832Z"
   },
   {
    "duration": 2,
    "start_time": "2024-05-24T21:38:54.847Z"
   },
   {
    "duration": 4,
    "start_time": "2024-05-24T21:38:54.851Z"
   },
   {
    "duration": 8,
    "start_time": "2024-05-24T21:38:54.856Z"
   },
   {
    "duration": 12,
    "start_time": "2024-05-24T21:38:54.865Z"
   },
   {
    "duration": 39,
    "start_time": "2024-05-24T21:38:54.878Z"
   },
   {
    "duration": 23,
    "start_time": "2024-05-24T21:38:54.918Z"
   },
   {
    "duration": 8,
    "start_time": "2024-05-24T21:38:54.942Z"
   },
   {
    "duration": 4,
    "start_time": "2024-05-24T21:38:54.952Z"
   },
   {
    "duration": 6,
    "start_time": "2024-05-24T21:38:54.959Z"
   },
   {
    "duration": 4,
    "start_time": "2024-05-24T21:38:54.966Z"
   },
   {
    "duration": 5,
    "start_time": "2024-05-24T21:38:55.000Z"
   },
   {
    "duration": 6,
    "start_time": "2024-05-24T21:38:55.006Z"
   },
   {
    "duration": 4,
    "start_time": "2024-05-24T21:38:55.013Z"
   },
   {
    "duration": 4,
    "start_time": "2024-05-24T21:38:55.019Z"
   },
   {
    "duration": 8,
    "start_time": "2024-05-24T21:38:55.025Z"
   },
   {
    "duration": 14,
    "start_time": "2024-05-24T21:38:55.034Z"
   },
   {
    "duration": 3,
    "start_time": "2024-05-24T21:38:55.050Z"
   },
   {
    "duration": 48,
    "start_time": "2024-05-24T21:38:55.054Z"
   },
   {
    "duration": 13,
    "start_time": "2024-05-24T21:38:55.104Z"
   },
   {
    "duration": 10,
    "start_time": "2024-05-24T21:38:55.118Z"
   },
   {
    "duration": 8,
    "start_time": "2024-05-24T21:38:55.130Z"
   },
   {
    "duration": 8,
    "start_time": "2024-05-24T21:38:55.139Z"
   },
   {
    "duration": 4,
    "start_time": "2024-05-24T21:38:55.148Z"
   },
   {
    "duration": 17,
    "start_time": "2024-05-24T21:38:55.153Z"
   },
   {
    "duration": 349,
    "start_time": "2024-05-24T21:38:55.172Z"
   },
   {
    "duration": 265,
    "start_time": "2024-05-24T21:38:55.523Z"
   },
   {
    "duration": 977,
    "start_time": "2024-05-24T21:38:55.799Z"
   },
   {
    "duration": 14,
    "start_time": "2024-05-24T21:38:56.777Z"
   },
   {
    "duration": 3,
    "start_time": "2024-05-24T21:38:56.800Z"
   },
   {
    "duration": 6,
    "start_time": "2024-05-24T21:38:56.805Z"
   },
   {
    "duration": 8,
    "start_time": "2024-05-24T21:38:56.812Z"
   },
   {
    "duration": 155,
    "start_time": "2024-05-24T21:38:56.821Z"
   },
   {
    "duration": 1463,
    "start_time": "2024-05-24T21:38:56.977Z"
   },
   {
    "duration": 245,
    "start_time": "2024-05-24T21:38:58.441Z"
   },
   {
    "duration": 232,
    "start_time": "2024-05-24T21:38:58.687Z"
   },
   {
    "duration": 11,
    "start_time": "2024-05-24T21:38:58.922Z"
   },
   {
    "duration": 147,
    "start_time": "2024-05-24T21:38:58.934Z"
   },
   {
    "duration": 148,
    "start_time": "2024-05-24T21:38:59.083Z"
   },
   {
    "duration": 10,
    "start_time": "2024-05-24T21:38:59.232Z"
   },
   {
    "duration": 142,
    "start_time": "2024-05-24T21:38:59.243Z"
   },
   {
    "duration": 144,
    "start_time": "2024-05-24T21:38:59.387Z"
   },
   {
    "duration": 153,
    "start_time": "2024-05-24T21:38:59.533Z"
   },
   {
    "duration": 329,
    "start_time": "2024-05-24T21:38:59.688Z"
   },
   {
    "duration": 274,
    "start_time": "2024-05-24T21:39:00.018Z"
   },
   {
    "duration": 7,
    "start_time": "2024-05-24T21:39:00.293Z"
   },
   {
    "duration": 375,
    "start_time": "2024-05-24T21:39:00.301Z"
   },
   {
    "duration": 373,
    "start_time": "2024-05-24T21:39:00.678Z"
   },
   {
    "duration": 325,
    "start_time": "2024-05-24T21:39:01.052Z"
   },
   {
    "duration": 6,
    "start_time": "2024-05-24T21:39:01.378Z"
   },
   {
    "duration": 22,
    "start_time": "2024-05-24T21:39:01.385Z"
   },
   {
    "duration": 29,
    "start_time": "2024-05-24T21:39:01.408Z"
   },
   {
    "duration": 16,
    "start_time": "2024-05-24T21:39:01.439Z"
   }
  ],
  "kernelspec": {
   "display_name": "Python 3 (ipykernel)",
   "language": "python",
   "name": "python3"
  },
  "language_info": {
   "codemirror_mode": {
    "name": "ipython",
    "version": 3
   },
   "file_extension": ".py",
   "mimetype": "text/x-python",
   "name": "python",
   "nbconvert_exporter": "python",
   "pygments_lexer": "ipython3",
   "version": "3.9.5"
  },
  "toc": {
   "base_numbering": 1,
   "nav_menu": {},
   "number_sections": true,
   "sideBar": true,
   "skip_h1_title": true,
   "title_cell": "Table of Contents",
   "title_sidebar": "Contents",
   "toc_cell": false,
   "toc_position": {
    "height": "486px",
    "left": "88px",
    "top": "110.525px",
    "width": "339.4px"
   },
   "toc_section_display": true,
   "toc_window_display": true
  }
 },
 "nbformat": 4,
 "nbformat_minor": 2
}
