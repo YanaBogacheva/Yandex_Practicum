{
 "cells": [
  {
   "cell_type": "markdown",
   "metadata": {},
   "source": [
    "# Проверка гипотез по увеличению выручки в интернет-магазине\n",
    "\n",
    "**Описание проекта:** \n",
    "\n",
    "Аналитики крупного интернет-магазина совместно с отделом маркетинга подготовили список гипотез для увеличения выручки.\n",
    "Целью проведения исследования является анализ результатов проведенного A/B-теста.\n",
    "\n",
    "**Описание данных:**\n",
    "1. Файл /datasets/hypothesis.csv содержит описание 9-и гипотез по увеличению выручки интернет-магазина:\n",
    "- Hypothesis — краткое описание гипотезы;\n",
    "- Reach — охват пользователей по 10-балльной шкале;\n",
    "- Impact — влияние на пользователей по 10-балльной шкале;\n",
    "- Confidence — уверенность в гипотезе по 10-балльной шкале;\n",
    "- Efforts — затраты ресурсов на проверку гипотезы по 10-балльной шкале. Чем больше значение Efforts, тем дороже проверка гипотезы.\n",
    "\n",
    "2. В файлах /datasets/orders.csv и /datasets/visitors.csv описаны результаты проведенного A/B-теста: \n",
    "\n",
    "2.1. Файл /datasets/orders.csv содержит:\n",
    "- transactionId — идентификатор заказа;\n",
    "- visitorId — идентификатор пользователя, совершившего заказ;\n",
    "- date — дата, когда был совершён заказ;\n",
    "- revenue — выручка заказа;\n",
    "- group — группа A/B-теста, в которую попал заказ.\n",
    "\n",
    "2.2. Файл /datasets/visitors.csv содержит:\n",
    "- date — дата;\n",
    "- group — группа A/B-теста;\n",
    "- visitors — количество пользователей в указанную дату в указанной группе A/B-теста.\n",
    "\n",
    "**План выполнения проекта:**\n",
    "\n",
    "1. Предобработка данных \n",
    "\n",
    "\n",
    "2. Приоритизация гипотез:\n",
    "\n",
    "- Применение фреймворка ICE для приоритизации гипотез.\n",
    "- Применение фреймворка RICE для приоритизации гипотез. \n",
    "\n",
    "3. Анализ A/B-теста:\n",
    "\n",
    "- Построение графика кумулятивной выручки по группам. \n",
    "- Построение графика кумулятивного среднего чека по группам.\n",
    "- Построение графика относительного изменения кумулятивного среднего чека группы B к группе A.\n",
    "- Построение графика кумулятивного среднего количества заказов на посетителя по группам.\n",
    "- Построение графика относительного изменения кумулятивного среднего количества заказов на посетителя группы B к группе A.\n",
    "- Построение точечного графика количества заказов по пользователям.\n",
    "- Расчет 95-го и 99-го перцентилей количества заказов на пользователя; выбор границы для определения аномальных пользователей.\n",
    "- Построение точечного графика стоимостей заказов. \n",
    "- Расчет 95-го и 99-го перцентилей стоимости заказов; выбор границы для определения аномальных заказов.\n",
    "- Расчет статистической значимости различий в среднем количестве заказов на посетителя между группами по «сырым» данным. \n",
    "- Расчет статистической значимости различий в среднем чеке заказа между группами по «сырым» данным. \n",
    "- Расчет статистической значимости различий в среднем количестве заказов на посетителя между группами по «очищенным» данным. \n",
    "- Расчет статистической значимости различий в среднем чеке заказа между группами по «очищенным» данным. Сделайте выводы и предположения.\n",
    "- Принятие решения по результатам теста."
   ]
  },
  {
   "cell_type": "markdown",
   "metadata": {},
   "source": [
    "### Предобработка данных"
   ]
  },
  {
   "cell_type": "code",
   "execution_count": 1,
   "metadata": {},
   "outputs": [],
   "source": [
    "# Импортирую нужные библиотеки\n",
    "import pandas as pd\n",
    "import scipy.stats as stats\n",
    "import datetime as dt\n",
    "import numpy as np\n",
    "import matplotlib.pyplot as plt\n",
    "from pandas.plotting import register_matplotlib_converters\n",
    "import warnings\n",
    "pd.set_option('display.max_colwidth', False)"
   ]
  },
  {
   "cell_type": "code",
   "execution_count": 2,
   "metadata": {},
   "outputs": [],
   "source": [
    "# Загружаю данные\n",
    "try:\n",
    "    data, orders, visitors = (\n",
    "        pd.read_csv('hypothesis.csv'), \n",
    "        pd.read_csv('orders.csv'), \n",
    "        pd.read_csv('visitors.csv')\n",
    "    )\n",
    "except:\n",
    "    data, orders, visitors = (\n",
    "        pd.read_csv('/datasets/hypothesis.csv'), \n",
    "        pd.read_csv('/datasets/orders.csv'), \n",
    "        pd.read_csv('/datasets/visitors.csv')\n",
    "    )"
   ]
  },
  {
   "cell_type": "code",
   "execution_count": 3,
   "metadata": {
    "scrolled": false
   },
   "outputs": [
    {
     "name": "stdout",
     "output_type": "stream",
     "text": [
      "Гипотезы\n"
     ]
    },
    {
     "data": {
      "text/html": [
       "<div>\n",
       "<style scoped>\n",
       "    .dataframe tbody tr th:only-of-type {\n",
       "        vertical-align: middle;\n",
       "    }\n",
       "\n",
       "    .dataframe tbody tr th {\n",
       "        vertical-align: top;\n",
       "    }\n",
       "\n",
       "    .dataframe thead th {\n",
       "        text-align: right;\n",
       "    }\n",
       "</style>\n",
       "<table border=\"1\" class=\"dataframe\">\n",
       "  <thead>\n",
       "    <tr style=\"text-align: right;\">\n",
       "      <th></th>\n",
       "      <th>Hypothesis</th>\n",
       "      <th>Reach</th>\n",
       "      <th>Impact</th>\n",
       "      <th>Confidence</th>\n",
       "      <th>Efforts</th>\n",
       "    </tr>\n",
       "  </thead>\n",
       "  <tbody>\n",
       "    <tr>\n",
       "      <th>0</th>\n",
       "      <td>Добавить два новых канала привлечения трафика, что позволит привлекать на 30% больше пользователей</td>\n",
       "      <td>3</td>\n",
       "      <td>10</td>\n",
       "      <td>8</td>\n",
       "      <td>6</td>\n",
       "    </tr>\n",
       "    <tr>\n",
       "      <th>1</th>\n",
       "      <td>Запустить собственную службу доставки, что сократит срок доставки заказов</td>\n",
       "      <td>2</td>\n",
       "      <td>5</td>\n",
       "      <td>4</td>\n",
       "      <td>10</td>\n",
       "    </tr>\n",
       "    <tr>\n",
       "      <th>2</th>\n",
       "      <td>Добавить блоки рекомендаций товаров на сайт интернет магазина, чтобы повысить конверсию и средний чек заказа</td>\n",
       "      <td>8</td>\n",
       "      <td>3</td>\n",
       "      <td>7</td>\n",
       "      <td>3</td>\n",
       "    </tr>\n",
       "    <tr>\n",
       "      <th>3</th>\n",
       "      <td>Изменить структура категорий, что увеличит конверсию, т.к. пользователи быстрее найдут нужный товар</td>\n",
       "      <td>8</td>\n",
       "      <td>3</td>\n",
       "      <td>3</td>\n",
       "      <td>8</td>\n",
       "    </tr>\n",
       "    <tr>\n",
       "      <th>4</th>\n",
       "      <td>Изменить цвет фона главной страницы, чтобы увеличить вовлеченность пользователей</td>\n",
       "      <td>3</td>\n",
       "      <td>1</td>\n",
       "      <td>1</td>\n",
       "      <td>1</td>\n",
       "    </tr>\n",
       "    <tr>\n",
       "      <th>5</th>\n",
       "      <td>Добавить страницу отзывов клиентов о магазине, что позволит увеличить количество заказов</td>\n",
       "      <td>3</td>\n",
       "      <td>2</td>\n",
       "      <td>2</td>\n",
       "      <td>3</td>\n",
       "    </tr>\n",
       "    <tr>\n",
       "      <th>6</th>\n",
       "      <td>Показать на главной странице баннеры с актуальными акциями и распродажами, чтобы увеличить конверсию</td>\n",
       "      <td>5</td>\n",
       "      <td>3</td>\n",
       "      <td>8</td>\n",
       "      <td>3</td>\n",
       "    </tr>\n",
       "    <tr>\n",
       "      <th>7</th>\n",
       "      <td>Добавить форму подписки на все основные страницы, чтобы собрать базу клиентов для email-рассылок</td>\n",
       "      <td>10</td>\n",
       "      <td>7</td>\n",
       "      <td>8</td>\n",
       "      <td>5</td>\n",
       "    </tr>\n",
       "    <tr>\n",
       "      <th>8</th>\n",
       "      <td>Запустить акцию, дающую скидку на товар в день рождения</td>\n",
       "      <td>1</td>\n",
       "      <td>9</td>\n",
       "      <td>9</td>\n",
       "      <td>5</td>\n",
       "    </tr>\n",
       "  </tbody>\n",
       "</table>\n",
       "</div>"
      ],
      "text/plain": [
       "                                                                                                     Hypothesis  \\\n",
       "0  Добавить два новых канала привлечения трафика, что позволит привлекать на 30% больше пользователей             \n",
       "1  Запустить собственную службу доставки, что сократит срок доставки заказов                                      \n",
       "2  Добавить блоки рекомендаций товаров на сайт интернет магазина, чтобы повысить конверсию и средний чек заказа   \n",
       "3  Изменить структура категорий, что увеличит конверсию, т.к. пользователи быстрее найдут нужный товар            \n",
       "4  Изменить цвет фона главной страницы, чтобы увеличить вовлеченность пользователей                               \n",
       "5  Добавить страницу отзывов клиентов о магазине, что позволит увеличить количество заказов                       \n",
       "6  Показать на главной странице баннеры с актуальными акциями и распродажами, чтобы увеличить конверсию           \n",
       "7  Добавить форму подписки на все основные страницы, чтобы собрать базу клиентов для email-рассылок               \n",
       "8  Запустить акцию, дающую скидку на товар в день рождения                                                        \n",
       "\n",
       "   Reach  Impact  Confidence  Efforts  \n",
       "0  3      10      8           6        \n",
       "1  2      5       4           10       \n",
       "2  8      3       7           3        \n",
       "3  8      3       3           8        \n",
       "4  3      1       1           1        \n",
       "5  3      2       2           3        \n",
       "6  5      3       8           3        \n",
       "7  10     7       8           5        \n",
       "8  1      9       9           5        "
      ]
     },
     "metadata": {},
     "output_type": "display_data"
    },
    {
     "name": "stdout",
     "output_type": "stream",
     "text": [
      "<class 'pandas.core.frame.DataFrame'>\n",
      "RangeIndex: 9 entries, 0 to 8\n",
      "Data columns (total 5 columns):\n",
      " #   Column      Non-Null Count  Dtype \n",
      "---  ------      --------------  ----- \n",
      " 0   Hypothesis  9 non-null      object\n",
      " 1   Reach       9 non-null      int64 \n",
      " 2   Impact      9 non-null      int64 \n",
      " 3   Confidence  9 non-null      int64 \n",
      " 4   Efforts     9 non-null      int64 \n",
      "dtypes: int64(4), object(1)\n",
      "memory usage: 488.0+ bytes\n"
     ]
    },
    {
     "data": {
      "text/plain": [
       "None"
      ]
     },
     "metadata": {},
     "output_type": "display_data"
    },
    {
     "name": "stdout",
     "output_type": "stream",
     "text": [
      "\n",
      "Заказы\n"
     ]
    },
    {
     "data": {
      "text/html": [
       "<div>\n",
       "<style scoped>\n",
       "    .dataframe tbody tr th:only-of-type {\n",
       "        vertical-align: middle;\n",
       "    }\n",
       "\n",
       "    .dataframe tbody tr th {\n",
       "        vertical-align: top;\n",
       "    }\n",
       "\n",
       "    .dataframe thead th {\n",
       "        text-align: right;\n",
       "    }\n",
       "</style>\n",
       "<table border=\"1\" class=\"dataframe\">\n",
       "  <thead>\n",
       "    <tr style=\"text-align: right;\">\n",
       "      <th></th>\n",
       "      <th>transactionId</th>\n",
       "      <th>visitorId</th>\n",
       "      <th>date</th>\n",
       "      <th>revenue</th>\n",
       "      <th>group</th>\n",
       "    </tr>\n",
       "  </thead>\n",
       "  <tbody>\n",
       "    <tr>\n",
       "      <th>0</th>\n",
       "      <td>3667963787</td>\n",
       "      <td>3312258926</td>\n",
       "      <td>2019-08-15</td>\n",
       "      <td>1650</td>\n",
       "      <td>B</td>\n",
       "    </tr>\n",
       "    <tr>\n",
       "      <th>1</th>\n",
       "      <td>2804400009</td>\n",
       "      <td>3642806036</td>\n",
       "      <td>2019-08-15</td>\n",
       "      <td>730</td>\n",
       "      <td>B</td>\n",
       "    </tr>\n",
       "    <tr>\n",
       "      <th>2</th>\n",
       "      <td>2961555356</td>\n",
       "      <td>4069496402</td>\n",
       "      <td>2019-08-15</td>\n",
       "      <td>400</td>\n",
       "      <td>A</td>\n",
       "    </tr>\n",
       "    <tr>\n",
       "      <th>3</th>\n",
       "      <td>3797467345</td>\n",
       "      <td>1196621759</td>\n",
       "      <td>2019-08-15</td>\n",
       "      <td>9759</td>\n",
       "      <td>B</td>\n",
       "    </tr>\n",
       "    <tr>\n",
       "      <th>4</th>\n",
       "      <td>2282983706</td>\n",
       "      <td>2322279887</td>\n",
       "      <td>2019-08-15</td>\n",
       "      <td>2308</td>\n",
       "      <td>B</td>\n",
       "    </tr>\n",
       "    <tr>\n",
       "      <th>...</th>\n",
       "      <td>...</td>\n",
       "      <td>...</td>\n",
       "      <td>...</td>\n",
       "      <td>...</td>\n",
       "      <td>...</td>\n",
       "    </tr>\n",
       "    <tr>\n",
       "      <th>1192</th>\n",
       "      <td>2662137336</td>\n",
       "      <td>3733762160</td>\n",
       "      <td>2019-08-14</td>\n",
       "      <td>6490</td>\n",
       "      <td>B</td>\n",
       "    </tr>\n",
       "    <tr>\n",
       "      <th>1193</th>\n",
       "      <td>2203539145</td>\n",
       "      <td>370388673</td>\n",
       "      <td>2019-08-14</td>\n",
       "      <td>3190</td>\n",
       "      <td>A</td>\n",
       "    </tr>\n",
       "    <tr>\n",
       "      <th>1194</th>\n",
       "      <td>1807773912</td>\n",
       "      <td>573423106</td>\n",
       "      <td>2019-08-14</td>\n",
       "      <td>10550</td>\n",
       "      <td>A</td>\n",
       "    </tr>\n",
       "    <tr>\n",
       "      <th>1195</th>\n",
       "      <td>1947021204</td>\n",
       "      <td>1614305549</td>\n",
       "      <td>2019-08-14</td>\n",
       "      <td>100</td>\n",
       "      <td>A</td>\n",
       "    </tr>\n",
       "    <tr>\n",
       "      <th>1196</th>\n",
       "      <td>3936777065</td>\n",
       "      <td>2108080724</td>\n",
       "      <td>2019-08-15</td>\n",
       "      <td>202740</td>\n",
       "      <td>B</td>\n",
       "    </tr>\n",
       "  </tbody>\n",
       "</table>\n",
       "<p>1197 rows × 5 columns</p>\n",
       "</div>"
      ],
      "text/plain": [
       "      transactionId   visitorId        date  revenue group\n",
       "0     3667963787     3312258926  2019-08-15  1650     B   \n",
       "1     2804400009     3642806036  2019-08-15  730      B   \n",
       "2     2961555356     4069496402  2019-08-15  400      A   \n",
       "3     3797467345     1196621759  2019-08-15  9759     B   \n",
       "4     2282983706     2322279887  2019-08-15  2308     B   \n",
       "...          ...            ...         ...   ...    ..   \n",
       "1192  2662137336     3733762160  2019-08-14  6490     B   \n",
       "1193  2203539145     370388673   2019-08-14  3190     A   \n",
       "1194  1807773912     573423106   2019-08-14  10550    A   \n",
       "1195  1947021204     1614305549  2019-08-14  100      A   \n",
       "1196  3936777065     2108080724  2019-08-15  202740   B   \n",
       "\n",
       "[1197 rows x 5 columns]"
      ]
     },
     "metadata": {},
     "output_type": "display_data"
    },
    {
     "name": "stdout",
     "output_type": "stream",
     "text": [
      "<class 'pandas.core.frame.DataFrame'>\n",
      "RangeIndex: 1197 entries, 0 to 1196\n",
      "Data columns (total 5 columns):\n",
      " #   Column         Non-Null Count  Dtype \n",
      "---  ------         --------------  ----- \n",
      " 0   transactionId  1197 non-null   int64 \n",
      " 1   visitorId      1197 non-null   int64 \n",
      " 2   date           1197 non-null   object\n",
      " 3   revenue        1197 non-null   int64 \n",
      " 4   group          1197 non-null   object\n",
      "dtypes: int64(3), object(2)\n",
      "memory usage: 46.9+ KB\n"
     ]
    },
    {
     "data": {
      "text/plain": [
       "None"
      ]
     },
     "metadata": {},
     "output_type": "display_data"
    },
    {
     "name": "stdout",
     "output_type": "stream",
     "text": [
      "\n",
      "Посетители\n"
     ]
    },
    {
     "data": {
      "text/html": [
       "<div>\n",
       "<style scoped>\n",
       "    .dataframe tbody tr th:only-of-type {\n",
       "        vertical-align: middle;\n",
       "    }\n",
       "\n",
       "    .dataframe tbody tr th {\n",
       "        vertical-align: top;\n",
       "    }\n",
       "\n",
       "    .dataframe thead th {\n",
       "        text-align: right;\n",
       "    }\n",
       "</style>\n",
       "<table border=\"1\" class=\"dataframe\">\n",
       "  <thead>\n",
       "    <tr style=\"text-align: right;\">\n",
       "      <th></th>\n",
       "      <th>date</th>\n",
       "      <th>group</th>\n",
       "      <th>visitors</th>\n",
       "    </tr>\n",
       "  </thead>\n",
       "  <tbody>\n",
       "    <tr>\n",
       "      <th>0</th>\n",
       "      <td>2019-08-01</td>\n",
       "      <td>A</td>\n",
       "      <td>719</td>\n",
       "    </tr>\n",
       "    <tr>\n",
       "      <th>1</th>\n",
       "      <td>2019-08-02</td>\n",
       "      <td>A</td>\n",
       "      <td>619</td>\n",
       "    </tr>\n",
       "    <tr>\n",
       "      <th>2</th>\n",
       "      <td>2019-08-03</td>\n",
       "      <td>A</td>\n",
       "      <td>507</td>\n",
       "    </tr>\n",
       "    <tr>\n",
       "      <th>3</th>\n",
       "      <td>2019-08-04</td>\n",
       "      <td>A</td>\n",
       "      <td>717</td>\n",
       "    </tr>\n",
       "    <tr>\n",
       "      <th>4</th>\n",
       "      <td>2019-08-05</td>\n",
       "      <td>A</td>\n",
       "      <td>756</td>\n",
       "    </tr>\n",
       "    <tr>\n",
       "      <th>...</th>\n",
       "      <td>...</td>\n",
       "      <td>...</td>\n",
       "      <td>...</td>\n",
       "    </tr>\n",
       "    <tr>\n",
       "      <th>57</th>\n",
       "      <td>2019-08-27</td>\n",
       "      <td>B</td>\n",
       "      <td>720</td>\n",
       "    </tr>\n",
       "    <tr>\n",
       "      <th>58</th>\n",
       "      <td>2019-08-28</td>\n",
       "      <td>B</td>\n",
       "      <td>654</td>\n",
       "    </tr>\n",
       "    <tr>\n",
       "      <th>59</th>\n",
       "      <td>2019-08-29</td>\n",
       "      <td>B</td>\n",
       "      <td>531</td>\n",
       "    </tr>\n",
       "    <tr>\n",
       "      <th>60</th>\n",
       "      <td>2019-08-30</td>\n",
       "      <td>B</td>\n",
       "      <td>490</td>\n",
       "    </tr>\n",
       "    <tr>\n",
       "      <th>61</th>\n",
       "      <td>2019-08-31</td>\n",
       "      <td>B</td>\n",
       "      <td>718</td>\n",
       "    </tr>\n",
       "  </tbody>\n",
       "</table>\n",
       "<p>62 rows × 3 columns</p>\n",
       "</div>"
      ],
      "text/plain": [
       "          date group  visitors\n",
       "0   2019-08-01  A     719     \n",
       "1   2019-08-02  A     619     \n",
       "2   2019-08-03  A     507     \n",
       "3   2019-08-04  A     717     \n",
       "4   2019-08-05  A     756     \n",
       "..         ... ..     ...     \n",
       "57  2019-08-27  B     720     \n",
       "58  2019-08-28  B     654     \n",
       "59  2019-08-29  B     531     \n",
       "60  2019-08-30  B     490     \n",
       "61  2019-08-31  B     718     \n",
       "\n",
       "[62 rows x 3 columns]"
      ]
     },
     "metadata": {},
     "output_type": "display_data"
    },
    {
     "name": "stdout",
     "output_type": "stream",
     "text": [
      "<class 'pandas.core.frame.DataFrame'>\n",
      "RangeIndex: 62 entries, 0 to 61\n",
      "Data columns (total 3 columns):\n",
      " #   Column    Non-Null Count  Dtype \n",
      "---  ------    --------------  ----- \n",
      " 0   date      62 non-null     object\n",
      " 1   group     62 non-null     object\n",
      " 2   visitors  62 non-null     int64 \n",
      "dtypes: int64(1), object(2)\n",
      "memory usage: 1.6+ KB\n"
     ]
    },
    {
     "data": {
      "text/plain": [
       "None"
      ]
     },
     "metadata": {},
     "output_type": "display_data"
    }
   ],
   "source": [
    "# Изучаю данные из файлов с гипотезами, заказами и посетителями\n",
    "print('Гипотезы')\n",
    "display(data)\n",
    "display(data.info())\n",
    "print()\n",
    "print('Заказы')\n",
    "display(orders)\n",
    "display(orders.info())\n",
    "print()\n",
    "print('Посетители')\n",
    "display(visitors)\n",
    "display(visitors.info())"
   ]
  },
  {
   "cell_type": "code",
   "execution_count": 4,
   "metadata": {},
   "outputs": [],
   "source": [
    "# Для удобства работы с заголовками столбцов приведу их к нижнему регистру\n",
    "data.columns = [x.lower() for x in data.columns.values]\n",
    "orders.columns = [x.lower() for x in orders.columns.values]"
   ]
  },
  {
   "cell_type": "code",
   "execution_count": 5,
   "metadata": {},
   "outputs": [],
   "source": [
    "# Приведу элементы столбцов 'date' таблиц orders и visitors к нужному формату\n",
    "orders['date'] = orders['date'].map(lambda x: dt.datetime.strptime(x, '%Y-%m-%d'))\n",
    "visitors['date'] = visitors['date'].map(lambda x: dt.datetime.strptime(x, '%Y-%m-%d'))"
   ]
  },
  {
   "cell_type": "markdown",
   "metadata": {},
   "source": [
    "Проверяю количество групп в А/В тесте"
   ]
  },
  {
   "cell_type": "code",
   "execution_count": 6,
   "metadata": {},
   "outputs": [
    {
     "data": {
      "text/plain": [
       "2"
      ]
     },
     "execution_count": 6,
     "metadata": {},
     "output_type": "execute_result"
    }
   ],
   "source": [
    "orders['group'].nunique()"
   ]
  },
  {
   "cell_type": "markdown",
   "metadata": {},
   "source": [
    "В А/В-тесте 2 группы."
   ]
  },
  {
   "cell_type": "markdown",
   "metadata": {},
   "source": [
    "Нахожу даты начала и окончания теста"
   ]
  },
  {
   "cell_type": "code",
   "execution_count": 7,
   "metadata": {},
   "outputs": [
    {
     "name": "stdout",
     "output_type": "stream",
     "text": [
      "Тест проходил с 2019-08-01 00:00:00 по 2019-08-31 00:00:00\n"
     ]
    }
   ],
   "source": [
    "print('Тест проходил с', orders['date'].min(), 'по', orders['date'].max())"
   ]
  },
  {
   "cell_type": "markdown",
   "metadata": {},
   "source": [
    "Проверяю, не попадают ли какие-то пользователи в обе группы"
   ]
  },
  {
   "cell_type": "code",
   "execution_count": 8,
   "metadata": {},
   "outputs": [
    {
     "name": "stdout",
     "output_type": "stream",
     "text": [
      "Количество пользователей, попавших в обе группы: 58\n",
      "Количество заказов этих пользователей: 181\n",
      "Сумма заказов этих пользователей: 1558935\n"
     ]
    }
   ],
   "source": [
    "doubles = orders.groupby(['visitorid']).agg({'group' : 'nunique', 'transactionid' : 'count', 'revenue' : 'sum'}).reset_index()\n",
    "print(f'Количество пользователей, попавших в обе группы: {doubles[doubles.group != 1][\"visitorid\"].count()}')\n",
    "print(f\"Количество заказов этих пользователей: {doubles[doubles.group != 1]['transactionid'].sum()}\")\n",
    "print(f\"Сумма заказов этих пользователей: {doubles[doubles.group != 1]['revenue'].sum()}\")"
   ]
  },
  {
   "cell_type": "code",
   "execution_count": 9,
   "metadata": {},
   "outputs": [],
   "source": [
    "# Чтобы не исказить результаты исследования, удалю пользователей, попавших в обе группы\n",
    "doubles = list(doubles[doubles.group != 1]['visitorid'])\n",
    "orders = orders.query('visitorid not in @doubles')"
   ]
  },
  {
   "cell_type": "markdown",
   "metadata": {},
   "source": [
    "Проверяю наличие дубликатов"
   ]
  },
  {
   "cell_type": "code",
   "execution_count": 10,
   "metadata": {
    "scrolled": false
   },
   "outputs": [
    {
     "name": "stdout",
     "output_type": "stream",
     "text": [
      "Количество дубликатов: 0\n",
      "Количество дубликатов: 0\n",
      "Количество дубликатов: 0\n"
     ]
    }
   ],
   "source": [
    "tables = [data, orders, visitors]\n",
    "#цикл для проверки наличия дубликатов по списку files:\n",
    "for t in tables:\n",
    "    print(f'Количество дубликатов: {t.duplicated().sum()}')"
   ]
  },
  {
   "cell_type": "markdown",
   "metadata": {},
   "source": [
    "Отсутствие пропусков подтверждено при изучении файлов методом info"
   ]
  },
  {
   "cell_type": "markdown",
   "metadata": {},
   "source": [
    "### Приоритизация гипотез"
   ]
  },
  {
   "cell_type": "code",
   "execution_count": 11,
   "metadata": {
    "scrolled": false
   },
   "outputs": [
    {
     "data": {
      "text/html": [
       "<div>\n",
       "<style scoped>\n",
       "    .dataframe tbody tr th:only-of-type {\n",
       "        vertical-align: middle;\n",
       "    }\n",
       "\n",
       "    .dataframe tbody tr th {\n",
       "        vertical-align: top;\n",
       "    }\n",
       "\n",
       "    .dataframe thead th {\n",
       "        text-align: right;\n",
       "    }\n",
       "</style>\n",
       "<table border=\"1\" class=\"dataframe\">\n",
       "  <thead>\n",
       "    <tr style=\"text-align: right;\">\n",
       "      <th></th>\n",
       "      <th>hypothesis</th>\n",
       "      <th>ice</th>\n",
       "    </tr>\n",
       "  </thead>\n",
       "  <tbody>\n",
       "    <tr>\n",
       "      <th>8</th>\n",
       "      <td>Запустить акцию, дающую скидку на товар в день рождения</td>\n",
       "      <td>16.20</td>\n",
       "    </tr>\n",
       "    <tr>\n",
       "      <th>0</th>\n",
       "      <td>Добавить два новых канала привлечения трафика, что позволит привлекать на 30% больше пользователей</td>\n",
       "      <td>13.33</td>\n",
       "    </tr>\n",
       "    <tr>\n",
       "      <th>7</th>\n",
       "      <td>Добавить форму подписки на все основные страницы, чтобы собрать базу клиентов для email-рассылок</td>\n",
       "      <td>11.20</td>\n",
       "    </tr>\n",
       "    <tr>\n",
       "      <th>6</th>\n",
       "      <td>Показать на главной странице баннеры с актуальными акциями и распродажами, чтобы увеличить конверсию</td>\n",
       "      <td>8.00</td>\n",
       "    </tr>\n",
       "    <tr>\n",
       "      <th>2</th>\n",
       "      <td>Добавить блоки рекомендаций товаров на сайт интернет магазина, чтобы повысить конверсию и средний чек заказа</td>\n",
       "      <td>7.00</td>\n",
       "    </tr>\n",
       "    <tr>\n",
       "      <th>1</th>\n",
       "      <td>Запустить собственную службу доставки, что сократит срок доставки заказов</td>\n",
       "      <td>2.00</td>\n",
       "    </tr>\n",
       "    <tr>\n",
       "      <th>5</th>\n",
       "      <td>Добавить страницу отзывов клиентов о магазине, что позволит увеличить количество заказов</td>\n",
       "      <td>1.33</td>\n",
       "    </tr>\n",
       "    <tr>\n",
       "      <th>3</th>\n",
       "      <td>Изменить структура категорий, что увеличит конверсию, т.к. пользователи быстрее найдут нужный товар</td>\n",
       "      <td>1.12</td>\n",
       "    </tr>\n",
       "    <tr>\n",
       "      <th>4</th>\n",
       "      <td>Изменить цвет фона главной страницы, чтобы увеличить вовлеченность пользователей</td>\n",
       "      <td>1.00</td>\n",
       "    </tr>\n",
       "  </tbody>\n",
       "</table>\n",
       "</div>"
      ],
      "text/plain": [
       "                                                                                                     hypothesis  \\\n",
       "8  Запустить акцию, дающую скидку на товар в день рождения                                                        \n",
       "0  Добавить два новых канала привлечения трафика, что позволит привлекать на 30% больше пользователей             \n",
       "7  Добавить форму подписки на все основные страницы, чтобы собрать базу клиентов для email-рассылок               \n",
       "6  Показать на главной странице баннеры с актуальными акциями и распродажами, чтобы увеличить конверсию           \n",
       "2  Добавить блоки рекомендаций товаров на сайт интернет магазина, чтобы повысить конверсию и средний чек заказа   \n",
       "1  Запустить собственную службу доставки, что сократит срок доставки заказов                                      \n",
       "5  Добавить страницу отзывов клиентов о магазине, что позволит увеличить количество заказов                       \n",
       "3  Изменить структура категорий, что увеличит конверсию, т.к. пользователи быстрее найдут нужный товар            \n",
       "4  Изменить цвет фона главной страницы, чтобы увеличить вовлеченность пользователей                               \n",
       "\n",
       "     ice  \n",
       "8  16.20  \n",
       "0  13.33  \n",
       "7  11.20  \n",
       "6  8.00   \n",
       "2  7.00   \n",
       "1  2.00   \n",
       "5  1.33   \n",
       "3  1.12   \n",
       "4  1.00   "
      ]
     },
     "metadata": {},
     "output_type": "display_data"
    },
    {
     "data": {
      "text/html": [
       "<div>\n",
       "<style scoped>\n",
       "    .dataframe tbody tr th:only-of-type {\n",
       "        vertical-align: middle;\n",
       "    }\n",
       "\n",
       "    .dataframe tbody tr th {\n",
       "        vertical-align: top;\n",
       "    }\n",
       "\n",
       "    .dataframe thead th {\n",
       "        text-align: right;\n",
       "    }\n",
       "</style>\n",
       "<table border=\"1\" class=\"dataframe\">\n",
       "  <thead>\n",
       "    <tr style=\"text-align: right;\">\n",
       "      <th></th>\n",
       "      <th>hypothesis</th>\n",
       "      <th>rice</th>\n",
       "    </tr>\n",
       "  </thead>\n",
       "  <tbody>\n",
       "    <tr>\n",
       "      <th>7</th>\n",
       "      <td>Добавить форму подписки на все основные страницы, чтобы собрать базу клиентов для email-рассылок</td>\n",
       "      <td>112.0</td>\n",
       "    </tr>\n",
       "    <tr>\n",
       "      <th>2</th>\n",
       "      <td>Добавить блоки рекомендаций товаров на сайт интернет магазина, чтобы повысить конверсию и средний чек заказа</td>\n",
       "      <td>56.0</td>\n",
       "    </tr>\n",
       "    <tr>\n",
       "      <th>0</th>\n",
       "      <td>Добавить два новых канала привлечения трафика, что позволит привлекать на 30% больше пользователей</td>\n",
       "      <td>40.0</td>\n",
       "    </tr>\n",
       "    <tr>\n",
       "      <th>6</th>\n",
       "      <td>Показать на главной странице баннеры с актуальными акциями и распродажами, чтобы увеличить конверсию</td>\n",
       "      <td>40.0</td>\n",
       "    </tr>\n",
       "    <tr>\n",
       "      <th>8</th>\n",
       "      <td>Запустить акцию, дающую скидку на товар в день рождения</td>\n",
       "      <td>16.2</td>\n",
       "    </tr>\n",
       "    <tr>\n",
       "      <th>3</th>\n",
       "      <td>Изменить структура категорий, что увеличит конверсию, т.к. пользователи быстрее найдут нужный товар</td>\n",
       "      <td>9.0</td>\n",
       "    </tr>\n",
       "    <tr>\n",
       "      <th>1</th>\n",
       "      <td>Запустить собственную службу доставки, что сократит срок доставки заказов</td>\n",
       "      <td>4.0</td>\n",
       "    </tr>\n",
       "    <tr>\n",
       "      <th>5</th>\n",
       "      <td>Добавить страницу отзывов клиентов о магазине, что позволит увеличить количество заказов</td>\n",
       "      <td>4.0</td>\n",
       "    </tr>\n",
       "    <tr>\n",
       "      <th>4</th>\n",
       "      <td>Изменить цвет фона главной страницы, чтобы увеличить вовлеченность пользователей</td>\n",
       "      <td>3.0</td>\n",
       "    </tr>\n",
       "  </tbody>\n",
       "</table>\n",
       "</div>"
      ],
      "text/plain": [
       "                                                                                                     hypothesis  \\\n",
       "7  Добавить форму подписки на все основные страницы, чтобы собрать базу клиентов для email-рассылок               \n",
       "2  Добавить блоки рекомендаций товаров на сайт интернет магазина, чтобы повысить конверсию и средний чек заказа   \n",
       "0  Добавить два новых канала привлечения трафика, что позволит привлекать на 30% больше пользователей             \n",
       "6  Показать на главной странице баннеры с актуальными акциями и распродажами, чтобы увеличить конверсию           \n",
       "8  Запустить акцию, дающую скидку на товар в день рождения                                                        \n",
       "3  Изменить структура категорий, что увеличит конверсию, т.к. пользователи быстрее найдут нужный товар            \n",
       "1  Запустить собственную службу доставки, что сократит срок доставки заказов                                      \n",
       "5  Добавить страницу отзывов клиентов о магазине, что позволит увеличить количество заказов                       \n",
       "4  Изменить цвет фона главной страницы, чтобы увеличить вовлеченность пользователей                               \n",
       "\n",
       "    rice  \n",
       "7  112.0  \n",
       "2  56.0   \n",
       "0  40.0   \n",
       "6  40.0   \n",
       "8  16.2   \n",
       "3  9.0    \n",
       "1  4.0    \n",
       "5  4.0    \n",
       "4  3.0    "
      ]
     },
     "metadata": {},
     "output_type": "display_data"
    }
   ],
   "source": [
    "# Посчитаю ICE и RICE для гипотез и добавлю соответствующие столбцы к таблице format(ip,\".2f\")\n",
    "data['ice'] = round(((data['impact'] * data['confidence'])/data['efforts']), 2)\n",
    "data['rice'] = (data['reach'] * data['impact'] * data['confidence'])/data['efforts']\n",
    "\n",
    "display(data[['hypothesis', 'ice']].sort_values(by='ice', ascending=False))\n",
    "display(data[['hypothesis', 'rice']].sort_values(by='rice', ascending=False))"
   ]
  },
  {
   "cell_type": "markdown",
   "metadata": {},
   "source": [
    "**Вывод о приоритизации гипотез:**\n",
    "\n",
    "По *ICE* наиболее перспективными гипотезами стали гипотезы №№ 8, 0, 7, а по *RICE* - №№ 7, 2, 0, 6. Гипотезы №№ 7 и 2 вышли в лидеры, т.к. их параметр Reach больше, чем у других. При этом гипотеза № 8 опустилась на 5-е место, т.к. ее параметр Reach самый низкий.  Т.о. при приоритизации гипотез помимо силы гипотез необходимо учитывать, сколько пользователей они затронут. "
   ]
  },
  {
   "cell_type": "markdown",
   "metadata": {},
   "source": [
    "### Анализ A/B-теста."
   ]
  },
  {
   "cell_type": "markdown",
   "metadata": {},
   "source": [
    "A/B-тест проведен, результаты получены и описаны в датафреймах 'orders' и 'visitors'.\n",
    "\n",
    "Проанализирую результаты A/B-теста."
   ]
  },
  {
   "cell_type": "code",
   "execution_count": 12,
   "metadata": {},
   "outputs": [],
   "source": [
    "# Создаю датафрейм dates_groups с уникальными парами значений 'date' и 'group' таблицы orders, избавляюсь от дубликатов\n",
    "dates_groups = orders[['date','group']].drop_duplicates()"
   ]
  },
  {
   "cell_type": "code",
   "execution_count": 13,
   "metadata": {},
   "outputs": [],
   "source": [
    "# Собираю агрегированные кумулятивные по дням данные о заказах и посетителях\n",
    "# Объявляю переменную orders_aggregated\n",
    "orders_aggregated = dates_groups.apply(lambda x: orders[np.logical_and(orders['date'] <= x['date'], \n",
    "                                                                       orders['group'] == x['group'])]\\\n",
    ".agg({'date' : 'max', 'group' : 'max', 'transactionid' : 'nunique', 'visitorid' : 'nunique', 'revenue' : 'sum'}), \n",
    "                                       axis=1).sort_values(by=['date','group'])\n",
    "# Объявляю переменную visitors_aggregated\n",
    "visitors_aggregated = dates_groups.apply(lambda x: visitors[np.logical_and(visitors['date'] <= x['date'], \n",
    "                                                                           visitors['group'] == x['group'])]\n",
    ".agg({'date' : 'max', 'group' : 'max', 'visitors' : 'sum'}), axis=1).sort_values(by=['date','group'])"
   ]
  },
  {
   "cell_type": "code",
   "execution_count": 14,
   "metadata": {},
   "outputs": [
    {
     "data": {
      "text/html": [
       "<div>\n",
       "<style scoped>\n",
       "    .dataframe tbody tr th:only-of-type {\n",
       "        vertical-align: middle;\n",
       "    }\n",
       "\n",
       "    .dataframe tbody tr th {\n",
       "        vertical-align: top;\n",
       "    }\n",
       "\n",
       "    .dataframe thead th {\n",
       "        text-align: right;\n",
       "    }\n",
       "</style>\n",
       "<table border=\"1\" class=\"dataframe\">\n",
       "  <thead>\n",
       "    <tr style=\"text-align: right;\">\n",
       "      <th></th>\n",
       "      <th>date</th>\n",
       "      <th>group</th>\n",
       "      <th>orders</th>\n",
       "      <th>buyers</th>\n",
       "      <th>revenue</th>\n",
       "      <th>visitors</th>\n",
       "    </tr>\n",
       "  </thead>\n",
       "  <tbody>\n",
       "    <tr>\n",
       "      <th>0</th>\n",
       "      <td>2019-08-01</td>\n",
       "      <td>A</td>\n",
       "      <td>23</td>\n",
       "      <td>19</td>\n",
       "      <td>142779</td>\n",
       "      <td>719</td>\n",
       "    </tr>\n",
       "    <tr>\n",
       "      <th>1</th>\n",
       "      <td>2019-08-01</td>\n",
       "      <td>B</td>\n",
       "      <td>17</td>\n",
       "      <td>17</td>\n",
       "      <td>59758</td>\n",
       "      <td>713</td>\n",
       "    </tr>\n",
       "    <tr>\n",
       "      <th>2</th>\n",
       "      <td>2019-08-02</td>\n",
       "      <td>A</td>\n",
       "      <td>42</td>\n",
       "      <td>36</td>\n",
       "      <td>234381</td>\n",
       "      <td>1338</td>\n",
       "    </tr>\n",
       "    <tr>\n",
       "      <th>3</th>\n",
       "      <td>2019-08-02</td>\n",
       "      <td>B</td>\n",
       "      <td>40</td>\n",
       "      <td>39</td>\n",
       "      <td>221801</td>\n",
       "      <td>1294</td>\n",
       "    </tr>\n",
       "    <tr>\n",
       "      <th>4</th>\n",
       "      <td>2019-08-03</td>\n",
       "      <td>A</td>\n",
       "      <td>66</td>\n",
       "      <td>60</td>\n",
       "      <td>346854</td>\n",
       "      <td>1845</td>\n",
       "    </tr>\n",
       "  </tbody>\n",
       "</table>\n",
       "</div>"
      ],
      "text/plain": [
       "        date group  orders  buyers  revenue  visitors\n",
       "0 2019-08-01  A     23      19      142779   719     \n",
       "1 2019-08-01  B     17      17      59758    713     \n",
       "2 2019-08-02  A     42      36      234381   1338    \n",
       "3 2019-08-02  B     40      39      221801   1294    \n",
       "4 2019-08-03  A     66      60      346854   1845    "
      ]
     },
     "metadata": {},
     "output_type": "display_data"
    }
   ],
   "source": [
    "# Объявляю переменную cumulative_data, объединив orders_aggregated и visitors_aggregated по колонкам 'date', 'group'\n",
    "cumulative_data = orders_aggregated.merge(visitors_aggregated, left_on=['date', 'group'], right_on=['date', 'group'])\n",
    "cumulative_data.columns = ['date', 'group', 'orders', 'buyers', 'revenue', 'visitors']\n",
    "\n",
    "display(cumulative_data.head(5))"
   ]
  },
  {
   "cell_type": "markdown",
   "metadata": {},
   "source": [
    "#### Построение графика кумулятивной выручки по группам."
   ]
  },
  {
   "cell_type": "code",
   "execution_count": 15,
   "metadata": {},
   "outputs": [],
   "source": [
    "# Создаю датафрейм с кумулятивным количеством заказов и кумулятивной выручкой по дням в группе А\n",
    "cumulative_revenue_a = cumulative_data[cumulative_data['group']=='A'][['date','revenue', 'orders', 'visitors']]\n",
    "\n",
    "# Создаю датафрейм с кумулятивным количеством заказов и кумулятивной выручкой по дням в группе B\n",
    "cumulative_revenue_b = cumulative_data[cumulative_data['group']=='B'][['date','revenue', 'orders', 'visitors']]"
   ]
  },
  {
   "cell_type": "code",
   "execution_count": 16,
   "metadata": {},
   "outputs": [
    {
     "data": {
      "image/png": "[encoded data removed]",
      "text/plain": [
       "<Figure size 864x360 with 1 Axes>"
      ]
     },
     "metadata": {
      "needs_background": "light"
     },
     "output_type": "display_data"
    }
   ],
   "source": [
    "# Строю графики кумулятивной выручки групп А и В\n",
    "fig, ax = plt.subplots(figsize=(12, 5))\n",
    "plt.plot(cumulative_revenue_a['date'], cumulative_revenue_a['revenue'], label='A')\n",
    "plt.plot(cumulative_revenue_b['date'], cumulative_revenue_b['revenue'], label='B')\n",
    "plt.legend()\n",
    "plt.title('Кумулятивная выручка')\n",
    "plt.ylabel('Выручка')\n",
    "plt.show()"
   ]
  },
  {
   "cell_type": "markdown",
   "metadata": {},
   "source": [
    "**Вывод**\n",
    "\n",
    "На графике видно, что выручка в обеих группах растет на протяжении всего теста. При этом в группе B наблюдается резкий всплеск, который может свидетельствовать о резком увеличении числа заказов или о появлении очень дорогих заказов. После этого всплеска выручка группы B становится значительно больше, чем группы А."
   ]
  },
  {
   "cell_type": "markdown",
   "metadata": {},
   "source": [
    "#### Построение графика кумулятивного среднего чека по группам."
   ]
  },
  {
   "cell_type": "code",
   "execution_count": 17,
   "metadata": {},
   "outputs": [
    {
     "data": {
      "image/png": "[encoded data removed]",
      "text/plain": [
       "<Figure size 864x360 with 1 Axes>"
      ]
     },
     "metadata": {
      "needs_background": "light"
     },
     "output_type": "display_data"
    }
   ],
   "source": [
    "# Строю графики кумулятивного среднего чека групп А и В\n",
    "fig, ax = plt.subplots(figsize=(12, 5))\n",
    "plt.plot(cumulative_revenue_a['date'], cumulative_revenue_a['revenue']/cumulative_revenue_a['orders'], label='A')\n",
    "plt.plot(cumulative_revenue_b['date'], cumulative_revenue_b['revenue']/cumulative_revenue_b['orders'], label='B')\n",
    "plt.legend() \n",
    "plt.ylabel('Средний чек.')\n",
    "plt.title('Кумулятивный средний чек')\n",
    "plt.show()"
   ]
  },
  {
   "cell_type": "markdown",
   "metadata": {},
   "source": [
    "**Вывод**\n",
    "\n",
    "На графике кумулятивного среднего чека так же наблюдается резкий скачек в группе В, после которого кумулятивный средний чек в группе В становится значительно больше, чем в группе А. Вероятно в группе В была совершена крупная покупка, которая увеличила размер кумулятивного среднего чека."
   ]
  },
  {
   "cell_type": "markdown",
   "metadata": {},
   "source": [
    "#### Построение графика относительного изменения кумулятивного среднего чека группы B к группе A."
   ]
  },
  {
   "cell_type": "code",
   "execution_count": 18,
   "metadata": {},
   "outputs": [
    {
     "data": {
      "image/png": "[encoded data removed]",
      "text/plain": [
       "<Figure size 864x360 with 1 Axes>"
      ]
     },
     "metadata": {
      "needs_background": "light"
     },
     "output_type": "display_data"
    }
   ],
   "source": [
    "# Собираю данные в одном датафрейме\n",
    "cumulative_revenue = cumulative_revenue_a.merge(\n",
    "    cumulative_revenue_b, left_on='date', right_on='date', how='left', suffixes=['_a', '_b']\n",
    ")\n",
    "\n",
    "# Строю отношение средних чеков\n",
    "fig, ax = plt.subplots(figsize=(12, 5))\n",
    "plt.plot(cumulative_revenue['date'], \n",
    "         (cumulative_revenue['revenue_b']/cumulative_revenue['orders_b'])/\n",
    "         (cumulative_revenue['revenue_a']/cumulative_revenue['orders_a'])-1)\n",
    "plt.title('Относительное различие кумулятивного среднего чека группы B к группе A')\n",
    "plt.axhline(y=0, color='black', linestyle='--') \n",
    "plt.show()"
   ]
  },
  {
   "cell_type": "markdown",
   "metadata": {},
   "source": [
    "**Вывод**\n",
    "\n",
    "На графике различия среднего чека видно, что результаты группы B нестабильны. Сначала наблюдается относительный рост суммы кумулятивного чека группы В, потом его резкий спад, и затем такой же резкий подъем, и снова относительное падение, но не ниже нулевого уровня. Возможно дело в выбросах в обеих группах."
   ]
  },
  {
   "cell_type": "markdown",
   "metadata": {},
   "source": [
    "#### Построение графика кумулятивного среднего количества заказов на посетителя по группам."
   ]
  },
  {
   "cell_type": "code",
   "execution_count": 19,
   "metadata": {},
   "outputs": [
    {
     "data": {
      "image/png": "[encoded data removed]",
      "text/plain": [
       "<Figure size 864x360 with 1 Axes>"
      ]
     },
     "metadata": {
      "needs_background": "light"
     },
     "output_type": "display_data"
    }
   ],
   "source": [
    "# Строю графики кумулятивного среднего количества заказов групп А и В\n",
    "fig, ax = plt.subplots(figsize=(12, 5))\n",
    "plt.plot(cumulative_revenue_a['date'], cumulative_revenue_a['orders']/cumulative_revenue_a['visitors'], label='A')\n",
    "plt.plot(cumulative_revenue_b['date'], cumulative_revenue_b['orders']/cumulative_revenue_b['visitors'], label='B')\n",
    "plt.legend() \n",
    "plt.ylabel('Среднее кол-во заказов')\n",
    "plt.title('Кумулятивное среднее количество заказов на посетителя')\n",
    "plt.show()"
   ]
  },
  {
   "cell_type": "markdown",
   "metadata": {},
   "source": [
    "**Вывод**\n",
    "\n",
    "В начале теста наблюдались колебания среднего количества заказов в обеих группах. Но потом результаты группы В стабилизировались на более высоком уровне, чем в группе А."
   ]
  },
  {
   "cell_type": "markdown",
   "metadata": {},
   "source": [
    "#### Построение графика относительного изменения кумулятивного среднего количества заказов на посетителя группы B к группе A."
   ]
  },
  {
   "cell_type": "code",
   "execution_count": 20,
   "metadata": {
    "scrolled": true
   },
   "outputs": [
    {
     "data": {
      "image/png": "[encoded data removed]",
      "text/plain": [
       "<Figure size 864x360 with 1 Axes>"
      ]
     },
     "metadata": {
      "needs_background": "light"
     },
     "output_type": "display_data"
    }
   ],
   "source": [
    "# Строю отношение среднего количества заказов на посетителя\n",
    "fig, ax = plt.subplots(figsize=(12, 5))\n",
    "plt.plot(cumulative_revenue['date'], \n",
    "         (cumulative_revenue['orders_b']/cumulative_revenue['visitors_b'])/\n",
    "         (cumulative_revenue['orders_a']/cumulative_revenue['visitors_a'])-1)\n",
    "plt.title('Относительное различие кумулятивного среднего количества заказов на посетителя группы B к группе A')\n",
    "plt.axhline(y=0, color='black', linestyle='--') \n",
    "plt.axhline(y=0.1, color='grey', linestyle='--') \n",
    "plt.axhline(y=0.2, color='grey', linestyle='--') \n",
    "plt.show()"
   ]
  },
  {
   "cell_type": "markdown",
   "metadata": {},
   "source": [
    "**Вывод**\n",
    "\n",
    "На графике видно, что результаты группы B стабильно лучше группы A."
   ]
  },
  {
   "cell_type": "markdown",
   "metadata": {},
   "source": [
    "#### Построение точечного графика количества заказов по пользователям."
   ]
  },
  {
   "cell_type": "code",
   "execution_count": 21,
   "metadata": {
    "scrolled": true
   },
   "outputs": [],
   "source": [
    "# Создаю датафрейм, в котором посчитаю количество заказов по пользователям\n",
    "orders_by_visitors = (\n",
    "    orders.groupby('visitorid', as_index=False)\n",
    "    .agg({'transactionid': 'nunique'})\n",
    ")\n",
    "\n",
    "orders_by_visitors.columns = ['visitorid', 'orders']"
   ]
  },
  {
   "cell_type": "code",
   "execution_count": 22,
   "metadata": {},
   "outputs": [
    {
     "data": {
      "image/png": "[encoded data removed]",
      "text/plain": [
       "<Figure size 504x504 with 1 Axes>"
      ]
     },
     "metadata": {
      "needs_background": "light"
     },
     "output_type": "display_data"
    }
   ],
   "source": [
    "# Строю точечный график количества заказов по пользователям\n",
    "x_values = pd.Series(range(0, len(orders_by_visitors['orders'])))\n",
    "fig, ax = plt.subplots(figsize=(7, 7))\n",
    "plt.scatter(x_values, orders_by_visitors['orders']) \n",
    "plt.title('Количество заказов по пользователям')\n",
    "plt.show()"
   ]
  },
  {
   "cell_type": "markdown",
   "metadata": {},
   "source": [
    "**Вывод**\n",
    "\n",
    "На графике видно, что подавляющее большинство пользователей сделали по одному заказу, некоторые по 2, и очень мало по 3."
   ]
  },
  {
   "cell_type": "markdown",
   "metadata": {},
   "source": [
    "#### Расчет 95-го и 99-го перцентилей количества заказов на пользователя, выбор границы для определения аномальных пользователей."
   ]
  },
  {
   "cell_type": "code",
   "execution_count": 23,
   "metadata": {
    "scrolled": true
   },
   "outputs": [
    {
     "data": {
      "text/plain": [
       "array([1., 2.])"
      ]
     },
     "execution_count": 23,
     "metadata": {},
     "output_type": "execute_result"
    }
   ],
   "source": [
    "# Посчитаю 95-й и 99-й перцентиль количества заказов на пользователя\n",
    "np.percentile(orders_by_visitors['orders'], [95, 99])"
   ]
  },
  {
   "cell_type": "markdown",
   "metadata": {},
   "source": [
    "5% пользователей совершили более одного заказа,\n",
    "\n",
    "1% пользователей совершили более двух заказов."
   ]
  },
  {
   "cell_type": "markdown",
   "metadata": {},
   "source": [
    "**Вывод**\n",
    "\n",
    "Приму за аномальных пользователей тех, кто совершил более одного заказа. "
   ]
  },
  {
   "cell_type": "markdown",
   "metadata": {},
   "source": [
    "#### Построение точечного графика стоимостей заказов."
   ]
  },
  {
   "cell_type": "code",
   "execution_count": 24,
   "metadata": {
    "scrolled": true
   },
   "outputs": [
    {
     "data": {
      "image/png": "[encoded data removed]",
      "text/plain": [
       "<Figure size 432x288 with 1 Axes>"
      ]
     },
     "metadata": {
      "needs_background": "light"
     },
     "output_type": "display_data"
    }
   ],
   "source": [
    "# Строю точечный график стоимости заказов\n",
    "revenue_per_orders = orders['revenue']\n",
    "x_values = pd.Series(range(0,len(revenue_per_orders)))\n",
    "plt.scatter(x_values, revenue_per_orders ) \n",
    "plt.title(\"Стоимость заказов\")\n",
    "plt.show()"
   ]
  },
  {
   "cell_type": "code",
   "execution_count": 25,
   "metadata": {},
   "outputs": [
    {
     "data": {
      "image/png": "[encoded data removed]",
      "text/plain": [
       "<Figure size 432x288 with 1 Axes>"
      ]
     },
     "metadata": {
      "needs_background": "light"
     },
     "output_type": "display_data"
    }
   ],
   "source": [
    "# Рассмотрю поближе часть графика со значением стоимости заказов до 125 тыс.\n",
    "x_values = pd.Series(range(0,len(revenue_per_orders)))\n",
    "plt.scatter(x_values, revenue_per_orders ) \n",
    "plt.title(\"Стоимость заказов\")\n",
    "plt.ylim(0,125000)\n",
    "plt.show()"
   ]
  },
  {
   "cell_type": "markdown",
   "metadata": {},
   "source": [
    "**Вывод**\n",
    "\n",
    "На графиках видно, что подавляющее количество заказов не превышают 40 тыс. руб. Сумма некоторых заказов от 40 до 100 тыс. руб. И всего 2 заказа с аномально высокой стоимостью около 200 тыс. руб. и более 1 млн. руб."
   ]
  },
  {
   "cell_type": "markdown",
   "metadata": {},
   "source": [
    "#### Расчет 95-го и 99-го перцентилей стоимости заказов, выбор границы для определения аномальных заказов."
   ]
  },
  {
   "cell_type": "code",
   "execution_count": 26,
   "metadata": {},
   "outputs": [
    {
     "data": {
      "text/plain": [
       "array([26785., 53904.])"
      ]
     },
     "execution_count": 26,
     "metadata": {},
     "output_type": "execute_result"
    }
   ],
   "source": [
    "# Посчитаю 95-й и 99-й перцентиль стоимости заказов\n",
    "np.percentile(revenue_per_orders, [95, 99])"
   ]
  },
  {
   "cell_type": "markdown",
   "metadata": {},
   "source": [
    "5% пользователей совершили заказ на сумму более 26 785 рублей,\n",
    "\n",
    "1% пользователей совершили заказ на сумму более 53 904 рубля."
   ]
  },
  {
   "cell_type": "markdown",
   "metadata": {},
   "source": [
    "**Вывод**\n",
    "\n",
    "Приму за аномальных пользователей тех, кто совершил заказ на сумму свыше 26 785 рублей. "
   ]
  },
  {
   "cell_type": "markdown",
   "metadata": {},
   "source": [
    "#### Расчет статистической значимости различий в среднем количестве заказов на посетителя между группами по «сырым» данным."
   ]
  },
  {
   "cell_type": "markdown",
   "metadata": {},
   "source": [
    "Сформулирую гипотезы:\n",
    "\n",
    "Н0 - различий в среднем количестве заказов между группами нет;\n",
    "\n",
    "Н1 - различия в среднем между группами есть.\n",
    "\n",
    "Задаю уровень статистической значимости alpha = 0,05.\n",
    "\n",
    "Для тестирования воспользуюсь критерием Манна-Уитни."
   ]
  },
  {
   "cell_type": "code",
   "execution_count": 27,
   "metadata": {
    "scrolled": false
   },
   "outputs": [],
   "source": [
    "# Подготовка данных для расчета статистической значимости\n",
    "visitors_daily_a = visitors[visitors['group'] == 'A'][['date', 'visitors']]\n",
    "visitors_daily_a.columns = ['date', 'visitors_per_date_a']\n",
    "\n",
    "visitors_cummulative_a = visitors_daily_a.apply(\n",
    "    lambda x: visitors_daily_a[visitors_daily_a['date'] <= x['date']].agg(\n",
    "        {'date': 'max', 'visitors_per_date_a': 'sum'}\n",
    "    ),\n",
    "    axis=1,\n",
    ")\n",
    "visitors_cummulative_a.columns = ['date', 'visitors_cummulative_a']\n",
    "\n",
    "visitors_daily_b = visitors[visitors['group'] == 'B'][['date', 'visitors']]\n",
    "visitors_daily_b.columns = ['date', 'visitors_per_date_b']\n",
    "\n",
    "visitors_cummulative_b = visitors_daily_b.apply(\n",
    "    lambda x: visitors_daily_b[visitors_daily_b['date'] <= x['date']].agg(\n",
    "        {'date': 'max', 'visitors_per_date_b': 'sum'}\n",
    "    ),\n",
    "    axis=1,\n",
    ")\n",
    "visitors_cummulative_b.columns = ['date', 'visitors_cummulative_b']\n",
    "\n",
    "orders_daily_a = (\n",
    "    orders[orders['group'] == 'A'][['date', 'transactionid', 'visitorid', 'revenue']]\n",
    "    .groupby('date', as_index=False)\n",
    "    .agg({'transactionid': pd.Series.nunique, 'revenue': 'sum'})\n",
    ")"
   ]
  },
  {
   "cell_type": "code",
   "execution_count": 28,
   "metadata": {},
   "outputs": [],
   "source": [
    "orders_daily_a.columns = ['date', 'orders_per_date_a', 'revenue_per_date_a']\n",
    "\n",
    "orders_cummulative_a = orders_daily_a.apply(\n",
    "    lambda x: orders_daily_a[orders_daily_a['date'] <= x['date']].agg(\n",
    "        {'date': 'max', 'orders_per_date_a': 'sum', 'revenue_per_date_a': 'sum'}\n",
    "    ),\n",
    "    axis=1,\n",
    ").sort_values(by=['date'])\n",
    "orders_cummulative_a.columns = [\n",
    "    'date',\n",
    "    'orders_cummulative_a',\n",
    "    'revenue_cummulative_a',\n",
    "]\n",
    "\n",
    "orders_daily_b = (\n",
    "    orders[orders['group'] == 'B'][['date', 'transactionid', 'visitorid', 'revenue']]\n",
    "    .groupby('date', as_index=False)\n",
    "    .agg({'transactionid': pd.Series.nunique, 'revenue': 'sum'})\n",
    ")\n",
    "orders_daily_b.columns = ['date', 'orders_per_date_b', 'revenue_per_date_b']\n",
    "\n",
    "orders_cummulative_b = orders_daily_b.apply(\n",
    "    lambda x: orders_daily_b[orders_daily_b['date'] <= x['date']].agg(\n",
    "        {'date': 'max', 'orders_per_date_b': 'sum', 'revenue_per_date_b': 'sum'}\n",
    "    ),\n",
    "    axis=1,\n",
    ").sort_values(by=['date'])\n",
    "orders_cummulative_b.columns = [\n",
    "    'date',\n",
    "    'orders_cummulative_b',\n",
    "    'revenue_cummulative_b',\n",
    "]"
   ]
  },
  {
   "cell_type": "code",
   "execution_count": 29,
   "metadata": {},
   "outputs": [],
   "source": [
    "data = (\n",
    "    orders_daily_a\n",
    "    .merge(orders_daily_b, left_on='date', right_on='date', how='left')\n",
    "    .merge(orders_cummulative_a, left_on='date', right_on='date', how='left')\n",
    "    .merge(orders_cummulative_b, left_on='date', right_on='date', how='left')\n",
    "    .merge(visitors_daily_a, left_on='date', right_on='date', how='left')\n",
    "    .merge(visitors_daily_b, left_on='date', right_on='date', how='left')\n",
    "    .merge(visitors_cummulative_a, left_on='date', right_on='date', how='left')\n",
    "    .merge(visitors_cummulative_b, left_on='date', right_on='date', how='left')\n",
    ")"
   ]
  },
  {
   "cell_type": "code",
   "execution_count": 30,
   "metadata": {},
   "outputs": [],
   "source": [
    "# создаю переменные orders_by_users_a и orders_by_users_b со столбцами ['userid', 'orders'], \n",
    "# где для пользователей, совершивших хотя бы 1 заказ, будет указано число заказов \n",
    "orders_by_users_a = (\n",
    "    orders[orders['group'] == 'A']\n",
    "    .groupby('visitorid', as_index=False)\n",
    "    .agg({'transactionid': pd.Series.nunique})\n",
    ")\n",
    "orders_by_users_a.columns = ['userid', 'orders']\n",
    "\n",
    "orders_by_users_b = (\n",
    "    orders[orders['group'] == 'B']\n",
    "    .groupby('visitorid', as_index=False)\n",
    "    .agg({'transactionid': pd.Series.nunique})\n",
    ")\n",
    "orders_by_users_b.columns = ['userid', 'orders']"
   ]
  },
  {
   "cell_type": "code",
   "execution_count": 31,
   "metadata": {},
   "outputs": [],
   "source": [
    "# создаю переменные sample_а и sample_b, \n",
    "# в которых пользователям с заказами будет соответствовать число заказов пользователя, а пользователям без заказов — нули\n",
    "\n",
    "sample_a = pd.concat(\n",
    "    [\n",
    "        orders_by_users_a['orders'],\n",
    "        pd.Series(\n",
    "            0,\n",
    "            index=np.arange(\n",
    "                data['visitors_per_date_a'].sum() - len(orders_by_users_a['orders'])\n",
    "            ),\n",
    "            name='orders',\n",
    "        ),\n",
    "    ],\n",
    "    axis=0,\n",
    ")\n",
    "\n",
    "sample_b = pd.concat(\n",
    "    [\n",
    "        orders_by_users_b['orders'],\n",
    "        pd.Series(\n",
    "            0,\n",
    "            index=np.arange(\n",
    "                data['visitors_per_date_b'].sum() - len(orders_by_users_b['orders'])\n",
    "            ),\n",
    "            name='orders',\n",
    "        ),\n",
    "    ],\n",
    "    axis=0,\n",
    ")"
   ]
  },
  {
   "cell_type": "code",
   "execution_count": 32,
   "metadata": {},
   "outputs": [
    {
     "name": "stdout",
     "output_type": "stream",
     "text": [
      "p-value: 0.011\n",
      "Относительное различие в среднем количестве заказов между группами: 0.160\n"
     ]
    }
   ],
   "source": [
    "# Считаю статистическую значимость различия среднего количества заказов, применив тест Манна-Уитни\n",
    "print('p-value:', '{0:.3f}'.format(stats.mannwhitneyu(sample_a, sample_b)[1]))\n",
    "\n",
    "print('Относительное различие в среднем количестве заказов между группами:', \n",
    "      '{0:.3f}'.format(sample_b.mean() / sample_a.mean() - 1))"
   ]
  },
  {
   "cell_type": "markdown",
   "metadata": {},
   "source": [
    "**Вывод**\n",
    "\n",
    "Так как p-value меньше 0.05, то по \"сырым\" данным различия между группами A и B есть, и нулевую гипотезу следует отвергнуть. \n",
    "\n",
    "Относительный выигрыш группы B равен 16,0%."
   ]
  },
  {
   "cell_type": "markdown",
   "metadata": {},
   "source": [
    "#### Расчет статистической значимости различий в среднем чеке заказа между группами по «сырым» данным."
   ]
  },
  {
   "cell_type": "code",
   "execution_count": 33,
   "metadata": {},
   "outputs": [
    {
     "name": "stdout",
     "output_type": "stream",
     "text": [
      "p-value: 0.829\n",
      "Относительное различие в среднем чеке заказа между группами: 0.287\n"
     ]
    }
   ],
   "source": [
    "# Считаю статистическую значимость различия в среднем чеке заказа\n",
    "print(\n",
    "    'p-value:',\n",
    "    '{0:.3f}'.format(stats.mannwhitneyu(orders[orders['group']=='A']['revenue'], orders[orders['group']=='B']['revenue'])[1])\n",
    ")\n",
    "\n",
    "print(\n",
    "    'Относительное различие в среднем чеке заказа между группами:',\n",
    "    '{0:.3f}'.format(orders[orders['group']=='B']['revenue'].mean()/orders[orders['group']=='A']['revenue'].mean()-1)\n",
    ")"
   ]
  },
  {
   "cell_type": "markdown",
   "metadata": {},
   "source": [
    "**Вывод**\n",
    "\n",
    "P-value больше 0.05, нет оснований отвергнуть нулевую гипотезу. То есть раличий между средними чеками нет.\n",
    "\n",
    "При этом средний чек группы B выше среднего чека группы A на 28,7%."
   ]
  },
  {
   "cell_type": "markdown",
   "metadata": {},
   "source": [
    "#### Расчет статистической значимости различий в среднем количестве заказов на посетителя между группами по «очищенным» данным."
   ]
  },
  {
   "cell_type": "markdown",
   "metadata": {},
   "source": [
    "Расчитаю статистическую значимость после удаления аномальных пользователей.\n",
    "\n",
    "Ранее было принято решение считать аномальными пользователей, с количеством и суммой заказов более 95-го перцентиля."
   ]
  },
  {
   "cell_type": "code",
   "execution_count": 34,
   "metadata": {},
   "outputs": [],
   "source": [
    "# Создаю срез пользователей many_orders_users с числом заказов больше 95-го перцентиля\n",
    "orders_perc_95 = int(np.percentile(orders_by_visitors['orders'], [95]))\n",
    "many_orders_users = pd.concat(\n",
    "    [\n",
    "        orders_by_users_a[orders_by_users_a['orders'] > orders_perc_95]['userid'],\n",
    "        orders_by_users_b[orders_by_users_b['orders'] > orders_perc_95]['userid'],\n",
    "    ],\n",
    "    axis=0,\n",
    ")\n",
    "\n",
    "# Создаю срез пользователей exp_orders_users совершивших заказы дороже 95-го перцентиля\n",
    "revenue_pers_95 = int(np.percentile(revenue_per_orders, [95]))\n",
    "exp_orders_users = orders[orders['revenue'] > revenue_pers_95]['visitorid']\n",
    "\n",
    "# Объединяю полученные срезы в таблице abnormal_users и удаляю дубликаты\n",
    "abnormal_users = (\n",
    "    pd.concat([many_orders_users, exp_orders_users], axis=0)\n",
    "    .drop_duplicates()\n",
    ")"
   ]
  },
  {
   "cell_type": "code",
   "execution_count": 35,
   "metadata": {},
   "outputs": [],
   "source": [
    "# Создаю переменные sample_a_filtered и sample_b_filtered, \n",
    "# в которых сохраняю очищенные данные о заказах — не включая аномальных пользователей\n",
    "sample_a_filtered = pd.concat(\n",
    "    [\n",
    "        orders_by_users_a[\n",
    "            np.logical_not(orders_by_users_a['userid'].isin(abnormal_users))\n",
    "        ]['orders'],\n",
    "        pd.Series(\n",
    "            0,\n",
    "            index=np.arange(\n",
    "                data['visitors_per_date_a'].sum() - len(orders_by_users_a['orders'])\n",
    "            ),\n",
    "            name='orders',\n",
    "        ),\n",
    "    ],\n",
    "    axis=0,\n",
    ")\n",
    "\n",
    "sample_b_filtered = pd.concat(\n",
    "    [\n",
    "        orders_by_users_b[\n",
    "            np.logical_not(orders_by_users_b['userid'].isin(abnormal_users))\n",
    "        ]['orders'],\n",
    "        pd.Series(\n",
    "            0,\n",
    "            index=np.arange(\n",
    "                data['visitors_per_date_a'].sum() - len(orders_by_users_b['orders'])\n",
    "            ),\n",
    "            name='orders',\n",
    "        ),\n",
    "    ],\n",
    "    axis=0,\n",
    ")"
   ]
  },
  {
   "cell_type": "code",
   "execution_count": 36,
   "metadata": {},
   "outputs": [
    {
     "name": "stdout",
     "output_type": "stream",
     "text": [
      "p-value: 0.011\n",
      "Относительное различие в среднем количестве заказов между группами: 0.185\n"
     ]
    }
   ],
   "source": [
    "# Считаю статистическую значимость различия среднего количества заказов по очищенным данным\n",
    "print(\n",
    "    'p-value:',\n",
    "    '{0:.3f}'.format(stats.mannwhitneyu(sample_a_filtered, sample_b_filtered)[1])\n",
    ")\n",
    "print(\n",
    "    'Относительное различие в среднем количестве заказов между группами:',\n",
    "    '{0:.3f}'.format(sample_b_filtered.mean()/sample_a_filtered.mean()-1)\n",
    ")"
   ]
  },
  {
   "cell_type": "markdown",
   "metadata": {},
   "source": [
    "**Вывод**\n",
    "\n",
    "P-value меньше 0.05 значит нулевую гипотезу следует отвергнуть и по \"очищенным\" данным различия между группами A и B также есть. \n",
    "\n",
    "Относительный выигрыш группы B увеличился и стал равен 18,5%."
   ]
  },
  {
   "cell_type": "markdown",
   "metadata": {},
   "source": [
    "#### Расчет статистической значимости различий в среднем чеке заказа между группами по «очищенным» данным. Сделайте выводы и предположения."
   ]
  },
  {
   "cell_type": "code",
   "execution_count": 37,
   "metadata": {},
   "outputs": [
    {
     "name": "stdout",
     "output_type": "stream",
     "text": [
      "p-value: 0.727\n",
      "Относительное различие в среднем чеке заказа между группами: -0.034\n"
     ]
    }
   ],
   "source": [
    "# Считаю статистическую значимость различия в среднем чеке заказа по очищенным данным\n",
    "print(\n",
    "    'p-value:',\n",
    "    '{0:.3f}'.format(\n",
    "        stats.mannwhitneyu(\n",
    "            orders[\n",
    "                np.logical_and(\n",
    "                    orders['group'] == 'A',\n",
    "                    np.logical_not(orders['visitorid'].isin(abnormal_users)),\n",
    "                )\n",
    "            ]['revenue'],\n",
    "            orders[\n",
    "                np.logical_and(\n",
    "                    orders['group'] == 'B',\n",
    "                    np.logical_not(orders['visitorid'].isin(abnormal_users)),\n",
    "                )\n",
    "            ]['revenue'],\n",
    "        )[1]\n",
    "    )\n",
    ")\n",
    "\n",
    "print(\n",
    "    'Относительное различие в среднем чеке заказа между группами:',\n",
    "    \"{0:.3f}\".format(\n",
    "        orders[\n",
    "            np.logical_and(\n",
    "                orders['group'] == 'B',\n",
    "                np.logical_not(orders['visitorid'].isin(abnormal_users)),\n",
    "            )\n",
    "        ]['revenue'].mean()\n",
    "        / orders[\n",
    "            np.logical_and(\n",
    "                orders['group'] == 'A',\n",
    "                np.logical_not(orders['visitorid'].isin(abnormal_users)),\n",
    "            )\n",
    "        ]['revenue'].mean()\n",
    "        - 1\n",
    "    )\n",
    ")"
   ]
  },
  {
   "cell_type": "markdown",
   "metadata": {},
   "source": [
    "**Вывод**\n",
    "\n",
    "P-value остался значительно больше 0.05. Значит, причин отвергать нулевую гипотезу и считать, что в среднем чеке есть различия, по-прежнему нет. А вот средний чек группы B без выбросов стал ниже среднего чека группы A, хотя и не на много, всего на 3.4%."
   ]
  },
  {
   "cell_type": "markdown",
   "metadata": {},
   "source": [
    "#### Принятие решения по результатам теста."
   ]
  },
  {
   "cell_type": "markdown",
   "metadata": {},
   "source": [
    "По результатам проведенного А/В-теста можно сделать следующие выводы:\n",
    "- после значительного всплеска выручка группы B становится больше, чем в группе А;\n",
    "- кумулятивный средний чек в группе В стал значительно больше, чем в группе А так же после всплеска;\n",
    "- относительное различие кумулятивного среднего чека группы B к группе A колеблется и становится значительно больше снова после всплеска, после чего имеет тенденцию к снижению; \n",
    "- все это говорит о наличии аномальных значений.\n",
    "\n",
    "После удаления аномальных значений был произведен расчет статистической значимости, в результате чего было выявлено:\n",
    "- между группами А и В имеются различия среднего количества заказов, среднее количество заказов в группе В на 18,5% больше, чем в группе А;\n",
    "- между группами А и В отсутствуют различия в среднем чеке заказа.\n",
    "\n",
    "Рекомендации:\n",
    "- тест остановить;\n",
    "- зафиксировать победу группы В в части среднего количества заказов;\n",
    "- зафиксировать отсутствие различий между группами по сумме среднего чека."
   ]
  }
 ],
 "metadata": {
  "ExecuteTimeLog": [
   {
    "duration": 387,
    "start_time": "2023-09-28T13:27:11.615Z"
   },
   {
    "duration": 2,
    "start_time": "2023-09-28T13:30:13.136Z"
   },
   {
    "duration": 2,
    "start_time": "2023-09-28T13:30:14.263Z"
   },
   {
    "duration": 2,
    "start_time": "2023-09-28T13:30:24.119Z"
   },
   {
    "duration": 2,
    "start_time": "2023-09-28T13:30:25.296Z"
   },
   {
    "duration": 2,
    "start_time": "2023-09-28T13:30:35.496Z"
   },
   {
    "duration": 2,
    "start_time": "2023-09-28T13:30:38.848Z"
   },
   {
    "duration": 2,
    "start_time": "2023-09-28T13:30:43.879Z"
   },
   {
    "duration": 457,
    "start_time": "2023-09-29T10:47:15.267Z"
   },
   {
    "duration": 60,
    "start_time": "2023-09-29T10:47:16.579Z"
   },
   {
    "duration": 17,
    "start_time": "2023-09-29T10:47:18.058Z"
   },
   {
    "duration": 29,
    "start_time": "2023-09-29T10:47:46.019Z"
   },
   {
    "duration": 9,
    "start_time": "2023-09-29T10:47:47.043Z"
   },
   {
    "duration": 446,
    "start_time": "2023-09-29T10:48:16.937Z"
   },
   {
    "duration": 27,
    "start_time": "2023-09-29T10:48:17.945Z"
   },
   {
    "duration": 15,
    "start_time": "2023-09-29T10:48:19.706Z"
   },
   {
    "duration": 410,
    "start_time": "2023-09-29T10:54:01.185Z"
   },
   {
    "duration": 199,
    "start_time": "2023-09-29T10:54:02.248Z"
   },
   {
    "duration": 16,
    "start_time": "2023-09-29T10:54:03.585Z"
   },
   {
    "duration": 94,
    "start_time": "2023-09-29T11:02:00.892Z"
   },
   {
    "duration": 5,
    "start_time": "2023-09-29T11:02:21.683Z"
   },
   {
    "duration": 5,
    "start_time": "2023-09-29T11:03:12.873Z"
   },
   {
    "duration": 1474,
    "start_time": "2023-09-29T11:03:27.161Z"
   },
   {
    "duration": 16,
    "start_time": "2023-09-29T11:04:34.432Z"
   },
   {
    "duration": 14,
    "start_time": "2023-09-29T11:05:11.517Z"
   },
   {
    "duration": 19,
    "start_time": "2023-09-29T11:05:51.853Z"
   },
   {
    "duration": 14,
    "start_time": "2023-09-29T11:13:42.881Z"
   },
   {
    "duration": 12,
    "start_time": "2023-09-29T11:13:56.439Z"
   },
   {
    "duration": 11,
    "start_time": "2023-09-29T11:15:01.741Z"
   },
   {
    "duration": 3,
    "start_time": "2023-09-29T11:15:38.916Z"
   },
   {
    "duration": 8,
    "start_time": "2023-09-29T11:16:28.782Z"
   },
   {
    "duration": 3,
    "start_time": "2023-09-29T11:16:42.826Z"
   },
   {
    "duration": 11,
    "start_time": "2023-09-29T11:16:55.841Z"
   },
   {
    "duration": 20,
    "start_time": "2023-09-29T11:18:26.512Z"
   },
   {
    "duration": 3,
    "start_time": "2023-09-29T11:20:21.757Z"
   },
   {
    "duration": 467,
    "start_time": "2023-09-29T12:07:42.533Z"
   },
   {
    "duration": 932,
    "start_time": "2023-09-29T12:10:32.120Z"
   },
   {
    "duration": 618,
    "start_time": "2023-09-29T12:21:09.374Z"
   },
   {
    "duration": 225,
    "start_time": "2023-09-29T12:21:25.685Z"
   },
   {
    "duration": 508,
    "start_time": "2023-09-29T12:21:38.685Z"
   },
   {
    "duration": 566,
    "start_time": "2023-09-29T12:21:51.902Z"
   },
   {
    "duration": 1122,
    "start_time": "2023-09-29T12:24:35.767Z"
   },
   {
    "duration": 14,
    "start_time": "2023-09-29T12:24:56.911Z"
   },
   {
    "duration": 20,
    "start_time": "2023-09-29T12:26:36.805Z"
   },
   {
    "duration": 23,
    "start_time": "2023-09-29T12:27:51.987Z"
   },
   {
    "duration": 21,
    "start_time": "2023-09-29T12:28:06.250Z"
   },
   {
    "duration": 24,
    "start_time": "2023-09-29T12:28:25.747Z"
   },
   {
    "duration": 24,
    "start_time": "2023-09-29T12:28:52.665Z"
   },
   {
    "duration": 26,
    "start_time": "2023-09-29T12:30:53.413Z"
   },
   {
    "duration": 3,
    "start_time": "2023-09-29T12:31:42.571Z"
   },
   {
    "duration": 6,
    "start_time": "2023-09-29T12:39:47.085Z"
   },
   {
    "duration": 632,
    "start_time": "2023-09-29T12:41:35.812Z"
   },
   {
    "duration": 507,
    "start_time": "2023-09-29T12:42:48.930Z"
   },
   {
    "duration": 858,
    "start_time": "2023-09-30T22:03:15.004Z"
   },
   {
    "duration": 246,
    "start_time": "2023-09-30T22:03:16.824Z"
   },
   {
    "duration": 14,
    "start_time": "2023-09-30T22:03:18.386Z"
   },
   {
    "duration": 4,
    "start_time": "2023-09-30T22:03:22.222Z"
   },
   {
    "duration": 21,
    "start_time": "2023-09-30T22:03:23.469Z"
   },
   {
    "duration": 21,
    "start_time": "2023-09-30T22:03:30.449Z"
   },
   {
    "duration": 505,
    "start_time": "2023-09-30T22:03:34.184Z"
   },
   {
    "duration": 18,
    "start_time": "2023-09-30T22:09:09.614Z"
   },
   {
    "duration": 12,
    "start_time": "2023-09-30T22:09:16.346Z"
   },
   {
    "duration": 29,
    "start_time": "2023-09-30T22:13:50.368Z"
   },
   {
    "duration": 11,
    "start_time": "2023-09-30T22:16:44.483Z"
   },
   {
    "duration": 353,
    "start_time": "2023-09-30T22:21:06.890Z"
   },
   {
    "duration": 3,
    "start_time": "2023-09-30T22:21:27.690Z"
   },
   {
    "duration": 14,
    "start_time": "2023-09-30T22:23:07.380Z"
   },
   {
    "duration": 76,
    "start_time": "2023-09-30T22:26:07.430Z"
   },
   {
    "duration": 269,
    "start_time": "2023-09-30T22:26:35.886Z"
   },
   {
    "duration": 13,
    "start_time": "2023-09-30T22:30:17.503Z"
   },
   {
    "duration": 10,
    "start_time": "2023-09-30T22:30:27.546Z"
   },
   {
    "duration": 18,
    "start_time": "2023-09-30T22:30:54.558Z"
   },
   {
    "duration": 296,
    "start_time": "2023-09-30T22:36:30.708Z"
   },
   {
    "duration": 9,
    "start_time": "2023-09-30T22:41:16.283Z"
   },
   {
    "duration": 239,
    "start_time": "2023-09-30T22:43:14.615Z"
   },
   {
    "duration": 867,
    "start_time": "2023-10-01T20:38:08.297Z"
   },
   {
    "duration": 223,
    "start_time": "2023-10-01T20:38:09.929Z"
   },
   {
    "duration": 12,
    "start_time": "2023-10-01T20:38:12.288Z"
   },
   {
    "duration": 3,
    "start_time": "2023-10-01T20:38:13.798Z"
   },
   {
    "duration": 20,
    "start_time": "2023-10-01T20:38:14.880Z"
   },
   {
    "duration": 20,
    "start_time": "2023-10-01T20:38:21.981Z"
   },
   {
    "duration": 4,
    "start_time": "2023-10-01T20:38:26.115Z"
   },
   {
    "duration": 14,
    "start_time": "2023-10-01T20:38:27.675Z"
   },
   {
    "duration": 6,
    "start_time": "2023-10-01T20:38:30.128Z"
   },
   {
    "duration": 263,
    "start_time": "2023-10-01T20:38:32.727Z"
   },
   {
    "duration": 11,
    "start_time": "2023-10-01T20:38:34.581Z"
   },
   {
    "duration": 8,
    "start_time": "2023-10-01T20:39:09.066Z"
   },
   {
    "duration": 70,
    "start_time": "2023-10-01T20:39:30.387Z"
   },
   {
    "duration": 13,
    "start_time": "2023-10-01T20:39:43.496Z"
   },
   {
    "duration": 7,
    "start_time": "2023-10-01T20:39:47.647Z"
   },
   {
    "duration": 253,
    "start_time": "2023-10-01T20:39:50.981Z"
   },
   {
    "duration": 171,
    "start_time": "2023-10-01T20:39:56.519Z"
   },
   {
    "duration": 284,
    "start_time": "2023-10-01T20:41:31.031Z"
   },
   {
    "duration": 187,
    "start_time": "2023-10-01T20:41:40.026Z"
   },
   {
    "duration": 199,
    "start_time": "2023-10-01T20:42:06.091Z"
   },
   {
    "duration": 187,
    "start_time": "2023-10-01T20:43:45.578Z"
   },
   {
    "duration": 802,
    "start_time": "2023-10-02T08:11:02.228Z"
   },
   {
    "duration": 256,
    "start_time": "2023-10-02T08:11:03.032Z"
   },
   {
    "duration": 12,
    "start_time": "2023-10-02T08:11:03.289Z"
   },
   {
    "duration": 24,
    "start_time": "2023-10-02T08:11:03.302Z"
   },
   {
    "duration": 38,
    "start_time": "2023-10-02T08:11:03.328Z"
   },
   {
    "duration": 18,
    "start_time": "2023-10-02T08:11:03.368Z"
   },
   {
    "duration": 3,
    "start_time": "2023-10-02T08:11:03.387Z"
   },
   {
    "duration": 13,
    "start_time": "2023-10-02T08:11:03.391Z"
   },
   {
    "duration": 8,
    "start_time": "2023-10-02T08:11:03.406Z"
   },
   {
    "duration": 267,
    "start_time": "2023-10-02T08:11:03.415Z"
   },
   {
    "duration": 10,
    "start_time": "2023-10-02T08:11:03.684Z"
   },
   {
    "duration": 5,
    "start_time": "2023-10-02T08:11:03.696Z"
   },
   {
    "duration": 253,
    "start_time": "2023-10-02T08:11:03.703Z"
   },
   {
    "duration": 206,
    "start_time": "2023-10-02T08:11:03.958Z"
   },
   {
    "duration": 147,
    "start_time": "2023-10-02T08:11:20.388Z"
   },
   {
    "duration": 7,
    "start_time": "2023-10-02T08:11:27.244Z"
   },
   {
    "duration": 8,
    "start_time": "2023-10-02T08:11:29.691Z"
   },
   {
    "duration": 9,
    "start_time": "2023-10-02T08:11:41.643Z"
   },
   {
    "duration": 5,
    "start_time": "2023-10-02T08:12:04.451Z"
   },
   {
    "duration": 10,
    "start_time": "2023-10-02T08:12:07.106Z"
   },
   {
    "duration": 5,
    "start_time": "2023-10-02T08:12:15.819Z"
   },
   {
    "duration": 9,
    "start_time": "2023-10-02T08:12:16.795Z"
   },
   {
    "duration": 299,
    "start_time": "2023-10-02T08:13:45.056Z"
   },
   {
    "duration": 316,
    "start_time": "2023-10-02T08:14:08.112Z"
   },
   {
    "duration": 240,
    "start_time": "2023-10-02T08:14:18.407Z"
   },
   {
    "duration": 277,
    "start_time": "2023-10-02T08:14:41.117Z"
   },
   {
    "duration": 234,
    "start_time": "2023-10-02T08:14:54.693Z"
   },
   {
    "duration": 286,
    "start_time": "2023-10-02T08:16:31.225Z"
   },
   {
    "duration": 315,
    "start_time": "2023-10-02T08:17:18.750Z"
   },
   {
    "duration": 116,
    "start_time": "2023-10-02T08:17:32.662Z"
   },
   {
    "duration": 253,
    "start_time": "2023-10-02T08:17:43.406Z"
   },
   {
    "duration": 280,
    "start_time": "2023-10-02T08:18:42.772Z"
   },
   {
    "duration": 174,
    "start_time": "2023-10-02T09:45:43.692Z"
   },
   {
    "duration": 359,
    "start_time": "2023-10-02T09:48:08.550Z"
   },
   {
    "duration": 9,
    "start_time": "2023-10-02T10:12:05.711Z"
   },
   {
    "duration": 9,
    "start_time": "2023-10-02T10:14:08.845Z"
   },
   {
    "duration": 6,
    "start_time": "2023-10-02T10:15:53.419Z"
   },
   {
    "duration": 187,
    "start_time": "2023-10-02T10:15:55.097Z"
   },
   {
    "duration": 238,
    "start_time": "2023-10-02T10:17:07.241Z"
   },
   {
    "duration": 199,
    "start_time": "2023-10-02T10:17:31.103Z"
   },
   {
    "duration": 204,
    "start_time": "2023-10-02T10:22:32.528Z"
   },
   {
    "duration": 212,
    "start_time": "2023-10-02T10:24:49.805Z"
   },
   {
    "duration": 179,
    "start_time": "2023-10-02T10:26:13.972Z"
   },
   {
    "duration": 286,
    "start_time": "2023-10-02T10:28:42.638Z"
   },
   {
    "duration": 293,
    "start_time": "2023-10-02T10:29:58.461Z"
   },
   {
    "duration": 12,
    "start_time": "2023-10-02T10:30:04.733Z"
   },
   {
    "duration": 6,
    "start_time": "2023-10-02T10:39:13.147Z"
   },
   {
    "duration": 7,
    "start_time": "2023-10-02T10:39:32.026Z"
   },
   {
    "duration": 11,
    "start_time": "2023-10-02T10:41:21.063Z"
   },
   {
    "duration": 11,
    "start_time": "2023-10-02T10:41:44.845Z"
   },
   {
    "duration": 134,
    "start_time": "2023-10-02T11:27:33.469Z"
   },
   {
    "duration": 112,
    "start_time": "2023-10-02T11:28:51.940Z"
   },
   {
    "duration": 177,
    "start_time": "2023-10-02T11:29:17.760Z"
   },
   {
    "duration": 122,
    "start_time": "2023-10-02T11:29:27.578Z"
   },
   {
    "duration": 6,
    "start_time": "2023-10-02T11:32:12.166Z"
   },
   {
    "duration": 9,
    "start_time": "2023-10-02T13:19:10.219Z"
   },
   {
    "duration": 6,
    "start_time": "2023-10-02T13:21:27.941Z"
   },
   {
    "duration": 10,
    "start_time": "2023-10-02T13:24:36.252Z"
   },
   {
    "duration": 6,
    "start_time": "2023-10-02T13:25:10.218Z"
   },
   {
    "duration": 8,
    "start_time": "2023-10-02T13:27:12.928Z"
   },
   {
    "duration": 1948,
    "start_time": "2023-10-02T13:32:03.015Z"
   },
   {
    "duration": 2138,
    "start_time": "2023-10-02T13:32:21.856Z"
   },
   {
    "duration": 242,
    "start_time": "2023-10-02T13:34:25.779Z"
   },
   {
    "duration": 5,
    "start_time": "2023-10-02T13:38:16.437Z"
   },
   {
    "duration": 4,
    "start_time": "2023-10-02T13:38:38.373Z"
   },
   {
    "duration": 3,
    "start_time": "2023-10-02T13:41:45.988Z"
   },
   {
    "duration": 6,
    "start_time": "2023-10-02T13:42:01.135Z"
   },
   {
    "duration": 119,
    "start_time": "2023-10-02T13:45:35.723Z"
   },
   {
    "duration": 167,
    "start_time": "2023-10-02T13:46:46.647Z"
   },
   {
    "duration": 117,
    "start_time": "2023-10-02T13:48:59.581Z"
   },
   {
    "duration": 133,
    "start_time": "2023-10-02T13:49:19.779Z"
   },
   {
    "duration": 121,
    "start_time": "2023-10-02T13:49:51.387Z"
   },
   {
    "duration": 138,
    "start_time": "2023-10-02T13:50:01.659Z"
   },
   {
    "duration": 188,
    "start_time": "2023-10-02T13:50:15.146Z"
   },
   {
    "duration": 4,
    "start_time": "2023-10-02T13:51:48.160Z"
   },
   {
    "duration": 26,
    "start_time": "2023-10-02T13:56:50.185Z"
   },
   {
    "duration": 47,
    "start_time": "2023-10-02T13:58:01.161Z"
   },
   {
    "duration": 683,
    "start_time": "2023-10-02T13:58:05.681Z"
   },
   {
    "duration": 138,
    "start_time": "2023-10-02T13:58:06.367Z"
   },
   {
    "duration": 30,
    "start_time": "2023-10-02T13:58:06.507Z"
   },
   {
    "duration": 4,
    "start_time": "2023-10-02T13:58:06.538Z"
   },
   {
    "duration": 32,
    "start_time": "2023-10-02T13:58:06.544Z"
   },
   {
    "duration": 22,
    "start_time": "2023-10-02T13:58:06.578Z"
   },
   {
    "duration": 6,
    "start_time": "2023-10-02T13:58:06.602Z"
   },
   {
    "duration": 274,
    "start_time": "2023-10-02T13:58:06.609Z"
   },
   {
    "duration": 12,
    "start_time": "2023-10-02T13:58:06.885Z"
   },
   {
    "duration": 16,
    "start_time": "2023-10-02T13:58:06.898Z"
   },
   {
    "duration": 290,
    "start_time": "2023-10-02T13:58:06.916Z"
   },
   {
    "duration": 198,
    "start_time": "2023-10-02T13:58:07.208Z"
   },
   {
    "duration": 315,
    "start_time": "2023-10-02T13:58:07.408Z"
   },
   {
    "duration": 272,
    "start_time": "2023-10-02T13:58:07.726Z"
   },
   {
    "duration": 291,
    "start_time": "2023-10-02T13:58:07.999Z"
   },
   {
    "duration": 9,
    "start_time": "2023-10-02T13:58:08.292Z"
   },
   {
    "duration": 141,
    "start_time": "2023-10-02T13:58:08.303Z"
   },
   {
    "duration": 4,
    "start_time": "2023-10-02T13:58:08.446Z"
   },
   {
    "duration": 140,
    "start_time": "2023-10-02T13:58:08.452Z"
   },
   {
    "duration": 142,
    "start_time": "2023-10-02T13:58:08.594Z"
   },
   {
    "duration": 4,
    "start_time": "2023-10-02T13:58:08.747Z"
   },
   {
    "duration": 877,
    "start_time": "2023-10-02T21:06:05.516Z"
   },
   {
    "duration": 252,
    "start_time": "2023-10-02T21:06:06.395Z"
   },
   {
    "duration": 35,
    "start_time": "2023-10-02T21:06:06.648Z"
   },
   {
    "duration": 5,
    "start_time": "2023-10-02T21:06:06.684Z"
   },
   {
    "duration": 24,
    "start_time": "2023-10-02T21:06:06.690Z"
   },
   {
    "duration": 31,
    "start_time": "2023-10-02T21:06:06.715Z"
   },
   {
    "duration": 7,
    "start_time": "2023-10-02T21:06:06.748Z"
   },
   {
    "duration": 292,
    "start_time": "2023-10-02T21:06:06.757Z"
   },
   {
    "duration": 13,
    "start_time": "2023-10-02T21:06:07.050Z"
   },
   {
    "duration": 8,
    "start_time": "2023-10-02T21:06:07.066Z"
   },
   {
    "duration": 306,
    "start_time": "2023-10-02T21:06:07.077Z"
   },
   {
    "duration": 206,
    "start_time": "2023-10-02T21:06:07.385Z"
   },
   {
    "duration": 430,
    "start_time": "2023-10-02T21:06:07.592Z"
   },
   {
    "duration": 226,
    "start_time": "2023-10-02T21:06:08.024Z"
   },
   {
    "duration": 293,
    "start_time": "2023-10-02T21:06:08.252Z"
   },
   {
    "duration": 7,
    "start_time": "2023-10-02T21:06:08.547Z"
   },
   {
    "duration": 159,
    "start_time": "2023-10-02T21:06:08.555Z"
   },
   {
    "duration": 5,
    "start_time": "2023-10-02T21:06:08.716Z"
   },
   {
    "duration": 150,
    "start_time": "2023-10-02T21:06:08.723Z"
   },
   {
    "duration": 139,
    "start_time": "2023-10-02T21:06:08.874Z"
   },
   {
    "duration": 4,
    "start_time": "2023-10-02T21:06:09.014Z"
   },
   {
    "duration": 745,
    "start_time": "2023-10-03T08:09:17.795Z"
   },
   {
    "duration": 274,
    "start_time": "2023-10-03T08:09:18.543Z"
   },
   {
    "duration": 28,
    "start_time": "2023-10-03T08:09:18.818Z"
   },
   {
    "duration": 4,
    "start_time": "2023-10-03T08:09:18.848Z"
   },
   {
    "duration": 25,
    "start_time": "2023-10-03T08:09:18.854Z"
   },
   {
    "duration": 33,
    "start_time": "2023-10-03T08:09:18.881Z"
   },
   {
    "duration": 5,
    "start_time": "2023-10-03T08:09:18.916Z"
   },
   {
    "duration": 304,
    "start_time": "2023-10-03T08:09:18.922Z"
   },
   {
    "duration": 16,
    "start_time": "2023-10-03T08:09:19.228Z"
   },
   {
    "duration": 27,
    "start_time": "2023-10-03T08:09:19.245Z"
   },
   {
    "duration": 296,
    "start_time": "2023-10-03T08:09:19.273Z"
   },
   {
    "duration": 175,
    "start_time": "2023-10-03T08:09:19.571Z"
   },
   {
    "duration": 342,
    "start_time": "2023-10-03T08:09:19.747Z"
   },
   {
    "duration": 263,
    "start_time": "2023-10-03T08:09:20.092Z"
   },
   {
    "duration": 283,
    "start_time": "2023-10-03T08:09:20.357Z"
   },
   {
    "duration": 6,
    "start_time": "2023-10-03T08:09:20.644Z"
   },
   {
    "duration": 155,
    "start_time": "2023-10-03T08:09:20.651Z"
   },
   {
    "duration": 5,
    "start_time": "2023-10-03T08:09:20.808Z"
   },
   {
    "duration": 157,
    "start_time": "2023-10-03T08:09:20.815Z"
   },
   {
    "duration": 125,
    "start_time": "2023-10-03T08:09:20.974Z"
   },
   {
    "duration": 5,
    "start_time": "2023-10-03T08:09:21.101Z"
   },
   {
    "duration": 8,
    "start_time": "2023-10-03T08:18:44.383Z"
   },
   {
    "duration": 76,
    "start_time": "2023-10-03T08:20:44.933Z"
   },
   {
    "duration": 640,
    "start_time": "2023-10-03T08:25:32.175Z"
   },
   {
    "duration": 9,
    "start_time": "2023-10-03T08:25:48.248Z"
   },
   {
    "duration": 106,
    "start_time": "2023-10-03T08:27:37.764Z"
   },
   {
    "duration": 11,
    "start_time": "2023-10-03T08:27:52.987Z"
   },
   {
    "duration": 431,
    "start_time": "2023-10-03T08:28:09.666Z"
   },
   {
    "duration": 9,
    "start_time": "2023-10-03T08:30:38.926Z"
   },
   {
    "duration": 110,
    "start_time": "2023-10-03T08:31:35.277Z"
   },
   {
    "duration": 137,
    "start_time": "2023-10-03T08:31:53.652Z"
   },
   {
    "duration": 12,
    "start_time": "2023-10-03T08:32:05.188Z"
   },
   {
    "duration": 135,
    "start_time": "2023-10-03T08:33:58.377Z"
   },
   {
    "duration": 123,
    "start_time": "2023-10-03T08:43:26.650Z"
   },
   {
    "duration": 109,
    "start_time": "2023-10-03T08:44:57.206Z"
   },
   {
    "duration": 8,
    "start_time": "2023-10-03T08:45:46.012Z"
   },
   {
    "duration": 9,
    "start_time": "2023-10-03T08:46:30.522Z"
   },
   {
    "duration": 225,
    "start_time": "2023-10-03T08:48:16.728Z"
   },
   {
    "duration": 242,
    "start_time": "2023-10-03T08:48:36.207Z"
   },
   {
    "duration": 212,
    "start_time": "2023-10-03T08:51:30.804Z"
   },
   {
    "duration": 205,
    "start_time": "2023-10-03T09:05:05.226Z"
   },
   {
    "duration": 120,
    "start_time": "2023-10-03T09:47:23.118Z"
   },
   {
    "duration": 8,
    "start_time": "2023-10-03T09:56:12.167Z"
   },
   {
    "duration": 5,
    "start_time": "2023-10-03T09:56:23.054Z"
   },
   {
    "duration": 8,
    "start_time": "2023-10-03T09:58:18.083Z"
   },
   {
    "duration": 516,
    "start_time": "2023-10-03T09:59:11.425Z"
   },
   {
    "duration": 37,
    "start_time": "2023-10-03T09:59:26.577Z"
   },
   {
    "duration": 6,
    "start_time": "2023-10-03T09:59:33.291Z"
   },
   {
    "duration": 24,
    "start_time": "2023-10-03T09:59:35.433Z"
   },
   {
    "duration": 24,
    "start_time": "2023-10-03T10:04:00.226Z"
   },
   {
    "duration": 23,
    "start_time": "2023-10-03T10:04:10.466Z"
   },
   {
    "duration": 23,
    "start_time": "2023-10-03T10:04:21.113Z"
   },
   {
    "duration": 22,
    "start_time": "2023-10-03T10:05:00.497Z"
   },
   {
    "duration": 22,
    "start_time": "2023-10-03T10:05:15.480Z"
   },
   {
    "duration": 23,
    "start_time": "2023-10-03T10:05:28.695Z"
   },
   {
    "duration": 24,
    "start_time": "2023-10-03T10:05:46.982Z"
   },
   {
    "duration": 35,
    "start_time": "2023-10-03T10:07:40.693Z"
   },
   {
    "duration": 23,
    "start_time": "2023-10-03T10:07:56.412Z"
   },
   {
    "duration": 195,
    "start_time": "2023-10-03T10:08:17.867Z"
   },
   {
    "duration": 21,
    "start_time": "2023-10-03T10:11:10.574Z"
   },
   {
    "duration": 11,
    "start_time": "2023-10-03T12:39:45.374Z"
   },
   {
    "duration": 27,
    "start_time": "2023-10-03T12:48:56.708Z"
   },
   {
    "duration": 11,
    "start_time": "2023-10-03T12:49:00.619Z"
   },
   {
    "duration": 13,
    "start_time": "2023-10-03T12:49:09.434Z"
   },
   {
    "duration": 120,
    "start_time": "2023-10-03T12:50:27.030Z"
   },
   {
    "duration": 114,
    "start_time": "2023-10-03T12:50:27.717Z"
   },
   {
    "duration": 22,
    "start_time": "2023-10-03T12:50:29.265Z"
   },
   {
    "duration": 153,
    "start_time": "2023-10-03T12:50:31.035Z"
   },
   {
    "duration": 8,
    "start_time": "2023-10-03T12:50:32.167Z"
   },
   {
    "duration": 49,
    "start_time": "2023-10-03T12:50:33.229Z"
   },
   {
    "duration": 11,
    "start_time": "2023-10-03T12:50:37.917Z"
   },
   {
    "duration": 6,
    "start_time": "2023-10-03T12:58:10.560Z"
   },
   {
    "duration": 7,
    "start_time": "2023-10-03T12:58:25.011Z"
   },
   {
    "duration": 6,
    "start_time": "2023-10-03T12:58:47.123Z"
   },
   {
    "duration": 6,
    "start_time": "2023-10-03T12:58:50.395Z"
   },
   {
    "duration": 7,
    "start_time": "2023-10-03T12:59:27.210Z"
   },
   {
    "duration": 593,
    "start_time": "2023-10-03T12:59:38.804Z"
   },
   {
    "duration": 249,
    "start_time": "2023-10-03T13:00:27.473Z"
   },
   {
    "duration": 4,
    "start_time": "2023-10-03T13:01:18.232Z"
   },
   {
    "duration": 654,
    "start_time": "2023-10-03T13:01:36.573Z"
   },
   {
    "duration": 207,
    "start_time": "2023-10-03T13:03:51.367Z"
   },
   {
    "duration": 14,
    "start_time": "2023-10-03T13:04:03.729Z"
   },
   {
    "duration": 6,
    "start_time": "2023-10-03T13:09:39.575Z"
   },
   {
    "duration": 161,
    "start_time": "2023-10-03T13:11:07.153Z"
   },
   {
    "duration": 10,
    "start_time": "2023-10-03T13:11:36.387Z"
   },
   {
    "duration": 6,
    "start_time": "2023-10-03T13:11:57.282Z"
   },
   {
    "duration": 16,
    "start_time": "2023-10-03T13:18:27.639Z"
   },
   {
    "duration": 2516,
    "start_time": "2023-10-03T13:19:49.290Z"
   },
   {
    "duration": 3915,
    "start_time": "2023-10-03T13:20:09.740Z"
   },
   {
    "duration": 9,
    "start_time": "2023-10-03T13:20:41.017Z"
   },
   {
    "duration": 12,
    "start_time": "2023-10-03T13:20:54.732Z"
   },
   {
    "duration": 5,
    "start_time": "2023-10-03T13:21:27.301Z"
   },
   {
    "duration": 14,
    "start_time": "2023-10-03T13:22:58.185Z"
   },
   {
    "duration": 9,
    "start_time": "2023-10-03T13:24:47.738Z"
   },
   {
    "duration": 2589,
    "start_time": "2023-10-03T13:28:35.738Z"
   },
   {
    "duration": 16,
    "start_time": "2023-10-03T13:28:56.293Z"
   },
   {
    "duration": 13,
    "start_time": "2023-10-03T13:29:15.873Z"
   },
   {
    "duration": 9,
    "start_time": "2023-10-03T13:29:35.570Z"
   },
   {
    "duration": 9,
    "start_time": "2023-10-03T13:30:22.782Z"
   },
   {
    "duration": 40,
    "start_time": "2023-10-03T13:31:14.101Z"
   },
   {
    "duration": 34,
    "start_time": "2023-10-03T13:31:45.499Z"
   },
   {
    "duration": 2281,
    "start_time": "2023-10-03T13:38:48.202Z"
   },
   {
    "duration": 8,
    "start_time": "2023-10-03T13:39:13.097Z"
   },
   {
    "duration": 15,
    "start_time": "2023-10-03T13:39:35.889Z"
   },
   {
    "duration": 45,
    "start_time": "2023-10-03T13:43:36.249Z"
   },
   {
    "duration": 25,
    "start_time": "2023-10-03T13:44:04.073Z"
   },
   {
    "duration": 13,
    "start_time": "2023-10-03T13:44:50.300Z"
   },
   {
    "duration": 1217,
    "start_time": "2023-10-03T13:46:44.847Z"
   },
   {
    "duration": 222,
    "start_time": "2023-10-03T13:46:47.762Z"
   },
   {
    "duration": 30,
    "start_time": "2023-10-03T13:46:50.910Z"
   },
   {
    "duration": 7,
    "start_time": "2023-10-03T13:46:54.960Z"
   },
   {
    "duration": 27,
    "start_time": "2023-10-03T13:47:52.798Z"
   },
   {
    "duration": 66,
    "start_time": "2023-10-03T13:49:51.297Z"
   },
   {
    "duration": 1235,
    "start_time": "2023-10-03T13:50:32.142Z"
   },
   {
    "duration": 160,
    "start_time": "2023-10-03T13:50:34.073Z"
   },
   {
    "duration": 69,
    "start_time": "2023-10-03T13:50:38.416Z"
   },
   {
    "duration": 4,
    "start_time": "2023-10-03T13:51:00.793Z"
   },
   {
    "duration": 13,
    "start_time": "2023-10-03T13:51:02.005Z"
   },
   {
    "duration": 18,
    "start_time": "2023-10-03T13:51:06.796Z"
   },
   {
    "duration": 15,
    "start_time": "2023-10-03T13:54:06.841Z"
   },
   {
    "duration": 19,
    "start_time": "2023-10-03T13:55:51.894Z"
   },
   {
    "duration": 17,
    "start_time": "2023-10-03T13:56:06.972Z"
   },
   {
    "duration": 7,
    "start_time": "2023-10-03T13:58:51.826Z"
   },
   {
    "duration": 1233,
    "start_time": "2023-10-03T20:11:14.593Z"
   },
   {
    "duration": 321,
    "start_time": "2023-10-03T20:11:18.613Z"
   },
   {
    "duration": 52,
    "start_time": "2023-10-03T20:11:45.756Z"
   },
   {
    "duration": 6,
    "start_time": "2023-10-03T20:11:53.541Z"
   },
   {
    "duration": 14,
    "start_time": "2023-10-03T20:12:06.363Z"
   },
   {
    "duration": 57,
    "start_time": "2023-10-03T20:28:27.628Z"
   },
   {
    "duration": 26,
    "start_time": "2023-10-03T20:29:17.285Z"
   },
   {
    "duration": 18,
    "start_time": "2023-10-03T20:29:53.197Z"
   },
   {
    "duration": 100,
    "start_time": "2023-10-03T21:28:27.197Z"
   },
   {
    "duration": 6,
    "start_time": "2023-10-03T21:28:43.210Z"
   },
   {
    "duration": 254,
    "start_time": "2023-10-03T21:28:44.629Z"
   },
   {
    "duration": 18,
    "start_time": "2023-10-03T21:28:45.936Z"
   },
   {
    "duration": 6,
    "start_time": "2023-10-03T21:28:49.408Z"
   },
   {
    "duration": 253,
    "start_time": "2023-10-03T21:28:50.660Z"
   },
   {
    "duration": 186,
    "start_time": "2023-10-03T21:28:55.499Z"
   },
   {
    "duration": 301,
    "start_time": "2023-10-03T21:29:00.607Z"
   },
   {
    "duration": 226,
    "start_time": "2023-10-03T21:29:05.630Z"
   },
   {
    "duration": 296,
    "start_time": "2023-10-03T21:29:10.716Z"
   },
   {
    "duration": 7,
    "start_time": "2023-10-03T21:30:33.277Z"
   },
   {
    "duration": 129,
    "start_time": "2023-10-03T21:30:36.814Z"
   },
   {
    "duration": 4,
    "start_time": "2023-10-03T21:33:00.887Z"
   },
   {
    "duration": 9,
    "start_time": "2023-10-03T21:34:21.659Z"
   },
   {
    "duration": 117,
    "start_time": "2023-10-03T21:34:29.473Z"
   },
   {
    "duration": 131,
    "start_time": "2023-10-03T21:34:32.473Z"
   },
   {
    "duration": 130,
    "start_time": "2023-10-03T21:34:47.568Z"
   },
   {
    "duration": 12,
    "start_time": "2023-10-03T21:39:38.941Z"
   },
   {
    "duration": 155,
    "start_time": "2023-10-03T22:13:50.263Z"
   },
   {
    "duration": 113,
    "start_time": "2023-10-03T22:13:53.973Z"
   },
   {
    "duration": 19,
    "start_time": "2023-10-03T22:16:18.297Z"
   },
   {
    "duration": 133,
    "start_time": "2023-10-03T22:16:19.970Z"
   },
   {
    "duration": 7,
    "start_time": "2023-10-03T22:17:46.716Z"
   },
   {
    "duration": 23,
    "start_time": "2023-10-03T22:19:09.591Z"
   },
   {
    "duration": 7,
    "start_time": "2023-10-03T22:33:20.509Z"
   },
   {
    "duration": 7,
    "start_time": "2023-10-03T22:36:53.698Z"
   },
   {
    "duration": 1271,
    "start_time": "2023-10-03T23:22:57.910Z"
   },
   {
    "duration": 291,
    "start_time": "2023-10-03T23:22:59.183Z"
   },
   {
    "duration": 55,
    "start_time": "2023-10-03T23:22:59.476Z"
   },
   {
    "duration": 3,
    "start_time": "2023-10-03T23:22:59.532Z"
   },
   {
    "duration": 28,
    "start_time": "2023-10-03T23:22:59.538Z"
   },
   {
    "duration": 65,
    "start_time": "2023-10-03T23:22:59.568Z"
   },
   {
    "duration": 24,
    "start_time": "2023-10-03T23:22:59.635Z"
   },
   {
    "duration": 351,
    "start_time": "2023-10-03T23:22:59.660Z"
   },
   {
    "duration": 14,
    "start_time": "2023-10-03T23:23:00.013Z"
   },
   {
    "duration": 246,
    "start_time": "2023-10-03T23:23:00.029Z"
   },
   {
    "duration": 574,
    "start_time": "2023-10-03T23:23:00.277Z"
   },
   {
    "duration": 1350,
    "start_time": "2023-10-03T23:23:00.853Z"
   },
   {
    "duration": 546,
    "start_time": "2023-10-03T23:23:02.205Z"
   },
   {
    "duration": 216,
    "start_time": "2023-10-03T23:23:02.755Z"
   },
   {
    "duration": 358,
    "start_time": "2023-10-03T23:23:02.973Z"
   },
   {
    "duration": 7,
    "start_time": "2023-10-03T23:23:03.333Z"
   },
   {
    "duration": 457,
    "start_time": "2023-10-03T23:23:03.342Z"
   },
   {
    "duration": 5,
    "start_time": "2023-10-03T23:23:03.801Z"
   },
   {
    "duration": 186,
    "start_time": "2023-10-03T23:23:03.808Z"
   },
   {
    "duration": 168,
    "start_time": "2023-10-03T23:23:03.995Z"
   },
   {
    "duration": 4,
    "start_time": "2023-10-03T23:23:04.165Z"
   },
   {
    "duration": 151,
    "start_time": "2023-10-03T23:23:04.171Z"
   },
   {
    "duration": 135,
    "start_time": "2023-10-03T23:23:04.324Z"
   },
   {
    "duration": 51,
    "start_time": "2023-10-03T23:23:04.460Z"
   },
   {
    "duration": 201,
    "start_time": "2023-10-03T23:23:04.513Z"
   },
   {
    "duration": 7,
    "start_time": "2023-10-03T23:23:04.716Z"
   },
   {
    "duration": 64,
    "start_time": "2023-10-03T23:23:04.725Z"
   },
   {
    "duration": 25,
    "start_time": "2023-10-03T23:23:04.791Z"
   },
   {
    "duration": 113,
    "start_time": "2023-10-03T23:23:04.818Z"
   },
   {
    "duration": 79,
    "start_time": "2023-10-03T23:23:04.933Z"
   },
   {
    "duration": 47,
    "start_time": "2023-10-03T23:23:05.014Z"
   },
   {
    "duration": 15,
    "start_time": "2023-10-03T23:23:05.063Z"
   },
   {
    "duration": 624,
    "start_time": "2023-10-04T15:14:07.675Z"
   },
   {
    "duration": 188,
    "start_time": "2023-10-04T15:15:12.574Z"
   },
   {
    "duration": 1186,
    "start_time": "2023-10-04T15:41:21.596Z"
   },
   {
    "duration": 299,
    "start_time": "2023-10-04T15:41:22.784Z"
   },
   {
    "duration": 97,
    "start_time": "2023-10-04T15:42:02.036Z"
   },
   {
    "duration": 10,
    "start_time": "2023-10-04T15:43:24.033Z"
   },
   {
    "duration": 3,
    "start_time": "2023-10-04T15:45:19.939Z"
   },
   {
    "duration": 12,
    "start_time": "2023-10-04T15:45:29.076Z"
   },
   {
    "duration": 50,
    "start_time": "2023-10-04T15:46:02.876Z"
   },
   {
    "duration": 3,
    "start_time": "2023-10-04T15:47:22.618Z"
   },
   {
    "duration": 52,
    "start_time": "2023-10-04T15:47:27.221Z"
   },
   {
    "duration": 54,
    "start_time": "2023-10-04T20:13:31.902Z"
   },
   {
    "duration": 1212,
    "start_time": "2023-10-04T20:13:49.030Z"
   },
   {
    "duration": 302,
    "start_time": "2023-10-04T20:13:50.881Z"
   },
   {
    "duration": 53,
    "start_time": "2023-10-04T20:13:52.785Z"
   },
   {
    "duration": 4,
    "start_time": "2023-10-04T20:13:56.820Z"
   },
   {
    "duration": 14,
    "start_time": "2023-10-04T20:13:57.698Z"
   },
   {
    "duration": 5,
    "start_time": "2023-10-04T20:14:00.495Z"
   },
   {
    "duration": 76,
    "start_time": "2023-10-04T20:14:58.685Z"
   },
   {
    "duration": 9,
    "start_time": "2023-10-04T20:16:18.608Z"
   },
   {
    "duration": 6,
    "start_time": "2023-10-04T20:16:25.655Z"
   },
   {
    "duration": 18,
    "start_time": "2023-10-04T20:23:15.733Z"
   },
   {
    "duration": 6,
    "start_time": "2023-10-04T20:23:24.803Z"
   },
   {
    "duration": 254,
    "start_time": "2023-10-04T20:23:26.547Z"
   },
   {
    "duration": 11,
    "start_time": "2023-10-04T20:23:47.637Z"
   },
   {
    "duration": 18,
    "start_time": "2023-10-04T20:30:12.550Z"
   },
   {
    "duration": 14,
    "start_time": "2023-10-04T20:31:02.854Z"
   },
   {
    "duration": 15,
    "start_time": "2023-10-04T20:31:31.151Z"
   },
   {
    "duration": 14,
    "start_time": "2023-10-04T20:32:43.223Z"
   },
   {
    "duration": 15,
    "start_time": "2023-10-04T20:33:31.031Z"
   },
   {
    "duration": 17,
    "start_time": "2023-10-04T20:36:29.777Z"
   },
   {
    "duration": 11,
    "start_time": "2023-10-04T20:36:51.104Z"
   },
   {
    "duration": 5,
    "start_time": "2023-10-04T20:37:24.626Z"
   },
   {
    "duration": 5,
    "start_time": "2023-10-04T20:38:14.137Z"
   },
   {
    "duration": 6,
    "start_time": "2023-10-04T20:38:32.504Z"
   },
   {
    "duration": 149,
    "start_time": "2023-10-04T20:39:42.489Z"
   },
   {
    "duration": 11,
    "start_time": "2023-10-04T20:39:53.660Z"
   },
   {
    "duration": 4,
    "start_time": "2023-10-04T20:40:07.800Z"
   },
   {
    "duration": 5,
    "start_time": "2023-10-04T20:41:06.626Z"
   },
   {
    "duration": 5,
    "start_time": "2023-10-04T20:41:38.710Z"
   },
   {
    "duration": 9,
    "start_time": "2023-10-04T21:20:26.433Z"
   },
   {
    "duration": 4,
    "start_time": "2023-10-04T21:22:42.271Z"
   },
   {
    "duration": 108,
    "start_time": "2023-10-04T21:22:47.133Z"
   },
   {
    "duration": 9,
    "start_time": "2023-10-04T21:23:08.716Z"
   },
   {
    "duration": 7,
    "start_time": "2023-10-04T21:24:16.791Z"
   },
   {
    "duration": 8,
    "start_time": "2023-10-04T21:28:27.176Z"
   },
   {
    "duration": 7,
    "start_time": "2023-10-04T21:28:33.067Z"
   },
   {
    "duration": 4,
    "start_time": "2023-10-04T21:29:03.938Z"
   },
   {
    "duration": 7,
    "start_time": "2023-10-04T21:29:08.741Z"
   },
   {
    "duration": 110,
    "start_time": "2023-10-04T21:29:30.726Z"
   },
   {
    "duration": 11,
    "start_time": "2023-10-04T21:29:55.848Z"
   },
   {
    "duration": 10,
    "start_time": "2023-10-04T21:31:07.415Z"
   },
   {
    "duration": 12,
    "start_time": "2023-10-04T21:31:16.374Z"
   },
   {
    "duration": 6,
    "start_time": "2023-10-04T21:34:28.271Z"
   },
   {
    "duration": 13,
    "start_time": "2023-10-04T21:34:53.140Z"
   },
   {
    "duration": 7,
    "start_time": "2023-10-04T21:35:27.545Z"
   },
   {
    "duration": 121,
    "start_time": "2023-10-04T21:38:45.896Z"
   },
   {
    "duration": 98,
    "start_time": "2023-10-04T21:39:02.045Z"
   },
   {
    "duration": 156,
    "start_time": "2023-10-04T21:39:35.238Z"
   },
   {
    "duration": 10,
    "start_time": "2023-10-04T21:40:47.569Z"
   },
   {
    "duration": 10,
    "start_time": "2023-10-04T21:41:04.835Z"
   },
   {
    "duration": 17,
    "start_time": "2023-10-04T21:41:22.082Z"
   },
   {
    "duration": 13,
    "start_time": "2023-10-04T21:51:14.398Z"
   },
   {
    "duration": 17,
    "start_time": "2023-10-04T21:51:57.514Z"
   },
   {
    "duration": 11,
    "start_time": "2023-10-04T21:52:37.111Z"
   },
   {
    "duration": 16,
    "start_time": "2023-10-04T21:54:27.496Z"
   },
   {
    "duration": 16,
    "start_time": "2023-10-04T21:57:53.205Z"
   },
   {
    "duration": 16,
    "start_time": "2023-10-04T21:58:17.343Z"
   },
   {
    "duration": 5,
    "start_time": "2023-10-04T22:01:49.411Z"
   },
   {
    "duration": 256,
    "start_time": "2023-10-04T22:01:50.842Z"
   },
   {
    "duration": 14,
    "start_time": "2023-10-04T22:01:57.237Z"
   },
   {
    "duration": 7,
    "start_time": "2023-10-04T22:02:01.053Z"
   },
   {
    "duration": 106,
    "start_time": "2023-10-04T22:02:11.811Z"
   },
   {
    "duration": 279,
    "start_time": "2023-10-04T22:03:34.444Z"
   },
   {
    "duration": 257,
    "start_time": "2023-10-04T22:03:58.153Z"
   },
   {
    "duration": 255,
    "start_time": "2023-10-04T22:04:27.150Z"
   },
   {
    "duration": 6,
    "start_time": "2023-10-04T22:05:02.410Z"
   },
   {
    "duration": 256,
    "start_time": "2023-10-04T22:05:03.367Z"
   },
   {
    "duration": 287,
    "start_time": "2023-10-04T22:05:52.939Z"
   },
   {
    "duration": 256,
    "start_time": "2023-10-04T22:07:07.903Z"
   },
   {
    "duration": 249,
    "start_time": "2023-10-04T22:07:16.717Z"
   },
   {
    "duration": 265,
    "start_time": "2023-10-04T22:07:31.686Z"
   },
   {
    "duration": 3,
    "start_time": "2023-10-04T22:09:48.029Z"
   },
   {
    "duration": 114,
    "start_time": "2023-10-04T22:09:48.034Z"
   },
   {
    "duration": 48,
    "start_time": "2023-10-04T22:09:48.149Z"
   },
   {
    "duration": 3,
    "start_time": "2023-10-04T22:09:48.199Z"
   },
   {
    "duration": 42,
    "start_time": "2023-10-04T22:09:48.204Z"
   },
   {
    "duration": 7,
    "start_time": "2023-10-04T22:09:48.247Z"
   },
   {
    "duration": 7,
    "start_time": "2023-10-04T22:09:48.256Z"
   },
   {
    "duration": 18,
    "start_time": "2023-10-04T22:09:48.265Z"
   },
   {
    "duration": 6,
    "start_time": "2023-10-04T22:09:48.285Z"
   },
   {
    "duration": 11,
    "start_time": "2023-10-04T22:09:48.292Z"
   },
   {
    "duration": 32,
    "start_time": "2023-10-04T22:09:48.305Z"
   },
   {
    "duration": 14,
    "start_time": "2023-10-04T22:09:48.339Z"
   },
   {
    "duration": 250,
    "start_time": "2023-10-04T22:09:48.355Z"
   },
   {
    "duration": 11,
    "start_time": "2023-10-04T22:09:48.607Z"
   },
   {
    "duration": 6,
    "start_time": "2023-10-04T22:09:48.620Z"
   },
   {
    "duration": 334,
    "start_time": "2023-10-04T22:09:48.627Z"
   },
   {
    "duration": 208,
    "start_time": "2023-10-04T22:09:48.963Z"
   },
   {
    "duration": 334,
    "start_time": "2023-10-04T22:09:49.174Z"
   },
   {
    "duration": 192,
    "start_time": "2023-10-04T22:09:49.510Z"
   },
   {
    "duration": 264,
    "start_time": "2023-10-04T22:09:49.703Z"
   },
   {
    "duration": 6,
    "start_time": "2023-10-04T22:09:49.969Z"
   },
   {
    "duration": 150,
    "start_time": "2023-10-04T22:09:49.976Z"
   },
   {
    "duration": 5,
    "start_time": "2023-10-04T22:09:50.127Z"
   },
   {
    "duration": 142,
    "start_time": "2023-10-04T22:09:50.146Z"
   },
   {
    "duration": 127,
    "start_time": "2023-10-04T22:09:50.290Z"
   },
   {
    "duration": 6,
    "start_time": "2023-10-04T22:09:50.418Z"
   },
   {
    "duration": 273,
    "start_time": "2023-10-04T22:09:50.425Z"
   },
   {
    "duration": 118,
    "start_time": "2023-10-04T22:09:50.699Z"
   },
   {
    "duration": 56,
    "start_time": "2023-10-04T22:09:50.818Z"
   },
   {
    "duration": 115,
    "start_time": "2023-10-04T22:09:50.876Z"
   },
   {
    "duration": 6,
    "start_time": "2023-10-04T22:09:50.993Z"
   },
   {
    "duration": 41,
    "start_time": "2023-10-04T22:09:51.000Z"
   },
   {
    "duration": 30,
    "start_time": "2023-10-04T22:09:51.042Z"
   },
   {
    "duration": 32,
    "start_time": "2023-10-04T22:09:51.074Z"
   },
   {
    "duration": 24,
    "start_time": "2023-10-04T22:09:51.107Z"
   },
   {
    "duration": 72,
    "start_time": "2023-10-04T22:09:51.132Z"
   },
   {
    "duration": 15,
    "start_time": "2023-10-04T22:09:51.206Z"
   },
   {
    "duration": 190,
    "start_time": "2023-10-04T22:13:29.094Z"
   },
   {
    "duration": 178,
    "start_time": "2023-10-04T22:18:35.775Z"
   },
   {
    "duration": 174,
    "start_time": "2023-10-04T22:18:49.623Z"
   },
   {
    "duration": 276,
    "start_time": "2023-10-04T22:19:00.518Z"
   },
   {
    "duration": 182,
    "start_time": "2023-10-04T22:19:46.473Z"
   },
   {
    "duration": 294,
    "start_time": "2023-10-04T22:21:10.257Z"
   },
   {
    "duration": 280,
    "start_time": "2023-10-04T22:21:26.255Z"
   },
   {
    "duration": 4,
    "start_time": "2023-10-04T22:46:01.751Z"
   },
   {
    "duration": 5,
    "start_time": "2023-10-04T22:46:38.577Z"
   },
   {
    "duration": 15,
    "start_time": "2023-10-04T22:51:32.594Z"
   },
   {
    "duration": 3,
    "start_time": "2023-10-04T22:54:00.950Z"
   },
   {
    "duration": 4,
    "start_time": "2023-10-04T22:54:29.062Z"
   },
   {
    "duration": 4,
    "start_time": "2023-10-04T22:54:38.779Z"
   },
   {
    "duration": 12,
    "start_time": "2023-10-04T22:55:41.434Z"
   },
   {
    "duration": 3,
    "start_time": "2023-10-04T22:57:00.670Z"
   },
   {
    "duration": 5,
    "start_time": "2023-10-04T22:57:15.947Z"
   },
   {
    "duration": 9,
    "start_time": "2023-10-04T22:58:33.394Z"
   },
   {
    "duration": 3,
    "start_time": "2023-10-04T22:58:42.450Z"
   },
   {
    "duration": 8,
    "start_time": "2023-10-04T22:59:35.576Z"
   },
   {
    "duration": 3,
    "start_time": "2023-10-04T23:00:02.197Z"
   },
   {
    "duration": 8,
    "start_time": "2023-10-04T23:00:15.937Z"
   },
   {
    "duration": 8,
    "start_time": "2023-10-04T23:01:27.174Z"
   },
   {
    "duration": 9,
    "start_time": "2023-10-04T23:02:43.098Z"
   },
   {
    "duration": 10,
    "start_time": "2023-10-04T23:03:14.669Z"
   },
   {
    "duration": 9,
    "start_time": "2023-10-04T23:03:37.952Z"
   },
   {
    "duration": 38,
    "start_time": "2023-10-04T23:03:41.248Z"
   },
   {
    "duration": 14,
    "start_time": "2023-10-04T23:04:55.224Z"
   },
   {
    "duration": 1350,
    "start_time": "2023-10-05T06:06:42.377Z"
   },
   {
    "duration": 435,
    "start_time": "2023-10-05T06:06:43.730Z"
   },
   {
    "duration": 56,
    "start_time": "2023-10-05T06:06:44.167Z"
   },
   {
    "duration": 4,
    "start_time": "2023-10-05T06:06:44.224Z"
   },
   {
    "duration": 18,
    "start_time": "2023-10-05T06:06:44.230Z"
   },
   {
    "duration": 5,
    "start_time": "2023-10-05T06:06:44.249Z"
   },
   {
    "duration": 8,
    "start_time": "2023-10-05T06:06:44.256Z"
   },
   {
    "duration": 18,
    "start_time": "2023-10-05T06:06:44.266Z"
   },
   {
    "duration": 7,
    "start_time": "2023-10-05T06:06:44.310Z"
   },
   {
    "duration": 9,
    "start_time": "2023-10-05T06:06:44.319Z"
   },
   {
    "duration": 20,
    "start_time": "2023-10-05T06:06:44.330Z"
   },
   {
    "duration": 6,
    "start_time": "2023-10-05T06:06:44.352Z"
   },
   {
    "duration": 318,
    "start_time": "2023-10-05T06:06:44.359Z"
   },
   {
    "duration": 13,
    "start_time": "2023-10-05T06:06:44.679Z"
   },
   {
    "duration": 19,
    "start_time": "2023-10-05T06:06:44.694Z"
   },
   {
    "duration": 296,
    "start_time": "2023-10-05T06:06:44.715Z"
   },
   {
    "duration": 224,
    "start_time": "2023-10-05T06:06:45.013Z"
   },
   {
    "duration": 358,
    "start_time": "2023-10-05T06:06:45.239Z"
   },
   {
    "duration": 229,
    "start_time": "2023-10-05T06:06:45.599Z"
   },
   {
    "duration": 298,
    "start_time": "2023-10-05T06:06:45.830Z"
   },
   {
    "duration": 7,
    "start_time": "2023-10-05T06:06:46.129Z"
   },
   {
    "duration": 161,
    "start_time": "2023-10-05T06:06:46.138Z"
   },
   {
    "duration": 12,
    "start_time": "2023-10-05T06:06:46.301Z"
   },
   {
    "duration": 163,
    "start_time": "2023-10-05T06:06:46.315Z"
   },
   {
    "duration": 153,
    "start_time": "2023-10-05T06:06:46.480Z"
   },
   {
    "duration": 5,
    "start_time": "2023-10-05T06:06:46.635Z"
   },
   {
    "duration": 120,
    "start_time": "2023-10-05T06:06:46.642Z"
   },
   {
    "duration": 118,
    "start_time": "2023-10-05T06:06:46.765Z"
   },
   {
    "duration": 33,
    "start_time": "2023-10-05T06:06:46.885Z"
   },
   {
    "duration": 136,
    "start_time": "2023-10-05T06:06:46.920Z"
   },
   {
    "duration": 7,
    "start_time": "2023-10-05T06:06:47.058Z"
   },
   {
    "duration": 27,
    "start_time": "2023-10-05T06:06:47.066Z"
   },
   {
    "duration": 11,
    "start_time": "2023-10-05T06:06:47.109Z"
   },
   {
    "duration": 9,
    "start_time": "2023-10-05T06:06:47.122Z"
   },
   {
    "duration": 10,
    "start_time": "2023-10-05T06:06:47.133Z"
   },
   {
    "duration": 33,
    "start_time": "2023-10-05T06:06:47.145Z"
   },
   {
    "duration": 39,
    "start_time": "2023-10-05T06:06:47.180Z"
   },
   {
    "duration": 1023,
    "start_time": "2024-05-24T23:01:14.601Z"
   },
   {
    "duration": 291,
    "start_time": "2024-05-24T23:01:15.626Z"
   },
   {
    "duration": 67,
    "start_time": "2024-05-24T23:01:15.919Z"
   },
   {
    "duration": 3,
    "start_time": "2024-05-24T23:01:15.999Z"
   },
   {
    "duration": 20,
    "start_time": "2024-05-24T23:01:16.004Z"
   },
   {
    "duration": 6,
    "start_time": "2024-05-24T23:01:16.025Z"
   },
   {
    "duration": 4,
    "start_time": "2024-05-24T23:01:16.032Z"
   },
   {
    "duration": 11,
    "start_time": "2024-05-24T23:01:16.037Z"
   },
   {
    "duration": 5,
    "start_time": "2024-05-24T23:01:16.050Z"
   },
   {
    "duration": 8,
    "start_time": "2024-05-24T23:01:16.056Z"
   },
   {
    "duration": 47,
    "start_time": "2024-05-24T23:01:16.066Z"
   },
   {
    "duration": 5,
    "start_time": "2024-05-24T23:01:16.115Z"
   },
   {
    "duration": 253,
    "start_time": "2024-05-24T23:01:16.121Z"
   },
   {
    "duration": 11,
    "start_time": "2024-05-24T23:01:16.376Z"
   },
   {
    "duration": 15,
    "start_time": "2024-05-24T23:01:16.388Z"
   },
   {
    "duration": 250,
    "start_time": "2024-05-24T23:01:16.404Z"
   },
   {
    "duration": 183,
    "start_time": "2024-05-24T23:01:16.655Z"
   },
   {
    "duration": 248,
    "start_time": "2024-05-24T23:01:16.840Z"
   },
   {
    "duration": 186,
    "start_time": "2024-05-24T23:01:17.089Z"
   },
   {
    "duration": 294,
    "start_time": "2024-05-24T23:01:17.277Z"
   },
   {
    "duration": 5,
    "start_time": "2024-05-24T23:01:17.573Z"
   },
   {
    "duration": 149,
    "start_time": "2024-05-24T23:01:17.580Z"
   },
   {
    "duration": 4,
    "start_time": "2024-05-24T23:01:17.731Z"
   },
   {
    "duration": 117,
    "start_time": "2024-05-24T23:01:17.736Z"
   },
   {
    "duration": 118,
    "start_time": "2024-05-24T23:01:17.854Z"
   },
   {
    "duration": 4,
    "start_time": "2024-05-24T23:01:17.974Z"
   },
   {
    "duration": 102,
    "start_time": "2024-05-24T23:01:17.979Z"
   },
   {
    "duration": 97,
    "start_time": "2024-05-24T23:01:18.082Z"
   },
   {
    "duration": 32,
    "start_time": "2024-05-24T23:01:18.180Z"
   },
   {
    "duration": 127,
    "start_time": "2024-05-24T23:01:18.213Z"
   },
   {
    "duration": 6,
    "start_time": "2024-05-24T23:01:18.342Z"
   },
   {
    "duration": 25,
    "start_time": "2024-05-24T23:01:18.350Z"
   },
   {
    "duration": 29,
    "start_time": "2024-05-24T23:01:18.377Z"
   },
   {
    "duration": 9,
    "start_time": "2024-05-24T23:01:18.407Z"
   },
   {
    "duration": 8,
    "start_time": "2024-05-24T23:01:18.418Z"
   },
   {
    "duration": 24,
    "start_time": "2024-05-24T23:01:18.427Z"
   },
   {
    "duration": 15,
    "start_time": "2024-05-24T23:01:18.452Z"
   }
  ],
  "kernelspec": {
   "display_name": "Python 3 (ipykernel)",
   "language": "python",
   "name": "python3"
  },
  "language_info": {
   "codemirror_mode": {
    "name": "ipython",
    "version": 3
   },
   "file_extension": ".py",
   "mimetype": "text/x-python",
   "name": "python",
   "nbconvert_exporter": "python",
   "pygments_lexer": "ipython3",
   "version": "3.9.5"
  },
  "toc": {
   "base_numbering": 1,
   "nav_menu": {},
   "number_sections": true,
   "sideBar": true,
   "skip_h1_title": true,
   "title_cell": "Table of Contents",
   "title_sidebar": "Contents",
   "toc_cell": false,
   "toc_position": {},
   "toc_section_display": true,
   "toc_window_display": true
  }
 },
 "nbformat": 4,
 "nbformat_minor": 2
}
